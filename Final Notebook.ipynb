{
 "cells": [
  {
   "cell_type": "code",
   "execution_count": 1,
   "metadata": {},
   "outputs": [],
   "source": [
    "from sklearn.dummy import DummyClassifier\n",
    "import pandas as pd\n",
    "\n",
    "test_data = pd.read_csv(\n",
    "    \"/kaggle/input/e-commerce-shoppers-behaviour-understanding/test_data_v2.csv\")\n",
    "train_data = pd.read_csv(\n",
    "    \"/kaggle/input/e-commerce-shoppers-behaviour-understanding/train_data_v2.csv\")\n",
    "\n",
    "X = train_data[\"ProductDescriptionPage\"]\n",
    "y = train_data[\"Made_Purchase\"]\n",
    "\n",
    "dummy_clf = DummyClassifier(strategy=\"most_frequent\")\n",
    "dummy_clf.fit(X, y)\n",
    "DummyClassifier(strategy='most_frequent')\n",
    "dummy_clf.predict(X)\n",
    "\n",
    "\n",
    "sub = pd.DataFrame(dummy_clf.predict(\n",
    "    test_data[\"ProductDescriptionPage\"]), columns=['Made_Purchase'])\n",
    "sub.index.name = 'id'\n",
    "sub.to_csv(\"submission.csv\", encoding='utf-8')\n"
   ]
  }
 ],
 "metadata": {
  "kernelspec": {
   "display_name": "Python 3",
   "language": "python",
   "name": "python3"
  },
  "language_info": {
   "codemirror_mode": {
    "name": "ipython",
    "version": 3
   },
   "file_extension": ".py",
   "mimetype": "text/x-python",
   "name": "python",
   "nbconvert_exporter": "python",
   "pygments_lexer": "ipython3",
   "version": "3.11.1 (main, Dec 25 2022, 13:51:50) [GCC 11.3.0]"
  },
  "orig_nbformat": 4,
  "vscode": {
   "interpreter": {
    "hash": "affb41e46621a1a81ffe1877104a85d49d2bddf5810f24177a8a6cbc52c6e415"
   }
  }
 },
 "nbformat": 4,
 "nbformat_minor": 2
}
