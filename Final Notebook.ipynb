{
 "cells": [
  {
   "attachments": {},
   "cell_type": "markdown",
   "metadata": {},
   "source": [
    "# Data Loading"
   ]
  },
  {
   "attachments": {},
   "cell_type": "markdown",
   "metadata": {},
   "source": [
    "### Loading Libraries"
   ]
  },
  {
   "cell_type": "code",
   "execution_count": 726,
   "metadata": {},
   "outputs": [],
   "source": [
    "\n",
    "from xgboost import XGBClassifier\n",
    "from sklearn.tree import DecisionTreeClassifier\n",
    "import pandas as pd\n",
    "import matplotlib.pyplot as plt\n",
    "import seaborn as sns\n",
    "from sklearn.model_selection import train_test_split,GridSearchCV\n",
    "from sklearn.impute import KNNImputer,SimpleImputer\n",
    "from sklearn.compose import ColumnTransformer\n",
    "from sklearn.preprocessing import RobustScaler,OneHotEncoder,OrdinalEncoder,LabelEncoder,LabelBinarizer\n",
    "from sklearn.neighbors import LocalOutlierFactor\n",
    "from sklearn.linear_model import LogisticRegressionCV\n",
    "from sklearn.metrics import classification_report\n",
    "from sklearn.neighbors import KNeighborsClassifier\n",
    "from sklearn.svm import SVC\n",
    "from sklearn.model_selection import cross_val_score, ShuffleSplit\n",
    "from sklearn.ensemble import BaggingClassifier,AdaBoostClassifier,RandomForestClassifier,VotingClassifier\n",
    "from sklearn.neural_network import MLPClassifier\n",
    "import numpy as np"
   ]
  },
  {
   "attachments": {},
   "cell_type": "markdown",
   "metadata": {},
   "source": [
    "### Loading dataset"
   ]
  },
  {
   "cell_type": "code",
   "execution_count": 727,
   "metadata": {},
   "outputs": [],
   "source": [
    "submission_data = pd.read_csv(\n",
    "    \"/home/nailsonseat/Desktop/Datasets/MLP_project_datasets/test_data_v2.csv\")\n",
    "train_data = pd.read_csv(\n",
    "    \"/home/nailsonseat/Desktop/Datasets/MLP_project_datasets/train_data_v2.csv\")"
   ]
  },
  {
   "attachments": {},
   "cell_type": "markdown",
   "metadata": {},
   "source": [
    "### Extracting features and target variable"
   ]
  },
  {
   "cell_type": "code",
   "execution_count": 728,
   "metadata": {},
   "outputs": [],
   "source": [
    "X=train_data.drop('Made_Purchase',axis=1)\n",
    "y=pd.DataFrame(train_data['Made_Purchase'])"
   ]
  },
  {
   "attachments": {},
   "cell_type": "markdown",
   "metadata": {},
   "source": [
    "# Data Exploration"
   ]
  },
  {
   "attachments": {},
   "cell_type": "markdown",
   "metadata": {},
   "source": [
    "### Description"
   ]
  },
  {
   "attachments": {},
   "cell_type": "markdown",
   "metadata": {},
   "source": [
    "The first six columns represent the different pages in the e-commerce website visited by a user from other sites.\n",
    "\n",
    "* HomePage: Number of times visited this page\n",
    "\n",
    "*   HomePage_Duration: Total number of duration spent on this page.\n",
    "\n",
    "*   LandingPage: Number of times visited this page\n",
    "\n",
    "*   LandingPage_Duration: Total number of duration spent on this page.\n",
    "\n",
    "*   ProductDesriptionPage Number of times visited this page\n",
    "\n",
    "*   ProductDescriptionPage_Duration: Total number of duration spent on this page.\n",
    "\n",
    "*   GoogleMetric-Bounce Rate: Whenever a user comes to any one web-page of the website and he/she does not go to any other page and exits from the website from the same page, then this activity done by the user is called Bounce. And the percentage of the total number of times the user visiting our website and bounce it, is called Bounce Rate\n",
    "\n",
    "*   GoogleMetric-Exit Rate: The bounce rate is calculated based on the user exiting a website after visiting one page. But some users exit from the second, third, fourth, or any other page of our website, then those visitors’ data help determine the exit rate. The percentage of the total number of times the user to our website who do not exit from the first page (Landing Page) but exit after exploring other website pages is called the Exit Rate.\n",
    "\n",
    "*   GoogleMetric-Page Value: Page Value is the average value for a page that a user visited before landing on the goal page or completing an Ecommerce transaction.\n",
    "\n",
    "*   SeasonalPurchase: It is a weight indicator to track the seasonal purchase. If a user makes a purchase during any seasonal time (Mother’s Day, Diwali, Valentine's Day), we will assign based on internal heuristic.\n",
    "\n",
    "*   Month_ SeasonalPurchase: Month of the special day considered for seasonal purchase.\n",
    "\n",
    "The other attributes like, OS, Search Engine, Zone, Type of Traffic, Customer Type, Gender, Cookies Setting, Education, Marital Status and Weekend Purchase are self-explanatory variables"
   ]
  },
  {
   "cell_type": "code",
   "execution_count": 729,
   "metadata": {},
   "outputs": [
    {
     "data": {
      "text/html": [
       "<div>\n",
       "<style scoped>\n",
       "    .dataframe tbody tr th:only-of-type {\n",
       "        vertical-align: middle;\n",
       "    }\n",
       "\n",
       "    .dataframe tbody tr th {\n",
       "        vertical-align: top;\n",
       "    }\n",
       "\n",
       "    .dataframe thead th {\n",
       "        text-align: right;\n",
       "    }\n",
       "</style>\n",
       "<table border=\"1\" class=\"dataframe\">\n",
       "  <thead>\n",
       "    <tr style=\"text-align: right;\">\n",
       "      <th></th>\n",
       "      <th>11510</th>\n",
       "      <th>1220</th>\n",
       "      <th>10314</th>\n",
       "      <th>8813</th>\n",
       "      <th>557</th>\n",
       "      <th>1470</th>\n",
       "      <th>2633</th>\n",
       "      <th>2816</th>\n",
       "      <th>2257</th>\n",
       "      <th>3588</th>\n",
       "    </tr>\n",
       "  </thead>\n",
       "  <tbody>\n",
       "    <tr>\n",
       "      <th>HomePage</th>\n",
       "      <td>3.0</td>\n",
       "      <td>0.0</td>\n",
       "      <td>2.0</td>\n",
       "      <td>NaN</td>\n",
       "      <td>0.0</td>\n",
       "      <td>0.0</td>\n",
       "      <td>5.0</td>\n",
       "      <td>5.0</td>\n",
       "      <td>6.0</td>\n",
       "      <td>0.0</td>\n",
       "    </tr>\n",
       "    <tr>\n",
       "      <th>HomePage_Duration</th>\n",
       "      <td>96.0</td>\n",
       "      <td>0.0</td>\n",
       "      <td>98.0</td>\n",
       "      <td>60.5</td>\n",
       "      <td>0.0</td>\n",
       "      <td>0.0</td>\n",
       "      <td>232.4</td>\n",
       "      <td>35.75</td>\n",
       "      <td>111.0</td>\n",
       "      <td>0.0</td>\n",
       "    </tr>\n",
       "    <tr>\n",
       "      <th>LandingPage</th>\n",
       "      <td>0.0</td>\n",
       "      <td>0.0</td>\n",
       "      <td>0.0</td>\n",
       "      <td>0.0</td>\n",
       "      <td>0.0</td>\n",
       "      <td>0.0</td>\n",
       "      <td>0.0</td>\n",
       "      <td>0.0</td>\n",
       "      <td>0.0</td>\n",
       "      <td>0.0</td>\n",
       "    </tr>\n",
       "    <tr>\n",
       "      <th>LandingPage_Duration</th>\n",
       "      <td>0.0</td>\n",
       "      <td>0.0</td>\n",
       "      <td>0.0</td>\n",
       "      <td>0.0</td>\n",
       "      <td>0.0</td>\n",
       "      <td>0.0</td>\n",
       "      <td>0.0</td>\n",
       "      <td>0.0</td>\n",
       "      <td>0.0</td>\n",
       "      <td>0.0</td>\n",
       "    </tr>\n",
       "    <tr>\n",
       "      <th>ProductDescriptionPage</th>\n",
       "      <td>6.0</td>\n",
       "      <td>13.0</td>\n",
       "      <td>44.0</td>\n",
       "      <td>31.0</td>\n",
       "      <td>8.0</td>\n",
       "      <td>4.0</td>\n",
       "      <td>6.0</td>\n",
       "      <td>22.0</td>\n",
       "      <td>13.0</td>\n",
       "      <td>34.0</td>\n",
       "    </tr>\n",
       "    <tr>\n",
       "      <th>ProductDescriptionPage_Duration</th>\n",
       "      <td>384.0</td>\n",
       "      <td>437.25</td>\n",
       "      <td>2279.222222</td>\n",
       "      <td>1574.375</td>\n",
       "      <td>244.0</td>\n",
       "      <td>158.0</td>\n",
       "      <td>190.4</td>\n",
       "      <td>679.5</td>\n",
       "      <td>522.0</td>\n",
       "      <td>877.666667</td>\n",
       "    </tr>\n",
       "    <tr>\n",
       "      <th>GoogleMetric:Bounce Rates</th>\n",
       "      <td>0.0</td>\n",
       "      <td>0.069231</td>\n",
       "      <td>0.001111</td>\n",
       "      <td>0.0</td>\n",
       "      <td>0.025</td>\n",
       "      <td>0.05</td>\n",
       "      <td>0.042857</td>\n",
       "      <td>0.0</td>\n",
       "      <td>0.0</td>\n",
       "      <td>0.020202</td>\n",
       "    </tr>\n",
       "    <tr>\n",
       "      <th>GoogleMetric:Exit Rates</th>\n",
       "      <td>0.025</td>\n",
       "      <td>0.102564</td>\n",
       "      <td>0.012302</td>\n",
       "      <td>0.022581</td>\n",
       "      <td>0.075</td>\n",
       "      <td>0.1</td>\n",
       "      <td>0.061905</td>\n",
       "      <td>0.014667</td>\n",
       "      <td>0.011111</td>\n",
       "      <td>0.042323</td>\n",
       "    </tr>\n",
       "    <tr>\n",
       "      <th>GoogleMetric:Page Values</th>\n",
       "      <td>0.0</td>\n",
       "      <td>0.0</td>\n",
       "      <td>7.0182</td>\n",
       "      <td>0.0</td>\n",
       "      <td>0.0</td>\n",
       "      <td>0.0</td>\n",
       "      <td>0.0</td>\n",
       "      <td>10.07328</td>\n",
       "      <td>36.654444</td>\n",
       "      <td>5.694121</td>\n",
       "    </tr>\n",
       "    <tr>\n",
       "      <th>SeasonalPurchase</th>\n",
       "      <td>0.0</td>\n",
       "      <td>0.0</td>\n",
       "      <td>0.0</td>\n",
       "      <td>0.0</td>\n",
       "      <td>0.0</td>\n",
       "      <td>0.0</td>\n",
       "      <td>0.0</td>\n",
       "      <td>0.0</td>\n",
       "      <td>0.0</td>\n",
       "      <td>0.0</td>\n",
       "    </tr>\n",
       "    <tr>\n",
       "      <th>Month_SeasonalPurchase</th>\n",
       "      <td>Mar</td>\n",
       "      <td>Mar</td>\n",
       "      <td>May</td>\n",
       "      <td>Dec</td>\n",
       "      <td>Mar</td>\n",
       "      <td>May</td>\n",
       "      <td>May</td>\n",
       "      <td>May</td>\n",
       "      <td>May</td>\n",
       "      <td>May</td>\n",
       "    </tr>\n",
       "    <tr>\n",
       "      <th>OS</th>\n",
       "      <td>3.0</td>\n",
       "      <td>1.0</td>\n",
       "      <td>3.0</td>\n",
       "      <td>2.0</td>\n",
       "      <td>3.0</td>\n",
       "      <td>2.0</td>\n",
       "      <td>1.0</td>\n",
       "      <td>2.0</td>\n",
       "      <td>2.0</td>\n",
       "      <td>2.0</td>\n",
       "    </tr>\n",
       "    <tr>\n",
       "      <th>SearchEngine</th>\n",
       "      <td>2.0</td>\n",
       "      <td>1.0</td>\n",
       "      <td>NaN</td>\n",
       "      <td>2.0</td>\n",
       "      <td>2.0</td>\n",
       "      <td>2.0</td>\n",
       "      <td>1.0</td>\n",
       "      <td>2.0</td>\n",
       "      <td>2.0</td>\n",
       "      <td>2.0</td>\n",
       "    </tr>\n",
       "    <tr>\n",
       "      <th>Zone</th>\n",
       "      <td>1.0</td>\n",
       "      <td>3.0</td>\n",
       "      <td>7.0</td>\n",
       "      <td>3.0</td>\n",
       "      <td>1.0</td>\n",
       "      <td>4.0</td>\n",
       "      <td>1.0</td>\n",
       "      <td>8.0</td>\n",
       "      <td>2.0</td>\n",
       "      <td>1.0</td>\n",
       "    </tr>\n",
       "    <tr>\n",
       "      <th>Type of Traffic</th>\n",
       "      <td>2.0</td>\n",
       "      <td>3.0</td>\n",
       "      <td>4.0</td>\n",
       "      <td>1.0</td>\n",
       "      <td>3.0</td>\n",
       "      <td>13.0</td>\n",
       "      <td>3.0</td>\n",
       "      <td>3.0</td>\n",
       "      <td>2.0</td>\n",
       "      <td>2.0</td>\n",
       "    </tr>\n",
       "    <tr>\n",
       "      <th>CustomerType</th>\n",
       "      <td>New_Visitor</td>\n",
       "      <td>Returning_Visitor</td>\n",
       "      <td>Returning_Visitor</td>\n",
       "      <td>Returning_Visitor</td>\n",
       "      <td>Returning_Visitor</td>\n",
       "      <td>Returning_Visitor</td>\n",
       "      <td>Returning_Visitor</td>\n",
       "      <td>Returning_Visitor</td>\n",
       "      <td>New_Visitor</td>\n",
       "      <td>Returning_Visitor</td>\n",
       "    </tr>\n",
       "    <tr>\n",
       "      <th>Gender</th>\n",
       "      <td>Not Specified</td>\n",
       "      <td>Male</td>\n",
       "      <td>Not Specified</td>\n",
       "      <td>Male</td>\n",
       "      <td>Male</td>\n",
       "      <td>Male</td>\n",
       "      <td>Not Specified</td>\n",
       "      <td>Male</td>\n",
       "      <td>Female</td>\n",
       "      <td>Male</td>\n",
       "    </tr>\n",
       "    <tr>\n",
       "      <th>Cookies Setting</th>\n",
       "      <td>ALL</td>\n",
       "      <td>ALL</td>\n",
       "      <td>Required</td>\n",
       "      <td>Deny</td>\n",
       "      <td>ALL</td>\n",
       "      <td>Required</td>\n",
       "      <td>ALL</td>\n",
       "      <td>Deny</td>\n",
       "      <td>Deny</td>\n",
       "      <td>Required</td>\n",
       "    </tr>\n",
       "    <tr>\n",
       "      <th>Education</th>\n",
       "      <td>Graduate</td>\n",
       "      <td>Others</td>\n",
       "      <td>Diploma</td>\n",
       "      <td>Graduate</td>\n",
       "      <td>Not Specified</td>\n",
       "      <td>Others</td>\n",
       "      <td>Diploma</td>\n",
       "      <td>Diploma</td>\n",
       "      <td>Others</td>\n",
       "      <td>Graduate</td>\n",
       "    </tr>\n",
       "    <tr>\n",
       "      <th>Marital Status</th>\n",
       "      <td>Married</td>\n",
       "      <td>Married</td>\n",
       "      <td>Married</td>\n",
       "      <td>Single</td>\n",
       "      <td>Married</td>\n",
       "      <td>Married</td>\n",
       "      <td>Single</td>\n",
       "      <td>Married</td>\n",
       "      <td>Married</td>\n",
       "      <td>Married</td>\n",
       "    </tr>\n",
       "    <tr>\n",
       "      <th>WeekendPurchase</th>\n",
       "      <td>0.0</td>\n",
       "      <td>0.0</td>\n",
       "      <td>0.0</td>\n",
       "      <td>0.0</td>\n",
       "      <td>0.0</td>\n",
       "      <td>0.0</td>\n",
       "      <td>1.0</td>\n",
       "      <td>0.0</td>\n",
       "      <td>0.0</td>\n",
       "      <td>0.0</td>\n",
       "    </tr>\n",
       "  </tbody>\n",
       "</table>\n",
       "</div>"
      ],
      "text/plain": [
       "                                         11510              1220   \\\n",
       "HomePage                                   3.0                0.0   \n",
       "HomePage_Duration                         96.0                0.0   \n",
       "LandingPage                                0.0                0.0   \n",
       "LandingPage_Duration                       0.0                0.0   \n",
       "ProductDescriptionPage                     6.0               13.0   \n",
       "ProductDescriptionPage_Duration          384.0             437.25   \n",
       "GoogleMetric:Bounce Rates                  0.0           0.069231   \n",
       "GoogleMetric:Exit Rates                  0.025           0.102564   \n",
       "GoogleMetric:Page Values                   0.0                0.0   \n",
       "SeasonalPurchase                           0.0                0.0   \n",
       "Month_SeasonalPurchase                     Mar                Mar   \n",
       "OS                                         3.0                1.0   \n",
       "SearchEngine                               2.0                1.0   \n",
       "Zone                                       1.0                3.0   \n",
       "Type of Traffic                            2.0                3.0   \n",
       "CustomerType                       New_Visitor  Returning_Visitor   \n",
       "Gender                           Not Specified               Male   \n",
       "Cookies Setting                            ALL                ALL   \n",
       "Education                             Graduate             Others   \n",
       "Marital Status                         Married            Married   \n",
       "WeekendPurchase                            0.0                0.0   \n",
       "\n",
       "                                             10314              8813   \\\n",
       "HomePage                                       2.0                NaN   \n",
       "HomePage_Duration                             98.0               60.5   \n",
       "LandingPage                                    0.0                0.0   \n",
       "LandingPage_Duration                           0.0                0.0   \n",
       "ProductDescriptionPage                        44.0               31.0   \n",
       "ProductDescriptionPage_Duration        2279.222222           1574.375   \n",
       "GoogleMetric:Bounce Rates                 0.001111                0.0   \n",
       "GoogleMetric:Exit Rates                   0.012302           0.022581   \n",
       "GoogleMetric:Page Values                    7.0182                0.0   \n",
       "SeasonalPurchase                               0.0                0.0   \n",
       "Month_SeasonalPurchase                         May                Dec   \n",
       "OS                                             3.0                2.0   \n",
       "SearchEngine                                   NaN                2.0   \n",
       "Zone                                           7.0                3.0   \n",
       "Type of Traffic                                4.0                1.0   \n",
       "CustomerType                     Returning_Visitor  Returning_Visitor   \n",
       "Gender                               Not Specified               Male   \n",
       "Cookies Setting                           Required               Deny   \n",
       "Education                                  Diploma           Graduate   \n",
       "Marital Status                             Married             Single   \n",
       "WeekendPurchase                                0.0                0.0   \n",
       "\n",
       "                                             557                1470   \\\n",
       "HomePage                                       0.0                0.0   \n",
       "HomePage_Duration                              0.0                0.0   \n",
       "LandingPage                                    0.0                0.0   \n",
       "LandingPage_Duration                           0.0                0.0   \n",
       "ProductDescriptionPage                         8.0                4.0   \n",
       "ProductDescriptionPage_Duration              244.0              158.0   \n",
       "GoogleMetric:Bounce Rates                    0.025               0.05   \n",
       "GoogleMetric:Exit Rates                      0.075                0.1   \n",
       "GoogleMetric:Page Values                       0.0                0.0   \n",
       "SeasonalPurchase                               0.0                0.0   \n",
       "Month_SeasonalPurchase                         Mar                May   \n",
       "OS                                             3.0                2.0   \n",
       "SearchEngine                                   2.0                2.0   \n",
       "Zone                                           1.0                4.0   \n",
       "Type of Traffic                                3.0               13.0   \n",
       "CustomerType                     Returning_Visitor  Returning_Visitor   \n",
       "Gender                                        Male               Male   \n",
       "Cookies Setting                                ALL           Required   \n",
       "Education                            Not Specified             Others   \n",
       "Marital Status                             Married            Married   \n",
       "WeekendPurchase                                0.0                0.0   \n",
       "\n",
       "                                             2633               2816   \\\n",
       "HomePage                                       5.0                5.0   \n",
       "HomePage_Duration                            232.4              35.75   \n",
       "LandingPage                                    0.0                0.0   \n",
       "LandingPage_Duration                           0.0                0.0   \n",
       "ProductDescriptionPage                         6.0               22.0   \n",
       "ProductDescriptionPage_Duration              190.4              679.5   \n",
       "GoogleMetric:Bounce Rates                 0.042857                0.0   \n",
       "GoogleMetric:Exit Rates                   0.061905           0.014667   \n",
       "GoogleMetric:Page Values                       0.0           10.07328   \n",
       "SeasonalPurchase                               0.0                0.0   \n",
       "Month_SeasonalPurchase                         May                May   \n",
       "OS                                             1.0                2.0   \n",
       "SearchEngine                                   1.0                2.0   \n",
       "Zone                                           1.0                8.0   \n",
       "Type of Traffic                                3.0                3.0   \n",
       "CustomerType                     Returning_Visitor  Returning_Visitor   \n",
       "Gender                               Not Specified               Male   \n",
       "Cookies Setting                                ALL               Deny   \n",
       "Education                                  Diploma            Diploma   \n",
       "Marital Status                              Single            Married   \n",
       "WeekendPurchase                                1.0                0.0   \n",
       "\n",
       "                                       2257               3588   \n",
       "HomePage                                 6.0                0.0  \n",
       "HomePage_Duration                      111.0                0.0  \n",
       "LandingPage                              0.0                0.0  \n",
       "LandingPage_Duration                     0.0                0.0  \n",
       "ProductDescriptionPage                  13.0               34.0  \n",
       "ProductDescriptionPage_Duration        522.0         877.666667  \n",
       "GoogleMetric:Bounce Rates                0.0           0.020202  \n",
       "GoogleMetric:Exit Rates             0.011111           0.042323  \n",
       "GoogleMetric:Page Values           36.654444           5.694121  \n",
       "SeasonalPurchase                         0.0                0.0  \n",
       "Month_SeasonalPurchase                   May                May  \n",
       "OS                                       2.0                2.0  \n",
       "SearchEngine                             2.0                2.0  \n",
       "Zone                                     2.0                1.0  \n",
       "Type of Traffic                          2.0                2.0  \n",
       "CustomerType                     New_Visitor  Returning_Visitor  \n",
       "Gender                                Female               Male  \n",
       "Cookies Setting                         Deny           Required  \n",
       "Education                             Others           Graduate  \n",
       "Marital Status                       Married            Married  \n",
       "WeekendPurchase                          0.0                0.0  "
      ]
     },
     "execution_count": 729,
     "metadata": {},
     "output_type": "execute_result"
    }
   ],
   "source": [
    "X.sample(10).transpose()"
   ]
  },
  {
   "cell_type": "code",
   "execution_count": 730,
   "metadata": {},
   "outputs": [
    {
     "data": {
      "text/html": [
       "<div>\n",
       "<style scoped>\n",
       "    .dataframe tbody tr th:only-of-type {\n",
       "        vertical-align: middle;\n",
       "    }\n",
       "\n",
       "    .dataframe tbody tr th {\n",
       "        vertical-align: top;\n",
       "    }\n",
       "\n",
       "    .dataframe thead th {\n",
       "        text-align: right;\n",
       "    }\n",
       "</style>\n",
       "<table border=\"1\" class=\"dataframe\">\n",
       "  <thead>\n",
       "    <tr style=\"text-align: right;\">\n",
       "      <th></th>\n",
       "      <th>HomePage</th>\n",
       "      <th>HomePage_Duration</th>\n",
       "      <th>LandingPage</th>\n",
       "      <th>LandingPage_Duration</th>\n",
       "      <th>ProductDescriptionPage</th>\n",
       "      <th>ProductDescriptionPage_Duration</th>\n",
       "      <th>GoogleMetric:Bounce Rates</th>\n",
       "      <th>GoogleMetric:Exit Rates</th>\n",
       "      <th>GoogleMetric:Page Values</th>\n",
       "      <th>SeasonalPurchase</th>\n",
       "      <th>OS</th>\n",
       "      <th>SearchEngine</th>\n",
       "      <th>Zone</th>\n",
       "      <th>Type of Traffic</th>\n",
       "      <th>WeekendPurchase</th>\n",
       "    </tr>\n",
       "  </thead>\n",
       "  <tbody>\n",
       "    <tr>\n",
       "      <th>count</th>\n",
       "      <td>14578.000000</td>\n",
       "      <td>14581.000000</td>\n",
       "      <td>14578.000000</td>\n",
       "      <td>14596.000000</td>\n",
       "      <td>14608.000000</td>\n",
       "      <td>14564.000000</td>\n",
       "      <td>14580.000000</td>\n",
       "      <td>14602.000000</td>\n",
       "      <td>14599.000000</td>\n",
       "      <td>14581.000000</td>\n",
       "      <td>14597.000000</td>\n",
       "      <td>14609.000000</td>\n",
       "      <td>14614.000000</td>\n",
       "      <td>14588.000000</td>\n",
       "      <td>14610.000000</td>\n",
       "    </tr>\n",
       "    <tr>\n",
       "      <th>mean</th>\n",
       "      <td>2.250240</td>\n",
       "      <td>79.300762</td>\n",
       "      <td>0.490739</td>\n",
       "      <td>33.455943</td>\n",
       "      <td>31.559488</td>\n",
       "      <td>1184.346084</td>\n",
       "      <td>0.023366</td>\n",
       "      <td>0.044664</td>\n",
       "      <td>4.812620</td>\n",
       "      <td>0.064083</td>\n",
       "      <td>2.122422</td>\n",
       "      <td>2.356629</td>\n",
       "      <td>3.155673</td>\n",
       "      <td>4.090143</td>\n",
       "      <td>0.234155</td>\n",
       "    </tr>\n",
       "    <tr>\n",
       "      <th>std</th>\n",
       "      <td>3.288042</td>\n",
       "      <td>179.374699</td>\n",
       "      <td>1.252376</td>\n",
       "      <td>140.146256</td>\n",
       "      <td>44.897089</td>\n",
       "      <td>2009.496307</td>\n",
       "      <td>0.050011</td>\n",
       "      <td>0.049912</td>\n",
       "      <td>16.887366</td>\n",
       "      <td>0.202583</td>\n",
       "      <td>0.914404</td>\n",
       "      <td>1.721823</td>\n",
       "      <td>2.405155</td>\n",
       "      <td>4.040147</td>\n",
       "      <td>0.423484</td>\n",
       "    </tr>\n",
       "    <tr>\n",
       "      <th>min</th>\n",
       "      <td>0.000000</td>\n",
       "      <td>0.000000</td>\n",
       "      <td>0.000000</td>\n",
       "      <td>0.000000</td>\n",
       "      <td>0.000000</td>\n",
       "      <td>0.000000</td>\n",
       "      <td>0.000000</td>\n",
       "      <td>0.000000</td>\n",
       "      <td>0.000000</td>\n",
       "      <td>0.000000</td>\n",
       "      <td>1.000000</td>\n",
       "      <td>1.000000</td>\n",
       "      <td>1.000000</td>\n",
       "      <td>1.000000</td>\n",
       "      <td>0.000000</td>\n",
       "    </tr>\n",
       "    <tr>\n",
       "      <th>25%</th>\n",
       "      <td>0.000000</td>\n",
       "      <td>0.000000</td>\n",
       "      <td>0.000000</td>\n",
       "      <td>0.000000</td>\n",
       "      <td>7.000000</td>\n",
       "      <td>173.187500</td>\n",
       "      <td>0.000000</td>\n",
       "      <td>0.014502</td>\n",
       "      <td>0.000000</td>\n",
       "      <td>0.000000</td>\n",
       "      <td>2.000000</td>\n",
       "      <td>2.000000</td>\n",
       "      <td>1.000000</td>\n",
       "      <td>2.000000</td>\n",
       "      <td>0.000000</td>\n",
       "    </tr>\n",
       "    <tr>\n",
       "      <th>50%</th>\n",
       "      <td>1.000000</td>\n",
       "      <td>5.000000</td>\n",
       "      <td>0.000000</td>\n",
       "      <td>0.000000</td>\n",
       "      <td>17.500000</td>\n",
       "      <td>584.333333</td>\n",
       "      <td>0.003478</td>\n",
       "      <td>0.026406</td>\n",
       "      <td>0.000000</td>\n",
       "      <td>0.000000</td>\n",
       "      <td>2.000000</td>\n",
       "      <td>2.000000</td>\n",
       "      <td>3.000000</td>\n",
       "      <td>2.000000</td>\n",
       "      <td>0.000000</td>\n",
       "    </tr>\n",
       "    <tr>\n",
       "      <th>75%</th>\n",
       "      <td>3.000000</td>\n",
       "      <td>91.000000</td>\n",
       "      <td>0.000000</td>\n",
       "      <td>0.000000</td>\n",
       "      <td>38.000000</td>\n",
       "      <td>1434.255128</td>\n",
       "      <td>0.018182</td>\n",
       "      <td>0.050000</td>\n",
       "      <td>0.000000</td>\n",
       "      <td>0.000000</td>\n",
       "      <td>3.000000</td>\n",
       "      <td>2.000000</td>\n",
       "      <td>4.000000</td>\n",
       "      <td>4.000000</td>\n",
       "      <td>0.000000</td>\n",
       "    </tr>\n",
       "    <tr>\n",
       "      <th>max</th>\n",
       "      <td>27.000000</td>\n",
       "      <td>3398.750000</td>\n",
       "      <td>24.000000</td>\n",
       "      <td>2549.375000</td>\n",
       "      <td>705.000000</td>\n",
       "      <td>63973.522230</td>\n",
       "      <td>0.200000</td>\n",
       "      <td>0.200000</td>\n",
       "      <td>361.763742</td>\n",
       "      <td>1.000000</td>\n",
       "      <td>8.000000</td>\n",
       "      <td>13.000000</td>\n",
       "      <td>9.000000</td>\n",
       "      <td>20.000000</td>\n",
       "      <td>1.000000</td>\n",
       "    </tr>\n",
       "  </tbody>\n",
       "</table>\n",
       "</div>"
      ],
      "text/plain": [
       "           HomePage  HomePage_Duration   LandingPage  LandingPage_Duration  \\\n",
       "count  14578.000000       14581.000000  14578.000000          14596.000000   \n",
       "mean       2.250240          79.300762      0.490739             33.455943   \n",
       "std        3.288042         179.374699      1.252376            140.146256   \n",
       "min        0.000000           0.000000      0.000000              0.000000   \n",
       "25%        0.000000           0.000000      0.000000              0.000000   \n",
       "50%        1.000000           5.000000      0.000000              0.000000   \n",
       "75%        3.000000          91.000000      0.000000              0.000000   \n",
       "max       27.000000        3398.750000     24.000000           2549.375000   \n",
       "\n",
       "       ProductDescriptionPage  ProductDescriptionPage_Duration  \\\n",
       "count            14608.000000                     14564.000000   \n",
       "mean                31.559488                      1184.346084   \n",
       "std                 44.897089                      2009.496307   \n",
       "min                  0.000000                         0.000000   \n",
       "25%                  7.000000                       173.187500   \n",
       "50%                 17.500000                       584.333333   \n",
       "75%                 38.000000                      1434.255128   \n",
       "max                705.000000                     63973.522230   \n",
       "\n",
       "       GoogleMetric:Bounce Rates  GoogleMetric:Exit Rates  \\\n",
       "count               14580.000000             14602.000000   \n",
       "mean                    0.023366                 0.044664   \n",
       "std                     0.050011                 0.049912   \n",
       "min                     0.000000                 0.000000   \n",
       "25%                     0.000000                 0.014502   \n",
       "50%                     0.003478                 0.026406   \n",
       "75%                     0.018182                 0.050000   \n",
       "max                     0.200000                 0.200000   \n",
       "\n",
       "       GoogleMetric:Page Values  SeasonalPurchase            OS  SearchEngine  \\\n",
       "count              14599.000000      14581.000000  14597.000000  14609.000000   \n",
       "mean                   4.812620          0.064083      2.122422      2.356629   \n",
       "std                   16.887366          0.202583      0.914404      1.721823   \n",
       "min                    0.000000          0.000000      1.000000      1.000000   \n",
       "25%                    0.000000          0.000000      2.000000      2.000000   \n",
       "50%                    0.000000          0.000000      2.000000      2.000000   \n",
       "75%                    0.000000          0.000000      3.000000      2.000000   \n",
       "max                  361.763742          1.000000      8.000000     13.000000   \n",
       "\n",
       "               Zone  Type of Traffic  WeekendPurchase  \n",
       "count  14614.000000     14588.000000     14610.000000  \n",
       "mean       3.155673         4.090143         0.234155  \n",
       "std        2.405155         4.040147         0.423484  \n",
       "min        1.000000         1.000000         0.000000  \n",
       "25%        1.000000         2.000000         0.000000  \n",
       "50%        3.000000         2.000000         0.000000  \n",
       "75%        4.000000         4.000000         0.000000  \n",
       "max        9.000000        20.000000         1.000000  "
      ]
     },
     "execution_count": 730,
     "metadata": {},
     "output_type": "execute_result"
    }
   ],
   "source": [
    "X.describe()"
   ]
  },
  {
   "attachments": {},
   "cell_type": "markdown",
   "metadata": {},
   "source": [
    "### Shapes"
   ]
  },
  {
   "cell_type": "code",
   "execution_count": 731,
   "metadata": {},
   "outputs": [
    {
     "name": "stdout",
     "output_type": "stream",
     "text": [
      "(14731, 21)\n",
      "(14731, 1)\n"
     ]
    }
   ],
   "source": [
    "print(X.shape)\n",
    "print(y.shape)"
   ]
  },
  {
   "cell_type": "markdown",
   "metadata": {},
   "source": [
    "### Unique values in features"
   ]
  },
  {
   "cell_type": "code",
   "execution_count": 732,
   "metadata": {},
   "outputs": [
    {
     "data": {
      "text/plain": [
       "HomePage                             27\n",
       "HomePage_Duration                  2844\n",
       "LandingPage                          17\n",
       "LandingPage_Duration               1084\n",
       "ProductDescriptionPage              294\n",
       "ProductDescriptionPage_Duration    7933\n",
       "GoogleMetric:Bounce Rates          1628\n",
       "GoogleMetric:Exit Rates            4051\n",
       "GoogleMetric:Page Values           2120\n",
       "SeasonalPurchase                      6\n",
       "Month_SeasonalPurchase               10\n",
       "OS                                    8\n",
       "SearchEngine                         13\n",
       "Zone                                  9\n",
       "Type of Traffic                      20\n",
       "CustomerType                          3\n",
       "Gender                                3\n",
       "Cookies Setting                       3\n",
       "Education                             4\n",
       "Marital Status                        3\n",
       "WeekendPurchase                       2\n",
       "dtype: int64"
      ]
     },
     "execution_count": 732,
     "metadata": {},
     "output_type": "execute_result"
    }
   ],
   "source": [
    "X.nunique()"
   ]
  },
  {
   "attachments": {},
   "cell_type": "markdown",
   "metadata": {},
   "source": [
    "### Range of data"
   ]
  },
  {
   "cell_type": "code",
   "execution_count": 733,
   "metadata": {},
   "outputs": [
    {
     "data": {
      "text/html": [
       "<div>\n",
       "<style scoped>\n",
       "    .dataframe tbody tr th:only-of-type {\n",
       "        vertical-align: middle;\n",
       "    }\n",
       "\n",
       "    .dataframe tbody tr th {\n",
       "        vertical-align: top;\n",
       "    }\n",
       "\n",
       "    .dataframe thead th {\n",
       "        text-align: right;\n",
       "    }\n",
       "</style>\n",
       "<table border=\"1\" class=\"dataframe\">\n",
       "  <thead>\n",
       "    <tr style=\"text-align: right;\">\n",
       "      <th></th>\n",
       "      <th>min</th>\n",
       "      <th>max</th>\n",
       "    </tr>\n",
       "  </thead>\n",
       "  <tbody>\n",
       "    <tr>\n",
       "      <th>HomePage</th>\n",
       "      <td>0.0</td>\n",
       "      <td>27.000000</td>\n",
       "    </tr>\n",
       "    <tr>\n",
       "      <th>HomePage_Duration</th>\n",
       "      <td>0.0</td>\n",
       "      <td>3398.750000</td>\n",
       "    </tr>\n",
       "    <tr>\n",
       "      <th>LandingPage</th>\n",
       "      <td>0.0</td>\n",
       "      <td>24.000000</td>\n",
       "    </tr>\n",
       "    <tr>\n",
       "      <th>LandingPage_Duration</th>\n",
       "      <td>0.0</td>\n",
       "      <td>2549.375000</td>\n",
       "    </tr>\n",
       "    <tr>\n",
       "      <th>ProductDescriptionPage</th>\n",
       "      <td>0.0</td>\n",
       "      <td>705.000000</td>\n",
       "    </tr>\n",
       "    <tr>\n",
       "      <th>ProductDescriptionPage_Duration</th>\n",
       "      <td>0.0</td>\n",
       "      <td>63973.522230</td>\n",
       "    </tr>\n",
       "    <tr>\n",
       "      <th>GoogleMetric:Bounce Rates</th>\n",
       "      <td>0.0</td>\n",
       "      <td>0.200000</td>\n",
       "    </tr>\n",
       "    <tr>\n",
       "      <th>GoogleMetric:Exit Rates</th>\n",
       "      <td>0.0</td>\n",
       "      <td>0.200000</td>\n",
       "    </tr>\n",
       "    <tr>\n",
       "      <th>GoogleMetric:Page Values</th>\n",
       "      <td>0.0</td>\n",
       "      <td>361.763742</td>\n",
       "    </tr>\n",
       "    <tr>\n",
       "      <th>SeasonalPurchase</th>\n",
       "      <td>0.0</td>\n",
       "      <td>1.000000</td>\n",
       "    </tr>\n",
       "    <tr>\n",
       "      <th>OS</th>\n",
       "      <td>1.0</td>\n",
       "      <td>8.000000</td>\n",
       "    </tr>\n",
       "    <tr>\n",
       "      <th>SearchEngine</th>\n",
       "      <td>1.0</td>\n",
       "      <td>13.000000</td>\n",
       "    </tr>\n",
       "    <tr>\n",
       "      <th>Zone</th>\n",
       "      <td>1.0</td>\n",
       "      <td>9.000000</td>\n",
       "    </tr>\n",
       "    <tr>\n",
       "      <th>Type of Traffic</th>\n",
       "      <td>1.0</td>\n",
       "      <td>20.000000</td>\n",
       "    </tr>\n",
       "    <tr>\n",
       "      <th>WeekendPurchase</th>\n",
       "      <td>0.0</td>\n",
       "      <td>1.000000</td>\n",
       "    </tr>\n",
       "  </tbody>\n",
       "</table>\n",
       "</div>"
      ],
      "text/plain": [
       "                                 min           max\n",
       "HomePage                         0.0     27.000000\n",
       "HomePage_Duration                0.0   3398.750000\n",
       "LandingPage                      0.0     24.000000\n",
       "LandingPage_Duration             0.0   2549.375000\n",
       "ProductDescriptionPage           0.0    705.000000\n",
       "ProductDescriptionPage_Duration  0.0  63973.522230\n",
       "GoogleMetric:Bounce Rates        0.0      0.200000\n",
       "GoogleMetric:Exit Rates          0.0      0.200000\n",
       "GoogleMetric:Page Values         0.0    361.763742\n",
       "SeasonalPurchase                 0.0      1.000000\n",
       "OS                               1.0      8.000000\n",
       "SearchEngine                     1.0     13.000000\n",
       "Zone                             1.0      9.000000\n",
       "Type of Traffic                  1.0     20.000000\n",
       "WeekendPurchase                  0.0      1.000000"
      ]
     },
     "execution_count": 733,
     "metadata": {},
     "output_type": "execute_result"
    }
   ],
   "source": [
    "X.describe().loc[['min','max']].transpose()"
   ]
  },
  {
   "attachments": {},
   "cell_type": "markdown",
   "metadata": {},
   "source": [
    "### Data types of features"
   ]
  },
  {
   "cell_type": "code",
   "execution_count": 734,
   "metadata": {},
   "outputs": [
    {
     "name": "stdout",
     "output_type": "stream",
     "text": [
      "HomePage                           float64\n",
      "HomePage_Duration                  float64\n",
      "LandingPage                        float64\n",
      "LandingPage_Duration               float64\n",
      "ProductDescriptionPage             float64\n",
      "ProductDescriptionPage_Duration    float64\n",
      "GoogleMetric:Bounce Rates          float64\n",
      "GoogleMetric:Exit Rates            float64\n",
      "GoogleMetric:Page Values           float64\n",
      "SeasonalPurchase                   float64\n",
      "Month_SeasonalPurchase              object\n",
      "OS                                 float64\n",
      "SearchEngine                       float64\n",
      "Zone                               float64\n",
      "Type of Traffic                    float64\n",
      "CustomerType                        object\n",
      "Gender                              object\n",
      "Cookies Setting                     object\n",
      "Education                           object\n",
      "Marital Status                      object\n",
      "WeekendPurchase                    float64\n",
      "dtype: object\n"
     ]
    }
   ],
   "source": [
    "print(X.dtypes)\n",
    "dtypes=X.dtypes.to_list()"
   ]
  },
  {
   "cell_type": "code",
   "execution_count": 735,
   "metadata": {},
   "outputs": [
    {
     "data": {
      "text/html": [
       "<div>\n",
       "<style scoped>\n",
       "    .dataframe tbody tr th:only-of-type {\n",
       "        vertical-align: middle;\n",
       "    }\n",
       "\n",
       "    .dataframe tbody tr th {\n",
       "        vertical-align: top;\n",
       "    }\n",
       "\n",
       "    .dataframe thead th {\n",
       "        text-align: right;\n",
       "    }\n",
       "</style>\n",
       "<table border=\"1\" class=\"dataframe\">\n",
       "  <thead>\n",
       "    <tr style=\"text-align: right;\">\n",
       "      <th></th>\n",
       "      <th>Month_SeasonalPurchase</th>\n",
       "      <th>CustomerType</th>\n",
       "      <th>Gender</th>\n",
       "      <th>Cookies Setting</th>\n",
       "      <th>Education</th>\n",
       "      <th>Marital Status</th>\n",
       "    </tr>\n",
       "  </thead>\n",
       "  <tbody>\n",
       "    <tr>\n",
       "      <th>778</th>\n",
       "      <td>Mar</td>\n",
       "      <td>Returning_Visitor</td>\n",
       "      <td>Male</td>\n",
       "      <td>Deny</td>\n",
       "      <td>Not Specified</td>\n",
       "      <td>Other</td>\n",
       "    </tr>\n",
       "    <tr>\n",
       "      <th>12894</th>\n",
       "      <td>Mar</td>\n",
       "      <td>Returning_Visitor</td>\n",
       "      <td>Female</td>\n",
       "      <td>Deny</td>\n",
       "      <td>Diploma</td>\n",
       "      <td>Other</td>\n",
       "    </tr>\n",
       "    <tr>\n",
       "      <th>11191</th>\n",
       "      <td>Dec</td>\n",
       "      <td>Returning_Visitor</td>\n",
       "      <td>Female</td>\n",
       "      <td>ALL</td>\n",
       "      <td>Graduate</td>\n",
       "      <td>Single</td>\n",
       "    </tr>\n",
       "    <tr>\n",
       "      <th>5233</th>\n",
       "      <td>Aug</td>\n",
       "      <td>Returning_Visitor</td>\n",
       "      <td>Male</td>\n",
       "      <td>Deny</td>\n",
       "      <td>Others</td>\n",
       "      <td>Other</td>\n",
       "    </tr>\n",
       "    <tr>\n",
       "      <th>418</th>\n",
       "      <td>Mar</td>\n",
       "      <td>Returning_Visitor</td>\n",
       "      <td>Female</td>\n",
       "      <td>Required</td>\n",
       "      <td>Others</td>\n",
       "      <td>Single</td>\n",
       "    </tr>\n",
       "    <tr>\n",
       "      <th>7922</th>\n",
       "      <td>Nov</td>\n",
       "      <td>Returning_Visitor</td>\n",
       "      <td>Not Specified</td>\n",
       "      <td>ALL</td>\n",
       "      <td>Diploma</td>\n",
       "      <td>Married</td>\n",
       "    </tr>\n",
       "    <tr>\n",
       "      <th>5037</th>\n",
       "      <td>Jul</td>\n",
       "      <td>Returning_Visitor</td>\n",
       "      <td>Male</td>\n",
       "      <td>Deny</td>\n",
       "      <td>Graduate</td>\n",
       "      <td>Other</td>\n",
       "    </tr>\n",
       "    <tr>\n",
       "      <th>11310</th>\n",
       "      <td>May</td>\n",
       "      <td>Returning_Visitor</td>\n",
       "      <td>Not Specified</td>\n",
       "      <td>ALL</td>\n",
       "      <td>Others</td>\n",
       "      <td>Married</td>\n",
       "    </tr>\n",
       "    <tr>\n",
       "      <th>9035</th>\n",
       "      <td>Dec</td>\n",
       "      <td>Returning_Visitor</td>\n",
       "      <td>Female</td>\n",
       "      <td>ALL</td>\n",
       "      <td>Not Specified</td>\n",
       "      <td>Married</td>\n",
       "    </tr>\n",
       "    <tr>\n",
       "      <th>13769</th>\n",
       "      <td>Nov</td>\n",
       "      <td>Returning_Visitor</td>\n",
       "      <td>Female</td>\n",
       "      <td>Required</td>\n",
       "      <td>Others</td>\n",
       "      <td>Single</td>\n",
       "    </tr>\n",
       "  </tbody>\n",
       "</table>\n",
       "</div>"
      ],
      "text/plain": [
       "      Month_SeasonalPurchase       CustomerType         Gender  \\\n",
       "778                      Mar  Returning_Visitor           Male   \n",
       "12894                    Mar  Returning_Visitor         Female   \n",
       "11191                    Dec  Returning_Visitor         Female   \n",
       "5233                     Aug  Returning_Visitor           Male   \n",
       "418                      Mar  Returning_Visitor         Female   \n",
       "7922                     Nov  Returning_Visitor  Not Specified   \n",
       "5037                     Jul  Returning_Visitor           Male   \n",
       "11310                    May  Returning_Visitor  Not Specified   \n",
       "9035                     Dec  Returning_Visitor         Female   \n",
       "13769                    Nov  Returning_Visitor         Female   \n",
       "\n",
       "      Cookies Setting      Education Marital Status  \n",
       "778              Deny  Not Specified          Other  \n",
       "12894            Deny        Diploma          Other  \n",
       "11191             ALL       Graduate         Single  \n",
       "5233             Deny         Others          Other  \n",
       "418          Required         Others         Single  \n",
       "7922              ALL        Diploma        Married  \n",
       "5037             Deny       Graduate          Other  \n",
       "11310             ALL         Others        Married  \n",
       "9035              ALL  Not Specified        Married  \n",
       "13769        Required         Others         Single  "
      ]
     },
     "execution_count": 735,
     "metadata": {},
     "output_type": "execute_result"
    }
   ],
   "source": [
    "X[['Month_SeasonalPurchase','CustomerType','Gender','Cookies Setting','Education','Marital Status']].sample(10)"
   ]
  },
  {
   "attachments": {},
   "cell_type": "markdown",
   "metadata": {},
   "source": [
    "### Missing values"
   ]
  },
  {
   "cell_type": "code",
   "execution_count": 736,
   "metadata": {},
   "outputs": [
    {
     "data": {
      "text/plain": [
       "HomePage                           153\n",
       "HomePage_Duration                  150\n",
       "LandingPage                        153\n",
       "LandingPage_Duration               135\n",
       "ProductDescriptionPage             123\n",
       "ProductDescriptionPage_Duration    167\n",
       "GoogleMetric:Bounce Rates          151\n",
       "GoogleMetric:Exit Rates            129\n",
       "GoogleMetric:Page Values           132\n",
       "SeasonalPurchase                   150\n",
       "Month_SeasonalPurchase             144\n",
       "OS                                 134\n",
       "SearchEngine                       122\n",
       "Zone                               117\n",
       "Type of Traffic                    143\n",
       "CustomerType                       144\n",
       "Gender                             145\n",
       "Cookies Setting                    144\n",
       "Education                          136\n",
       "Marital Status                     130\n",
       "WeekendPurchase                    121\n",
       "dtype: int64"
      ]
     },
     "execution_count": 736,
     "metadata": {},
     "output_type": "execute_result"
    }
   ],
   "source": [
    "X.isna().sum()"
   ]
  },
  {
   "cell_type": "code",
   "execution_count": 737,
   "metadata": {},
   "outputs": [
    {
     "name": "stdout",
     "output_type": "stream",
     "text": [
      "['Feb' 'Mar' 'May' 'Oct' 'June' 'Jul' 'Aug' 'Nov' 'Sep' 'Dec' nan]\n",
      "['Returning_Visitor' 'New_Visitor' 'Other' nan]\n",
      "['Not Specified' 'Female' 'Male' nan]\n",
      "['Deny' 'ALL' 'Required' nan]\n",
      "['Not Specified' 'Others' 'Diploma' 'Graduate' nan]\n",
      "['Other' 'Married' 'Single' nan]\n"
     ]
    }
   ],
   "source": [
    "for i in X[['Month_SeasonalPurchase','CustomerType','Gender','Cookies Setting','Education','Marital Status']].columns:\n",
    "    print(X[i].unique())"
   ]
  },
  {
   "cell_type": "code",
   "execution_count": 738,
   "metadata": {},
   "outputs": [
    {
     "data": {
      "text/plain": [
       "Made_Purchase    0\n",
       "dtype: int64"
      ]
     },
     "execution_count": 738,
     "metadata": {},
     "output_type": "execute_result"
    }
   ],
   "source": [
    "y.isna().sum()"
   ]
  },
  {
   "attachments": {},
   "cell_type": "markdown",
   "metadata": {},
   "source": [
    "### Outliers"
   ]
  },
  {
   "cell_type": "code",
   "execution_count": 739,
   "metadata": {},
   "outputs": [
    {
     "data": {
      "text/plain": [
       "array([[<AxesSubplot: title={'center': 'HomePage'}>,\n",
       "        <AxesSubplot: title={'center': 'HomePage_Duration'}>,\n",
       "        <AxesSubplot: title={'center': 'LandingPage'}>,\n",
       "        <AxesSubplot: title={'center': 'LandingPage_Duration'}>],\n",
       "       [<AxesSubplot: title={'center': 'ProductDescriptionPage'}>,\n",
       "        <AxesSubplot: title={'center': 'ProductDescriptionPage_Duration'}>,\n",
       "        <AxesSubplot: title={'center': 'GoogleMetric:Bounce Rates'}>,\n",
       "        <AxesSubplot: title={'center': 'GoogleMetric:Exit Rates'}>],\n",
       "       [<AxesSubplot: title={'center': 'GoogleMetric:Page Values'}>,\n",
       "        <AxesSubplot: title={'center': 'SeasonalPurchase'}>,\n",
       "        <AxesSubplot: title={'center': 'OS'}>,\n",
       "        <AxesSubplot: title={'center': 'SearchEngine'}>],\n",
       "       [<AxesSubplot: title={'center': 'Zone'}>,\n",
       "        <AxesSubplot: title={'center': 'Type of Traffic'}>,\n",
       "        <AxesSubplot: title={'center': 'WeekendPurchase'}>,\n",
       "        <AxesSubplot: >]], dtype=object)"
      ]
     },
     "execution_count": 739,
     "metadata": {},
     "output_type": "execute_result"
    },
    {
     "data": {
      "image/png": "[encoded data removed]",
      "text/plain": [
       "<Figure size 1500x1500 with 16 Axes>"
      ]
     },
     "metadata": {},
     "output_type": "display_data"
    }
   ],
   "source": [
    "X.hist(figsize=(15,15))"
   ]
  },
  {
   "attachments": {},
   "cell_type": "markdown",
   "metadata": {},
   "source": [
    "### Correlations"
   ]
  },
  {
   "cell_type": "code",
   "execution_count": 740,
   "metadata": {},
   "outputs": [
    {
     "data": {
      "text/plain": [
       "<AxesSubplot: >"
      ]
     },
     "execution_count": 740,
     "metadata": {},
     "output_type": "execute_result"
    },
    {
     "data": {
      "image/png": "[encoded data removed]",
      "text/plain": [
       "<Figure size 640x480 with 2 Axes>"
      ]
     },
     "metadata": {},
     "output_type": "display_data"
    }
   ],
   "source": [
    "sns.heatmap(train_data.drop(['Month_SeasonalPurchase','CustomerType','Gender','Cookies Setting','Education','Marital Status'],axis=1).corr())"
   ]
  },
  {
   "attachments": {},
   "cell_type": "markdown",
   "metadata": {},
   "source": [
    "### Target variable(s)"
   ]
  },
  {
   "cell_type": "code",
   "execution_count": 741,
   "metadata": {},
   "outputs": [
    {
     "data": {
      "text/plain": [
       "Made_Purchase    2\n",
       "dtype: int64"
      ]
     },
     "execution_count": 741,
     "metadata": {},
     "output_type": "execute_result"
    }
   ],
   "source": [
    "y.nunique()"
   ]
  },
  {
   "cell_type": "code",
   "execution_count": 742,
   "metadata": {},
   "outputs": [
    {
     "data": {
      "text/plain": [
       "array([False,  True])"
      ]
     },
     "execution_count": 742,
     "metadata": {},
     "output_type": "execute_result"
    }
   ],
   "source": [
    "y['Made_Purchase'].unique()"
   ]
  },
  {
   "cell_type": "code",
   "execution_count": 743,
   "metadata": {},
   "outputs": [
    {
     "data": {
      "text/html": [
       "<div>\n",
       "<style scoped>\n",
       "    .dataframe tbody tr th:only-of-type {\n",
       "        vertical-align: middle;\n",
       "    }\n",
       "\n",
       "    .dataframe tbody tr th {\n",
       "        vertical-align: top;\n",
       "    }\n",
       "\n",
       "    .dataframe thead th {\n",
       "        text-align: right;\n",
       "    }\n",
       "</style>\n",
       "<table border=\"1\" class=\"dataframe\">\n",
       "  <thead>\n",
       "    <tr style=\"text-align: right;\">\n",
       "      <th></th>\n",
       "      <th>Made_Purchase</th>\n",
       "    </tr>\n",
       "  </thead>\n",
       "  <tbody>\n",
       "    <tr>\n",
       "      <th>count</th>\n",
       "      <td>14731</td>\n",
       "    </tr>\n",
       "    <tr>\n",
       "      <th>unique</th>\n",
       "      <td>2</td>\n",
       "    </tr>\n",
       "    <tr>\n",
       "      <th>top</th>\n",
       "      <td>False</td>\n",
       "    </tr>\n",
       "    <tr>\n",
       "      <th>freq</th>\n",
       "      <td>9065</td>\n",
       "    </tr>\n",
       "  </tbody>\n",
       "</table>\n",
       "</div>"
      ],
      "text/plain": [
       "       Made_Purchase\n",
       "count          14731\n",
       "unique             2\n",
       "top            False\n",
       "freq            9065"
      ]
     },
     "execution_count": 743,
     "metadata": {},
     "output_type": "execute_result"
    }
   ],
   "source": [
    "y.describe()"
   ]
  },
  {
   "attachments": {},
   "cell_type": "markdown",
   "metadata": {},
   "source": [
    "### Insights"
   ]
  },
  {
   "cell_type": "code",
   "execution_count": 744,
   "metadata": {},
   "outputs": [],
   "source": [
    "categorical_features=[\n",
    "    'Month_SeasonalPurchase',\n",
    "    'CustomerType','Gender',\n",
    "    'Cookies Setting','Education',\n",
    "    'Marital Status','WeekendPurchase',\n",
    "    'Zone',\n",
    "    'Type of Traffic',\n",
    "    'SearchEngine',\n",
    "    'OS']\n",
    "numerical_features=[\n",
    "    'HomePage',\n",
    "    'HomePage_Duration',\n",
    "    'LandingPage',\n",
    "    'LandingPage_Duration',\n",
    "    'ProductDescriptionPage',\n",
    "    'ProductDescriptionPage_Duration',\n",
    "    'GoogleMetric:Bounce Rates',\n",
    "    'GoogleMetric:Exit Rates',\n",
    "    'GoogleMetric:Page Values',\n",
    "    'SeasonalPurchase']"
   ]
  },
  {
   "cell_type": "code",
   "execution_count": 745,
   "metadata": {},
   "outputs": [
    {
     "data": {
      "text/plain": [
       "{'HomePage': 'float64',\n",
       " 'HomePage_Duration': 'float64',\n",
       " 'LandingPage': 'float64',\n",
       " 'LandingPage_Duration': 'float64',\n",
       " 'ProductDescriptionPage': 'float64',\n",
       " 'ProductDescriptionPage_Duration': 'float64',\n",
       " 'GoogleMetric:Bounce Rates': 'float64',\n",
       " 'GoogleMetric:Exit Rates': 'float64',\n",
       " 'GoogleMetric:Page Values': 'float64',\n",
       " 'SeasonalPurchase': 'float64',\n",
       " 'Month_SeasonalPurchase': 'category',\n",
       " 'CustomerType': 'category',\n",
       " 'Gender': 'category',\n",
       " 'Cookies Setting': 'category',\n",
       " 'Education': 'category',\n",
       " 'Marital Status': 'category',\n",
       " 'WeekendPurchase': 'category',\n",
       " 'Zone': 'category',\n",
       " 'Type of Traffic': 'category',\n",
       " 'SearchEngine': 'category',\n",
       " 'OS': 'category'}"
      ]
     },
     "execution_count": 745,
     "metadata": {},
     "output_type": "execute_result"
    }
   ],
   "source": [
    "dtypes={}\n",
    "for i in numerical_features:\n",
    "    dtypes[i]='float64'\n",
    "for i in categorical_features:\n",
    "    dtypes[i]='category'\n",
    "dtypes"
   ]
  },
  {
   "attachments": {},
   "cell_type": "markdown",
   "metadata": {},
   "source": [
    "# Data pre-processing"
   ]
  },
  {
   "cell_type": "code",
   "execution_count": 746,
   "metadata": {},
   "outputs": [],
   "source": [
    "X['Gender'] = X['Gender'].replace('Not Specified', np.nan)\n",
    "X['Education'] = X['Education'].replace('Not Specified', 'Others')\n",
    "\n",
    "submission_data['Gender'] = submission_data['Gender'].replace('Not Specified', np.nan)\n",
    "submission_data['Education'] = submission_data['Education'].replace('Not Specified', 'Others')"
   ]
  },
  {
   "attachments": {},
   "cell_type": "markdown",
   "metadata": {},
   "source": [
    "### Data Cleaning"
   ]
  },
  {
   "cell_type": "code",
   "execution_count": 747,
   "metadata": {},
   "outputs": [],
   "source": [
    "combined_imputer=ColumnTransformer(transformers=[\n",
    "    ('numerical_imputer',KNNImputer(n_neighbors=120),numerical_features),\n",
    "    ('catagorical_imputer',SimpleImputer(strategy='most_frequent'),categorical_features)\n",
    "])"
   ]
  },
  {
   "cell_type": "code",
   "execution_count": 748,
   "metadata": {},
   "outputs": [],
   "source": [
    "X_imputed=combined_imputer.fit_transform(X)\n",
    "sub_imputed=combined_imputer.fit_transform(submission_data)"
   ]
  },
  {
   "cell_type": "code",
   "execution_count": 749,
   "metadata": {},
   "outputs": [],
   "source": [
    "X_imputed = pd.DataFrame(data=X_imputed, columns=numerical_features + categorical_features).astype(dtypes)\n",
    "sub_imputed = pd.DataFrame(data=sub_imputed, columns=numerical_features + categorical_features).astype(dtypes)"
   ]
  },
  {
   "cell_type": "code",
   "execution_count": 750,
   "metadata": {},
   "outputs": [
    {
     "data": {
      "text/plain": [
       "HomePage                           0\n",
       "HomePage_Duration                  0\n",
       "LandingPage                        0\n",
       "LandingPage_Duration               0\n",
       "ProductDescriptionPage             0\n",
       "ProductDescriptionPage_Duration    0\n",
       "GoogleMetric:Bounce Rates          0\n",
       "GoogleMetric:Exit Rates            0\n",
       "GoogleMetric:Page Values           0\n",
       "SeasonalPurchase                   0\n",
       "Month_SeasonalPurchase             0\n",
       "CustomerType                       0\n",
       "Gender                             0\n",
       "Cookies Setting                    0\n",
       "Education                          0\n",
       "Marital Status                     0\n",
       "WeekendPurchase                    0\n",
       "Zone                               0\n",
       "Type of Traffic                    0\n",
       "SearchEngine                       0\n",
       "OS                                 0\n",
       "dtype: int64"
      ]
     },
     "execution_count": 750,
     "metadata": {},
     "output_type": "execute_result"
    }
   ],
   "source": [
    "X_imputed.isna().sum()"
   ]
  },
  {
   "cell_type": "code",
   "execution_count": 751,
   "metadata": {},
   "outputs": [
    {
     "data": {
      "text/plain": [
       "\" X_imputed['Education'][X_imputed['Education']=='Not Specified']='Others'\\nsub_imputed['Education'][sub_imputed['Education']=='Not Specified']='Others' \""
      ]
     },
     "execution_count": 751,
     "metadata": {},
     "output_type": "execute_result"
    }
   ],
   "source": [
    "\"\"\" X_imputed['Education'][X_imputed['Education']=='Not Specified']='Others'\n",
    "sub_imputed['Education'][sub_imputed['Education']=='Not Specified']='Others' \"\"\""
   ]
  },
  {
   "attachments": {},
   "cell_type": "markdown",
   "metadata": {},
   "source": [
    "### Data Scaling"
   ]
  },
  {
   "cell_type": "code",
   "execution_count": 752,
   "metadata": {},
   "outputs": [],
   "source": [
    "scaler=ColumnTransformer(\n",
    "    transformers=[\n",
    "        ('Robust_scaler',RobustScaler(),numerical_features),\n",
    "        ('pass','passthrough',categorical_features)\n",
    "    ]\n",
    ")\n"
   ]
  },
  {
   "cell_type": "code",
   "execution_count": 753,
   "metadata": {},
   "outputs": [],
   "source": [
    "X_scaled=scaler.fit_transform(X_imputed)\n",
    "sub_scaled=scaler.fit_transform(sub_imputed)"
   ]
  },
  {
   "cell_type": "code",
   "execution_count": 754,
   "metadata": {},
   "outputs": [],
   "source": [
    "X_scaled=pd.DataFrame(data=X_scaled,columns=numerical_features + categorical_features).astype(dtypes)\n",
    "sub_scaled=pd.DataFrame(data=sub_scaled,columns=numerical_features + categorical_features).astype(dtypes)"
   ]
  },
  {
   "cell_type": "code",
   "execution_count": 755,
   "metadata": {},
   "outputs": [
    {
     "data": {
      "text/html": [
       "<div>\n",
       "<style scoped>\n",
       "    .dataframe tbody tr th:only-of-type {\n",
       "        vertical-align: middle;\n",
       "    }\n",
       "\n",
       "    .dataframe tbody tr th {\n",
       "        vertical-align: top;\n",
       "    }\n",
       "\n",
       "    .dataframe thead th {\n",
       "        text-align: right;\n",
       "    }\n",
       "</style>\n",
       "<table border=\"1\" class=\"dataframe\">\n",
       "  <thead>\n",
       "    <tr style=\"text-align: right;\">\n",
       "      <th></th>\n",
       "      <th>HomePage</th>\n",
       "      <th>HomePage_Duration</th>\n",
       "      <th>LandingPage</th>\n",
       "      <th>LandingPage_Duration</th>\n",
       "      <th>ProductDescriptionPage</th>\n",
       "      <th>ProductDescriptionPage_Duration</th>\n",
       "      <th>GoogleMetric:Bounce Rates</th>\n",
       "      <th>GoogleMetric:Exit Rates</th>\n",
       "      <th>GoogleMetric:Page Values</th>\n",
       "      <th>SeasonalPurchase</th>\n",
       "    </tr>\n",
       "  </thead>\n",
       "  <tbody>\n",
       "    <tr>\n",
       "      <th>count</th>\n",
       "      <td>14731.000000</td>\n",
       "      <td>14731.000000</td>\n",
       "      <td>14731.000000</td>\n",
       "      <td>14731.000000</td>\n",
       "      <td>14731.000000</td>\n",
       "      <td>14731.000000</td>\n",
       "      <td>14731.000000</td>\n",
       "      <td>14731.000000</td>\n",
       "      <td>14731.000000</td>\n",
       "      <td>14731.000000</td>\n",
       "    </tr>\n",
       "    <tr>\n",
       "      <th>mean</th>\n",
       "      <td>2.243404</td>\n",
       "      <td>79.050500</td>\n",
       "      <td>0.489757</td>\n",
       "      <td>33.409555</td>\n",
       "      <td>31.499401</td>\n",
       "      <td>1182.584645</td>\n",
       "      <td>0.023570</td>\n",
       "      <td>0.044732</td>\n",
       "      <td>4.812659</td>\n",
       "      <td>0.064059</td>\n",
       "    </tr>\n",
       "    <tr>\n",
       "      <th>std</th>\n",
       "      <td>3.277442</td>\n",
       "      <td>178.534319</td>\n",
       "      <td>1.248281</td>\n",
       "      <td>139.534841</td>\n",
       "      <td>44.749077</td>\n",
       "      <td>2001.086155</td>\n",
       "      <td>0.050170</td>\n",
       "      <td>0.049883</td>\n",
       "      <td>16.815108</td>\n",
       "      <td>0.201565</td>\n",
       "    </tr>\n",
       "    <tr>\n",
       "      <th>min</th>\n",
       "      <td>0.000000</td>\n",
       "      <td>0.000000</td>\n",
       "      <td>0.000000</td>\n",
       "      <td>0.000000</td>\n",
       "      <td>0.000000</td>\n",
       "      <td>0.000000</td>\n",
       "      <td>0.000000</td>\n",
       "      <td>0.000000</td>\n",
       "      <td>0.000000</td>\n",
       "      <td>0.000000</td>\n",
       "    </tr>\n",
       "    <tr>\n",
       "      <th>25%</th>\n",
       "      <td>0.000000</td>\n",
       "      <td>0.000000</td>\n",
       "      <td>0.000000</td>\n",
       "      <td>0.000000</td>\n",
       "      <td>7.000000</td>\n",
       "      <td>176.500000</td>\n",
       "      <td>0.000000</td>\n",
       "      <td>0.014667</td>\n",
       "      <td>0.000000</td>\n",
       "      <td>0.000000</td>\n",
       "    </tr>\n",
       "    <tr>\n",
       "      <th>50%</th>\n",
       "      <td>1.000000</td>\n",
       "      <td>5.500000</td>\n",
       "      <td>0.000000</td>\n",
       "      <td>0.000000</td>\n",
       "      <td>17.000000</td>\n",
       "      <td>586.000000</td>\n",
       "      <td>0.003704</td>\n",
       "      <td>0.026479</td>\n",
       "      <td>0.000000</td>\n",
       "      <td>0.000000</td>\n",
       "    </tr>\n",
       "    <tr>\n",
       "      <th>75%</th>\n",
       "      <td>3.120833</td>\n",
       "      <td>91.000000</td>\n",
       "      <td>0.000000</td>\n",
       "      <td>0.000000</td>\n",
       "      <td>37.000000</td>\n",
       "      <td>1430.433648</td>\n",
       "      <td>0.018182</td>\n",
       "      <td>0.050000</td>\n",
       "      <td>0.000000</td>\n",
       "      <td>0.000000</td>\n",
       "    </tr>\n",
       "    <tr>\n",
       "      <th>max</th>\n",
       "      <td>27.000000</td>\n",
       "      <td>3398.750000</td>\n",
       "      <td>24.000000</td>\n",
       "      <td>2549.375000</td>\n",
       "      <td>705.000000</td>\n",
       "      <td>63973.522230</td>\n",
       "      <td>0.200000</td>\n",
       "      <td>0.200000</td>\n",
       "      <td>361.763742</td>\n",
       "      <td>1.000000</td>\n",
       "    </tr>\n",
       "  </tbody>\n",
       "</table>\n",
       "</div>"
      ],
      "text/plain": [
       "           HomePage  HomePage_Duration   LandingPage  LandingPage_Duration  \\\n",
       "count  14731.000000       14731.000000  14731.000000          14731.000000   \n",
       "mean       2.243404          79.050500      0.489757             33.409555   \n",
       "std        3.277442         178.534319      1.248281            139.534841   \n",
       "min        0.000000           0.000000      0.000000              0.000000   \n",
       "25%        0.000000           0.000000      0.000000              0.000000   \n",
       "50%        1.000000           5.500000      0.000000              0.000000   \n",
       "75%        3.120833          91.000000      0.000000              0.000000   \n",
       "max       27.000000        3398.750000     24.000000           2549.375000   \n",
       "\n",
       "       ProductDescriptionPage  ProductDescriptionPage_Duration  \\\n",
       "count            14731.000000                     14731.000000   \n",
       "mean                31.499401                      1182.584645   \n",
       "std                 44.749077                      2001.086155   \n",
       "min                  0.000000                         0.000000   \n",
       "25%                  7.000000                       176.500000   \n",
       "50%                 17.000000                       586.000000   \n",
       "75%                 37.000000                      1430.433648   \n",
       "max                705.000000                     63973.522230   \n",
       "\n",
       "       GoogleMetric:Bounce Rates  GoogleMetric:Exit Rates  \\\n",
       "count               14731.000000             14731.000000   \n",
       "mean                    0.023570                 0.044732   \n",
       "std                     0.050170                 0.049883   \n",
       "min                     0.000000                 0.000000   \n",
       "25%                     0.000000                 0.014667   \n",
       "50%                     0.003704                 0.026479   \n",
       "75%                     0.018182                 0.050000   \n",
       "max                     0.200000                 0.200000   \n",
       "\n",
       "       GoogleMetric:Page Values  SeasonalPurchase  \n",
       "count              14731.000000      14731.000000  \n",
       "mean                   4.812659          0.064059  \n",
       "std                   16.815108          0.201565  \n",
       "min                    0.000000          0.000000  \n",
       "25%                    0.000000          0.000000  \n",
       "50%                    0.000000          0.000000  \n",
       "75%                    0.000000          0.000000  \n",
       "max                  361.763742          1.000000  "
      ]
     },
     "execution_count": 755,
     "metadata": {},
     "output_type": "execute_result"
    }
   ],
   "source": [
    "X_imputed.describe()"
   ]
  },
  {
   "cell_type": "code",
   "execution_count": 756,
   "metadata": {},
   "outputs": [
    {
     "data": {
      "text/html": [
       "<div>\n",
       "<style scoped>\n",
       "    .dataframe tbody tr th:only-of-type {\n",
       "        vertical-align: middle;\n",
       "    }\n",
       "\n",
       "    .dataframe tbody tr th {\n",
       "        vertical-align: top;\n",
       "    }\n",
       "\n",
       "    .dataframe thead th {\n",
       "        text-align: right;\n",
       "    }\n",
       "</style>\n",
       "<table border=\"1\" class=\"dataframe\">\n",
       "  <thead>\n",
       "    <tr style=\"text-align: right;\">\n",
       "      <th></th>\n",
       "      <th>HomePage</th>\n",
       "      <th>HomePage_Duration</th>\n",
       "      <th>LandingPage</th>\n",
       "      <th>LandingPage_Duration</th>\n",
       "      <th>ProductDescriptionPage</th>\n",
       "      <th>ProductDescriptionPage_Duration</th>\n",
       "      <th>GoogleMetric:Bounce Rates</th>\n",
       "      <th>GoogleMetric:Exit Rates</th>\n",
       "      <th>GoogleMetric:Page Values</th>\n",
       "      <th>SeasonalPurchase</th>\n",
       "    </tr>\n",
       "  </thead>\n",
       "  <tbody>\n",
       "    <tr>\n",
       "      <th>count</th>\n",
       "      <td>14731.000000</td>\n",
       "      <td>14731.000000</td>\n",
       "      <td>14731.000000</td>\n",
       "      <td>14731.000000</td>\n",
       "      <td>14731.000000</td>\n",
       "      <td>14731.000000</td>\n",
       "      <td>14731.000000</td>\n",
       "      <td>14731.000000</td>\n",
       "      <td>14731.000000</td>\n",
       "      <td>14731.000000</td>\n",
       "    </tr>\n",
       "    <tr>\n",
       "      <th>mean</th>\n",
       "      <td>0.398421</td>\n",
       "      <td>0.808247</td>\n",
       "      <td>0.489757</td>\n",
       "      <td>33.409555</td>\n",
       "      <td>0.483313</td>\n",
       "      <td>0.475771</td>\n",
       "      <td>1.092674</td>\n",
       "      <td>0.516585</td>\n",
       "      <td>4.812659</td>\n",
       "      <td>0.064059</td>\n",
       "    </tr>\n",
       "    <tr>\n",
       "      <th>std</th>\n",
       "      <td>1.050182</td>\n",
       "      <td>1.961916</td>\n",
       "      <td>1.248281</td>\n",
       "      <td>139.534841</td>\n",
       "      <td>1.491636</td>\n",
       "      <td>1.595847</td>\n",
       "      <td>2.759325</td>\n",
       "      <td>1.411792</td>\n",
       "      <td>16.815108</td>\n",
       "      <td>0.201565</td>\n",
       "    </tr>\n",
       "    <tr>\n",
       "      <th>min</th>\n",
       "      <td>-0.320427</td>\n",
       "      <td>-0.060440</td>\n",
       "      <td>0.000000</td>\n",
       "      <td>0.000000</td>\n",
       "      <td>-0.566667</td>\n",
       "      <td>-0.467329</td>\n",
       "      <td>-0.203704</td>\n",
       "      <td>-0.749408</td>\n",
       "      <td>0.000000</td>\n",
       "      <td>0.000000</td>\n",
       "    </tr>\n",
       "    <tr>\n",
       "      <th>25%</th>\n",
       "      <td>-0.320427</td>\n",
       "      <td>-0.060440</td>\n",
       "      <td>0.000000</td>\n",
       "      <td>0.000000</td>\n",
       "      <td>-0.333333</td>\n",
       "      <td>-0.326572</td>\n",
       "      <td>-0.203704</td>\n",
       "      <td>-0.334313</td>\n",
       "      <td>0.000000</td>\n",
       "      <td>0.000000</td>\n",
       "    </tr>\n",
       "    <tr>\n",
       "      <th>50%</th>\n",
       "      <td>0.000000</td>\n",
       "      <td>0.000000</td>\n",
       "      <td>0.000000</td>\n",
       "      <td>0.000000</td>\n",
       "      <td>0.000000</td>\n",
       "      <td>0.000000</td>\n",
       "      <td>0.000000</td>\n",
       "      <td>0.000000</td>\n",
       "      <td>0.000000</td>\n",
       "      <td>0.000000</td>\n",
       "    </tr>\n",
       "    <tr>\n",
       "      <th>75%</th>\n",
       "      <td>0.679573</td>\n",
       "      <td>0.939560</td>\n",
       "      <td>0.000000</td>\n",
       "      <td>0.000000</td>\n",
       "      <td>0.666667</td>\n",
       "      <td>0.673428</td>\n",
       "      <td>0.796296</td>\n",
       "      <td>0.665687</td>\n",
       "      <td>0.000000</td>\n",
       "      <td>0.000000</td>\n",
       "    </tr>\n",
       "    <tr>\n",
       "      <th>max</th>\n",
       "      <td>8.331108</td>\n",
       "      <td>37.288462</td>\n",
       "      <td>24.000000</td>\n",
       "      <td>2549.375000</td>\n",
       "      <td>22.933333</td>\n",
       "      <td>50.550938</td>\n",
       "      <td>10.796296</td>\n",
       "      <td>4.910970</td>\n",
       "      <td>361.763742</td>\n",
       "      <td>1.000000</td>\n",
       "    </tr>\n",
       "  </tbody>\n",
       "</table>\n",
       "</div>"
      ],
      "text/plain": [
       "           HomePage  HomePage_Duration   LandingPage  LandingPage_Duration  \\\n",
       "count  14731.000000       14731.000000  14731.000000          14731.000000   \n",
       "mean       0.398421           0.808247      0.489757             33.409555   \n",
       "std        1.050182           1.961916      1.248281            139.534841   \n",
       "min       -0.320427          -0.060440      0.000000              0.000000   \n",
       "25%       -0.320427          -0.060440      0.000000              0.000000   \n",
       "50%        0.000000           0.000000      0.000000              0.000000   \n",
       "75%        0.679573           0.939560      0.000000              0.000000   \n",
       "max        8.331108          37.288462     24.000000           2549.375000   \n",
       "\n",
       "       ProductDescriptionPage  ProductDescriptionPage_Duration  \\\n",
       "count            14731.000000                     14731.000000   \n",
       "mean                 0.483313                         0.475771   \n",
       "std                  1.491636                         1.595847   \n",
       "min                 -0.566667                        -0.467329   \n",
       "25%                 -0.333333                        -0.326572   \n",
       "50%                  0.000000                         0.000000   \n",
       "75%                  0.666667                         0.673428   \n",
       "max                 22.933333                        50.550938   \n",
       "\n",
       "       GoogleMetric:Bounce Rates  GoogleMetric:Exit Rates  \\\n",
       "count               14731.000000             14731.000000   \n",
       "mean                    1.092674                 0.516585   \n",
       "std                     2.759325                 1.411792   \n",
       "min                    -0.203704                -0.749408   \n",
       "25%                    -0.203704                -0.334313   \n",
       "50%                     0.000000                 0.000000   \n",
       "75%                     0.796296                 0.665687   \n",
       "max                    10.796296                 4.910970   \n",
       "\n",
       "       GoogleMetric:Page Values  SeasonalPurchase  \n",
       "count              14731.000000      14731.000000  \n",
       "mean                   4.812659          0.064059  \n",
       "std                   16.815108          0.201565  \n",
       "min                    0.000000          0.000000  \n",
       "25%                    0.000000          0.000000  \n",
       "50%                    0.000000          0.000000  \n",
       "75%                    0.000000          0.000000  \n",
       "max                  361.763742          1.000000  "
      ]
     },
     "execution_count": 756,
     "metadata": {},
     "output_type": "execute_result"
    }
   ],
   "source": [
    "X_scaled.describe()"
   ]
  },
  {
   "attachments": {},
   "cell_type": "markdown",
   "metadata": {},
   "source": [
    "### Outliers"
   ]
  },
  {
   "cell_type": "code",
   "execution_count": 757,
   "metadata": {},
   "outputs": [],
   "source": [
    "lof = LocalOutlierFactor(n_neighbors=20, contamination=0.1)\n",
    "y_pred = lof.fit_predict(X_scaled[numerical_features])\n",
    "y_p = lof.fit_predict(sub_scaled[numerical_features])\n",
    "\n",
    "X_noOutlier=X_scaled[y_pred != -1]\n",
    "y = y[y_pred != -1]\n",
    "sub_noOutlier=sub_scaled"
   ]
  },
  {
   "attachments": {},
   "cell_type": "markdown",
   "metadata": {},
   "source": [
    "### Encoding"
   ]
  },
  {
   "cell_type": "code",
   "execution_count": 758,
   "metadata": {},
   "outputs": [
    {
     "data": {
      "text/html": [
       "<div>\n",
       "<style scoped>\n",
       "    .dataframe tbody tr th:only-of-type {\n",
       "        vertical-align: middle;\n",
       "    }\n",
       "\n",
       "    .dataframe tbody tr th {\n",
       "        vertical-align: top;\n",
       "    }\n",
       "\n",
       "    .dataframe thead th {\n",
       "        text-align: right;\n",
       "    }\n",
       "</style>\n",
       "<table border=\"1\" class=\"dataframe\">\n",
       "  <thead>\n",
       "    <tr style=\"text-align: right;\">\n",
       "      <th></th>\n",
       "      <th>Month_SeasonalPurchase</th>\n",
       "      <th>CustomerType</th>\n",
       "      <th>Gender</th>\n",
       "      <th>Cookies Setting</th>\n",
       "      <th>Education</th>\n",
       "      <th>Marital Status</th>\n",
       "      <th>WeekendPurchase</th>\n",
       "      <th>Zone</th>\n",
       "      <th>Type of Traffic</th>\n",
       "      <th>SearchEngine</th>\n",
       "      <th>OS</th>\n",
       "    </tr>\n",
       "  </thead>\n",
       "  <tbody>\n",
       "    <tr>\n",
       "      <th>10261</th>\n",
       "      <td>Aug</td>\n",
       "      <td>Returning_Visitor</td>\n",
       "      <td>Male</td>\n",
       "      <td>Deny</td>\n",
       "      <td>Graduate</td>\n",
       "      <td>Single</td>\n",
       "      <td>0.0</td>\n",
       "      <td>9.0</td>\n",
       "      <td>6.0</td>\n",
       "      <td>2.0</td>\n",
       "      <td>2.0</td>\n",
       "    </tr>\n",
       "    <tr>\n",
       "      <th>8009</th>\n",
       "      <td>Dec</td>\n",
       "      <td>Returning_Visitor</td>\n",
       "      <td>Male</td>\n",
       "      <td>Deny</td>\n",
       "      <td>Others</td>\n",
       "      <td>Other</td>\n",
       "      <td>0.0</td>\n",
       "      <td>4.0</td>\n",
       "      <td>10.0</td>\n",
       "      <td>2.0</td>\n",
       "      <td>2.0</td>\n",
       "    </tr>\n",
       "    <tr>\n",
       "      <th>5033</th>\n",
       "      <td>Nov</td>\n",
       "      <td>Returning_Visitor</td>\n",
       "      <td>Female</td>\n",
       "      <td>Required</td>\n",
       "      <td>Graduate</td>\n",
       "      <td>Other</td>\n",
       "      <td>1.0</td>\n",
       "      <td>6.0</td>\n",
       "      <td>3.0</td>\n",
       "      <td>1.0</td>\n",
       "      <td>1.0</td>\n",
       "    </tr>\n",
       "    <tr>\n",
       "      <th>13263</th>\n",
       "      <td>Dec</td>\n",
       "      <td>New_Visitor</td>\n",
       "      <td>Female</td>\n",
       "      <td>Required</td>\n",
       "      <td>Others</td>\n",
       "      <td>Single</td>\n",
       "      <td>0.0</td>\n",
       "      <td>4.0</td>\n",
       "      <td>2.0</td>\n",
       "      <td>2.0</td>\n",
       "      <td>3.0</td>\n",
       "    </tr>\n",
       "    <tr>\n",
       "      <th>4865</th>\n",
       "      <td>Jul</td>\n",
       "      <td>Returning_Visitor</td>\n",
       "      <td>Female</td>\n",
       "      <td>Required</td>\n",
       "      <td>Graduate</td>\n",
       "      <td>Single</td>\n",
       "      <td>0.0</td>\n",
       "      <td>4.0</td>\n",
       "      <td>1.0</td>\n",
       "      <td>4.0</td>\n",
       "      <td>2.0</td>\n",
       "    </tr>\n",
       "    <tr>\n",
       "      <th>8622</th>\n",
       "      <td>Nov</td>\n",
       "      <td>Returning_Visitor</td>\n",
       "      <td>Male</td>\n",
       "      <td>Required</td>\n",
       "      <td>Graduate</td>\n",
       "      <td>Single</td>\n",
       "      <td>0.0</td>\n",
       "      <td>1.0</td>\n",
       "      <td>3.0</td>\n",
       "      <td>2.0</td>\n",
       "      <td>3.0</td>\n",
       "    </tr>\n",
       "    <tr>\n",
       "      <th>4440</th>\n",
       "      <td>Jul</td>\n",
       "      <td>Returning_Visitor</td>\n",
       "      <td>Male</td>\n",
       "      <td>ALL</td>\n",
       "      <td>Others</td>\n",
       "      <td>Other</td>\n",
       "      <td>0.0</td>\n",
       "      <td>1.0</td>\n",
       "      <td>3.0</td>\n",
       "      <td>2.0</td>\n",
       "      <td>2.0</td>\n",
       "    </tr>\n",
       "    <tr>\n",
       "      <th>12482</th>\n",
       "      <td>Mar</td>\n",
       "      <td>Returning_Visitor</td>\n",
       "      <td>Female</td>\n",
       "      <td>Required</td>\n",
       "      <td>Diploma</td>\n",
       "      <td>Single</td>\n",
       "      <td>0.0</td>\n",
       "      <td>3.0</td>\n",
       "      <td>8.0</td>\n",
       "      <td>2.0</td>\n",
       "      <td>2.0</td>\n",
       "    </tr>\n",
       "    <tr>\n",
       "      <th>3334</th>\n",
       "      <td>May</td>\n",
       "      <td>Returning_Visitor</td>\n",
       "      <td>Female</td>\n",
       "      <td>Required</td>\n",
       "      <td>Others</td>\n",
       "      <td>Married</td>\n",
       "      <td>0.0</td>\n",
       "      <td>1.0</td>\n",
       "      <td>2.0</td>\n",
       "      <td>5.0</td>\n",
       "      <td>2.0</td>\n",
       "    </tr>\n",
       "    <tr>\n",
       "      <th>3445</th>\n",
       "      <td>May</td>\n",
       "      <td>New_Visitor</td>\n",
       "      <td>Female</td>\n",
       "      <td>Required</td>\n",
       "      <td>Graduate</td>\n",
       "      <td>Single</td>\n",
       "      <td>0.0</td>\n",
       "      <td>2.0</td>\n",
       "      <td>11.0</td>\n",
       "      <td>2.0</td>\n",
       "      <td>3.0</td>\n",
       "    </tr>\n",
       "  </tbody>\n",
       "</table>\n",
       "</div>"
      ],
      "text/plain": [
       "      Month_SeasonalPurchase       CustomerType  Gender Cookies Setting  \\\n",
       "10261                    Aug  Returning_Visitor    Male            Deny   \n",
       "8009                     Dec  Returning_Visitor    Male            Deny   \n",
       "5033                     Nov  Returning_Visitor  Female        Required   \n",
       "13263                    Dec        New_Visitor  Female        Required   \n",
       "4865                     Jul  Returning_Visitor  Female        Required   \n",
       "8622                     Nov  Returning_Visitor    Male        Required   \n",
       "4440                     Jul  Returning_Visitor    Male             ALL   \n",
       "12482                    Mar  Returning_Visitor  Female        Required   \n",
       "3334                     May  Returning_Visitor  Female        Required   \n",
       "3445                     May        New_Visitor  Female        Required   \n",
       "\n",
       "      Education Marital Status WeekendPurchase Zone Type of Traffic  \\\n",
       "10261  Graduate         Single             0.0  9.0             6.0   \n",
       "8009     Others          Other             0.0  4.0            10.0   \n",
       "5033   Graduate          Other             1.0  6.0             3.0   \n",
       "13263    Others         Single             0.0  4.0             2.0   \n",
       "4865   Graduate         Single             0.0  4.0             1.0   \n",
       "8622   Graduate         Single             0.0  1.0             3.0   \n",
       "4440     Others          Other             0.0  1.0             3.0   \n",
       "12482   Diploma         Single             0.0  3.0             8.0   \n",
       "3334     Others        Married             0.0  1.0             2.0   \n",
       "3445   Graduate         Single             0.0  2.0            11.0   \n",
       "\n",
       "      SearchEngine   OS  \n",
       "10261          2.0  2.0  \n",
       "8009           2.0  2.0  \n",
       "5033           1.0  1.0  \n",
       "13263          2.0  3.0  \n",
       "4865           4.0  2.0  \n",
       "8622           2.0  3.0  \n",
       "4440           2.0  2.0  \n",
       "12482          2.0  2.0  \n",
       "3334           5.0  2.0  \n",
       "3445           2.0  3.0  "
      ]
     },
     "execution_count": 758,
     "metadata": {},
     "output_type": "execute_result"
    }
   ],
   "source": [
    "X_noOutlier[categorical_features].sample(10)"
   ]
  },
  {
   "attachments": {},
   "cell_type": "markdown",
   "metadata": {},
   "source": [
    "The features 'WekendPurchase', 'Zone', 'Type of Traffic', 'SearchEngine', 'OS' already seem to be encoded"
   ]
  },
  {
   "cell_type": "code",
   "execution_count": 759,
   "metadata": {},
   "outputs": [
    {
     "data": {
      "text/plain": [
       "['Month_SeasonalPurchase',\n",
       " 'CustomerType',\n",
       " 'Gender',\n",
       " 'Cookies Setting',\n",
       " 'Education',\n",
       " 'Marital Status',\n",
       " 'WeekendPurchase',\n",
       " 'Zone',\n",
       " 'Type of Traffic',\n",
       " 'SearchEngine',\n",
       " 'OS']"
      ]
     },
     "execution_count": 759,
     "metadata": {},
     "output_type": "execute_result"
    }
   ],
   "source": [
    "categorical_features"
   ]
  },
  {
   "cell_type": "code",
   "execution_count": 760,
   "metadata": {},
   "outputs": [],
   "source": [
    "encoder = ColumnTransformer(\n",
    "    transformers=[\n",
    "        ('OneHotEncoder', OneHotEncoder(), ['Month_SeasonalPurchase', 'CustomerType']),\n",
    "        ('no_order_encoder', OrdinalEncoder(), ['Gender', 'Marital Status', 'Cookies Setting']),\n",
    "        ('ordinal_encoder', OrdinalEncoder(categories=[['Others', 'Diploma', 'Graduate']]), ['Education']),\n",
    "        ('pass', 'passthrough', numerical_features + ['WeekendPurchase', 'Zone', 'Type of Traffic', 'SearchEngine', 'OS'])\n",
    "    ]\n",
    ")"
   ]
  },
  {
   "cell_type": "code",
   "execution_count": 761,
   "metadata": {},
   "outputs": [],
   "source": [
    "X_processed=encoder.fit_transform(X_noOutlier)\n",
    "sub_processed=encoder.fit_transform(sub_noOutlier)"
   ]
  },
  {
   "cell_type": "code",
   "execution_count": 762,
   "metadata": {},
   "outputs": [],
   "source": [
    "one_hot_feature_names = encoder.named_transformers_['OneHotEncoder'].get_feature_names_out(['Month_SeasonalPurchase', 'CustomerType']).tolist()\n",
    "no_order_feature_names = ['Gender', 'Marital Status', 'Cookies Setting']\n",
    "ordinal_feature_names = ['Education']\n",
    "passthrough_feature_names = numerical_features +['WeekendPurchase', 'Zone', 'Type of Traffic', 'SearchEngine', 'OS']\n",
    "final=one_hot_feature_names+no_order_feature_names+ordinal_feature_names+passthrough_feature_names"
   ]
  },
  {
   "cell_type": "code",
   "execution_count": 763,
   "metadata": {},
   "outputs": [],
   "source": [
    "X_processed=pd.DataFrame(data=X_processed,columns=final)\n",
    "sub_processed=pd.DataFrame(data=sub_processed,columns=final)"
   ]
  },
  {
   "attachments": {},
   "cell_type": "markdown",
   "metadata": {},
   "source": [
    "# Train and test data split"
   ]
  },
  {
   "cell_type": "code",
   "execution_count": 764,
   "metadata": {},
   "outputs": [],
   "source": [
    "X_train, X_test, y_train, y_test = train_test_split(X_processed, y.to_numpy().ravel(), test_size=0.2, random_state=42)\n"
   ]
  },
  {
   "cell_type": "code",
   "execution_count": 765,
   "metadata": {},
   "outputs": [],
   "source": [
    "cv = ShuffleSplit(n_splits=10, test_size=0.2, random_state=42)"
   ]
  },
  {
   "attachments": {},
   "cell_type": "markdown",
   "metadata": {},
   "source": [
    "### Submission function"
   ]
  },
  {
   "cell_type": "code",
   "execution_count": 766,
   "metadata": {},
   "outputs": [],
   "source": [
    "def submit(estimator):\n",
    "    sub = pd.DataFrame(estimator.predict(\n",
    "        sub_processed), columns=['Made_Purchase'])\n",
    "    sub.index.name = 'id'\n",
    "    sub.to_csv(\"submission.csv\", encoding='utf-8')"
   ]
  },
  {
   "attachments": {},
   "cell_type": "markdown",
   "metadata": {},
   "source": [
    "# Base Line model"
   ]
  },
  {
   "cell_type": "code",
   "execution_count": 767,
   "metadata": {},
   "outputs": [],
   "source": [
    "base_clf = LogisticRegressionCV(cv=5, random_state=42, max_iter=1000)"
   ]
  },
  {
   "cell_type": "code",
   "execution_count": 768,
   "metadata": {},
   "outputs": [
    {
     "data": {
      "text/html": [
       "<style>#sk-container-id-107 {color: black;background-color: white;}#sk-container-id-107 pre{padding: 0;}#sk-container-id-107 div.sk-toggleable {background-color: white;}#sk-container-id-107 label.sk-toggleable__label {cursor: pointer;display: block;width: 100%;margin-bottom: 0;padding: 0.3em;box-sizing: border-box;text-align: center;}#sk-container-id-107 label.sk-toggleable__label-arrow:before {content: \"▸\";float: left;margin-right: 0.25em;color: #696969;}#sk-container-id-107 label.sk-toggleable__label-arrow:hover:before {color: black;}#sk-container-id-107 div.sk-estimator:hover label.sk-toggleable__label-arrow:before {color: black;}#sk-container-id-107 div.sk-toggleable__content {max-height: 0;max-width: 0;overflow: hidden;text-align: left;background-color: #f0f8ff;}#sk-container-id-107 div.sk-toggleable__content pre {margin: 0.2em;color: black;border-radius: 0.25em;background-color: #f0f8ff;}#sk-container-id-107 input.sk-toggleable__control:checked~div.sk-toggleable__content {max-height: 200px;max-width: 100%;overflow: auto;}#sk-container-id-107 input.sk-toggleable__control:checked~label.sk-toggleable__label-arrow:before {content: \"▾\";}#sk-container-id-107 div.sk-estimator input.sk-toggleable__control:checked~label.sk-toggleable__label {background-color: #d4ebff;}#sk-container-id-107 div.sk-label input.sk-toggleable__control:checked~label.sk-toggleable__label {background-color: #d4ebff;}#sk-container-id-107 input.sk-hidden--visually {border: 0;clip: rect(1px 1px 1px 1px);clip: rect(1px, 1px, 1px, 1px);height: 1px;margin: -1px;overflow: hidden;padding: 0;position: absolute;width: 1px;}#sk-container-id-107 div.sk-estimator {font-family: monospace;background-color: #f0f8ff;border: 1px dotted black;border-radius: 0.25em;box-sizing: border-box;margin-bottom: 0.5em;}#sk-container-id-107 div.sk-estimator:hover {background-color: #d4ebff;}#sk-container-id-107 div.sk-parallel-item::after {content: \"\";width: 100%;border-bottom: 1px solid gray;flex-grow: 1;}#sk-container-id-107 div.sk-label:hover label.sk-toggleable__label {background-color: #d4ebff;}#sk-container-id-107 div.sk-serial::before {content: \"\";position: absolute;border-left: 1px solid gray;box-sizing: border-box;top: 0;bottom: 0;left: 50%;z-index: 0;}#sk-container-id-107 div.sk-serial {display: flex;flex-direction: column;align-items: center;background-color: white;padding-right: 0.2em;padding-left: 0.2em;position: relative;}#sk-container-id-107 div.sk-item {position: relative;z-index: 1;}#sk-container-id-107 div.sk-parallel {display: flex;align-items: stretch;justify-content: center;background-color: white;position: relative;}#sk-container-id-107 div.sk-item::before, #sk-container-id-107 div.sk-parallel-item::before {content: \"\";position: absolute;border-left: 1px solid gray;box-sizing: border-box;top: 0;bottom: 0;left: 50%;z-index: -1;}#sk-container-id-107 div.sk-parallel-item {display: flex;flex-direction: column;z-index: 1;position: relative;background-color: white;}#sk-container-id-107 div.sk-parallel-item:first-child::after {align-self: flex-end;width: 50%;}#sk-container-id-107 div.sk-parallel-item:last-child::after {align-self: flex-start;width: 50%;}#sk-container-id-107 div.sk-parallel-item:only-child::after {width: 0;}#sk-container-id-107 div.sk-dashed-wrapped {border: 1px dashed gray;margin: 0 0.4em 0.5em 0.4em;box-sizing: border-box;padding-bottom: 0.4em;background-color: white;}#sk-container-id-107 div.sk-label label {font-family: monospace;font-weight: bold;display: inline-block;line-height: 1.2em;}#sk-container-id-107 div.sk-label-container {text-align: center;}#sk-container-id-107 div.sk-container {/* jupyter's `normalize.less` sets `[hidden] { display: none; }` but bootstrap.min.css set `[hidden] { display: none !important; }` so we also need the `!important` here to be able to override the default hidden behavior on the sphinx rendered scikit-learn.org. See: https://github.com/scikit-learn/scikit-learn/issues/21755 */display: inline-block !important;position: relative;}#sk-container-id-107 div.sk-text-repr-fallback {display: none;}</style><div id=\"sk-container-id-107\" class=\"sk-top-container\"><div class=\"sk-text-repr-fallback\"><pre>LogisticRegressionCV(cv=5, max_iter=1000, random_state=42)</pre><b>In a Jupyter environment, please rerun this cell to show the HTML representation or trust the notebook. <br />On GitHub, the HTML representation is unable to render, please try loading this page with nbviewer.org.</b></div><div class=\"sk-container\" hidden><div class=\"sk-item\"><div class=\"sk-estimator sk-toggleable\"><input class=\"sk-toggleable__control sk-hidden--visually\" id=\"sk-estimator-id-206\" type=\"checkbox\" checked><label for=\"sk-estimator-id-206\" class=\"sk-toggleable__label sk-toggleable__label-arrow\">LogisticRegressionCV</label><div class=\"sk-toggleable__content\"><pre>LogisticRegressionCV(cv=5, max_iter=1000, random_state=42)</pre></div></div></div></div></div>"
      ],
      "text/plain": [
       "LogisticRegressionCV(cv=5, max_iter=1000, random_state=42)"
      ]
     },
     "execution_count": 768,
     "metadata": {},
     "output_type": "execute_result"
    }
   ],
   "source": [
    "base_clf.fit(X_train,y_train)"
   ]
  },
  {
   "cell_type": "code",
   "execution_count": 769,
   "metadata": {},
   "outputs": [],
   "source": [
    "y_ans = base_clf.predict(X_test)"
   ]
  },
  {
   "cell_type": "code",
   "execution_count": 770,
   "metadata": {},
   "outputs": [
    {
     "name": "stdout",
     "output_type": "stream",
     "text": [
      "              precision    recall  f1-score   support\n",
      "\n",
      "       False       0.95      0.67      0.79      2378\n",
      "        True       0.20      0.72      0.31       274\n",
      "\n",
      "    accuracy                           0.67      2652\n",
      "   macro avg       0.58      0.69      0.55      2652\n",
      "weighted avg       0.88      0.67      0.74      2652\n",
      "\n"
     ]
    }
   ],
   "source": [
    "print(classification_report(y_ans,y_test))"
   ]
  },
  {
   "cell_type": "code",
   "execution_count": 771,
   "metadata": {},
   "outputs": [],
   "source": [
    "# submit(base_clf)"
   ]
  },
  {
   "attachments": {},
   "cell_type": "markdown",
   "metadata": {},
   "source": [
    "# KNN Classifier"
   ]
  },
  {
   "cell_type": "code",
   "execution_count": 772,
   "metadata": {},
   "outputs": [],
   "source": [
    "knn_clf=KNeighborsClassifier(n_neighbors=100,n_jobs=10)"
   ]
  },
  {
   "cell_type": "code",
   "execution_count": 773,
   "metadata": {},
   "outputs": [
    {
     "data": {
      "text/html": [
       "<style>#sk-container-id-108 {color: black;background-color: white;}#sk-container-id-108 pre{padding: 0;}#sk-container-id-108 div.sk-toggleable {background-color: white;}#sk-container-id-108 label.sk-toggleable__label {cursor: pointer;display: block;width: 100%;margin-bottom: 0;padding: 0.3em;box-sizing: border-box;text-align: center;}#sk-container-id-108 label.sk-toggleable__label-arrow:before {content: \"▸\";float: left;margin-right: 0.25em;color: #696969;}#sk-container-id-108 label.sk-toggleable__label-arrow:hover:before {color: black;}#sk-container-id-108 div.sk-estimator:hover label.sk-toggleable__label-arrow:before {color: black;}#sk-container-id-108 div.sk-toggleable__content {max-height: 0;max-width: 0;overflow: hidden;text-align: left;background-color: #f0f8ff;}#sk-container-id-108 div.sk-toggleable__content pre {margin: 0.2em;color: black;border-radius: 0.25em;background-color: #f0f8ff;}#sk-container-id-108 input.sk-toggleable__control:checked~div.sk-toggleable__content {max-height: 200px;max-width: 100%;overflow: auto;}#sk-container-id-108 input.sk-toggleable__control:checked~label.sk-toggleable__label-arrow:before {content: \"▾\";}#sk-container-id-108 div.sk-estimator input.sk-toggleable__control:checked~label.sk-toggleable__label {background-color: #d4ebff;}#sk-container-id-108 div.sk-label input.sk-toggleable__control:checked~label.sk-toggleable__label {background-color: #d4ebff;}#sk-container-id-108 input.sk-hidden--visually {border: 0;clip: rect(1px 1px 1px 1px);clip: rect(1px, 1px, 1px, 1px);height: 1px;margin: -1px;overflow: hidden;padding: 0;position: absolute;width: 1px;}#sk-container-id-108 div.sk-estimator {font-family: monospace;background-color: #f0f8ff;border: 1px dotted black;border-radius: 0.25em;box-sizing: border-box;margin-bottom: 0.5em;}#sk-container-id-108 div.sk-estimator:hover {background-color: #d4ebff;}#sk-container-id-108 div.sk-parallel-item::after {content: \"\";width: 100%;border-bottom: 1px solid gray;flex-grow: 1;}#sk-container-id-108 div.sk-label:hover label.sk-toggleable__label {background-color: #d4ebff;}#sk-container-id-108 div.sk-serial::before {content: \"\";position: absolute;border-left: 1px solid gray;box-sizing: border-box;top: 0;bottom: 0;left: 50%;z-index: 0;}#sk-container-id-108 div.sk-serial {display: flex;flex-direction: column;align-items: center;background-color: white;padding-right: 0.2em;padding-left: 0.2em;position: relative;}#sk-container-id-108 div.sk-item {position: relative;z-index: 1;}#sk-container-id-108 div.sk-parallel {display: flex;align-items: stretch;justify-content: center;background-color: white;position: relative;}#sk-container-id-108 div.sk-item::before, #sk-container-id-108 div.sk-parallel-item::before {content: \"\";position: absolute;border-left: 1px solid gray;box-sizing: border-box;top: 0;bottom: 0;left: 50%;z-index: -1;}#sk-container-id-108 div.sk-parallel-item {display: flex;flex-direction: column;z-index: 1;position: relative;background-color: white;}#sk-container-id-108 div.sk-parallel-item:first-child::after {align-self: flex-end;width: 50%;}#sk-container-id-108 div.sk-parallel-item:last-child::after {align-self: flex-start;width: 50%;}#sk-container-id-108 div.sk-parallel-item:only-child::after {width: 0;}#sk-container-id-108 div.sk-dashed-wrapped {border: 1px dashed gray;margin: 0 0.4em 0.5em 0.4em;box-sizing: border-box;padding-bottom: 0.4em;background-color: white;}#sk-container-id-108 div.sk-label label {font-family: monospace;font-weight: bold;display: inline-block;line-height: 1.2em;}#sk-container-id-108 div.sk-label-container {text-align: center;}#sk-container-id-108 div.sk-container {/* jupyter's `normalize.less` sets `[hidden] { display: none; }` but bootstrap.min.css set `[hidden] { display: none !important; }` so we also need the `!important` here to be able to override the default hidden behavior on the sphinx rendered scikit-learn.org. See: https://github.com/scikit-learn/scikit-learn/issues/21755 */display: inline-block !important;position: relative;}#sk-container-id-108 div.sk-text-repr-fallback {display: none;}</style><div id=\"sk-container-id-108\" class=\"sk-top-container\"><div class=\"sk-text-repr-fallback\"><pre>KNeighborsClassifier(n_jobs=10, n_neighbors=100)</pre><b>In a Jupyter environment, please rerun this cell to show the HTML representation or trust the notebook. <br />On GitHub, the HTML representation is unable to render, please try loading this page with nbviewer.org.</b></div><div class=\"sk-container\" hidden><div class=\"sk-item\"><div class=\"sk-estimator sk-toggleable\"><input class=\"sk-toggleable__control sk-hidden--visually\" id=\"sk-estimator-id-207\" type=\"checkbox\" checked><label for=\"sk-estimator-id-207\" class=\"sk-toggleable__label sk-toggleable__label-arrow\">KNeighborsClassifier</label><div class=\"sk-toggleable__content\"><pre>KNeighborsClassifier(n_jobs=10, n_neighbors=100)</pre></div></div></div></div></div>"
      ],
      "text/plain": [
       "KNeighborsClassifier(n_jobs=10, n_neighbors=100)"
      ]
     },
     "execution_count": 773,
     "metadata": {},
     "output_type": "execute_result"
    }
   ],
   "source": [
    "knn_clf.fit(X_train,y_train)"
   ]
  },
  {
   "cell_type": "code",
   "execution_count": 774,
   "metadata": {},
   "outputs": [],
   "source": [
    "y_pred_knn = knn_clf.predict(X_test)"
   ]
  },
  {
   "cell_type": "code",
   "execution_count": 775,
   "metadata": {},
   "outputs": [
    {
     "name": "stdout",
     "output_type": "stream",
     "text": [
      "              precision    recall  f1-score   support\n",
      "\n",
      "       False       0.95      0.67      0.79      2341\n",
      "        True       0.23      0.73      0.35       311\n",
      "\n",
      "    accuracy                           0.68      2652\n",
      "   macro avg       0.59      0.70      0.57      2652\n",
      "weighted avg       0.86      0.68      0.74      2652\n",
      "\n"
     ]
    }
   ],
   "source": [
    "print(classification_report(y_pred_knn,y_test))"
   ]
  },
  {
   "cell_type": "code",
   "execution_count": 776,
   "metadata": {},
   "outputs": [],
   "source": [
    "sub = pd.DataFrame(knn_clf.predict(\n",
    "    sub_processed), columns=['Made_Purchase'])\n",
    "sub.index.name = 'id'\n",
    "sub.to_csv(\"submission.csv\", encoding='utf-8')"
   ]
  },
  {
   "attachments": {},
   "cell_type": "markdown",
   "metadata": {},
   "source": [
    "### Hyperparameter tuning"
   ]
  },
  {
   "cell_type": "code",
   "execution_count": 777,
   "metadata": {},
   "outputs": [],
   "source": [
    "# param_grid = {\n",
    "#     'n_neighbors': [3, 5, 7, 9, 11],\n",
    "#     'weights': ['uniform', 'distance'],\n",
    "#     'metric': ['euclidean', 'manhattan']\n",
    "# }\n",
    "param_grid = {\n",
    "    'n_neighbors': [11],\n",
    "    'weights': ['uniform'],\n",
    "    'metric': ['euclidean']\n",
    "}\n",
    "grid_knn_clf=GridSearchCV(knn_clf,param_grid=param_grid,cv=cv)"
   ]
  },
  {
   "cell_type": "code",
   "execution_count": 778,
   "metadata": {},
   "outputs": [
    {
     "data": {
      "text/html": [
       "<style>#sk-container-id-109 {color: black;background-color: white;}#sk-container-id-109 pre{padding: 0;}#sk-container-id-109 div.sk-toggleable {background-color: white;}#sk-container-id-109 label.sk-toggleable__label {cursor: pointer;display: block;width: 100%;margin-bottom: 0;padding: 0.3em;box-sizing: border-box;text-align: center;}#sk-container-id-109 label.sk-toggleable__label-arrow:before {content: \"▸\";float: left;margin-right: 0.25em;color: #696969;}#sk-container-id-109 label.sk-toggleable__label-arrow:hover:before {color: black;}#sk-container-id-109 div.sk-estimator:hover label.sk-toggleable__label-arrow:before {color: black;}#sk-container-id-109 div.sk-toggleable__content {max-height: 0;max-width: 0;overflow: hidden;text-align: left;background-color: #f0f8ff;}#sk-container-id-109 div.sk-toggleable__content pre {margin: 0.2em;color: black;border-radius: 0.25em;background-color: #f0f8ff;}#sk-container-id-109 input.sk-toggleable__control:checked~div.sk-toggleable__content {max-height: 200px;max-width: 100%;overflow: auto;}#sk-container-id-109 input.sk-toggleable__control:checked~label.sk-toggleable__label-arrow:before {content: \"▾\";}#sk-container-id-109 div.sk-estimator input.sk-toggleable__control:checked~label.sk-toggleable__label {background-color: #d4ebff;}#sk-container-id-109 div.sk-label input.sk-toggleable__control:checked~label.sk-toggleable__label {background-color: #d4ebff;}#sk-container-id-109 input.sk-hidden--visually {border: 0;clip: rect(1px 1px 1px 1px);clip: rect(1px, 1px, 1px, 1px);height: 1px;margin: -1px;overflow: hidden;padding: 0;position: absolute;width: 1px;}#sk-container-id-109 div.sk-estimator {font-family: monospace;background-color: #f0f8ff;border: 1px dotted black;border-radius: 0.25em;box-sizing: border-box;margin-bottom: 0.5em;}#sk-container-id-109 div.sk-estimator:hover {background-color: #d4ebff;}#sk-container-id-109 div.sk-parallel-item::after {content: \"\";width: 100%;border-bottom: 1px solid gray;flex-grow: 1;}#sk-container-id-109 div.sk-label:hover label.sk-toggleable__label {background-color: #d4ebff;}#sk-container-id-109 div.sk-serial::before {content: \"\";position: absolute;border-left: 1px solid gray;box-sizing: border-box;top: 0;bottom: 0;left: 50%;z-index: 0;}#sk-container-id-109 div.sk-serial {display: flex;flex-direction: column;align-items: center;background-color: white;padding-right: 0.2em;padding-left: 0.2em;position: relative;}#sk-container-id-109 div.sk-item {position: relative;z-index: 1;}#sk-container-id-109 div.sk-parallel {display: flex;align-items: stretch;justify-content: center;background-color: white;position: relative;}#sk-container-id-109 div.sk-item::before, #sk-container-id-109 div.sk-parallel-item::before {content: \"\";position: absolute;border-left: 1px solid gray;box-sizing: border-box;top: 0;bottom: 0;left: 50%;z-index: -1;}#sk-container-id-109 div.sk-parallel-item {display: flex;flex-direction: column;z-index: 1;position: relative;background-color: white;}#sk-container-id-109 div.sk-parallel-item:first-child::after {align-self: flex-end;width: 50%;}#sk-container-id-109 div.sk-parallel-item:last-child::after {align-self: flex-start;width: 50%;}#sk-container-id-109 div.sk-parallel-item:only-child::after {width: 0;}#sk-container-id-109 div.sk-dashed-wrapped {border: 1px dashed gray;margin: 0 0.4em 0.5em 0.4em;box-sizing: border-box;padding-bottom: 0.4em;background-color: white;}#sk-container-id-109 div.sk-label label {font-family: monospace;font-weight: bold;display: inline-block;line-height: 1.2em;}#sk-container-id-109 div.sk-label-container {text-align: center;}#sk-container-id-109 div.sk-container {/* jupyter's `normalize.less` sets `[hidden] { display: none; }` but bootstrap.min.css set `[hidden] { display: none !important; }` so we also need the `!important` here to be able to override the default hidden behavior on the sphinx rendered scikit-learn.org. See: https://github.com/scikit-learn/scikit-learn/issues/21755 */display: inline-block !important;position: relative;}#sk-container-id-109 div.sk-text-repr-fallback {display: none;}</style><div id=\"sk-container-id-109\" class=\"sk-top-container\"><div class=\"sk-text-repr-fallback\"><pre>GridSearchCV(cv=ShuffleSplit(n_splits=10, random_state=42, test_size=0.2, train_size=None),\n",
       "             estimator=KNeighborsClassifier(n_jobs=10, n_neighbors=100),\n",
       "             param_grid={&#x27;metric&#x27;: [&#x27;euclidean&#x27;], &#x27;n_neighbors&#x27;: [11],\n",
       "                         &#x27;weights&#x27;: [&#x27;uniform&#x27;]})</pre><b>In a Jupyter environment, please rerun this cell to show the HTML representation or trust the notebook. <br />On GitHub, the HTML representation is unable to render, please try loading this page with nbviewer.org.</b></div><div class=\"sk-container\" hidden><div class=\"sk-item sk-dashed-wrapped\"><div class=\"sk-label-container\"><div class=\"sk-label sk-toggleable\"><input class=\"sk-toggleable__control sk-hidden--visually\" id=\"sk-estimator-id-208\" type=\"checkbox\" ><label for=\"sk-estimator-id-208\" class=\"sk-toggleable__label sk-toggleable__label-arrow\">GridSearchCV</label><div class=\"sk-toggleable__content\"><pre>GridSearchCV(cv=ShuffleSplit(n_splits=10, random_state=42, test_size=0.2, train_size=None),\n",
       "             estimator=KNeighborsClassifier(n_jobs=10, n_neighbors=100),\n",
       "             param_grid={&#x27;metric&#x27;: [&#x27;euclidean&#x27;], &#x27;n_neighbors&#x27;: [11],\n",
       "                         &#x27;weights&#x27;: [&#x27;uniform&#x27;]})</pre></div></div></div><div class=\"sk-parallel\"><div class=\"sk-parallel-item\"><div class=\"sk-item\"><div class=\"sk-label-container\"><div class=\"sk-label sk-toggleable\"><input class=\"sk-toggleable__control sk-hidden--visually\" id=\"sk-estimator-id-209\" type=\"checkbox\" ><label for=\"sk-estimator-id-209\" class=\"sk-toggleable__label sk-toggleable__label-arrow\">estimator: KNeighborsClassifier</label><div class=\"sk-toggleable__content\"><pre>KNeighborsClassifier(n_jobs=10, n_neighbors=100)</pre></div></div></div><div class=\"sk-serial\"><div class=\"sk-item\"><div class=\"sk-estimator sk-toggleable\"><input class=\"sk-toggleable__control sk-hidden--visually\" id=\"sk-estimator-id-210\" type=\"checkbox\" ><label for=\"sk-estimator-id-210\" class=\"sk-toggleable__label sk-toggleable__label-arrow\">KNeighborsClassifier</label><div class=\"sk-toggleable__content\"><pre>KNeighborsClassifier(n_jobs=10, n_neighbors=100)</pre></div></div></div></div></div></div></div></div></div></div>"
      ],
      "text/plain": [
       "GridSearchCV(cv=ShuffleSplit(n_splits=10, random_state=42, test_size=0.2, train_size=None),\n",
       "             estimator=KNeighborsClassifier(n_jobs=10, n_neighbors=100),\n",
       "             param_grid={'metric': ['euclidean'], 'n_neighbors': [11],\n",
       "                         'weights': ['uniform']})"
      ]
     },
     "execution_count": 778,
     "metadata": {},
     "output_type": "execute_result"
    }
   ],
   "source": [
    "grid_knn_clf.fit(X_train,y_train)"
   ]
  },
  {
   "cell_type": "code",
   "execution_count": 779,
   "metadata": {},
   "outputs": [
    {
     "name": "stdout",
     "output_type": "stream",
     "text": [
      "Best parameters:  {'metric': 'euclidean', 'n_neighbors': 11, 'weights': 'uniform'}\n",
      "Best score:  0.6217247879359096\n"
     ]
    }
   ],
   "source": [
    "print(\"Best parameters: \", grid_knn_clf.best_params_)\n",
    "print(\"Best score: \", grid_knn_clf.best_score_)"
   ]
  },
  {
   "cell_type": "code",
   "execution_count": 780,
   "metadata": {},
   "outputs": [
    {
     "data": {
      "text/html": [
       "<style>#sk-container-id-110 {color: black;background-color: white;}#sk-container-id-110 pre{padding: 0;}#sk-container-id-110 div.sk-toggleable {background-color: white;}#sk-container-id-110 label.sk-toggleable__label {cursor: pointer;display: block;width: 100%;margin-bottom: 0;padding: 0.3em;box-sizing: border-box;text-align: center;}#sk-container-id-110 label.sk-toggleable__label-arrow:before {content: \"▸\";float: left;margin-right: 0.25em;color: #696969;}#sk-container-id-110 label.sk-toggleable__label-arrow:hover:before {color: black;}#sk-container-id-110 div.sk-estimator:hover label.sk-toggleable__label-arrow:before {color: black;}#sk-container-id-110 div.sk-toggleable__content {max-height: 0;max-width: 0;overflow: hidden;text-align: left;background-color: #f0f8ff;}#sk-container-id-110 div.sk-toggleable__content pre {margin: 0.2em;color: black;border-radius: 0.25em;background-color: #f0f8ff;}#sk-container-id-110 input.sk-toggleable__control:checked~div.sk-toggleable__content {max-height: 200px;max-width: 100%;overflow: auto;}#sk-container-id-110 input.sk-toggleable__control:checked~label.sk-toggleable__label-arrow:before {content: \"▾\";}#sk-container-id-110 div.sk-estimator input.sk-toggleable__control:checked~label.sk-toggleable__label {background-color: #d4ebff;}#sk-container-id-110 div.sk-label input.sk-toggleable__control:checked~label.sk-toggleable__label {background-color: #d4ebff;}#sk-container-id-110 input.sk-hidden--visually {border: 0;clip: rect(1px 1px 1px 1px);clip: rect(1px, 1px, 1px, 1px);height: 1px;margin: -1px;overflow: hidden;padding: 0;position: absolute;width: 1px;}#sk-container-id-110 div.sk-estimator {font-family: monospace;background-color: #f0f8ff;border: 1px dotted black;border-radius: 0.25em;box-sizing: border-box;margin-bottom: 0.5em;}#sk-container-id-110 div.sk-estimator:hover {background-color: #d4ebff;}#sk-container-id-110 div.sk-parallel-item::after {content: \"\";width: 100%;border-bottom: 1px solid gray;flex-grow: 1;}#sk-container-id-110 div.sk-label:hover label.sk-toggleable__label {background-color: #d4ebff;}#sk-container-id-110 div.sk-serial::before {content: \"\";position: absolute;border-left: 1px solid gray;box-sizing: border-box;top: 0;bottom: 0;left: 50%;z-index: 0;}#sk-container-id-110 div.sk-serial {display: flex;flex-direction: column;align-items: center;background-color: white;padding-right: 0.2em;padding-left: 0.2em;position: relative;}#sk-container-id-110 div.sk-item {position: relative;z-index: 1;}#sk-container-id-110 div.sk-parallel {display: flex;align-items: stretch;justify-content: center;background-color: white;position: relative;}#sk-container-id-110 div.sk-item::before, #sk-container-id-110 div.sk-parallel-item::before {content: \"\";position: absolute;border-left: 1px solid gray;box-sizing: border-box;top: 0;bottom: 0;left: 50%;z-index: -1;}#sk-container-id-110 div.sk-parallel-item {display: flex;flex-direction: column;z-index: 1;position: relative;background-color: white;}#sk-container-id-110 div.sk-parallel-item:first-child::after {align-self: flex-end;width: 50%;}#sk-container-id-110 div.sk-parallel-item:last-child::after {align-self: flex-start;width: 50%;}#sk-container-id-110 div.sk-parallel-item:only-child::after {width: 0;}#sk-container-id-110 div.sk-dashed-wrapped {border: 1px dashed gray;margin: 0 0.4em 0.5em 0.4em;box-sizing: border-box;padding-bottom: 0.4em;background-color: white;}#sk-container-id-110 div.sk-label label {font-family: monospace;font-weight: bold;display: inline-block;line-height: 1.2em;}#sk-container-id-110 div.sk-label-container {text-align: center;}#sk-container-id-110 div.sk-container {/* jupyter's `normalize.less` sets `[hidden] { display: none; }` but bootstrap.min.css set `[hidden] { display: none !important; }` so we also need the `!important` here to be able to override the default hidden behavior on the sphinx rendered scikit-learn.org. See: https://github.com/scikit-learn/scikit-learn/issues/21755 */display: inline-block !important;position: relative;}#sk-container-id-110 div.sk-text-repr-fallback {display: none;}</style><div id=\"sk-container-id-110\" class=\"sk-top-container\"><div class=\"sk-text-repr-fallback\"><pre>KNeighborsClassifier(metric=&#x27;euclidean&#x27;, n_jobs=10, n_neighbors=11)</pre><b>In a Jupyter environment, please rerun this cell to show the HTML representation or trust the notebook. <br />On GitHub, the HTML representation is unable to render, please try loading this page with nbviewer.org.</b></div><div class=\"sk-container\" hidden><div class=\"sk-item\"><div class=\"sk-estimator sk-toggleable\"><input class=\"sk-toggleable__control sk-hidden--visually\" id=\"sk-estimator-id-211\" type=\"checkbox\" checked><label for=\"sk-estimator-id-211\" class=\"sk-toggleable__label sk-toggleable__label-arrow\">KNeighborsClassifier</label><div class=\"sk-toggleable__content\"><pre>KNeighborsClassifier(metric=&#x27;euclidean&#x27;, n_jobs=10, n_neighbors=11)</pre></div></div></div></div></div>"
      ],
      "text/plain": [
       "KNeighborsClassifier(metric='euclidean', n_jobs=10, n_neighbors=11)"
      ]
     },
     "execution_count": 780,
     "metadata": {},
     "output_type": "execute_result"
    }
   ],
   "source": [
    "tuned_knn_clf=grid_knn_clf.best_estimator_\n",
    "tuned_knn_clf"
   ]
  },
  {
   "cell_type": "code",
   "execution_count": 781,
   "metadata": {},
   "outputs": [],
   "source": [
    "y_pred_tuned_knn=tuned_knn_clf.predict(X_test)"
   ]
  },
  {
   "cell_type": "code",
   "execution_count": 782,
   "metadata": {},
   "outputs": [
    {
     "name": "stdout",
     "output_type": "stream",
     "text": [
      "              precision    recall  f1-score   support\n",
      "\n",
      "       False       0.85      0.66      0.74      2132\n",
      "        True       0.27      0.52      0.36       520\n",
      "\n",
      "    accuracy                           0.63      2652\n",
      "   macro avg       0.56      0.59      0.55      2652\n",
      "weighted avg       0.74      0.63      0.67      2652\n",
      "\n"
     ]
    }
   ],
   "source": [
    "print(classification_report(y_pred_tuned_knn,y_test))"
   ]
  },
  {
   "cell_type": "code",
   "execution_count": 783,
   "metadata": {},
   "outputs": [],
   "source": [
    "# submit(tuned_knn_clf)"
   ]
  },
  {
   "attachments": {},
   "cell_type": "markdown",
   "metadata": {},
   "source": [
    "# SVM Classifier"
   ]
  },
  {
   "attachments": {},
   "cell_type": "markdown",
   "metadata": {},
   "source": [
    "### Create classifier"
   ]
  },
  {
   "cell_type": "code",
   "execution_count": 784,
   "metadata": {},
   "outputs": [],
   "source": [
    "svc_classifier=SVC()"
   ]
  },
  {
   "attachments": {},
   "cell_type": "markdown",
   "metadata": {},
   "source": [
    "### Train and predict"
   ]
  },
  {
   "cell_type": "code",
   "execution_count": 785,
   "metadata": {},
   "outputs": [
    {
     "data": {
      "text/html": [
       "<style>#sk-container-id-111 {color: black;background-color: white;}#sk-container-id-111 pre{padding: 0;}#sk-container-id-111 div.sk-toggleable {background-color: white;}#sk-container-id-111 label.sk-toggleable__label {cursor: pointer;display: block;width: 100%;margin-bottom: 0;padding: 0.3em;box-sizing: border-box;text-align: center;}#sk-container-id-111 label.sk-toggleable__label-arrow:before {content: \"▸\";float: left;margin-right: 0.25em;color: #696969;}#sk-container-id-111 label.sk-toggleable__label-arrow:hover:before {color: black;}#sk-container-id-111 div.sk-estimator:hover label.sk-toggleable__label-arrow:before {color: black;}#sk-container-id-111 div.sk-toggleable__content {max-height: 0;max-width: 0;overflow: hidden;text-align: left;background-color: #f0f8ff;}#sk-container-id-111 div.sk-toggleable__content pre {margin: 0.2em;color: black;border-radius: 0.25em;background-color: #f0f8ff;}#sk-container-id-111 input.sk-toggleable__control:checked~div.sk-toggleable__content {max-height: 200px;max-width: 100%;overflow: auto;}#sk-container-id-111 input.sk-toggleable__control:checked~label.sk-toggleable__label-arrow:before {content: \"▾\";}#sk-container-id-111 div.sk-estimator input.sk-toggleable__control:checked~label.sk-toggleable__label {background-color: #d4ebff;}#sk-container-id-111 div.sk-label input.sk-toggleable__control:checked~label.sk-toggleable__label {background-color: #d4ebff;}#sk-container-id-111 input.sk-hidden--visually {border: 0;clip: rect(1px 1px 1px 1px);clip: rect(1px, 1px, 1px, 1px);height: 1px;margin: -1px;overflow: hidden;padding: 0;position: absolute;width: 1px;}#sk-container-id-111 div.sk-estimator {font-family: monospace;background-color: #f0f8ff;border: 1px dotted black;border-radius: 0.25em;box-sizing: border-box;margin-bottom: 0.5em;}#sk-container-id-111 div.sk-estimator:hover {background-color: #d4ebff;}#sk-container-id-111 div.sk-parallel-item::after {content: \"\";width: 100%;border-bottom: 1px solid gray;flex-grow: 1;}#sk-container-id-111 div.sk-label:hover label.sk-toggleable__label {background-color: #d4ebff;}#sk-container-id-111 div.sk-serial::before {content: \"\";position: absolute;border-left: 1px solid gray;box-sizing: border-box;top: 0;bottom: 0;left: 50%;z-index: 0;}#sk-container-id-111 div.sk-serial {display: flex;flex-direction: column;align-items: center;background-color: white;padding-right: 0.2em;padding-left: 0.2em;position: relative;}#sk-container-id-111 div.sk-item {position: relative;z-index: 1;}#sk-container-id-111 div.sk-parallel {display: flex;align-items: stretch;justify-content: center;background-color: white;position: relative;}#sk-container-id-111 div.sk-item::before, #sk-container-id-111 div.sk-parallel-item::before {content: \"\";position: absolute;border-left: 1px solid gray;box-sizing: border-box;top: 0;bottom: 0;left: 50%;z-index: -1;}#sk-container-id-111 div.sk-parallel-item {display: flex;flex-direction: column;z-index: 1;position: relative;background-color: white;}#sk-container-id-111 div.sk-parallel-item:first-child::after {align-self: flex-end;width: 50%;}#sk-container-id-111 div.sk-parallel-item:last-child::after {align-self: flex-start;width: 50%;}#sk-container-id-111 div.sk-parallel-item:only-child::after {width: 0;}#sk-container-id-111 div.sk-dashed-wrapped {border: 1px dashed gray;margin: 0 0.4em 0.5em 0.4em;box-sizing: border-box;padding-bottom: 0.4em;background-color: white;}#sk-container-id-111 div.sk-label label {font-family: monospace;font-weight: bold;display: inline-block;line-height: 1.2em;}#sk-container-id-111 div.sk-label-container {text-align: center;}#sk-container-id-111 div.sk-container {/* jupyter's `normalize.less` sets `[hidden] { display: none; }` but bootstrap.min.css set `[hidden] { display: none !important; }` so we also need the `!important` here to be able to override the default hidden behavior on the sphinx rendered scikit-learn.org. See: https://github.com/scikit-learn/scikit-learn/issues/21755 */display: inline-block !important;position: relative;}#sk-container-id-111 div.sk-text-repr-fallback {display: none;}</style><div id=\"sk-container-id-111\" class=\"sk-top-container\"><div class=\"sk-text-repr-fallback\"><pre>SVC()</pre><b>In a Jupyter environment, please rerun this cell to show the HTML representation or trust the notebook. <br />On GitHub, the HTML representation is unable to render, please try loading this page with nbviewer.org.</b></div><div class=\"sk-container\" hidden><div class=\"sk-item\"><div class=\"sk-estimator sk-toggleable\"><input class=\"sk-toggleable__control sk-hidden--visually\" id=\"sk-estimator-id-212\" type=\"checkbox\" checked><label for=\"sk-estimator-id-212\" class=\"sk-toggleable__label sk-toggleable__label-arrow\">SVC</label><div class=\"sk-toggleable__content\"><pre>SVC()</pre></div></div></div></div></div>"
      ],
      "text/plain": [
       "SVC()"
      ]
     },
     "execution_count": 785,
     "metadata": {},
     "output_type": "execute_result"
    }
   ],
   "source": [
    "svc_classifier.fit(X_train,y_train)"
   ]
  },
  {
   "cell_type": "code",
   "execution_count": 786,
   "metadata": {},
   "outputs": [],
   "source": [
    "y_pred_svc=svc_classifier.predict(X_test)"
   ]
  },
  {
   "attachments": {},
   "cell_type": "markdown",
   "metadata": {},
   "source": [
    "### Scores"
   ]
  },
  {
   "cell_type": "code",
   "execution_count": 787,
   "metadata": {},
   "outputs": [
    {
     "name": "stdout",
     "output_type": "stream",
     "text": [
      "              precision    recall  f1-score   support\n",
      "\n",
      "       False       0.96      0.66      0.79      2414\n",
      "        True       0.18      0.74      0.29       238\n",
      "\n",
      "    accuracy                           0.67      2652\n",
      "   macro avg       0.57      0.70      0.54      2652\n",
      "weighted avg       0.89      0.67      0.74      2652\n",
      "\n"
     ]
    }
   ],
   "source": [
    "print(classification_report(y_pred_svc,y_test))"
   ]
  },
  {
   "attachments": {},
   "cell_type": "markdown",
   "metadata": {},
   "source": [
    "### Hyperparameter tuning"
   ]
  },
  {
   "cell_type": "code",
   "execution_count": 788,
   "metadata": {},
   "outputs": [],
   "source": [
    "param_grid = {'C': [10]}\n",
    "# param_grid = {'C': [0.01, 0.1, 1, 10]}\n",
    "grid_svm_clf=GridSearchCV(svc_classifier,param_grid=param_grid,cv=cv)"
   ]
  },
  {
   "cell_type": "code",
   "execution_count": 789,
   "metadata": {},
   "outputs": [
    {
     "data": {
      "text/html": [
       "<style>#sk-container-id-112 {color: black;background-color: white;}#sk-container-id-112 pre{padding: 0;}#sk-container-id-112 div.sk-toggleable {background-color: white;}#sk-container-id-112 label.sk-toggleable__label {cursor: pointer;display: block;width: 100%;margin-bottom: 0;padding: 0.3em;box-sizing: border-box;text-align: center;}#sk-container-id-112 label.sk-toggleable__label-arrow:before {content: \"▸\";float: left;margin-right: 0.25em;color: #696969;}#sk-container-id-112 label.sk-toggleable__label-arrow:hover:before {color: black;}#sk-container-id-112 div.sk-estimator:hover label.sk-toggleable__label-arrow:before {color: black;}#sk-container-id-112 div.sk-toggleable__content {max-height: 0;max-width: 0;overflow: hidden;text-align: left;background-color: #f0f8ff;}#sk-container-id-112 div.sk-toggleable__content pre {margin: 0.2em;color: black;border-radius: 0.25em;background-color: #f0f8ff;}#sk-container-id-112 input.sk-toggleable__control:checked~div.sk-toggleable__content {max-height: 200px;max-width: 100%;overflow: auto;}#sk-container-id-112 input.sk-toggleable__control:checked~label.sk-toggleable__label-arrow:before {content: \"▾\";}#sk-container-id-112 div.sk-estimator input.sk-toggleable__control:checked~label.sk-toggleable__label {background-color: #d4ebff;}#sk-container-id-112 div.sk-label input.sk-toggleable__control:checked~label.sk-toggleable__label {background-color: #d4ebff;}#sk-container-id-112 input.sk-hidden--visually {border: 0;clip: rect(1px 1px 1px 1px);clip: rect(1px, 1px, 1px, 1px);height: 1px;margin: -1px;overflow: hidden;padding: 0;position: absolute;width: 1px;}#sk-container-id-112 div.sk-estimator {font-family: monospace;background-color: #f0f8ff;border: 1px dotted black;border-radius: 0.25em;box-sizing: border-box;margin-bottom: 0.5em;}#sk-container-id-112 div.sk-estimator:hover {background-color: #d4ebff;}#sk-container-id-112 div.sk-parallel-item::after {content: \"\";width: 100%;border-bottom: 1px solid gray;flex-grow: 1;}#sk-container-id-112 div.sk-label:hover label.sk-toggleable__label {background-color: #d4ebff;}#sk-container-id-112 div.sk-serial::before {content: \"\";position: absolute;border-left: 1px solid gray;box-sizing: border-box;top: 0;bottom: 0;left: 50%;z-index: 0;}#sk-container-id-112 div.sk-serial {display: flex;flex-direction: column;align-items: center;background-color: white;padding-right: 0.2em;padding-left: 0.2em;position: relative;}#sk-container-id-112 div.sk-item {position: relative;z-index: 1;}#sk-container-id-112 div.sk-parallel {display: flex;align-items: stretch;justify-content: center;background-color: white;position: relative;}#sk-container-id-112 div.sk-item::before, #sk-container-id-112 div.sk-parallel-item::before {content: \"\";position: absolute;border-left: 1px solid gray;box-sizing: border-box;top: 0;bottom: 0;left: 50%;z-index: -1;}#sk-container-id-112 div.sk-parallel-item {display: flex;flex-direction: column;z-index: 1;position: relative;background-color: white;}#sk-container-id-112 div.sk-parallel-item:first-child::after {align-self: flex-end;width: 50%;}#sk-container-id-112 div.sk-parallel-item:last-child::after {align-self: flex-start;width: 50%;}#sk-container-id-112 div.sk-parallel-item:only-child::after {width: 0;}#sk-container-id-112 div.sk-dashed-wrapped {border: 1px dashed gray;margin: 0 0.4em 0.5em 0.4em;box-sizing: border-box;padding-bottom: 0.4em;background-color: white;}#sk-container-id-112 div.sk-label label {font-family: monospace;font-weight: bold;display: inline-block;line-height: 1.2em;}#sk-container-id-112 div.sk-label-container {text-align: center;}#sk-container-id-112 div.sk-container {/* jupyter's `normalize.less` sets `[hidden] { display: none; }` but bootstrap.min.css set `[hidden] { display: none !important; }` so we also need the `!important` here to be able to override the default hidden behavior on the sphinx rendered scikit-learn.org. See: https://github.com/scikit-learn/scikit-learn/issues/21755 */display: inline-block !important;position: relative;}#sk-container-id-112 div.sk-text-repr-fallback {display: none;}</style><div id=\"sk-container-id-112\" class=\"sk-top-container\"><div class=\"sk-text-repr-fallback\"><pre>GridSearchCV(cv=ShuffleSplit(n_splits=10, random_state=42, test_size=0.2, train_size=None),\n",
       "             estimator=SVC(), param_grid={&#x27;C&#x27;: [10]})</pre><b>In a Jupyter environment, please rerun this cell to show the HTML representation or trust the notebook. <br />On GitHub, the HTML representation is unable to render, please try loading this page with nbviewer.org.</b></div><div class=\"sk-container\" hidden><div class=\"sk-item sk-dashed-wrapped\"><div class=\"sk-label-container\"><div class=\"sk-label sk-toggleable\"><input class=\"sk-toggleable__control sk-hidden--visually\" id=\"sk-estimator-id-213\" type=\"checkbox\" ><label for=\"sk-estimator-id-213\" class=\"sk-toggleable__label sk-toggleable__label-arrow\">GridSearchCV</label><div class=\"sk-toggleable__content\"><pre>GridSearchCV(cv=ShuffleSplit(n_splits=10, random_state=42, test_size=0.2, train_size=None),\n",
       "             estimator=SVC(), param_grid={&#x27;C&#x27;: [10]})</pre></div></div></div><div class=\"sk-parallel\"><div class=\"sk-parallel-item\"><div class=\"sk-item\"><div class=\"sk-label-container\"><div class=\"sk-label sk-toggleable\"><input class=\"sk-toggleable__control sk-hidden--visually\" id=\"sk-estimator-id-214\" type=\"checkbox\" ><label for=\"sk-estimator-id-214\" class=\"sk-toggleable__label sk-toggleable__label-arrow\">estimator: SVC</label><div class=\"sk-toggleable__content\"><pre>SVC()</pre></div></div></div><div class=\"sk-serial\"><div class=\"sk-item\"><div class=\"sk-estimator sk-toggleable\"><input class=\"sk-toggleable__control sk-hidden--visually\" id=\"sk-estimator-id-215\" type=\"checkbox\" ><label for=\"sk-estimator-id-215\" class=\"sk-toggleable__label sk-toggleable__label-arrow\">SVC</label><div class=\"sk-toggleable__content\"><pre>SVC()</pre></div></div></div></div></div></div></div></div></div></div>"
      ],
      "text/plain": [
       "GridSearchCV(cv=ShuffleSplit(n_splits=10, random_state=42, test_size=0.2, train_size=None),\n",
       "             estimator=SVC(), param_grid={'C': [10]})"
      ]
     },
     "execution_count": 789,
     "metadata": {},
     "output_type": "execute_result"
    }
   ],
   "source": [
    "grid_svm_clf.fit(X_train,y_train)"
   ]
  },
  {
   "cell_type": "code",
   "execution_count": 790,
   "metadata": {},
   "outputs": [
    {
     "name": "stdout",
     "output_type": "stream",
     "text": [
      "Best parameters:  {'C': 10}\n",
      "Best score:  0.6598963242224316\n"
     ]
    }
   ],
   "source": [
    "print(\"Best parameters: \", grid_svm_clf.best_params_)\n",
    "print(\"Best score: \", grid_svm_clf.best_score_)"
   ]
  },
  {
   "cell_type": "code",
   "execution_count": 791,
   "metadata": {},
   "outputs": [
    {
     "data": {
      "text/html": [
       "<style>#sk-container-id-113 {color: black;background-color: white;}#sk-container-id-113 pre{padding: 0;}#sk-container-id-113 div.sk-toggleable {background-color: white;}#sk-container-id-113 label.sk-toggleable__label {cursor: pointer;display: block;width: 100%;margin-bottom: 0;padding: 0.3em;box-sizing: border-box;text-align: center;}#sk-container-id-113 label.sk-toggleable__label-arrow:before {content: \"▸\";float: left;margin-right: 0.25em;color: #696969;}#sk-container-id-113 label.sk-toggleable__label-arrow:hover:before {color: black;}#sk-container-id-113 div.sk-estimator:hover label.sk-toggleable__label-arrow:before {color: black;}#sk-container-id-113 div.sk-toggleable__content {max-height: 0;max-width: 0;overflow: hidden;text-align: left;background-color: #f0f8ff;}#sk-container-id-113 div.sk-toggleable__content pre {margin: 0.2em;color: black;border-radius: 0.25em;background-color: #f0f8ff;}#sk-container-id-113 input.sk-toggleable__control:checked~div.sk-toggleable__content {max-height: 200px;max-width: 100%;overflow: auto;}#sk-container-id-113 input.sk-toggleable__control:checked~label.sk-toggleable__label-arrow:before {content: \"▾\";}#sk-container-id-113 div.sk-estimator input.sk-toggleable__control:checked~label.sk-toggleable__label {background-color: #d4ebff;}#sk-container-id-113 div.sk-label input.sk-toggleable__control:checked~label.sk-toggleable__label {background-color: #d4ebff;}#sk-container-id-113 input.sk-hidden--visually {border: 0;clip: rect(1px 1px 1px 1px);clip: rect(1px, 1px, 1px, 1px);height: 1px;margin: -1px;overflow: hidden;padding: 0;position: absolute;width: 1px;}#sk-container-id-113 div.sk-estimator {font-family: monospace;background-color: #f0f8ff;border: 1px dotted black;border-radius: 0.25em;box-sizing: border-box;margin-bottom: 0.5em;}#sk-container-id-113 div.sk-estimator:hover {background-color: #d4ebff;}#sk-container-id-113 div.sk-parallel-item::after {content: \"\";width: 100%;border-bottom: 1px solid gray;flex-grow: 1;}#sk-container-id-113 div.sk-label:hover label.sk-toggleable__label {background-color: #d4ebff;}#sk-container-id-113 div.sk-serial::before {content: \"\";position: absolute;border-left: 1px solid gray;box-sizing: border-box;top: 0;bottom: 0;left: 50%;z-index: 0;}#sk-container-id-113 div.sk-serial {display: flex;flex-direction: column;align-items: center;background-color: white;padding-right: 0.2em;padding-left: 0.2em;position: relative;}#sk-container-id-113 div.sk-item {position: relative;z-index: 1;}#sk-container-id-113 div.sk-parallel {display: flex;align-items: stretch;justify-content: center;background-color: white;position: relative;}#sk-container-id-113 div.sk-item::before, #sk-container-id-113 div.sk-parallel-item::before {content: \"\";position: absolute;border-left: 1px solid gray;box-sizing: border-box;top: 0;bottom: 0;left: 50%;z-index: -1;}#sk-container-id-113 div.sk-parallel-item {display: flex;flex-direction: column;z-index: 1;position: relative;background-color: white;}#sk-container-id-113 div.sk-parallel-item:first-child::after {align-self: flex-end;width: 50%;}#sk-container-id-113 div.sk-parallel-item:last-child::after {align-self: flex-start;width: 50%;}#sk-container-id-113 div.sk-parallel-item:only-child::after {width: 0;}#sk-container-id-113 div.sk-dashed-wrapped {border: 1px dashed gray;margin: 0 0.4em 0.5em 0.4em;box-sizing: border-box;padding-bottom: 0.4em;background-color: white;}#sk-container-id-113 div.sk-label label {font-family: monospace;font-weight: bold;display: inline-block;line-height: 1.2em;}#sk-container-id-113 div.sk-label-container {text-align: center;}#sk-container-id-113 div.sk-container {/* jupyter's `normalize.less` sets `[hidden] { display: none; }` but bootstrap.min.css set `[hidden] { display: none !important; }` so we also need the `!important` here to be able to override the default hidden behavior on the sphinx rendered scikit-learn.org. See: https://github.com/scikit-learn/scikit-learn/issues/21755 */display: inline-block !important;position: relative;}#sk-container-id-113 div.sk-text-repr-fallback {display: none;}</style><div id=\"sk-container-id-113\" class=\"sk-top-container\"><div class=\"sk-text-repr-fallback\"><pre>SVC(C=10)</pre><b>In a Jupyter environment, please rerun this cell to show the HTML representation or trust the notebook. <br />On GitHub, the HTML representation is unable to render, please try loading this page with nbviewer.org.</b></div><div class=\"sk-container\" hidden><div class=\"sk-item\"><div class=\"sk-estimator sk-toggleable\"><input class=\"sk-toggleable__control sk-hidden--visually\" id=\"sk-estimator-id-216\" type=\"checkbox\" checked><label for=\"sk-estimator-id-216\" class=\"sk-toggleable__label sk-toggleable__label-arrow\">SVC</label><div class=\"sk-toggleable__content\"><pre>SVC(C=10)</pre></div></div></div></div></div>"
      ],
      "text/plain": [
       "SVC(C=10)"
      ]
     },
     "execution_count": 791,
     "metadata": {},
     "output_type": "execute_result"
    }
   ],
   "source": [
    "tuned_svm_clf=grid_svm_clf.best_estimator_\n",
    "tuned_svm_clf"
   ]
  },
  {
   "cell_type": "code",
   "execution_count": 792,
   "metadata": {},
   "outputs": [],
   "source": [
    "y_pred_tuned_svc=tuned_svm_clf.predict(X_test)"
   ]
  },
  {
   "cell_type": "code",
   "execution_count": 793,
   "metadata": {},
   "outputs": [
    {
     "name": "stdout",
     "output_type": "stream",
     "text": [
      "              precision    recall  f1-score   support\n",
      "\n",
      "       False       0.95      0.67      0.78      2355\n",
      "        True       0.21      0.71      0.33       297\n",
      "\n",
      "    accuracy                           0.67      2652\n",
      "   macro avg       0.58      0.69      0.56      2652\n",
      "weighted avg       0.87      0.67      0.73      2652\n",
      "\n"
     ]
    }
   ],
   "source": [
    "print(classification_report(y_pred_tuned_svc,y_test))"
   ]
  },
  {
   "cell_type": "code",
   "execution_count": 794,
   "metadata": {},
   "outputs": [],
   "source": [
    "# submit(tuned_svm_clf)"
   ]
  },
  {
   "attachments": {},
   "cell_type": "markdown",
   "metadata": {},
   "source": [
    "# XGBoost"
   ]
  },
  {
   "attachments": {},
   "cell_type": "markdown",
   "metadata": {},
   "source": [
    "### Classifier"
   ]
  },
  {
   "cell_type": "code",
   "execution_count": 795,
   "metadata": {},
   "outputs": [],
   "source": [
    "xgb = XGBClassifier()"
   ]
  },
  {
   "attachments": {},
   "cell_type": "markdown",
   "metadata": {},
   "source": [
    "### Train and predict"
   ]
  },
  {
   "cell_type": "code",
   "execution_count": 796,
   "metadata": {},
   "outputs": [
    {
     "data": {
      "text/html": [
       "<style>#sk-container-id-114 {color: black;background-color: white;}#sk-container-id-114 pre{padding: 0;}#sk-container-id-114 div.sk-toggleable {background-color: white;}#sk-container-id-114 label.sk-toggleable__label {cursor: pointer;display: block;width: 100%;margin-bottom: 0;padding: 0.3em;box-sizing: border-box;text-align: center;}#sk-container-id-114 label.sk-toggleable__label-arrow:before {content: \"▸\";float: left;margin-right: 0.25em;color: #696969;}#sk-container-id-114 label.sk-toggleable__label-arrow:hover:before {color: black;}#sk-container-id-114 div.sk-estimator:hover label.sk-toggleable__label-arrow:before {color: black;}#sk-container-id-114 div.sk-toggleable__content {max-height: 0;max-width: 0;overflow: hidden;text-align: left;background-color: #f0f8ff;}#sk-container-id-114 div.sk-toggleable__content pre {margin: 0.2em;color: black;border-radius: 0.25em;background-color: #f0f8ff;}#sk-container-id-114 input.sk-toggleable__control:checked~div.sk-toggleable__content {max-height: 200px;max-width: 100%;overflow: auto;}#sk-container-id-114 input.sk-toggleable__control:checked~label.sk-toggleable__label-arrow:before {content: \"▾\";}#sk-container-id-114 div.sk-estimator input.sk-toggleable__control:checked~label.sk-toggleable__label {background-color: #d4ebff;}#sk-container-id-114 div.sk-label input.sk-toggleable__control:checked~label.sk-toggleable__label {background-color: #d4ebff;}#sk-container-id-114 input.sk-hidden--visually {border: 0;clip: rect(1px 1px 1px 1px);clip: rect(1px, 1px, 1px, 1px);height: 1px;margin: -1px;overflow: hidden;padding: 0;position: absolute;width: 1px;}#sk-container-id-114 div.sk-estimator {font-family: monospace;background-color: #f0f8ff;border: 1px dotted black;border-radius: 0.25em;box-sizing: border-box;margin-bottom: 0.5em;}#sk-container-id-114 div.sk-estimator:hover {background-color: #d4ebff;}#sk-container-id-114 div.sk-parallel-item::after {content: \"\";width: 100%;border-bottom: 1px solid gray;flex-grow: 1;}#sk-container-id-114 div.sk-label:hover label.sk-toggleable__label {background-color: #d4ebff;}#sk-container-id-114 div.sk-serial::before {content: \"\";position: absolute;border-left: 1px solid gray;box-sizing: border-box;top: 0;bottom: 0;left: 50%;z-index: 0;}#sk-container-id-114 div.sk-serial {display: flex;flex-direction: column;align-items: center;background-color: white;padding-right: 0.2em;padding-left: 0.2em;position: relative;}#sk-container-id-114 div.sk-item {position: relative;z-index: 1;}#sk-container-id-114 div.sk-parallel {display: flex;align-items: stretch;justify-content: center;background-color: white;position: relative;}#sk-container-id-114 div.sk-item::before, #sk-container-id-114 div.sk-parallel-item::before {content: \"\";position: absolute;border-left: 1px solid gray;box-sizing: border-box;top: 0;bottom: 0;left: 50%;z-index: -1;}#sk-container-id-114 div.sk-parallel-item {display: flex;flex-direction: column;z-index: 1;position: relative;background-color: white;}#sk-container-id-114 div.sk-parallel-item:first-child::after {align-self: flex-end;width: 50%;}#sk-container-id-114 div.sk-parallel-item:last-child::after {align-self: flex-start;width: 50%;}#sk-container-id-114 div.sk-parallel-item:only-child::after {width: 0;}#sk-container-id-114 div.sk-dashed-wrapped {border: 1px dashed gray;margin: 0 0.4em 0.5em 0.4em;box-sizing: border-box;padding-bottom: 0.4em;background-color: white;}#sk-container-id-114 div.sk-label label {font-family: monospace;font-weight: bold;display: inline-block;line-height: 1.2em;}#sk-container-id-114 div.sk-label-container {text-align: center;}#sk-container-id-114 div.sk-container {/* jupyter's `normalize.less` sets `[hidden] { display: none; }` but bootstrap.min.css set `[hidden] { display: none !important; }` so we also need the `!important` here to be able to override the default hidden behavior on the sphinx rendered scikit-learn.org. See: https://github.com/scikit-learn/scikit-learn/issues/21755 */display: inline-block !important;position: relative;}#sk-container-id-114 div.sk-text-repr-fallback {display: none;}</style><div id=\"sk-container-id-114\" class=\"sk-top-container\"><div class=\"sk-text-repr-fallback\"><pre>XGBClassifier(base_score=None, booster=None, callbacks=None,\n",
       "              colsample_bylevel=None, colsample_bynode=None,\n",
       "              colsample_bytree=None, early_stopping_rounds=None,\n",
       "              enable_categorical=False, eval_metric=None, feature_types=None,\n",
       "              gamma=None, gpu_id=None, grow_policy=None, importance_type=None,\n",
       "              interaction_constraints=None, learning_rate=None, max_bin=None,\n",
       "              max_cat_threshold=None, max_cat_to_onehot=None,\n",
       "              max_delta_step=None, max_depth=None, max_leaves=None,\n",
       "              min_child_weight=None, missing=nan, monotone_constraints=None,\n",
       "              n_estimators=100, n_jobs=None, num_parallel_tree=None,\n",
       "              predictor=None, random_state=None, ...)</pre><b>In a Jupyter environment, please rerun this cell to show the HTML representation or trust the notebook. <br />On GitHub, the HTML representation is unable to render, please try loading this page with nbviewer.org.</b></div><div class=\"sk-container\" hidden><div class=\"sk-item\"><div class=\"sk-estimator sk-toggleable\"><input class=\"sk-toggleable__control sk-hidden--visually\" id=\"sk-estimator-id-217\" type=\"checkbox\" checked><label for=\"sk-estimator-id-217\" class=\"sk-toggleable__label sk-toggleable__label-arrow\">XGBClassifier</label><div class=\"sk-toggleable__content\"><pre>XGBClassifier(base_score=None, booster=None, callbacks=None,\n",
       "              colsample_bylevel=None, colsample_bynode=None,\n",
       "              colsample_bytree=None, early_stopping_rounds=None,\n",
       "              enable_categorical=False, eval_metric=None, feature_types=None,\n",
       "              gamma=None, gpu_id=None, grow_policy=None, importance_type=None,\n",
       "              interaction_constraints=None, learning_rate=None, max_bin=None,\n",
       "              max_cat_threshold=None, max_cat_to_onehot=None,\n",
       "              max_delta_step=None, max_depth=None, max_leaves=None,\n",
       "              min_child_weight=None, missing=nan, monotone_constraints=None,\n",
       "              n_estimators=100, n_jobs=None, num_parallel_tree=None,\n",
       "              predictor=None, random_state=None, ...)</pre></div></div></div></div></div>"
      ],
      "text/plain": [
       "XGBClassifier(base_score=None, booster=None, callbacks=None,\n",
       "              colsample_bylevel=None, colsample_bynode=None,\n",
       "              colsample_bytree=None, early_stopping_rounds=None,\n",
       "              enable_categorical=False, eval_metric=None, feature_types=None,\n",
       "              gamma=None, gpu_id=None, grow_policy=None, importance_type=None,\n",
       "              interaction_constraints=None, learning_rate=None, max_bin=None,\n",
       "              max_cat_threshold=None, max_cat_to_onehot=None,\n",
       "              max_delta_step=None, max_depth=None, max_leaves=None,\n",
       "              min_child_weight=None, missing=nan, monotone_constraints=None,\n",
       "              n_estimators=100, n_jobs=None, num_parallel_tree=None,\n",
       "              predictor=None, random_state=None, ...)"
      ]
     },
     "execution_count": 796,
     "metadata": {},
     "output_type": "execute_result"
    }
   ],
   "source": [
    "xgb.fit(X_train,y_train)"
   ]
  },
  {
   "cell_type": "code",
   "execution_count": 797,
   "metadata": {},
   "outputs": [],
   "source": [
    "y_pred_xgbc=xgb.predict(X_test)"
   ]
  },
  {
   "attachments": {},
   "cell_type": "markdown",
   "metadata": {},
   "source": [
    "### Scores"
   ]
  },
  {
   "cell_type": "code",
   "execution_count": 798,
   "metadata": {},
   "outputs": [
    {
     "name": "stdout",
     "output_type": "stream",
     "text": [
      "              precision    recall  f1-score   support\n",
      "\n",
      "           0       0.81      0.64      0.72      2094\n",
      "           1       0.25      0.44      0.32       558\n",
      "\n",
      "    accuracy                           0.60      2652\n",
      "   macro avg       0.53      0.54      0.52      2652\n",
      "weighted avg       0.69      0.60      0.63      2652\n",
      "\n"
     ]
    }
   ],
   "source": [
    "print(classification_report(y_pred_xgbc,y_test))"
   ]
  },
  {
   "attachments": {},
   "cell_type": "markdown",
   "metadata": {},
   "source": [
    "### Hyperparameter tuning"
   ]
  },
  {
   "cell_type": "code",
   "execution_count": 799,
   "metadata": {},
   "outputs": [],
   "source": [
    "# param_grid = {\n",
    "#     'learning_rate': [0.1, 0.01],\n",
    "#     'max_depth': [3, 5, 7],\n",
    "#     'n_estimators': [100, 500, 1000]\n",
    "# }\n",
    "param_grid = {\n",
    "    'learning_rate': [0.01],\n",
    "    'max_depth': [3],\n",
    "    'n_estimators': [100]\n",
    "}\n",
    "grid_xgb_clf = GridSearchCV(xgb, param_grid=param_grid, cv=5)"
   ]
  },
  {
   "cell_type": "code",
   "execution_count": 800,
   "metadata": {},
   "outputs": [
    {
     "data": {
      "text/html": [
       "<style>#sk-container-id-115 {color: black;background-color: white;}#sk-container-id-115 pre{padding: 0;}#sk-container-id-115 div.sk-toggleable {background-color: white;}#sk-container-id-115 label.sk-toggleable__label {cursor: pointer;display: block;width: 100%;margin-bottom: 0;padding: 0.3em;box-sizing: border-box;text-align: center;}#sk-container-id-115 label.sk-toggleable__label-arrow:before {content: \"▸\";float: left;margin-right: 0.25em;color: #696969;}#sk-container-id-115 label.sk-toggleable__label-arrow:hover:before {color: black;}#sk-container-id-115 div.sk-estimator:hover label.sk-toggleable__label-arrow:before {color: black;}#sk-container-id-115 div.sk-toggleable__content {max-height: 0;max-width: 0;overflow: hidden;text-align: left;background-color: #f0f8ff;}#sk-container-id-115 div.sk-toggleable__content pre {margin: 0.2em;color: black;border-radius: 0.25em;background-color: #f0f8ff;}#sk-container-id-115 input.sk-toggleable__control:checked~div.sk-toggleable__content {max-height: 200px;max-width: 100%;overflow: auto;}#sk-container-id-115 input.sk-toggleable__control:checked~label.sk-toggleable__label-arrow:before {content: \"▾\";}#sk-container-id-115 div.sk-estimator input.sk-toggleable__control:checked~label.sk-toggleable__label {background-color: #d4ebff;}#sk-container-id-115 div.sk-label input.sk-toggleable__control:checked~label.sk-toggleable__label {background-color: #d4ebff;}#sk-container-id-115 input.sk-hidden--visually {border: 0;clip: rect(1px 1px 1px 1px);clip: rect(1px, 1px, 1px, 1px);height: 1px;margin: -1px;overflow: hidden;padding: 0;position: absolute;width: 1px;}#sk-container-id-115 div.sk-estimator {font-family: monospace;background-color: #f0f8ff;border: 1px dotted black;border-radius: 0.25em;box-sizing: border-box;margin-bottom: 0.5em;}#sk-container-id-115 div.sk-estimator:hover {background-color: #d4ebff;}#sk-container-id-115 div.sk-parallel-item::after {content: \"\";width: 100%;border-bottom: 1px solid gray;flex-grow: 1;}#sk-container-id-115 div.sk-label:hover label.sk-toggleable__label {background-color: #d4ebff;}#sk-container-id-115 div.sk-serial::before {content: \"\";position: absolute;border-left: 1px solid gray;box-sizing: border-box;top: 0;bottom: 0;left: 50%;z-index: 0;}#sk-container-id-115 div.sk-serial {display: flex;flex-direction: column;align-items: center;background-color: white;padding-right: 0.2em;padding-left: 0.2em;position: relative;}#sk-container-id-115 div.sk-item {position: relative;z-index: 1;}#sk-container-id-115 div.sk-parallel {display: flex;align-items: stretch;justify-content: center;background-color: white;position: relative;}#sk-container-id-115 div.sk-item::before, #sk-container-id-115 div.sk-parallel-item::before {content: \"\";position: absolute;border-left: 1px solid gray;box-sizing: border-box;top: 0;bottom: 0;left: 50%;z-index: -1;}#sk-container-id-115 div.sk-parallel-item {display: flex;flex-direction: column;z-index: 1;position: relative;background-color: white;}#sk-container-id-115 div.sk-parallel-item:first-child::after {align-self: flex-end;width: 50%;}#sk-container-id-115 div.sk-parallel-item:last-child::after {align-self: flex-start;width: 50%;}#sk-container-id-115 div.sk-parallel-item:only-child::after {width: 0;}#sk-container-id-115 div.sk-dashed-wrapped {border: 1px dashed gray;margin: 0 0.4em 0.5em 0.4em;box-sizing: border-box;padding-bottom: 0.4em;background-color: white;}#sk-container-id-115 div.sk-label label {font-family: monospace;font-weight: bold;display: inline-block;line-height: 1.2em;}#sk-container-id-115 div.sk-label-container {text-align: center;}#sk-container-id-115 div.sk-container {/* jupyter's `normalize.less` sets `[hidden] { display: none; }` but bootstrap.min.css set `[hidden] { display: none !important; }` so we also need the `!important` here to be able to override the default hidden behavior on the sphinx rendered scikit-learn.org. See: https://github.com/scikit-learn/scikit-learn/issues/21755 */display: inline-block !important;position: relative;}#sk-container-id-115 div.sk-text-repr-fallback {display: none;}</style><div id=\"sk-container-id-115\" class=\"sk-top-container\"><div class=\"sk-text-repr-fallback\"><pre>GridSearchCV(cv=5,\n",
       "             estimator=XGBClassifier(base_score=None, booster=None,\n",
       "                                     callbacks=None, colsample_bylevel=None,\n",
       "                                     colsample_bynode=None,\n",
       "                                     colsample_bytree=None,\n",
       "                                     early_stopping_rounds=None,\n",
       "                                     enable_categorical=False, eval_metric=None,\n",
       "                                     feature_types=None, gamma=None,\n",
       "                                     gpu_id=None, grow_policy=None,\n",
       "                                     importance_type=None,\n",
       "                                     interaction_constraints=None,\n",
       "                                     learning_rate=None, max_bin=None,\n",
       "                                     max_cat_threshold=None,\n",
       "                                     max_cat_to_onehot=None,\n",
       "                                     max_delta_step=None, max_depth=None,\n",
       "                                     max_leaves=None, min_child_weight=None,\n",
       "                                     missing=nan, monotone_constraints=None,\n",
       "                                     n_estimators=100, n_jobs=None,\n",
       "                                     num_parallel_tree=None, predictor=None,\n",
       "                                     random_state=None, ...),\n",
       "             param_grid={&#x27;learning_rate&#x27;: [0.01], &#x27;max_depth&#x27;: [3],\n",
       "                         &#x27;n_estimators&#x27;: [100]})</pre><b>In a Jupyter environment, please rerun this cell to show the HTML representation or trust the notebook. <br />On GitHub, the HTML representation is unable to render, please try loading this page with nbviewer.org.</b></div><div class=\"sk-container\" hidden><div class=\"sk-item sk-dashed-wrapped\"><div class=\"sk-label-container\"><div class=\"sk-label sk-toggleable\"><input class=\"sk-toggleable__control sk-hidden--visually\" id=\"sk-estimator-id-218\" type=\"checkbox\" ><label for=\"sk-estimator-id-218\" class=\"sk-toggleable__label sk-toggleable__label-arrow\">GridSearchCV</label><div class=\"sk-toggleable__content\"><pre>GridSearchCV(cv=5,\n",
       "             estimator=XGBClassifier(base_score=None, booster=None,\n",
       "                                     callbacks=None, colsample_bylevel=None,\n",
       "                                     colsample_bynode=None,\n",
       "                                     colsample_bytree=None,\n",
       "                                     early_stopping_rounds=None,\n",
       "                                     enable_categorical=False, eval_metric=None,\n",
       "                                     feature_types=None, gamma=None,\n",
       "                                     gpu_id=None, grow_policy=None,\n",
       "                                     importance_type=None,\n",
       "                                     interaction_constraints=None,\n",
       "                                     learning_rate=None, max_bin=None,\n",
       "                                     max_cat_threshold=None,\n",
       "                                     max_cat_to_onehot=None,\n",
       "                                     max_delta_step=None, max_depth=None,\n",
       "                                     max_leaves=None, min_child_weight=None,\n",
       "                                     missing=nan, monotone_constraints=None,\n",
       "                                     n_estimators=100, n_jobs=None,\n",
       "                                     num_parallel_tree=None, predictor=None,\n",
       "                                     random_state=None, ...),\n",
       "             param_grid={&#x27;learning_rate&#x27;: [0.01], &#x27;max_depth&#x27;: [3],\n",
       "                         &#x27;n_estimators&#x27;: [100]})</pre></div></div></div><div class=\"sk-parallel\"><div class=\"sk-parallel-item\"><div class=\"sk-item\"><div class=\"sk-label-container\"><div class=\"sk-label sk-toggleable\"><input class=\"sk-toggleable__control sk-hidden--visually\" id=\"sk-estimator-id-219\" type=\"checkbox\" ><label for=\"sk-estimator-id-219\" class=\"sk-toggleable__label sk-toggleable__label-arrow\">estimator: XGBClassifier</label><div class=\"sk-toggleable__content\"><pre>XGBClassifier(base_score=None, booster=None, callbacks=None,\n",
       "              colsample_bylevel=None, colsample_bynode=None,\n",
       "              colsample_bytree=None, early_stopping_rounds=None,\n",
       "              enable_categorical=False, eval_metric=None, feature_types=None,\n",
       "              gamma=None, gpu_id=None, grow_policy=None, importance_type=None,\n",
       "              interaction_constraints=None, learning_rate=None, max_bin=None,\n",
       "              max_cat_threshold=None, max_cat_to_onehot=None,\n",
       "              max_delta_step=None, max_depth=None, max_leaves=None,\n",
       "              min_child_weight=None, missing=nan, monotone_constraints=None,\n",
       "              n_estimators=100, n_jobs=None, num_parallel_tree=None,\n",
       "              predictor=None, random_state=None, ...)</pre></div></div></div><div class=\"sk-serial\"><div class=\"sk-item\"><div class=\"sk-estimator sk-toggleable\"><input class=\"sk-toggleable__control sk-hidden--visually\" id=\"sk-estimator-id-220\" type=\"checkbox\" ><label for=\"sk-estimator-id-220\" class=\"sk-toggleable__label sk-toggleable__label-arrow\">XGBClassifier</label><div class=\"sk-toggleable__content\"><pre>XGBClassifier(base_score=None, booster=None, callbacks=None,\n",
       "              colsample_bylevel=None, colsample_bynode=None,\n",
       "              colsample_bytree=None, early_stopping_rounds=None,\n",
       "              enable_categorical=False, eval_metric=None, feature_types=None,\n",
       "              gamma=None, gpu_id=None, grow_policy=None, importance_type=None,\n",
       "              interaction_constraints=None, learning_rate=None, max_bin=None,\n",
       "              max_cat_threshold=None, max_cat_to_onehot=None,\n",
       "              max_delta_step=None, max_depth=None, max_leaves=None,\n",
       "              min_child_weight=None, missing=nan, monotone_constraints=None,\n",
       "              n_estimators=100, n_jobs=None, num_parallel_tree=None,\n",
       "              predictor=None, random_state=None, ...)</pre></div></div></div></div></div></div></div></div></div></div>"
      ],
      "text/plain": [
       "GridSearchCV(cv=5,\n",
       "             estimator=XGBClassifier(base_score=None, booster=None,\n",
       "                                     callbacks=None, colsample_bylevel=None,\n",
       "                                     colsample_bynode=None,\n",
       "                                     colsample_bytree=None,\n",
       "                                     early_stopping_rounds=None,\n",
       "                                     enable_categorical=False, eval_metric=None,\n",
       "                                     feature_types=None, gamma=None,\n",
       "                                     gpu_id=None, grow_policy=None,\n",
       "                                     importance_type=None,\n",
       "                                     interaction_constraints=None,\n",
       "                                     learning_rate=None, max_bin=None,\n",
       "                                     max_cat_threshold=None,\n",
       "                                     max_cat_to_onehot=None,\n",
       "                                     max_delta_step=None, max_depth=None,\n",
       "                                     max_leaves=None, min_child_weight=None,\n",
       "                                     missing=nan, monotone_constraints=None,\n",
       "                                     n_estimators=100, n_jobs=None,\n",
       "                                     num_parallel_tree=None, predictor=None,\n",
       "                                     random_state=None, ...),\n",
       "             param_grid={'learning_rate': [0.01], 'max_depth': [3],\n",
       "                         'n_estimators': [100]})"
      ]
     },
     "execution_count": 800,
     "metadata": {},
     "output_type": "execute_result"
    }
   ],
   "source": [
    "grid_xgb_clf.fit(X_train, y_train)"
   ]
  },
  {
   "cell_type": "code",
   "execution_count": 801,
   "metadata": {},
   "outputs": [
    {
     "name": "stdout",
     "output_type": "stream",
     "text": [
      "Best parameters:  {'learning_rate': 0.01, 'max_depth': 3, 'n_estimators': 100}\n",
      "Best f1 score:  0.6622984730141253\n"
     ]
    }
   ],
   "source": [
    "print(\"Best parameters: \", grid_xgb_clf.best_params_)\n",
    "print(\"Best f1 score: \", grid_xgb_clf.best_score_)"
   ]
  },
  {
   "cell_type": "code",
   "execution_count": 802,
   "metadata": {},
   "outputs": [],
   "source": [
    "tuned_xgbc=grid_xgb_clf.best_estimator_"
   ]
  },
  {
   "cell_type": "code",
   "execution_count": 803,
   "metadata": {},
   "outputs": [],
   "source": [
    "y_pred_tuned_xgbc=tuned_xgbc.predict(X_test)"
   ]
  },
  {
   "cell_type": "code",
   "execution_count": 804,
   "metadata": {},
   "outputs": [
    {
     "name": "stdout",
     "output_type": "stream",
     "text": [
      "              precision    recall  f1-score   support\n",
      "\n",
      "           0       0.92      0.68      0.78      2235\n",
      "           1       0.28      0.67      0.40       417\n",
      "\n",
      "    accuracy                           0.68      2652\n",
      "   macro avg       0.60      0.68      0.59      2652\n",
      "weighted avg       0.82      0.68      0.72      2652\n",
      "\n"
     ]
    }
   ],
   "source": [
    "print(classification_report(y_pred_tuned_xgbc,y_test))"
   ]
  },
  {
   "cell_type": "code",
   "execution_count": 805,
   "metadata": {},
   "outputs": [],
   "source": [
    "# submit(tuned_xgbc)"
   ]
  },
  {
   "attachments": {},
   "cell_type": "markdown",
   "metadata": {},
   "source": [
    "# CART"
   ]
  },
  {
   "attachments": {},
   "cell_type": "markdown",
   "metadata": {},
   "source": [
    "### Classifier"
   ]
  },
  {
   "cell_type": "code",
   "execution_count": 806,
   "metadata": {},
   "outputs": [],
   "source": [
    "cart=DecisionTreeClassifier(random_state=42)"
   ]
  },
  {
   "attachments": {},
   "cell_type": "markdown",
   "metadata": {},
   "source": [
    "### Train and predict"
   ]
  },
  {
   "cell_type": "code",
   "execution_count": 807,
   "metadata": {},
   "outputs": [
    {
     "data": {
      "text/html": [
       "<style>#sk-container-id-116 {color: black;background-color: white;}#sk-container-id-116 pre{padding: 0;}#sk-container-id-116 div.sk-toggleable {background-color: white;}#sk-container-id-116 label.sk-toggleable__label {cursor: pointer;display: block;width: 100%;margin-bottom: 0;padding: 0.3em;box-sizing: border-box;text-align: center;}#sk-container-id-116 label.sk-toggleable__label-arrow:before {content: \"▸\";float: left;margin-right: 0.25em;color: #696969;}#sk-container-id-116 label.sk-toggleable__label-arrow:hover:before {color: black;}#sk-container-id-116 div.sk-estimator:hover label.sk-toggleable__label-arrow:before {color: black;}#sk-container-id-116 div.sk-toggleable__content {max-height: 0;max-width: 0;overflow: hidden;text-align: left;background-color: #f0f8ff;}#sk-container-id-116 div.sk-toggleable__content pre {margin: 0.2em;color: black;border-radius: 0.25em;background-color: #f0f8ff;}#sk-container-id-116 input.sk-toggleable__control:checked~div.sk-toggleable__content {max-height: 200px;max-width: 100%;overflow: auto;}#sk-container-id-116 input.sk-toggleable__control:checked~label.sk-toggleable__label-arrow:before {content: \"▾\";}#sk-container-id-116 div.sk-estimator input.sk-toggleable__control:checked~label.sk-toggleable__label {background-color: #d4ebff;}#sk-container-id-116 div.sk-label input.sk-toggleable__control:checked~label.sk-toggleable__label {background-color: #d4ebff;}#sk-container-id-116 input.sk-hidden--visually {border: 0;clip: rect(1px 1px 1px 1px);clip: rect(1px, 1px, 1px, 1px);height: 1px;margin: -1px;overflow: hidden;padding: 0;position: absolute;width: 1px;}#sk-container-id-116 div.sk-estimator {font-family: monospace;background-color: #f0f8ff;border: 1px dotted black;border-radius: 0.25em;box-sizing: border-box;margin-bottom: 0.5em;}#sk-container-id-116 div.sk-estimator:hover {background-color: #d4ebff;}#sk-container-id-116 div.sk-parallel-item::after {content: \"\";width: 100%;border-bottom: 1px solid gray;flex-grow: 1;}#sk-container-id-116 div.sk-label:hover label.sk-toggleable__label {background-color: #d4ebff;}#sk-container-id-116 div.sk-serial::before {content: \"\";position: absolute;border-left: 1px solid gray;box-sizing: border-box;top: 0;bottom: 0;left: 50%;z-index: 0;}#sk-container-id-116 div.sk-serial {display: flex;flex-direction: column;align-items: center;background-color: white;padding-right: 0.2em;padding-left: 0.2em;position: relative;}#sk-container-id-116 div.sk-item {position: relative;z-index: 1;}#sk-container-id-116 div.sk-parallel {display: flex;align-items: stretch;justify-content: center;background-color: white;position: relative;}#sk-container-id-116 div.sk-item::before, #sk-container-id-116 div.sk-parallel-item::before {content: \"\";position: absolute;border-left: 1px solid gray;box-sizing: border-box;top: 0;bottom: 0;left: 50%;z-index: -1;}#sk-container-id-116 div.sk-parallel-item {display: flex;flex-direction: column;z-index: 1;position: relative;background-color: white;}#sk-container-id-116 div.sk-parallel-item:first-child::after {align-self: flex-end;width: 50%;}#sk-container-id-116 div.sk-parallel-item:last-child::after {align-self: flex-start;width: 50%;}#sk-container-id-116 div.sk-parallel-item:only-child::after {width: 0;}#sk-container-id-116 div.sk-dashed-wrapped {border: 1px dashed gray;margin: 0 0.4em 0.5em 0.4em;box-sizing: border-box;padding-bottom: 0.4em;background-color: white;}#sk-container-id-116 div.sk-label label {font-family: monospace;font-weight: bold;display: inline-block;line-height: 1.2em;}#sk-container-id-116 div.sk-label-container {text-align: center;}#sk-container-id-116 div.sk-container {/* jupyter's `normalize.less` sets `[hidden] { display: none; }` but bootstrap.min.css set `[hidden] { display: none !important; }` so we also need the `!important` here to be able to override the default hidden behavior on the sphinx rendered scikit-learn.org. See: https://github.com/scikit-learn/scikit-learn/issues/21755 */display: inline-block !important;position: relative;}#sk-container-id-116 div.sk-text-repr-fallback {display: none;}</style><div id=\"sk-container-id-116\" class=\"sk-top-container\"><div class=\"sk-text-repr-fallback\"><pre>DecisionTreeClassifier(random_state=42)</pre><b>In a Jupyter environment, please rerun this cell to show the HTML representation or trust the notebook. <br />On GitHub, the HTML representation is unable to render, please try loading this page with nbviewer.org.</b></div><div class=\"sk-container\" hidden><div class=\"sk-item\"><div class=\"sk-estimator sk-toggleable\"><input class=\"sk-toggleable__control sk-hidden--visually\" id=\"sk-estimator-id-221\" type=\"checkbox\" checked><label for=\"sk-estimator-id-221\" class=\"sk-toggleable__label sk-toggleable__label-arrow\">DecisionTreeClassifier</label><div class=\"sk-toggleable__content\"><pre>DecisionTreeClassifier(random_state=42)</pre></div></div></div></div></div>"
      ],
      "text/plain": [
       "DecisionTreeClassifier(random_state=42)"
      ]
     },
     "execution_count": 807,
     "metadata": {},
     "output_type": "execute_result"
    }
   ],
   "source": [
    "cart.fit(X_train,y_train)"
   ]
  },
  {
   "cell_type": "code",
   "execution_count": 808,
   "metadata": {},
   "outputs": [],
   "source": [
    "y_pred_cart=cart.predict(X_test)"
   ]
  },
  {
   "attachments": {},
   "cell_type": "markdown",
   "metadata": {},
   "source": [
    "### Scores"
   ]
  },
  {
   "cell_type": "code",
   "execution_count": 809,
   "metadata": {},
   "outputs": [
    {
     "name": "stdout",
     "output_type": "stream",
     "text": [
      "              precision    recall  f1-score   support\n",
      "\n",
      "       False       0.60      0.57      0.59      1746\n",
      "        True       0.25      0.27      0.26       906\n",
      "\n",
      "    accuracy                           0.47      2652\n",
      "   macro avg       0.43      0.42      0.42      2652\n",
      "weighted avg       0.48      0.47      0.48      2652\n",
      "\n"
     ]
    }
   ],
   "source": [
    "print(classification_report(y_pred_cart,y_test))"
   ]
  },
  {
   "attachments": {},
   "cell_type": "markdown",
   "metadata": {},
   "source": [
    "### Hyperparameter tuning"
   ]
  },
  {
   "cell_type": "code",
   "execution_count": 810,
   "metadata": {},
   "outputs": [],
   "source": [
    "# param_grid = {\n",
    "#     'criterion': ['gini', 'entropy'],\n",
    "#     'max_depth': [None, 2, 10, 15,200]\n",
    "#     'splitter': ['best', 'random']\n",
    "# }\n",
    "param_grid = {\n",
    "    'max_depth': [2],\n",
    "    'criterion': ['entropy'],\n",
    "    'splitter': ['best']\n",
    "}\n",
    "grid_cart_clf = GridSearchCV(cart, param_grid=param_grid, cv=cv)"
   ]
  },
  {
   "cell_type": "code",
   "execution_count": 811,
   "metadata": {},
   "outputs": [
    {
     "data": {
      "text/html": [
       "<style>#sk-container-id-117 {color: black;background-color: white;}#sk-container-id-117 pre{padding: 0;}#sk-container-id-117 div.sk-toggleable {background-color: white;}#sk-container-id-117 label.sk-toggleable__label {cursor: pointer;display: block;width: 100%;margin-bottom: 0;padding: 0.3em;box-sizing: border-box;text-align: center;}#sk-container-id-117 label.sk-toggleable__label-arrow:before {content: \"▸\";float: left;margin-right: 0.25em;color: #696969;}#sk-container-id-117 label.sk-toggleable__label-arrow:hover:before {color: black;}#sk-container-id-117 div.sk-estimator:hover label.sk-toggleable__label-arrow:before {color: black;}#sk-container-id-117 div.sk-toggleable__content {max-height: 0;max-width: 0;overflow: hidden;text-align: left;background-color: #f0f8ff;}#sk-container-id-117 div.sk-toggleable__content pre {margin: 0.2em;color: black;border-radius: 0.25em;background-color: #f0f8ff;}#sk-container-id-117 input.sk-toggleable__control:checked~div.sk-toggleable__content {max-height: 200px;max-width: 100%;overflow: auto;}#sk-container-id-117 input.sk-toggleable__control:checked~label.sk-toggleable__label-arrow:before {content: \"▾\";}#sk-container-id-117 div.sk-estimator input.sk-toggleable__control:checked~label.sk-toggleable__label {background-color: #d4ebff;}#sk-container-id-117 div.sk-label input.sk-toggleable__control:checked~label.sk-toggleable__label {background-color: #d4ebff;}#sk-container-id-117 input.sk-hidden--visually {border: 0;clip: rect(1px 1px 1px 1px);clip: rect(1px, 1px, 1px, 1px);height: 1px;margin: -1px;overflow: hidden;padding: 0;position: absolute;width: 1px;}#sk-container-id-117 div.sk-estimator {font-family: monospace;background-color: #f0f8ff;border: 1px dotted black;border-radius: 0.25em;box-sizing: border-box;margin-bottom: 0.5em;}#sk-container-id-117 div.sk-estimator:hover {background-color: #d4ebff;}#sk-container-id-117 div.sk-parallel-item::after {content: \"\";width: 100%;border-bottom: 1px solid gray;flex-grow: 1;}#sk-container-id-117 div.sk-label:hover label.sk-toggleable__label {background-color: #d4ebff;}#sk-container-id-117 div.sk-serial::before {content: \"\";position: absolute;border-left: 1px solid gray;box-sizing: border-box;top: 0;bottom: 0;left: 50%;z-index: 0;}#sk-container-id-117 div.sk-serial {display: flex;flex-direction: column;align-items: center;background-color: white;padding-right: 0.2em;padding-left: 0.2em;position: relative;}#sk-container-id-117 div.sk-item {position: relative;z-index: 1;}#sk-container-id-117 div.sk-parallel {display: flex;align-items: stretch;justify-content: center;background-color: white;position: relative;}#sk-container-id-117 div.sk-item::before, #sk-container-id-117 div.sk-parallel-item::before {content: \"\";position: absolute;border-left: 1px solid gray;box-sizing: border-box;top: 0;bottom: 0;left: 50%;z-index: -1;}#sk-container-id-117 div.sk-parallel-item {display: flex;flex-direction: column;z-index: 1;position: relative;background-color: white;}#sk-container-id-117 div.sk-parallel-item:first-child::after {align-self: flex-end;width: 50%;}#sk-container-id-117 div.sk-parallel-item:last-child::after {align-self: flex-start;width: 50%;}#sk-container-id-117 div.sk-parallel-item:only-child::after {width: 0;}#sk-container-id-117 div.sk-dashed-wrapped {border: 1px dashed gray;margin: 0 0.4em 0.5em 0.4em;box-sizing: border-box;padding-bottom: 0.4em;background-color: white;}#sk-container-id-117 div.sk-label label {font-family: monospace;font-weight: bold;display: inline-block;line-height: 1.2em;}#sk-container-id-117 div.sk-label-container {text-align: center;}#sk-container-id-117 div.sk-container {/* jupyter's `normalize.less` sets `[hidden] { display: none; }` but bootstrap.min.css set `[hidden] { display: none !important; }` so we also need the `!important` here to be able to override the default hidden behavior on the sphinx rendered scikit-learn.org. See: https://github.com/scikit-learn/scikit-learn/issues/21755 */display: inline-block !important;position: relative;}#sk-container-id-117 div.sk-text-repr-fallback {display: none;}</style><div id=\"sk-container-id-117\" class=\"sk-top-container\"><div class=\"sk-text-repr-fallback\"><pre>GridSearchCV(cv=ShuffleSplit(n_splits=10, random_state=42, test_size=0.2, train_size=None),\n",
       "             estimator=DecisionTreeClassifier(random_state=42),\n",
       "             param_grid={&#x27;criterion&#x27;: [&#x27;entropy&#x27;], &#x27;max_depth&#x27;: [2],\n",
       "                         &#x27;splitter&#x27;: [&#x27;best&#x27;]})</pre><b>In a Jupyter environment, please rerun this cell to show the HTML representation or trust the notebook. <br />On GitHub, the HTML representation is unable to render, please try loading this page with nbviewer.org.</b></div><div class=\"sk-container\" hidden><div class=\"sk-item sk-dashed-wrapped\"><div class=\"sk-label-container\"><div class=\"sk-label sk-toggleable\"><input class=\"sk-toggleable__control sk-hidden--visually\" id=\"sk-estimator-id-222\" type=\"checkbox\" ><label for=\"sk-estimator-id-222\" class=\"sk-toggleable__label sk-toggleable__label-arrow\">GridSearchCV</label><div class=\"sk-toggleable__content\"><pre>GridSearchCV(cv=ShuffleSplit(n_splits=10, random_state=42, test_size=0.2, train_size=None),\n",
       "             estimator=DecisionTreeClassifier(random_state=42),\n",
       "             param_grid={&#x27;criterion&#x27;: [&#x27;entropy&#x27;], &#x27;max_depth&#x27;: [2],\n",
       "                         &#x27;splitter&#x27;: [&#x27;best&#x27;]})</pre></div></div></div><div class=\"sk-parallel\"><div class=\"sk-parallel-item\"><div class=\"sk-item\"><div class=\"sk-label-container\"><div class=\"sk-label sk-toggleable\"><input class=\"sk-toggleable__control sk-hidden--visually\" id=\"sk-estimator-id-223\" type=\"checkbox\" ><label for=\"sk-estimator-id-223\" class=\"sk-toggleable__label sk-toggleable__label-arrow\">estimator: DecisionTreeClassifier</label><div class=\"sk-toggleable__content\"><pre>DecisionTreeClassifier(random_state=42)</pre></div></div></div><div class=\"sk-serial\"><div class=\"sk-item\"><div class=\"sk-estimator sk-toggleable\"><input class=\"sk-toggleable__control sk-hidden--visually\" id=\"sk-estimator-id-224\" type=\"checkbox\" ><label for=\"sk-estimator-id-224\" class=\"sk-toggleable__label sk-toggleable__label-arrow\">DecisionTreeClassifier</label><div class=\"sk-toggleable__content\"><pre>DecisionTreeClassifier(random_state=42)</pre></div></div></div></div></div></div></div></div></div></div>"
      ],
      "text/plain": [
       "GridSearchCV(cv=ShuffleSplit(n_splits=10, random_state=42, test_size=0.2, train_size=None),\n",
       "             estimator=DecisionTreeClassifier(random_state=42),\n",
       "             param_grid={'criterion': ['entropy'], 'max_depth': [2],\n",
       "                         'splitter': ['best']})"
      ]
     },
     "execution_count": 811,
     "metadata": {},
     "output_type": "execute_result"
    }
   ],
   "source": [
    "grid_cart_clf.fit(X_train,y_train)"
   ]
  },
  {
   "cell_type": "code",
   "execution_count": 812,
   "metadata": {},
   "outputs": [
    {
     "name": "stdout",
     "output_type": "stream",
     "text": [
      "Best parameters:  {'criterion': 'entropy', 'max_depth': 2, 'splitter': 'best'}\n",
      "Best f1 score:  0.6598963242224317\n"
     ]
    }
   ],
   "source": [
    "print(\"Best parameters: \", grid_cart_clf.best_params_)\n",
    "print(\"Best f1 score: \", grid_cart_clf.best_score_)"
   ]
  },
  {
   "cell_type": "code",
   "execution_count": 813,
   "metadata": {},
   "outputs": [
    {
     "data": {
      "text/html": [
       "<style>#sk-container-id-118 {color: black;background-color: white;}#sk-container-id-118 pre{padding: 0;}#sk-container-id-118 div.sk-toggleable {background-color: white;}#sk-container-id-118 label.sk-toggleable__label {cursor: pointer;display: block;width: 100%;margin-bottom: 0;padding: 0.3em;box-sizing: border-box;text-align: center;}#sk-container-id-118 label.sk-toggleable__label-arrow:before {content: \"▸\";float: left;margin-right: 0.25em;color: #696969;}#sk-container-id-118 label.sk-toggleable__label-arrow:hover:before {color: black;}#sk-container-id-118 div.sk-estimator:hover label.sk-toggleable__label-arrow:before {color: black;}#sk-container-id-118 div.sk-toggleable__content {max-height: 0;max-width: 0;overflow: hidden;text-align: left;background-color: #f0f8ff;}#sk-container-id-118 div.sk-toggleable__content pre {margin: 0.2em;color: black;border-radius: 0.25em;background-color: #f0f8ff;}#sk-container-id-118 input.sk-toggleable__control:checked~div.sk-toggleable__content {max-height: 200px;max-width: 100%;overflow: auto;}#sk-container-id-118 input.sk-toggleable__control:checked~label.sk-toggleable__label-arrow:before {content: \"▾\";}#sk-container-id-118 div.sk-estimator input.sk-toggleable__control:checked~label.sk-toggleable__label {background-color: #d4ebff;}#sk-container-id-118 div.sk-label input.sk-toggleable__control:checked~label.sk-toggleable__label {background-color: #d4ebff;}#sk-container-id-118 input.sk-hidden--visually {border: 0;clip: rect(1px 1px 1px 1px);clip: rect(1px, 1px, 1px, 1px);height: 1px;margin: -1px;overflow: hidden;padding: 0;position: absolute;width: 1px;}#sk-container-id-118 div.sk-estimator {font-family: monospace;background-color: #f0f8ff;border: 1px dotted black;border-radius: 0.25em;box-sizing: border-box;margin-bottom: 0.5em;}#sk-container-id-118 div.sk-estimator:hover {background-color: #d4ebff;}#sk-container-id-118 div.sk-parallel-item::after {content: \"\";width: 100%;border-bottom: 1px solid gray;flex-grow: 1;}#sk-container-id-118 div.sk-label:hover label.sk-toggleable__label {background-color: #d4ebff;}#sk-container-id-118 div.sk-serial::before {content: \"\";position: absolute;border-left: 1px solid gray;box-sizing: border-box;top: 0;bottom: 0;left: 50%;z-index: 0;}#sk-container-id-118 div.sk-serial {display: flex;flex-direction: column;align-items: center;background-color: white;padding-right: 0.2em;padding-left: 0.2em;position: relative;}#sk-container-id-118 div.sk-item {position: relative;z-index: 1;}#sk-container-id-118 div.sk-parallel {display: flex;align-items: stretch;justify-content: center;background-color: white;position: relative;}#sk-container-id-118 div.sk-item::before, #sk-container-id-118 div.sk-parallel-item::before {content: \"\";position: absolute;border-left: 1px solid gray;box-sizing: border-box;top: 0;bottom: 0;left: 50%;z-index: -1;}#sk-container-id-118 div.sk-parallel-item {display: flex;flex-direction: column;z-index: 1;position: relative;background-color: white;}#sk-container-id-118 div.sk-parallel-item:first-child::after {align-self: flex-end;width: 50%;}#sk-container-id-118 div.sk-parallel-item:last-child::after {align-self: flex-start;width: 50%;}#sk-container-id-118 div.sk-parallel-item:only-child::after {width: 0;}#sk-container-id-118 div.sk-dashed-wrapped {border: 1px dashed gray;margin: 0 0.4em 0.5em 0.4em;box-sizing: border-box;padding-bottom: 0.4em;background-color: white;}#sk-container-id-118 div.sk-label label {font-family: monospace;font-weight: bold;display: inline-block;line-height: 1.2em;}#sk-container-id-118 div.sk-label-container {text-align: center;}#sk-container-id-118 div.sk-container {/* jupyter's `normalize.less` sets `[hidden] { display: none; }` but bootstrap.min.css set `[hidden] { display: none !important; }` so we also need the `!important` here to be able to override the default hidden behavior on the sphinx rendered scikit-learn.org. See: https://github.com/scikit-learn/scikit-learn/issues/21755 */display: inline-block !important;position: relative;}#sk-container-id-118 div.sk-text-repr-fallback {display: none;}</style><div id=\"sk-container-id-118\" class=\"sk-top-container\"><div class=\"sk-text-repr-fallback\"><pre>DecisionTreeClassifier(criterion=&#x27;entropy&#x27;, max_depth=2, random_state=42)</pre><b>In a Jupyter environment, please rerun this cell to show the HTML representation or trust the notebook. <br />On GitHub, the HTML representation is unable to render, please try loading this page with nbviewer.org.</b></div><div class=\"sk-container\" hidden><div class=\"sk-item\"><div class=\"sk-estimator sk-toggleable\"><input class=\"sk-toggleable__control sk-hidden--visually\" id=\"sk-estimator-id-225\" type=\"checkbox\" checked><label for=\"sk-estimator-id-225\" class=\"sk-toggleable__label sk-toggleable__label-arrow\">DecisionTreeClassifier</label><div class=\"sk-toggleable__content\"><pre>DecisionTreeClassifier(criterion=&#x27;entropy&#x27;, max_depth=2, random_state=42)</pre></div></div></div></div></div>"
      ],
      "text/plain": [
       "DecisionTreeClassifier(criterion='entropy', max_depth=2, random_state=42)"
      ]
     },
     "execution_count": 813,
     "metadata": {},
     "output_type": "execute_result"
    }
   ],
   "source": [
    "tuned_cart=grid_cart_clf.best_estimator_\n",
    "tuned_cart"
   ]
  },
  {
   "cell_type": "code",
   "execution_count": 814,
   "metadata": {},
   "outputs": [],
   "source": [
    "y_pred_tuned_cart=tuned_cart.predict(X_test)"
   ]
  },
  {
   "cell_type": "code",
   "execution_count": 815,
   "metadata": {},
   "outputs": [
    {
     "name": "stdout",
     "output_type": "stream",
     "text": [
      "              precision    recall  f1-score   support\n",
      "\n",
      "       False       0.89      0.69      0.78      2148\n",
      "        True       0.33      0.64      0.43       504\n",
      "\n",
      "    accuracy                           0.68      2652\n",
      "   macro avg       0.61      0.66      0.60      2652\n",
      "weighted avg       0.78      0.68      0.71      2652\n",
      "\n"
     ]
    }
   ],
   "source": [
    "print(classification_report(y_pred_tuned_cart,y_test))"
   ]
  },
  {
   "cell_type": "code",
   "execution_count": 816,
   "metadata": {},
   "outputs": [],
   "source": [
    "submit(tuned_cart)"
   ]
  },
  {
   "attachments": {},
   "cell_type": "markdown",
   "metadata": {},
   "source": [
    "# Random Forest Classifier"
   ]
  },
  {
   "cell_type": "code",
   "execution_count": 817,
   "metadata": {},
   "outputs": [],
   "source": [
    "rfc = RandomForestClassifier(min_samples_split=20, max_depth=6, random_state=0)"
   ]
  },
  {
   "cell_type": "code",
   "execution_count": 818,
   "metadata": {},
   "outputs": [
    {
     "data": {
      "text/html": [
       "<style>#sk-container-id-119 {color: black;background-color: white;}#sk-container-id-119 pre{padding: 0;}#sk-container-id-119 div.sk-toggleable {background-color: white;}#sk-container-id-119 label.sk-toggleable__label {cursor: pointer;display: block;width: 100%;margin-bottom: 0;padding: 0.3em;box-sizing: border-box;text-align: center;}#sk-container-id-119 label.sk-toggleable__label-arrow:before {content: \"▸\";float: left;margin-right: 0.25em;color: #696969;}#sk-container-id-119 label.sk-toggleable__label-arrow:hover:before {color: black;}#sk-container-id-119 div.sk-estimator:hover label.sk-toggleable__label-arrow:before {color: black;}#sk-container-id-119 div.sk-toggleable__content {max-height: 0;max-width: 0;overflow: hidden;text-align: left;background-color: #f0f8ff;}#sk-container-id-119 div.sk-toggleable__content pre {margin: 0.2em;color: black;border-radius: 0.25em;background-color: #f0f8ff;}#sk-container-id-119 input.sk-toggleable__control:checked~div.sk-toggleable__content {max-height: 200px;max-width: 100%;overflow: auto;}#sk-container-id-119 input.sk-toggleable__control:checked~label.sk-toggleable__label-arrow:before {content: \"▾\";}#sk-container-id-119 div.sk-estimator input.sk-toggleable__control:checked~label.sk-toggleable__label {background-color: #d4ebff;}#sk-container-id-119 div.sk-label input.sk-toggleable__control:checked~label.sk-toggleable__label {background-color: #d4ebff;}#sk-container-id-119 input.sk-hidden--visually {border: 0;clip: rect(1px 1px 1px 1px);clip: rect(1px, 1px, 1px, 1px);height: 1px;margin: -1px;overflow: hidden;padding: 0;position: absolute;width: 1px;}#sk-container-id-119 div.sk-estimator {font-family: monospace;background-color: #f0f8ff;border: 1px dotted black;border-radius: 0.25em;box-sizing: border-box;margin-bottom: 0.5em;}#sk-container-id-119 div.sk-estimator:hover {background-color: #d4ebff;}#sk-container-id-119 div.sk-parallel-item::after {content: \"\";width: 100%;border-bottom: 1px solid gray;flex-grow: 1;}#sk-container-id-119 div.sk-label:hover label.sk-toggleable__label {background-color: #d4ebff;}#sk-container-id-119 div.sk-serial::before {content: \"\";position: absolute;border-left: 1px solid gray;box-sizing: border-box;top: 0;bottom: 0;left: 50%;z-index: 0;}#sk-container-id-119 div.sk-serial {display: flex;flex-direction: column;align-items: center;background-color: white;padding-right: 0.2em;padding-left: 0.2em;position: relative;}#sk-container-id-119 div.sk-item {position: relative;z-index: 1;}#sk-container-id-119 div.sk-parallel {display: flex;align-items: stretch;justify-content: center;background-color: white;position: relative;}#sk-container-id-119 div.sk-item::before, #sk-container-id-119 div.sk-parallel-item::before {content: \"\";position: absolute;border-left: 1px solid gray;box-sizing: border-box;top: 0;bottom: 0;left: 50%;z-index: -1;}#sk-container-id-119 div.sk-parallel-item {display: flex;flex-direction: column;z-index: 1;position: relative;background-color: white;}#sk-container-id-119 div.sk-parallel-item:first-child::after {align-self: flex-end;width: 50%;}#sk-container-id-119 div.sk-parallel-item:last-child::after {align-self: flex-start;width: 50%;}#sk-container-id-119 div.sk-parallel-item:only-child::after {width: 0;}#sk-container-id-119 div.sk-dashed-wrapped {border: 1px dashed gray;margin: 0 0.4em 0.5em 0.4em;box-sizing: border-box;padding-bottom: 0.4em;background-color: white;}#sk-container-id-119 div.sk-label label {font-family: monospace;font-weight: bold;display: inline-block;line-height: 1.2em;}#sk-container-id-119 div.sk-label-container {text-align: center;}#sk-container-id-119 div.sk-container {/* jupyter's `normalize.less` sets `[hidden] { display: none; }` but bootstrap.min.css set `[hidden] { display: none !important; }` so we also need the `!important` here to be able to override the default hidden behavior on the sphinx rendered scikit-learn.org. See: https://github.com/scikit-learn/scikit-learn/issues/21755 */display: inline-block !important;position: relative;}#sk-container-id-119 div.sk-text-repr-fallback {display: none;}</style><div id=\"sk-container-id-119\" class=\"sk-top-container\"><div class=\"sk-text-repr-fallback\"><pre>RandomForestClassifier(max_depth=6, min_samples_split=20, random_state=0)</pre><b>In a Jupyter environment, please rerun this cell to show the HTML representation or trust the notebook. <br />On GitHub, the HTML representation is unable to render, please try loading this page with nbviewer.org.</b></div><div class=\"sk-container\" hidden><div class=\"sk-item\"><div class=\"sk-estimator sk-toggleable\"><input class=\"sk-toggleable__control sk-hidden--visually\" id=\"sk-estimator-id-226\" type=\"checkbox\" checked><label for=\"sk-estimator-id-226\" class=\"sk-toggleable__label sk-toggleable__label-arrow\">RandomForestClassifier</label><div class=\"sk-toggleable__content\"><pre>RandomForestClassifier(max_depth=6, min_samples_split=20, random_state=0)</pre></div></div></div></div></div>"
      ],
      "text/plain": [
       "RandomForestClassifier(max_depth=6, min_samples_split=20, random_state=0)"
      ]
     },
     "execution_count": 818,
     "metadata": {},
     "output_type": "execute_result"
    }
   ],
   "source": [
    "rfc.fit(X_train, y_train)"
   ]
  },
  {
   "cell_type": "code",
   "execution_count": 819,
   "metadata": {},
   "outputs": [],
   "source": [
    "y_pred_rfc = rfc.predict(X_test)"
   ]
  },
  {
   "cell_type": "code",
   "execution_count": 820,
   "metadata": {},
   "outputs": [
    {
     "name": "stdout",
     "output_type": "stream",
     "text": [
      "              precision    recall  f1-score   support\n",
      "\n",
      "       False       0.93      0.68      0.79      2289\n",
      "        True       0.25      0.69      0.37       363\n",
      "\n",
      "    accuracy                           0.68      2652\n",
      "   macro avg       0.59      0.69      0.58      2652\n",
      "weighted avg       0.84      0.68      0.73      2652\n",
      "\n"
     ]
    }
   ],
   "source": [
    "print(classification_report(y_pred_rfc,y_test))"
   ]
  },
  {
   "attachments": {},
   "cell_type": "markdown",
   "metadata": {},
   "source": [
    "### Hyperparameter tuning"
   ]
  },
  {
   "cell_type": "code",
   "execution_count": 821,
   "metadata": {},
   "outputs": [],
   "source": [
    "# param_grid = {'n_estimators': [20, 50, 100, 200],\n",
    "#               'max_depth': [3, 5, 7, 9],\n",
    "#               'criterion': ['gini', 'entropy', 'log_loss'],\n",
    "#               'class_weight': ['balanced', 'balanced_subsample']}\n",
    "param_grid = {'n_estimators': [200],\n",
    "              'max_depth': [5],\n",
    "              'criterion': ['entropy'],\n",
    "              'class_weight': ['balanced']}\n",
    "grid_rf_clf = GridSearchCV(rfc,\n",
    "                               param_grid=param_grid,\n",
    "                               cv=cv)"
   ]
  },
  {
   "cell_type": "code",
   "execution_count": 822,
   "metadata": {},
   "outputs": [
    {
     "data": {
      "text/html": [
       "<style>#sk-container-id-120 {color: black;background-color: white;}#sk-container-id-120 pre{padding: 0;}#sk-container-id-120 div.sk-toggleable {background-color: white;}#sk-container-id-120 label.sk-toggleable__label {cursor: pointer;display: block;width: 100%;margin-bottom: 0;padding: 0.3em;box-sizing: border-box;text-align: center;}#sk-container-id-120 label.sk-toggleable__label-arrow:before {content: \"▸\";float: left;margin-right: 0.25em;color: #696969;}#sk-container-id-120 label.sk-toggleable__label-arrow:hover:before {color: black;}#sk-container-id-120 div.sk-estimator:hover label.sk-toggleable__label-arrow:before {color: black;}#sk-container-id-120 div.sk-toggleable__content {max-height: 0;max-width: 0;overflow: hidden;text-align: left;background-color: #f0f8ff;}#sk-container-id-120 div.sk-toggleable__content pre {margin: 0.2em;color: black;border-radius: 0.25em;background-color: #f0f8ff;}#sk-container-id-120 input.sk-toggleable__control:checked~div.sk-toggleable__content {max-height: 200px;max-width: 100%;overflow: auto;}#sk-container-id-120 input.sk-toggleable__control:checked~label.sk-toggleable__label-arrow:before {content: \"▾\";}#sk-container-id-120 div.sk-estimator input.sk-toggleable__control:checked~label.sk-toggleable__label {background-color: #d4ebff;}#sk-container-id-120 div.sk-label input.sk-toggleable__control:checked~label.sk-toggleable__label {background-color: #d4ebff;}#sk-container-id-120 input.sk-hidden--visually {border: 0;clip: rect(1px 1px 1px 1px);clip: rect(1px, 1px, 1px, 1px);height: 1px;margin: -1px;overflow: hidden;padding: 0;position: absolute;width: 1px;}#sk-container-id-120 div.sk-estimator {font-family: monospace;background-color: #f0f8ff;border: 1px dotted black;border-radius: 0.25em;box-sizing: border-box;margin-bottom: 0.5em;}#sk-container-id-120 div.sk-estimator:hover {background-color: #d4ebff;}#sk-container-id-120 div.sk-parallel-item::after {content: \"\";width: 100%;border-bottom: 1px solid gray;flex-grow: 1;}#sk-container-id-120 div.sk-label:hover label.sk-toggleable__label {background-color: #d4ebff;}#sk-container-id-120 div.sk-serial::before {content: \"\";position: absolute;border-left: 1px solid gray;box-sizing: border-box;top: 0;bottom: 0;left: 50%;z-index: 0;}#sk-container-id-120 div.sk-serial {display: flex;flex-direction: column;align-items: center;background-color: white;padding-right: 0.2em;padding-left: 0.2em;position: relative;}#sk-container-id-120 div.sk-item {position: relative;z-index: 1;}#sk-container-id-120 div.sk-parallel {display: flex;align-items: stretch;justify-content: center;background-color: white;position: relative;}#sk-container-id-120 div.sk-item::before, #sk-container-id-120 div.sk-parallel-item::before {content: \"\";position: absolute;border-left: 1px solid gray;box-sizing: border-box;top: 0;bottom: 0;left: 50%;z-index: -1;}#sk-container-id-120 div.sk-parallel-item {display: flex;flex-direction: column;z-index: 1;position: relative;background-color: white;}#sk-container-id-120 div.sk-parallel-item:first-child::after {align-self: flex-end;width: 50%;}#sk-container-id-120 div.sk-parallel-item:last-child::after {align-self: flex-start;width: 50%;}#sk-container-id-120 div.sk-parallel-item:only-child::after {width: 0;}#sk-container-id-120 div.sk-dashed-wrapped {border: 1px dashed gray;margin: 0 0.4em 0.5em 0.4em;box-sizing: border-box;padding-bottom: 0.4em;background-color: white;}#sk-container-id-120 div.sk-label label {font-family: monospace;font-weight: bold;display: inline-block;line-height: 1.2em;}#sk-container-id-120 div.sk-label-container {text-align: center;}#sk-container-id-120 div.sk-container {/* jupyter's `normalize.less` sets `[hidden] { display: none; }` but bootstrap.min.css set `[hidden] { display: none !important; }` so we also need the `!important` here to be able to override the default hidden behavior on the sphinx rendered scikit-learn.org. See: https://github.com/scikit-learn/scikit-learn/issues/21755 */display: inline-block !important;position: relative;}#sk-container-id-120 div.sk-text-repr-fallback {display: none;}</style><div id=\"sk-container-id-120\" class=\"sk-top-container\"><div class=\"sk-text-repr-fallback\"><pre>GridSearchCV(cv=ShuffleSplit(n_splits=10, random_state=42, test_size=0.2, train_size=None),\n",
       "             estimator=RandomForestClassifier(max_depth=6, min_samples_split=20,\n",
       "                                              random_state=0),\n",
       "             param_grid={&#x27;class_weight&#x27;: [&#x27;balanced&#x27;], &#x27;criterion&#x27;: [&#x27;entropy&#x27;],\n",
       "                         &#x27;max_depth&#x27;: [5], &#x27;n_estimators&#x27;: [200]})</pre><b>In a Jupyter environment, please rerun this cell to show the HTML representation or trust the notebook. <br />On GitHub, the HTML representation is unable to render, please try loading this page with nbviewer.org.</b></div><div class=\"sk-container\" hidden><div class=\"sk-item sk-dashed-wrapped\"><div class=\"sk-label-container\"><div class=\"sk-label sk-toggleable\"><input class=\"sk-toggleable__control sk-hidden--visually\" id=\"sk-estimator-id-227\" type=\"checkbox\" ><label for=\"sk-estimator-id-227\" class=\"sk-toggleable__label sk-toggleable__label-arrow\">GridSearchCV</label><div class=\"sk-toggleable__content\"><pre>GridSearchCV(cv=ShuffleSplit(n_splits=10, random_state=42, test_size=0.2, train_size=None),\n",
       "             estimator=RandomForestClassifier(max_depth=6, min_samples_split=20,\n",
       "                                              random_state=0),\n",
       "             param_grid={&#x27;class_weight&#x27;: [&#x27;balanced&#x27;], &#x27;criterion&#x27;: [&#x27;entropy&#x27;],\n",
       "                         &#x27;max_depth&#x27;: [5], &#x27;n_estimators&#x27;: [200]})</pre></div></div></div><div class=\"sk-parallel\"><div class=\"sk-parallel-item\"><div class=\"sk-item\"><div class=\"sk-label-container\"><div class=\"sk-label sk-toggleable\"><input class=\"sk-toggleable__control sk-hidden--visually\" id=\"sk-estimator-id-228\" type=\"checkbox\" ><label for=\"sk-estimator-id-228\" class=\"sk-toggleable__label sk-toggleable__label-arrow\">estimator: RandomForestClassifier</label><div class=\"sk-toggleable__content\"><pre>RandomForestClassifier(max_depth=6, min_samples_split=20, random_state=0)</pre></div></div></div><div class=\"sk-serial\"><div class=\"sk-item\"><div class=\"sk-estimator sk-toggleable\"><input class=\"sk-toggleable__control sk-hidden--visually\" id=\"sk-estimator-id-229\" type=\"checkbox\" ><label for=\"sk-estimator-id-229\" class=\"sk-toggleable__label sk-toggleable__label-arrow\">RandomForestClassifier</label><div class=\"sk-toggleable__content\"><pre>RandomForestClassifier(max_depth=6, min_samples_split=20, random_state=0)</pre></div></div></div></div></div></div></div></div></div></div>"
      ],
      "text/plain": [
       "GridSearchCV(cv=ShuffleSplit(n_splits=10, random_state=42, test_size=0.2, train_size=None),\n",
       "             estimator=RandomForestClassifier(max_depth=6, min_samples_split=20,\n",
       "                                              random_state=0),\n",
       "             param_grid={'class_weight': ['balanced'], 'criterion': ['entropy'],\n",
       "                         'max_depth': [5], 'n_estimators': [200]})"
      ]
     },
     "execution_count": 822,
     "metadata": {},
     "output_type": "execute_result"
    }
   ],
   "source": [
    "grid_rf_clf.fit(X_train, y_train)"
   ]
  },
  {
   "cell_type": "code",
   "execution_count": 823,
   "metadata": {},
   "outputs": [
    {
     "name": "stdout",
     "output_type": "stream",
     "text": [
      "Best parameters:  {'class_weight': 'balanced', 'criterion': 'entropy', 'max_depth': 5, 'n_estimators': 200}\n",
      "Best f1 score:  0.6422714420358153\n"
     ]
    }
   ],
   "source": [
    "print(\"Best parameters: \", grid_rf_clf.best_params_)\n",
    "print(\"Best f1 score: \", grid_rf_clf.best_score_)"
   ]
  },
  {
   "cell_type": "code",
   "execution_count": 824,
   "metadata": {},
   "outputs": [
    {
     "data": {
      "text/html": [
       "<style>#sk-container-id-121 {color: black;background-color: white;}#sk-container-id-121 pre{padding: 0;}#sk-container-id-121 div.sk-toggleable {background-color: white;}#sk-container-id-121 label.sk-toggleable__label {cursor: pointer;display: block;width: 100%;margin-bottom: 0;padding: 0.3em;box-sizing: border-box;text-align: center;}#sk-container-id-121 label.sk-toggleable__label-arrow:before {content: \"▸\";float: left;margin-right: 0.25em;color: #696969;}#sk-container-id-121 label.sk-toggleable__label-arrow:hover:before {color: black;}#sk-container-id-121 div.sk-estimator:hover label.sk-toggleable__label-arrow:before {color: black;}#sk-container-id-121 div.sk-toggleable__content {max-height: 0;max-width: 0;overflow: hidden;text-align: left;background-color: #f0f8ff;}#sk-container-id-121 div.sk-toggleable__content pre {margin: 0.2em;color: black;border-radius: 0.25em;background-color: #f0f8ff;}#sk-container-id-121 input.sk-toggleable__control:checked~div.sk-toggleable__content {max-height: 200px;max-width: 100%;overflow: auto;}#sk-container-id-121 input.sk-toggleable__control:checked~label.sk-toggleable__label-arrow:before {content: \"▾\";}#sk-container-id-121 div.sk-estimator input.sk-toggleable__control:checked~label.sk-toggleable__label {background-color: #d4ebff;}#sk-container-id-121 div.sk-label input.sk-toggleable__control:checked~label.sk-toggleable__label {background-color: #d4ebff;}#sk-container-id-121 input.sk-hidden--visually {border: 0;clip: rect(1px 1px 1px 1px);clip: rect(1px, 1px, 1px, 1px);height: 1px;margin: -1px;overflow: hidden;padding: 0;position: absolute;width: 1px;}#sk-container-id-121 div.sk-estimator {font-family: monospace;background-color: #f0f8ff;border: 1px dotted black;border-radius: 0.25em;box-sizing: border-box;margin-bottom: 0.5em;}#sk-container-id-121 div.sk-estimator:hover {background-color: #d4ebff;}#sk-container-id-121 div.sk-parallel-item::after {content: \"\";width: 100%;border-bottom: 1px solid gray;flex-grow: 1;}#sk-container-id-121 div.sk-label:hover label.sk-toggleable__label {background-color: #d4ebff;}#sk-container-id-121 div.sk-serial::before {content: \"\";position: absolute;border-left: 1px solid gray;box-sizing: border-box;top: 0;bottom: 0;left: 50%;z-index: 0;}#sk-container-id-121 div.sk-serial {display: flex;flex-direction: column;align-items: center;background-color: white;padding-right: 0.2em;padding-left: 0.2em;position: relative;}#sk-container-id-121 div.sk-item {position: relative;z-index: 1;}#sk-container-id-121 div.sk-parallel {display: flex;align-items: stretch;justify-content: center;background-color: white;position: relative;}#sk-container-id-121 div.sk-item::before, #sk-container-id-121 div.sk-parallel-item::before {content: \"\";position: absolute;border-left: 1px solid gray;box-sizing: border-box;top: 0;bottom: 0;left: 50%;z-index: -1;}#sk-container-id-121 div.sk-parallel-item {display: flex;flex-direction: column;z-index: 1;position: relative;background-color: white;}#sk-container-id-121 div.sk-parallel-item:first-child::after {align-self: flex-end;width: 50%;}#sk-container-id-121 div.sk-parallel-item:last-child::after {align-self: flex-start;width: 50%;}#sk-container-id-121 div.sk-parallel-item:only-child::after {width: 0;}#sk-container-id-121 div.sk-dashed-wrapped {border: 1px dashed gray;margin: 0 0.4em 0.5em 0.4em;box-sizing: border-box;padding-bottom: 0.4em;background-color: white;}#sk-container-id-121 div.sk-label label {font-family: monospace;font-weight: bold;display: inline-block;line-height: 1.2em;}#sk-container-id-121 div.sk-label-container {text-align: center;}#sk-container-id-121 div.sk-container {/* jupyter's `normalize.less` sets `[hidden] { display: none; }` but bootstrap.min.css set `[hidden] { display: none !important; }` so we also need the `!important` here to be able to override the default hidden behavior on the sphinx rendered scikit-learn.org. See: https://github.com/scikit-learn/scikit-learn/issues/21755 */display: inline-block !important;position: relative;}#sk-container-id-121 div.sk-text-repr-fallback {display: none;}</style><div id=\"sk-container-id-121\" class=\"sk-top-container\"><div class=\"sk-text-repr-fallback\"><pre>RandomForestClassifier(class_weight=&#x27;balanced&#x27;, criterion=&#x27;entropy&#x27;,\n",
       "                       max_depth=5, min_samples_split=20, n_estimators=200,\n",
       "                       random_state=0)</pre><b>In a Jupyter environment, please rerun this cell to show the HTML representation or trust the notebook. <br />On GitHub, the HTML representation is unable to render, please try loading this page with nbviewer.org.</b></div><div class=\"sk-container\" hidden><div class=\"sk-item\"><div class=\"sk-estimator sk-toggleable\"><input class=\"sk-toggleable__control sk-hidden--visually\" id=\"sk-estimator-id-230\" type=\"checkbox\" checked><label for=\"sk-estimator-id-230\" class=\"sk-toggleable__label sk-toggleable__label-arrow\">RandomForestClassifier</label><div class=\"sk-toggleable__content\"><pre>RandomForestClassifier(class_weight=&#x27;balanced&#x27;, criterion=&#x27;entropy&#x27;,\n",
       "                       max_depth=5, min_samples_split=20, n_estimators=200,\n",
       "                       random_state=0)</pre></div></div></div></div></div>"
      ],
      "text/plain": [
       "RandomForestClassifier(class_weight='balanced', criterion='entropy',\n",
       "                       max_depth=5, min_samples_split=20, n_estimators=200,\n",
       "                       random_state=0)"
      ]
     },
     "execution_count": 824,
     "metadata": {},
     "output_type": "execute_result"
    }
   ],
   "source": [
    "tuned_rfc=grid_rf_clf.best_estimator_\n",
    "tuned_rfc"
   ]
  },
  {
   "cell_type": "code",
   "execution_count": 825,
   "metadata": {},
   "outputs": [],
   "source": [
    "y_pred_tuned_rfc=tuned_rfc.predict(X_test)"
   ]
  },
  {
   "cell_type": "code",
   "execution_count": 826,
   "metadata": {},
   "outputs": [
    {
     "name": "stdout",
     "output_type": "stream",
     "text": [
      "              precision    recall  f1-score   support\n",
      "\n",
      "       False       0.85      0.69      0.76      2052\n",
      "        True       0.36      0.59      0.45       600\n",
      "\n",
      "    accuracy                           0.67      2652\n",
      "   macro avg       0.61      0.64      0.60      2652\n",
      "weighted avg       0.74      0.67      0.69      2652\n",
      "\n"
     ]
    }
   ],
   "source": [
    "print(classification_report(y_pred_tuned_rfc,y_test))"
   ]
  },
  {
   "attachments": {},
   "cell_type": "markdown",
   "metadata": {},
   "source": [
    "# Bagging on RFC"
   ]
  },
  {
   "attachments": {},
   "cell_type": "markdown",
   "metadata": {},
   "source": [
    "### Classifier"
   ]
  },
  {
   "cell_type": "code",
   "execution_count": 827,
   "metadata": {},
   "outputs": [],
   "source": [
    "bag_rfc=BaggingClassifier(base_estimator=tuned_rfc, n_estimators=35, random_state=42)"
   ]
  },
  {
   "cell_type": "code",
   "execution_count": 828,
   "metadata": {},
   "outputs": [
    {
     "name": "stderr",
     "output_type": "stream",
     "text": [
      "/home/nailsonseat/Desktop/Machine-Learning/.maclearn/lib/python3.10/site-packages/sklearn/ensemble/_base.py:166: FutureWarning: `base_estimator` was renamed to `estimator` in version 1.2 and will be removed in 1.4.\n",
      "  warnings.warn(\n"
     ]
    },
    {
     "data": {
      "text/html": [
       "<style>#sk-container-id-122 {color: black;background-color: white;}#sk-container-id-122 pre{padding: 0;}#sk-container-id-122 div.sk-toggleable {background-color: white;}#sk-container-id-122 label.sk-toggleable__label {cursor: pointer;display: block;width: 100%;margin-bottom: 0;padding: 0.3em;box-sizing: border-box;text-align: center;}#sk-container-id-122 label.sk-toggleable__label-arrow:before {content: \"▸\";float: left;margin-right: 0.25em;color: #696969;}#sk-container-id-122 label.sk-toggleable__label-arrow:hover:before {color: black;}#sk-container-id-122 div.sk-estimator:hover label.sk-toggleable__label-arrow:before {color: black;}#sk-container-id-122 div.sk-toggleable__content {max-height: 0;max-width: 0;overflow: hidden;text-align: left;background-color: #f0f8ff;}#sk-container-id-122 div.sk-toggleable__content pre {margin: 0.2em;color: black;border-radius: 0.25em;background-color: #f0f8ff;}#sk-container-id-122 input.sk-toggleable__control:checked~div.sk-toggleable__content {max-height: 200px;max-width: 100%;overflow: auto;}#sk-container-id-122 input.sk-toggleable__control:checked~label.sk-toggleable__label-arrow:before {content: \"▾\";}#sk-container-id-122 div.sk-estimator input.sk-toggleable__control:checked~label.sk-toggleable__label {background-color: #d4ebff;}#sk-container-id-122 div.sk-label input.sk-toggleable__control:checked~label.sk-toggleable__label {background-color: #d4ebff;}#sk-container-id-122 input.sk-hidden--visually {border: 0;clip: rect(1px 1px 1px 1px);clip: rect(1px, 1px, 1px, 1px);height: 1px;margin: -1px;overflow: hidden;padding: 0;position: absolute;width: 1px;}#sk-container-id-122 div.sk-estimator {font-family: monospace;background-color: #f0f8ff;border: 1px dotted black;border-radius: 0.25em;box-sizing: border-box;margin-bottom: 0.5em;}#sk-container-id-122 div.sk-estimator:hover {background-color: #d4ebff;}#sk-container-id-122 div.sk-parallel-item::after {content: \"\";width: 100%;border-bottom: 1px solid gray;flex-grow: 1;}#sk-container-id-122 div.sk-label:hover label.sk-toggleable__label {background-color: #d4ebff;}#sk-container-id-122 div.sk-serial::before {content: \"\";position: absolute;border-left: 1px solid gray;box-sizing: border-box;top: 0;bottom: 0;left: 50%;z-index: 0;}#sk-container-id-122 div.sk-serial {display: flex;flex-direction: column;align-items: center;background-color: white;padding-right: 0.2em;padding-left: 0.2em;position: relative;}#sk-container-id-122 div.sk-item {position: relative;z-index: 1;}#sk-container-id-122 div.sk-parallel {display: flex;align-items: stretch;justify-content: center;background-color: white;position: relative;}#sk-container-id-122 div.sk-item::before, #sk-container-id-122 div.sk-parallel-item::before {content: \"\";position: absolute;border-left: 1px solid gray;box-sizing: border-box;top: 0;bottom: 0;left: 50%;z-index: -1;}#sk-container-id-122 div.sk-parallel-item {display: flex;flex-direction: column;z-index: 1;position: relative;background-color: white;}#sk-container-id-122 div.sk-parallel-item:first-child::after {align-self: flex-end;width: 50%;}#sk-container-id-122 div.sk-parallel-item:last-child::after {align-self: flex-start;width: 50%;}#sk-container-id-122 div.sk-parallel-item:only-child::after {width: 0;}#sk-container-id-122 div.sk-dashed-wrapped {border: 1px dashed gray;margin: 0 0.4em 0.5em 0.4em;box-sizing: border-box;padding-bottom: 0.4em;background-color: white;}#sk-container-id-122 div.sk-label label {font-family: monospace;font-weight: bold;display: inline-block;line-height: 1.2em;}#sk-container-id-122 div.sk-label-container {text-align: center;}#sk-container-id-122 div.sk-container {/* jupyter's `normalize.less` sets `[hidden] { display: none; }` but bootstrap.min.css set `[hidden] { display: none !important; }` so we also need the `!important` here to be able to override the default hidden behavior on the sphinx rendered scikit-learn.org. See: https://github.com/scikit-learn/scikit-learn/issues/21755 */display: inline-block !important;position: relative;}#sk-container-id-122 div.sk-text-repr-fallback {display: none;}</style><div id=\"sk-container-id-122\" class=\"sk-top-container\"><div class=\"sk-text-repr-fallback\"><pre>BaggingClassifier(base_estimator=RandomForestClassifier(class_weight=&#x27;balanced&#x27;,\n",
       "                                                        criterion=&#x27;entropy&#x27;,\n",
       "                                                        max_depth=5,\n",
       "                                                        min_samples_split=20,\n",
       "                                                        n_estimators=200,\n",
       "                                                        random_state=0),\n",
       "                  n_estimators=35, random_state=42)</pre><b>In a Jupyter environment, please rerun this cell to show the HTML representation or trust the notebook. <br />On GitHub, the HTML representation is unable to render, please try loading this page with nbviewer.org.</b></div><div class=\"sk-container\" hidden><div class=\"sk-item sk-dashed-wrapped\"><div class=\"sk-label-container\"><div class=\"sk-label sk-toggleable\"><input class=\"sk-toggleable__control sk-hidden--visually\" id=\"sk-estimator-id-231\" type=\"checkbox\" ><label for=\"sk-estimator-id-231\" class=\"sk-toggleable__label sk-toggleable__label-arrow\">BaggingClassifier</label><div class=\"sk-toggleable__content\"><pre>BaggingClassifier(base_estimator=RandomForestClassifier(class_weight=&#x27;balanced&#x27;,\n",
       "                                                        criterion=&#x27;entropy&#x27;,\n",
       "                                                        max_depth=5,\n",
       "                                                        min_samples_split=20,\n",
       "                                                        n_estimators=200,\n",
       "                                                        random_state=0),\n",
       "                  n_estimators=35, random_state=42)</pre></div></div></div><div class=\"sk-parallel\"><div class=\"sk-parallel-item\"><div class=\"sk-item\"><div class=\"sk-label-container\"><div class=\"sk-label sk-toggleable\"><input class=\"sk-toggleable__control sk-hidden--visually\" id=\"sk-estimator-id-232\" type=\"checkbox\" ><label for=\"sk-estimator-id-232\" class=\"sk-toggleable__label sk-toggleable__label-arrow\">base_estimator: RandomForestClassifier</label><div class=\"sk-toggleable__content\"><pre>RandomForestClassifier(class_weight=&#x27;balanced&#x27;, criterion=&#x27;entropy&#x27;,\n",
       "                       max_depth=5, min_samples_split=20, n_estimators=200,\n",
       "                       random_state=0)</pre></div></div></div><div class=\"sk-serial\"><div class=\"sk-item\"><div class=\"sk-estimator sk-toggleable\"><input class=\"sk-toggleable__control sk-hidden--visually\" id=\"sk-estimator-id-233\" type=\"checkbox\" ><label for=\"sk-estimator-id-233\" class=\"sk-toggleable__label sk-toggleable__label-arrow\">RandomForestClassifier</label><div class=\"sk-toggleable__content\"><pre>RandomForestClassifier(class_weight=&#x27;balanced&#x27;, criterion=&#x27;entropy&#x27;,\n",
       "                       max_depth=5, min_samples_split=20, n_estimators=200,\n",
       "                       random_state=0)</pre></div></div></div></div></div></div></div></div></div></div>"
      ],
      "text/plain": [
       "BaggingClassifier(base_estimator=RandomForestClassifier(class_weight='balanced',\n",
       "                                                        criterion='entropy',\n",
       "                                                        max_depth=5,\n",
       "                                                        min_samples_split=20,\n",
       "                                                        n_estimators=200,\n",
       "                                                        random_state=0),\n",
       "                  n_estimators=35, random_state=42)"
      ]
     },
     "execution_count": 828,
     "metadata": {},
     "output_type": "execute_result"
    }
   ],
   "source": [
    "bag_rfc.fit(X_train,y_train)"
   ]
  },
  {
   "cell_type": "code",
   "execution_count": 829,
   "metadata": {},
   "outputs": [],
   "source": [
    "y_pred_bag_rfc=bag_rfc.predict(X_test)"
   ]
  },
  {
   "cell_type": "code",
   "execution_count": 830,
   "metadata": {},
   "outputs": [
    {
     "name": "stdout",
     "output_type": "stream",
     "text": [
      "              precision    recall  f1-score   support\n",
      "\n",
      "       False       0.84      0.69      0.76      2034\n",
      "        True       0.36      0.57      0.44       618\n",
      "\n",
      "    accuracy                           0.66      2652\n",
      "   macro avg       0.60      0.63      0.60      2652\n",
      "weighted avg       0.73      0.66      0.68      2652\n",
      "\n"
     ]
    }
   ],
   "source": [
    "print(classification_report(y_pred_bag_rfc,y_test))"
   ]
  },
  {
   "cell_type": "code",
   "execution_count": 831,
   "metadata": {},
   "outputs": [],
   "source": [
    "# submit(bag_rfc)"
   ]
  },
  {
   "attachments": {},
   "cell_type": "markdown",
   "metadata": {},
   "source": [
    "# Bagging on CART"
   ]
  },
  {
   "attachments": {},
   "cell_type": "markdown",
   "metadata": {},
   "source": [
    "### Calssifier"
   ]
  },
  {
   "cell_type": "code",
   "execution_count": 832,
   "metadata": {},
   "outputs": [],
   "source": [
    "bag_cart=BaggingClassifier(base_estimator=tuned_cart,n_estimators=35,random_state=42)"
   ]
  },
  {
   "cell_type": "code",
   "execution_count": 833,
   "metadata": {},
   "outputs": [
    {
     "name": "stderr",
     "output_type": "stream",
     "text": [
      "/home/nailsonseat/Desktop/Machine-Learning/.maclearn/lib/python3.10/site-packages/sklearn/ensemble/_base.py:166: FutureWarning: `base_estimator` was renamed to `estimator` in version 1.2 and will be removed in 1.4.\n",
      "  warnings.warn(\n"
     ]
    },
    {
     "data": {
      "text/html": [
       "<style>#sk-container-id-123 {color: black;background-color: white;}#sk-container-id-123 pre{padding: 0;}#sk-container-id-123 div.sk-toggleable {background-color: white;}#sk-container-id-123 label.sk-toggleable__label {cursor: pointer;display: block;width: 100%;margin-bottom: 0;padding: 0.3em;box-sizing: border-box;text-align: center;}#sk-container-id-123 label.sk-toggleable__label-arrow:before {content: \"▸\";float: left;margin-right: 0.25em;color: #696969;}#sk-container-id-123 label.sk-toggleable__label-arrow:hover:before {color: black;}#sk-container-id-123 div.sk-estimator:hover label.sk-toggleable__label-arrow:before {color: black;}#sk-container-id-123 div.sk-toggleable__content {max-height: 0;max-width: 0;overflow: hidden;text-align: left;background-color: #f0f8ff;}#sk-container-id-123 div.sk-toggleable__content pre {margin: 0.2em;color: black;border-radius: 0.25em;background-color: #f0f8ff;}#sk-container-id-123 input.sk-toggleable__control:checked~div.sk-toggleable__content {max-height: 200px;max-width: 100%;overflow: auto;}#sk-container-id-123 input.sk-toggleable__control:checked~label.sk-toggleable__label-arrow:before {content: \"▾\";}#sk-container-id-123 div.sk-estimator input.sk-toggleable__control:checked~label.sk-toggleable__label {background-color: #d4ebff;}#sk-container-id-123 div.sk-label input.sk-toggleable__control:checked~label.sk-toggleable__label {background-color: #d4ebff;}#sk-container-id-123 input.sk-hidden--visually {border: 0;clip: rect(1px 1px 1px 1px);clip: rect(1px, 1px, 1px, 1px);height: 1px;margin: -1px;overflow: hidden;padding: 0;position: absolute;width: 1px;}#sk-container-id-123 div.sk-estimator {font-family: monospace;background-color: #f0f8ff;border: 1px dotted black;border-radius: 0.25em;box-sizing: border-box;margin-bottom: 0.5em;}#sk-container-id-123 div.sk-estimator:hover {background-color: #d4ebff;}#sk-container-id-123 div.sk-parallel-item::after {content: \"\";width: 100%;border-bottom: 1px solid gray;flex-grow: 1;}#sk-container-id-123 div.sk-label:hover label.sk-toggleable__label {background-color: #d4ebff;}#sk-container-id-123 div.sk-serial::before {content: \"\";position: absolute;border-left: 1px solid gray;box-sizing: border-box;top: 0;bottom: 0;left: 50%;z-index: 0;}#sk-container-id-123 div.sk-serial {display: flex;flex-direction: column;align-items: center;background-color: white;padding-right: 0.2em;padding-left: 0.2em;position: relative;}#sk-container-id-123 div.sk-item {position: relative;z-index: 1;}#sk-container-id-123 div.sk-parallel {display: flex;align-items: stretch;justify-content: center;background-color: white;position: relative;}#sk-container-id-123 div.sk-item::before, #sk-container-id-123 div.sk-parallel-item::before {content: \"\";position: absolute;border-left: 1px solid gray;box-sizing: border-box;top: 0;bottom: 0;left: 50%;z-index: -1;}#sk-container-id-123 div.sk-parallel-item {display: flex;flex-direction: column;z-index: 1;position: relative;background-color: white;}#sk-container-id-123 div.sk-parallel-item:first-child::after {align-self: flex-end;width: 50%;}#sk-container-id-123 div.sk-parallel-item:last-child::after {align-self: flex-start;width: 50%;}#sk-container-id-123 div.sk-parallel-item:only-child::after {width: 0;}#sk-container-id-123 div.sk-dashed-wrapped {border: 1px dashed gray;margin: 0 0.4em 0.5em 0.4em;box-sizing: border-box;padding-bottom: 0.4em;background-color: white;}#sk-container-id-123 div.sk-label label {font-family: monospace;font-weight: bold;display: inline-block;line-height: 1.2em;}#sk-container-id-123 div.sk-label-container {text-align: center;}#sk-container-id-123 div.sk-container {/* jupyter's `normalize.less` sets `[hidden] { display: none; }` but bootstrap.min.css set `[hidden] { display: none !important; }` so we also need the `!important` here to be able to override the default hidden behavior on the sphinx rendered scikit-learn.org. See: https://github.com/scikit-learn/scikit-learn/issues/21755 */display: inline-block !important;position: relative;}#sk-container-id-123 div.sk-text-repr-fallback {display: none;}</style><div id=\"sk-container-id-123\" class=\"sk-top-container\"><div class=\"sk-text-repr-fallback\"><pre>BaggingClassifier(base_estimator=DecisionTreeClassifier(criterion=&#x27;entropy&#x27;,\n",
       "                                                        max_depth=2,\n",
       "                                                        random_state=42),\n",
       "                  n_estimators=35, random_state=42)</pre><b>In a Jupyter environment, please rerun this cell to show the HTML representation or trust the notebook. <br />On GitHub, the HTML representation is unable to render, please try loading this page with nbviewer.org.</b></div><div class=\"sk-container\" hidden><div class=\"sk-item sk-dashed-wrapped\"><div class=\"sk-label-container\"><div class=\"sk-label sk-toggleable\"><input class=\"sk-toggleable__control sk-hidden--visually\" id=\"sk-estimator-id-234\" type=\"checkbox\" ><label for=\"sk-estimator-id-234\" class=\"sk-toggleable__label sk-toggleable__label-arrow\">BaggingClassifier</label><div class=\"sk-toggleable__content\"><pre>BaggingClassifier(base_estimator=DecisionTreeClassifier(criterion=&#x27;entropy&#x27;,\n",
       "                                                        max_depth=2,\n",
       "                                                        random_state=42),\n",
       "                  n_estimators=35, random_state=42)</pre></div></div></div><div class=\"sk-parallel\"><div class=\"sk-parallel-item\"><div class=\"sk-item\"><div class=\"sk-label-container\"><div class=\"sk-label sk-toggleable\"><input class=\"sk-toggleable__control sk-hidden--visually\" id=\"sk-estimator-id-235\" type=\"checkbox\" ><label for=\"sk-estimator-id-235\" class=\"sk-toggleable__label sk-toggleable__label-arrow\">base_estimator: DecisionTreeClassifier</label><div class=\"sk-toggleable__content\"><pre>DecisionTreeClassifier(criterion=&#x27;entropy&#x27;, max_depth=2, random_state=42)</pre></div></div></div><div class=\"sk-serial\"><div class=\"sk-item\"><div class=\"sk-estimator sk-toggleable\"><input class=\"sk-toggleable__control sk-hidden--visually\" id=\"sk-estimator-id-236\" type=\"checkbox\" ><label for=\"sk-estimator-id-236\" class=\"sk-toggleable__label sk-toggleable__label-arrow\">DecisionTreeClassifier</label><div class=\"sk-toggleable__content\"><pre>DecisionTreeClassifier(criterion=&#x27;entropy&#x27;, max_depth=2, random_state=42)</pre></div></div></div></div></div></div></div></div></div></div>"
      ],
      "text/plain": [
       "BaggingClassifier(base_estimator=DecisionTreeClassifier(criterion='entropy',\n",
       "                                                        max_depth=2,\n",
       "                                                        random_state=42),\n",
       "                  n_estimators=35, random_state=42)"
      ]
     },
     "execution_count": 833,
     "metadata": {},
     "output_type": "execute_result"
    }
   ],
   "source": [
    "bag_cart.fit(X_train,y_train)"
   ]
  },
  {
   "cell_type": "code",
   "execution_count": 834,
   "metadata": {},
   "outputs": [],
   "source": [
    "y_pred_bag_cart = bag_cart.predict(X_test)"
   ]
  },
  {
   "cell_type": "code",
   "execution_count": 835,
   "metadata": {},
   "outputs": [
    {
     "name": "stdout",
     "output_type": "stream",
     "text": [
      "              precision    recall  f1-score   support\n",
      "\n",
      "       False       0.90      0.69      0.78      2181\n",
      "        True       0.31      0.65      0.42       471\n",
      "\n",
      "    accuracy                           0.68      2652\n",
      "   macro avg       0.61      0.67      0.60      2652\n",
      "weighted avg       0.80      0.68      0.72      2652\n",
      "\n"
     ]
    }
   ],
   "source": [
    "print(classification_report(y_pred_bag_cart,y_test))"
   ]
  },
  {
   "attachments": {},
   "cell_type": "markdown",
   "metadata": {},
   "source": [
    "### Hyperprameter tuning"
   ]
  },
  {
   "cell_type": "code",
   "execution_count": 836,
   "metadata": {},
   "outputs": [
    {
     "name": "stderr",
     "output_type": "stream",
     "text": [
      "/home/nailsonseat/Desktop/Machine-Learning/.maclearn/lib/python3.10/site-packages/sklearn/ensemble/_base.py:166: FutureWarning: `base_estimator` was renamed to `estimator` in version 1.2 and will be removed in 1.4.\n",
      "  warnings.warn(\n",
      "/home/nailsonseat/Desktop/Machine-Learning/.maclearn/lib/python3.10/site-packages/sklearn/ensemble/_base.py:166: FutureWarning: `base_estimator` was renamed to `estimator` in version 1.2 and will be removed in 1.4.\n",
      "  warnings.warn(\n",
      "/home/nailsonseat/Desktop/Machine-Learning/.maclearn/lib/python3.10/site-packages/sklearn/ensemble/_base.py:166: FutureWarning: `base_estimator` was renamed to `estimator` in version 1.2 and will be removed in 1.4.\n",
      "  warnings.warn(\n",
      "/home/nailsonseat/Desktop/Machine-Learning/.maclearn/lib/python3.10/site-packages/sklearn/ensemble/_base.py:166: FutureWarning: `base_estimator` was renamed to `estimator` in version 1.2 and will be removed in 1.4.\n",
      "  warnings.warn(\n",
      "/home/nailsonseat/Desktop/Machine-Learning/.maclearn/lib/python3.10/site-packages/sklearn/ensemble/_base.py:166: FutureWarning: `base_estimator` was renamed to `estimator` in version 1.2 and will be removed in 1.4.\n",
      "  warnings.warn(\n",
      "/home/nailsonseat/Desktop/Machine-Learning/.maclearn/lib/python3.10/site-packages/sklearn/ensemble/_base.py:166: FutureWarning: `base_estimator` was renamed to `estimator` in version 1.2 and will be removed in 1.4.\n",
      "  warnings.warn(\n",
      "/home/nailsonseat/Desktop/Machine-Learning/.maclearn/lib/python3.10/site-packages/sklearn/ensemble/_base.py:166: FutureWarning: `base_estimator` was renamed to `estimator` in version 1.2 and will be removed in 1.4.\n",
      "  warnings.warn(\n",
      "/home/nailsonseat/Desktop/Machine-Learning/.maclearn/lib/python3.10/site-packages/sklearn/ensemble/_base.py:166: FutureWarning: `base_estimator` was renamed to `estimator` in version 1.2 and will be removed in 1.4.\n",
      "  warnings.warn(\n",
      "/home/nailsonseat/Desktop/Machine-Learning/.maclearn/lib/python3.10/site-packages/sklearn/ensemble/_base.py:166: FutureWarning: `base_estimator` was renamed to `estimator` in version 1.2 and will be removed in 1.4.\n",
      "  warnings.warn(\n",
      "/home/nailsonseat/Desktop/Machine-Learning/.maclearn/lib/python3.10/site-packages/sklearn/ensemble/_base.py:166: FutureWarning: `base_estimator` was renamed to `estimator` in version 1.2 and will be removed in 1.4.\n",
      "  warnings.warn(\n",
      "/home/nailsonseat/Desktop/Machine-Learning/.maclearn/lib/python3.10/site-packages/sklearn/ensemble/_base.py:166: FutureWarning: `base_estimator` was renamed to `estimator` in version 1.2 and will be removed in 1.4.\n",
      "  warnings.warn(\n",
      "/home/nailsonseat/Desktop/Machine-Learning/.maclearn/lib/python3.10/site-packages/sklearn/ensemble/_base.py:166: FutureWarning: `base_estimator` was renamed to `estimator` in version 1.2 and will be removed in 1.4.\n",
      "  warnings.warn(\n",
      "/home/nailsonseat/Desktop/Machine-Learning/.maclearn/lib/python3.10/site-packages/sklearn/ensemble/_base.py:166: FutureWarning: `base_estimator` was renamed to `estimator` in version 1.2 and will be removed in 1.4.\n",
      "  warnings.warn(\n",
      "/home/nailsonseat/Desktop/Machine-Learning/.maclearn/lib/python3.10/site-packages/sklearn/ensemble/_base.py:166: FutureWarning: `base_estimator` was renamed to `estimator` in version 1.2 and will be removed in 1.4.\n",
      "  warnings.warn(\n",
      "/home/nailsonseat/Desktop/Machine-Learning/.maclearn/lib/python3.10/site-packages/sklearn/ensemble/_base.py:166: FutureWarning: `base_estimator` was renamed to `estimator` in version 1.2 and will be removed in 1.4.\n",
      "  warnings.warn(\n",
      "/home/nailsonseat/Desktop/Machine-Learning/.maclearn/lib/python3.10/site-packages/sklearn/ensemble/_base.py:166: FutureWarning: `base_estimator` was renamed to `estimator` in version 1.2 and will be removed in 1.4.\n",
      "  warnings.warn(\n",
      "/home/nailsonseat/Desktop/Machine-Learning/.maclearn/lib/python3.10/site-packages/sklearn/ensemble/_base.py:166: FutureWarning: `base_estimator` was renamed to `estimator` in version 1.2 and will be removed in 1.4.\n",
      "  warnings.warn(\n",
      "/home/nailsonseat/Desktop/Machine-Learning/.maclearn/lib/python3.10/site-packages/sklearn/ensemble/_base.py:166: FutureWarning: `base_estimator` was renamed to `estimator` in version 1.2 and will be removed in 1.4.\n",
      "  warnings.warn(\n",
      "/home/nailsonseat/Desktop/Machine-Learning/.maclearn/lib/python3.10/site-packages/sklearn/ensemble/_base.py:166: FutureWarning: `base_estimator` was renamed to `estimator` in version 1.2 and will be removed in 1.4.\n",
      "  warnings.warn(\n",
      "/home/nailsonseat/Desktop/Machine-Learning/.maclearn/lib/python3.10/site-packages/sklearn/ensemble/_base.py:166: FutureWarning: `base_estimator` was renamed to `estimator` in version 1.2 and will be removed in 1.4.\n",
      "  warnings.warn(\n",
      "/home/nailsonseat/Desktop/Machine-Learning/.maclearn/lib/python3.10/site-packages/sklearn/ensemble/_base.py:166: FutureWarning: `base_estimator` was renamed to `estimator` in version 1.2 and will be removed in 1.4.\n",
      "  warnings.warn(\n",
      "/home/nailsonseat/Desktop/Machine-Learning/.maclearn/lib/python3.10/site-packages/sklearn/ensemble/_base.py:166: FutureWarning: `base_estimator` was renamed to `estimator` in version 1.2 and will be removed in 1.4.\n",
      "  warnings.warn(\n",
      "/home/nailsonseat/Desktop/Machine-Learning/.maclearn/lib/python3.10/site-packages/sklearn/ensemble/_base.py:166: FutureWarning: `base_estimator` was renamed to `estimator` in version 1.2 and will be removed in 1.4.\n",
      "  warnings.warn(\n",
      "/home/nailsonseat/Desktop/Machine-Learning/.maclearn/lib/python3.10/site-packages/sklearn/ensemble/_base.py:166: FutureWarning: `base_estimator` was renamed to `estimator` in version 1.2 and will be removed in 1.4.\n",
      "  warnings.warn(\n",
      "/home/nailsonseat/Desktop/Machine-Learning/.maclearn/lib/python3.10/site-packages/sklearn/ensemble/_base.py:166: FutureWarning: `base_estimator` was renamed to `estimator` in version 1.2 and will be removed in 1.4.\n",
      "  warnings.warn(\n",
      "/home/nailsonseat/Desktop/Machine-Learning/.maclearn/lib/python3.10/site-packages/sklearn/ensemble/_base.py:166: FutureWarning: `base_estimator` was renamed to `estimator` in version 1.2 and will be removed in 1.4.\n",
      "  warnings.warn(\n",
      "/home/nailsonseat/Desktop/Machine-Learning/.maclearn/lib/python3.10/site-packages/sklearn/ensemble/_base.py:166: FutureWarning: `base_estimator` was renamed to `estimator` in version 1.2 and will be removed in 1.4.\n",
      "  warnings.warn(\n",
      "/home/nailsonseat/Desktop/Machine-Learning/.maclearn/lib/python3.10/site-packages/sklearn/ensemble/_base.py:166: FutureWarning: `base_estimator` was renamed to `estimator` in version 1.2 and will be removed in 1.4.\n",
      "  warnings.warn(\n",
      "/home/nailsonseat/Desktop/Machine-Learning/.maclearn/lib/python3.10/site-packages/sklearn/ensemble/_base.py:166: FutureWarning: `base_estimator` was renamed to `estimator` in version 1.2 and will be removed in 1.4.\n",
      "  warnings.warn(\n",
      "/home/nailsonseat/Desktop/Machine-Learning/.maclearn/lib/python3.10/site-packages/sklearn/ensemble/_base.py:166: FutureWarning: `base_estimator` was renamed to `estimator` in version 1.2 and will be removed in 1.4.\n",
      "  warnings.warn(\n",
      "/home/nailsonseat/Desktop/Machine-Learning/.maclearn/lib/python3.10/site-packages/sklearn/ensemble/_base.py:166: FutureWarning: `base_estimator` was renamed to `estimator` in version 1.2 and will be removed in 1.4.\n",
      "  warnings.warn(\n",
      "/home/nailsonseat/Desktop/Machine-Learning/.maclearn/lib/python3.10/site-packages/sklearn/ensemble/_base.py:166: FutureWarning: `base_estimator` was renamed to `estimator` in version 1.2 and will be removed in 1.4.\n",
      "  warnings.warn(\n",
      "/home/nailsonseat/Desktop/Machine-Learning/.maclearn/lib/python3.10/site-packages/sklearn/ensemble/_base.py:166: FutureWarning: `base_estimator` was renamed to `estimator` in version 1.2 and will be removed in 1.4.\n",
      "  warnings.warn(\n",
      "/home/nailsonseat/Desktop/Machine-Learning/.maclearn/lib/python3.10/site-packages/sklearn/ensemble/_base.py:166: FutureWarning: `base_estimator` was renamed to `estimator` in version 1.2 and will be removed in 1.4.\n",
      "  warnings.warn(\n",
      "/home/nailsonseat/Desktop/Machine-Learning/.maclearn/lib/python3.10/site-packages/sklearn/ensemble/_base.py:166: FutureWarning: `base_estimator` was renamed to `estimator` in version 1.2 and will be removed in 1.4.\n",
      "  warnings.warn(\n",
      "/home/nailsonseat/Desktop/Machine-Learning/.maclearn/lib/python3.10/site-packages/sklearn/ensemble/_base.py:166: FutureWarning: `base_estimator` was renamed to `estimator` in version 1.2 and will be removed in 1.4.\n",
      "  warnings.warn(\n",
      "/home/nailsonseat/Desktop/Machine-Learning/.maclearn/lib/python3.10/site-packages/sklearn/ensemble/_base.py:166: FutureWarning: `base_estimator` was renamed to `estimator` in version 1.2 and will be removed in 1.4.\n",
      "  warnings.warn(\n",
      "/home/nailsonseat/Desktop/Machine-Learning/.maclearn/lib/python3.10/site-packages/sklearn/ensemble/_base.py:166: FutureWarning: `base_estimator` was renamed to `estimator` in version 1.2 and will be removed in 1.4.\n",
      "  warnings.warn(\n",
      "/home/nailsonseat/Desktop/Machine-Learning/.maclearn/lib/python3.10/site-packages/sklearn/ensemble/_base.py:166: FutureWarning: `base_estimator` was renamed to `estimator` in version 1.2 and will be removed in 1.4.\n",
      "  warnings.warn(\n",
      "/home/nailsonseat/Desktop/Machine-Learning/.maclearn/lib/python3.10/site-packages/sklearn/ensemble/_base.py:166: FutureWarning: `base_estimator` was renamed to `estimator` in version 1.2 and will be removed in 1.4.\n",
      "  warnings.warn(\n",
      "/home/nailsonseat/Desktop/Machine-Learning/.maclearn/lib/python3.10/site-packages/sklearn/ensemble/_base.py:166: FutureWarning: `base_estimator` was renamed to `estimator` in version 1.2 and will be removed in 1.4.\n",
      "  warnings.warn(\n",
      "/home/nailsonseat/Desktop/Machine-Learning/.maclearn/lib/python3.10/site-packages/sklearn/ensemble/_base.py:166: FutureWarning: `base_estimator` was renamed to `estimator` in version 1.2 and will be removed in 1.4.\n",
      "  warnings.warn(\n",
      "/home/nailsonseat/Desktop/Machine-Learning/.maclearn/lib/python3.10/site-packages/sklearn/ensemble/_base.py:166: FutureWarning: `base_estimator` was renamed to `estimator` in version 1.2 and will be removed in 1.4.\n",
      "  warnings.warn(\n",
      "/home/nailsonseat/Desktop/Machine-Learning/.maclearn/lib/python3.10/site-packages/sklearn/ensemble/_base.py:166: FutureWarning: `base_estimator` was renamed to `estimator` in version 1.2 and will be removed in 1.4.\n",
      "  warnings.warn(\n",
      "/home/nailsonseat/Desktop/Machine-Learning/.maclearn/lib/python3.10/site-packages/sklearn/ensemble/_base.py:166: FutureWarning: `base_estimator` was renamed to `estimator` in version 1.2 and will be removed in 1.4.\n",
      "  warnings.warn(\n",
      "/home/nailsonseat/Desktop/Machine-Learning/.maclearn/lib/python3.10/site-packages/sklearn/ensemble/_base.py:166: FutureWarning: `base_estimator` was renamed to `estimator` in version 1.2 and will be removed in 1.4.\n",
      "  warnings.warn(\n",
      "/home/nailsonseat/Desktop/Machine-Learning/.maclearn/lib/python3.10/site-packages/sklearn/ensemble/_base.py:166: FutureWarning: `base_estimator` was renamed to `estimator` in version 1.2 and will be removed in 1.4.\n",
      "  warnings.warn(\n",
      "/home/nailsonseat/Desktop/Machine-Learning/.maclearn/lib/python3.10/site-packages/sklearn/ensemble/_base.py:166: FutureWarning: `base_estimator` was renamed to `estimator` in version 1.2 and will be removed in 1.4.\n",
      "  warnings.warn(\n",
      "/home/nailsonseat/Desktop/Machine-Learning/.maclearn/lib/python3.10/site-packages/sklearn/ensemble/_base.py:166: FutureWarning: `base_estimator` was renamed to `estimator` in version 1.2 and will be removed in 1.4.\n",
      "  warnings.warn(\n",
      "/home/nailsonseat/Desktop/Machine-Learning/.maclearn/lib/python3.10/site-packages/sklearn/ensemble/_base.py:166: FutureWarning: `base_estimator` was renamed to `estimator` in version 1.2 and will be removed in 1.4.\n",
      "  warnings.warn(\n",
      "/home/nailsonseat/Desktop/Machine-Learning/.maclearn/lib/python3.10/site-packages/sklearn/ensemble/_base.py:166: FutureWarning: `base_estimator` was renamed to `estimator` in version 1.2 and will be removed in 1.4.\n",
      "  warnings.warn(\n",
      "/home/nailsonseat/Desktop/Machine-Learning/.maclearn/lib/python3.10/site-packages/sklearn/ensemble/_base.py:166: FutureWarning: `base_estimator` was renamed to `estimator` in version 1.2 and will be removed in 1.4.\n",
      "  warnings.warn(\n",
      "/home/nailsonseat/Desktop/Machine-Learning/.maclearn/lib/python3.10/site-packages/sklearn/ensemble/_base.py:166: FutureWarning: `base_estimator` was renamed to `estimator` in version 1.2 and will be removed in 1.4.\n",
      "  warnings.warn(\n",
      "/home/nailsonseat/Desktop/Machine-Learning/.maclearn/lib/python3.10/site-packages/sklearn/ensemble/_base.py:166: FutureWarning: `base_estimator` was renamed to `estimator` in version 1.2 and will be removed in 1.4.\n",
      "  warnings.warn(\n",
      "/home/nailsonseat/Desktop/Machine-Learning/.maclearn/lib/python3.10/site-packages/sklearn/ensemble/_base.py:166: FutureWarning: `base_estimator` was renamed to `estimator` in version 1.2 and will be removed in 1.4.\n",
      "  warnings.warn(\n",
      "/home/nailsonseat/Desktop/Machine-Learning/.maclearn/lib/python3.10/site-packages/sklearn/ensemble/_base.py:166: FutureWarning: `base_estimator` was renamed to `estimator` in version 1.2 and will be removed in 1.4.\n",
      "  warnings.warn(\n",
      "/home/nailsonseat/Desktop/Machine-Learning/.maclearn/lib/python3.10/site-packages/sklearn/ensemble/_base.py:166: FutureWarning: `base_estimator` was renamed to `estimator` in version 1.2 and will be removed in 1.4.\n",
      "  warnings.warn(\n",
      "/home/nailsonseat/Desktop/Machine-Learning/.maclearn/lib/python3.10/site-packages/sklearn/ensemble/_base.py:166: FutureWarning: `base_estimator` was renamed to `estimator` in version 1.2 and will be removed in 1.4.\n",
      "  warnings.warn(\n",
      "/home/nailsonseat/Desktop/Machine-Learning/.maclearn/lib/python3.10/site-packages/sklearn/ensemble/_base.py:166: FutureWarning: `base_estimator` was renamed to `estimator` in version 1.2 and will be removed in 1.4.\n",
      "  warnings.warn(\n",
      "/home/nailsonseat/Desktop/Machine-Learning/.maclearn/lib/python3.10/site-packages/sklearn/ensemble/_base.py:166: FutureWarning: `base_estimator` was renamed to `estimator` in version 1.2 and will be removed in 1.4.\n",
      "  warnings.warn(\n",
      "/home/nailsonseat/Desktop/Machine-Learning/.maclearn/lib/python3.10/site-packages/sklearn/ensemble/_base.py:166: FutureWarning: `base_estimator` was renamed to `estimator` in version 1.2 and will be removed in 1.4.\n",
      "  warnings.warn(\n",
      "/home/nailsonseat/Desktop/Machine-Learning/.maclearn/lib/python3.10/site-packages/sklearn/ensemble/_base.py:166: FutureWarning: `base_estimator` was renamed to `estimator` in version 1.2 and will be removed in 1.4.\n",
      "  warnings.warn(\n",
      "/home/nailsonseat/Desktop/Machine-Learning/.maclearn/lib/python3.10/site-packages/sklearn/ensemble/_base.py:166: FutureWarning: `base_estimator` was renamed to `estimator` in version 1.2 and will be removed in 1.4.\n",
      "  warnings.warn(\n",
      "/home/nailsonseat/Desktop/Machine-Learning/.maclearn/lib/python3.10/site-packages/sklearn/ensemble/_base.py:166: FutureWarning: `base_estimator` was renamed to `estimator` in version 1.2 and will be removed in 1.4.\n",
      "  warnings.warn(\n",
      "/home/nailsonseat/Desktop/Machine-Learning/.maclearn/lib/python3.10/site-packages/sklearn/ensemble/_base.py:166: FutureWarning: `base_estimator` was renamed to `estimator` in version 1.2 and will be removed in 1.4.\n",
      "  warnings.warn(\n",
      "/home/nailsonseat/Desktop/Machine-Learning/.maclearn/lib/python3.10/site-packages/sklearn/ensemble/_base.py:166: FutureWarning: `base_estimator` was renamed to `estimator` in version 1.2 and will be removed in 1.4.\n",
      "  warnings.warn(\n",
      "/home/nailsonseat/Desktop/Machine-Learning/.maclearn/lib/python3.10/site-packages/sklearn/ensemble/_base.py:166: FutureWarning: `base_estimator` was renamed to `estimator` in version 1.2 and will be removed in 1.4.\n",
      "  warnings.warn(\n",
      "/home/nailsonseat/Desktop/Machine-Learning/.maclearn/lib/python3.10/site-packages/sklearn/ensemble/_base.py:166: FutureWarning: `base_estimator` was renamed to `estimator` in version 1.2 and will be removed in 1.4.\n",
      "  warnings.warn(\n",
      "/home/nailsonseat/Desktop/Machine-Learning/.maclearn/lib/python3.10/site-packages/sklearn/ensemble/_base.py:166: FutureWarning: `base_estimator` was renamed to `estimator` in version 1.2 and will be removed in 1.4.\n",
      "  warnings.warn(\n",
      "/home/nailsonseat/Desktop/Machine-Learning/.maclearn/lib/python3.10/site-packages/sklearn/ensemble/_base.py:166: FutureWarning: `base_estimator` was renamed to `estimator` in version 1.2 and will be removed in 1.4.\n",
      "  warnings.warn(\n",
      "/home/nailsonseat/Desktop/Machine-Learning/.maclearn/lib/python3.10/site-packages/sklearn/ensemble/_base.py:166: FutureWarning: `base_estimator` was renamed to `estimator` in version 1.2 and will be removed in 1.4.\n",
      "  warnings.warn(\n",
      "/home/nailsonseat/Desktop/Machine-Learning/.maclearn/lib/python3.10/site-packages/sklearn/ensemble/_base.py:166: FutureWarning: `base_estimator` was renamed to `estimator` in version 1.2 and will be removed in 1.4.\n",
      "  warnings.warn(\n",
      "/home/nailsonseat/Desktop/Machine-Learning/.maclearn/lib/python3.10/site-packages/sklearn/ensemble/_base.py:166: FutureWarning: `base_estimator` was renamed to `estimator` in version 1.2 and will be removed in 1.4.\n",
      "  warnings.warn(\n",
      "/home/nailsonseat/Desktop/Machine-Learning/.maclearn/lib/python3.10/site-packages/sklearn/ensemble/_base.py:166: FutureWarning: `base_estimator` was renamed to `estimator` in version 1.2 and will be removed in 1.4.\n",
      "  warnings.warn(\n",
      "/home/nailsonseat/Desktop/Machine-Learning/.maclearn/lib/python3.10/site-packages/sklearn/ensemble/_base.py:166: FutureWarning: `base_estimator` was renamed to `estimator` in version 1.2 and will be removed in 1.4.\n",
      "  warnings.warn(\n",
      "/home/nailsonseat/Desktop/Machine-Learning/.maclearn/lib/python3.10/site-packages/sklearn/ensemble/_base.py:166: FutureWarning: `base_estimator` was renamed to `estimator` in version 1.2 and will be removed in 1.4.\n",
      "  warnings.warn(\n",
      "/home/nailsonseat/Desktop/Machine-Learning/.maclearn/lib/python3.10/site-packages/sklearn/ensemble/_base.py:166: FutureWarning: `base_estimator` was renamed to `estimator` in version 1.2 and will be removed in 1.4.\n",
      "  warnings.warn(\n",
      "/home/nailsonseat/Desktop/Machine-Learning/.maclearn/lib/python3.10/site-packages/sklearn/ensemble/_base.py:166: FutureWarning: `base_estimator` was renamed to `estimator` in version 1.2 and will be removed in 1.4.\n",
      "  warnings.warn(\n",
      "/home/nailsonseat/Desktop/Machine-Learning/.maclearn/lib/python3.10/site-packages/sklearn/ensemble/_base.py:166: FutureWarning: `base_estimator` was renamed to `estimator` in version 1.2 and will be removed in 1.4.\n",
      "  warnings.warn(\n",
      "/home/nailsonseat/Desktop/Machine-Learning/.maclearn/lib/python3.10/site-packages/sklearn/ensemble/_base.py:166: FutureWarning: `base_estimator` was renamed to `estimator` in version 1.2 and will be removed in 1.4.\n",
      "  warnings.warn(\n",
      "/home/nailsonseat/Desktop/Machine-Learning/.maclearn/lib/python3.10/site-packages/sklearn/ensemble/_base.py:166: FutureWarning: `base_estimator` was renamed to `estimator` in version 1.2 and will be removed in 1.4.\n",
      "  warnings.warn(\n",
      "/home/nailsonseat/Desktop/Machine-Learning/.maclearn/lib/python3.10/site-packages/sklearn/ensemble/_base.py:166: FutureWarning: `base_estimator` was renamed to `estimator` in version 1.2 and will be removed in 1.4.\n",
      "  warnings.warn(\n",
      "/home/nailsonseat/Desktop/Machine-Learning/.maclearn/lib/python3.10/site-packages/sklearn/ensemble/_base.py:166: FutureWarning: `base_estimator` was renamed to `estimator` in version 1.2 and will be removed in 1.4.\n",
      "  warnings.warn(\n",
      "/home/nailsonseat/Desktop/Machine-Learning/.maclearn/lib/python3.10/site-packages/sklearn/ensemble/_base.py:166: FutureWarning: `base_estimator` was renamed to `estimator` in version 1.2 and will be removed in 1.4.\n",
      "  warnings.warn(\n",
      "/home/nailsonseat/Desktop/Machine-Learning/.maclearn/lib/python3.10/site-packages/sklearn/ensemble/_base.py:166: FutureWarning: `base_estimator` was renamed to `estimator` in version 1.2 and will be removed in 1.4.\n",
      "  warnings.warn(\n",
      "/home/nailsonseat/Desktop/Machine-Learning/.maclearn/lib/python3.10/site-packages/sklearn/ensemble/_base.py:166: FutureWarning: `base_estimator` was renamed to `estimator` in version 1.2 and will be removed in 1.4.\n",
      "  warnings.warn(\n",
      "/home/nailsonseat/Desktop/Machine-Learning/.maclearn/lib/python3.10/site-packages/sklearn/ensemble/_base.py:166: FutureWarning: `base_estimator` was renamed to `estimator` in version 1.2 and will be removed in 1.4.\n",
      "  warnings.warn(\n",
      "/home/nailsonseat/Desktop/Machine-Learning/.maclearn/lib/python3.10/site-packages/sklearn/ensemble/_base.py:166: FutureWarning: `base_estimator` was renamed to `estimator` in version 1.2 and will be removed in 1.4.\n",
      "  warnings.warn(\n",
      "/home/nailsonseat/Desktop/Machine-Learning/.maclearn/lib/python3.10/site-packages/sklearn/ensemble/_base.py:166: FutureWarning: `base_estimator` was renamed to `estimator` in version 1.2 and will be removed in 1.4.\n",
      "  warnings.warn(\n",
      "/home/nailsonseat/Desktop/Machine-Learning/.maclearn/lib/python3.10/site-packages/sklearn/ensemble/_base.py:166: FutureWarning: `base_estimator` was renamed to `estimator` in version 1.2 and will be removed in 1.4.\n",
      "  warnings.warn(\n",
      "/home/nailsonseat/Desktop/Machine-Learning/.maclearn/lib/python3.10/site-packages/sklearn/ensemble/_base.py:166: FutureWarning: `base_estimator` was renamed to `estimator` in version 1.2 and will be removed in 1.4.\n",
      "  warnings.warn(\n"
     ]
    },
    {
     "data": {
      "text/html": [
       "<style>#sk-container-id-124 {color: black;background-color: white;}#sk-container-id-124 pre{padding: 0;}#sk-container-id-124 div.sk-toggleable {background-color: white;}#sk-container-id-124 label.sk-toggleable__label {cursor: pointer;display: block;width: 100%;margin-bottom: 0;padding: 0.3em;box-sizing: border-box;text-align: center;}#sk-container-id-124 label.sk-toggleable__label-arrow:before {content: \"▸\";float: left;margin-right: 0.25em;color: #696969;}#sk-container-id-124 label.sk-toggleable__label-arrow:hover:before {color: black;}#sk-container-id-124 div.sk-estimator:hover label.sk-toggleable__label-arrow:before {color: black;}#sk-container-id-124 div.sk-toggleable__content {max-height: 0;max-width: 0;overflow: hidden;text-align: left;background-color: #f0f8ff;}#sk-container-id-124 div.sk-toggleable__content pre {margin: 0.2em;color: black;border-radius: 0.25em;background-color: #f0f8ff;}#sk-container-id-124 input.sk-toggleable__control:checked~div.sk-toggleable__content {max-height: 200px;max-width: 100%;overflow: auto;}#sk-container-id-124 input.sk-toggleable__control:checked~label.sk-toggleable__label-arrow:before {content: \"▾\";}#sk-container-id-124 div.sk-estimator input.sk-toggleable__control:checked~label.sk-toggleable__label {background-color: #d4ebff;}#sk-container-id-124 div.sk-label input.sk-toggleable__control:checked~label.sk-toggleable__label {background-color: #d4ebff;}#sk-container-id-124 input.sk-hidden--visually {border: 0;clip: rect(1px 1px 1px 1px);clip: rect(1px, 1px, 1px, 1px);height: 1px;margin: -1px;overflow: hidden;padding: 0;position: absolute;width: 1px;}#sk-container-id-124 div.sk-estimator {font-family: monospace;background-color: #f0f8ff;border: 1px dotted black;border-radius: 0.25em;box-sizing: border-box;margin-bottom: 0.5em;}#sk-container-id-124 div.sk-estimator:hover {background-color: #d4ebff;}#sk-container-id-124 div.sk-parallel-item::after {content: \"\";width: 100%;border-bottom: 1px solid gray;flex-grow: 1;}#sk-container-id-124 div.sk-label:hover label.sk-toggleable__label {background-color: #d4ebff;}#sk-container-id-124 div.sk-serial::before {content: \"\";position: absolute;border-left: 1px solid gray;box-sizing: border-box;top: 0;bottom: 0;left: 50%;z-index: 0;}#sk-container-id-124 div.sk-serial {display: flex;flex-direction: column;align-items: center;background-color: white;padding-right: 0.2em;padding-left: 0.2em;position: relative;}#sk-container-id-124 div.sk-item {position: relative;z-index: 1;}#sk-container-id-124 div.sk-parallel {display: flex;align-items: stretch;justify-content: center;background-color: white;position: relative;}#sk-container-id-124 div.sk-item::before, #sk-container-id-124 div.sk-parallel-item::before {content: \"\";position: absolute;border-left: 1px solid gray;box-sizing: border-box;top: 0;bottom: 0;left: 50%;z-index: -1;}#sk-container-id-124 div.sk-parallel-item {display: flex;flex-direction: column;z-index: 1;position: relative;background-color: white;}#sk-container-id-124 div.sk-parallel-item:first-child::after {align-self: flex-end;width: 50%;}#sk-container-id-124 div.sk-parallel-item:last-child::after {align-self: flex-start;width: 50%;}#sk-container-id-124 div.sk-parallel-item:only-child::after {width: 0;}#sk-container-id-124 div.sk-dashed-wrapped {border: 1px dashed gray;margin: 0 0.4em 0.5em 0.4em;box-sizing: border-box;padding-bottom: 0.4em;background-color: white;}#sk-container-id-124 div.sk-label label {font-family: monospace;font-weight: bold;display: inline-block;line-height: 1.2em;}#sk-container-id-124 div.sk-label-container {text-align: center;}#sk-container-id-124 div.sk-container {/* jupyter's `normalize.less` sets `[hidden] { display: none; }` but bootstrap.min.css set `[hidden] { display: none !important; }` so we also need the `!important` here to be able to override the default hidden behavior on the sphinx rendered scikit-learn.org. See: https://github.com/scikit-learn/scikit-learn/issues/21755 */display: inline-block !important;position: relative;}#sk-container-id-124 div.sk-text-repr-fallback {display: none;}</style><div id=\"sk-container-id-124\" class=\"sk-top-container\"><div class=\"sk-text-repr-fallback\"><pre>GridSearchCV(cv=ShuffleSplit(n_splits=10, random_state=42, test_size=0.2, train_size=None),\n",
       "             estimator=BaggingClassifier(base_estimator=DecisionTreeClassifier(criterion=&#x27;entropy&#x27;,\n",
       "                                                                               max_depth=2,\n",
       "                                                                               random_state=42),\n",
       "                                         n_estimators=35, random_state=42),\n",
       "             param_grid={&#x27;max_features&#x27;: [0.5, 0.7, 0.9],\n",
       "                         &#x27;max_samples&#x27;: [0.5, 0.6, 0.7]})</pre><b>In a Jupyter environment, please rerun this cell to show the HTML representation or trust the notebook. <br />On GitHub, the HTML representation is unable to render, please try loading this page with nbviewer.org.</b></div><div class=\"sk-container\" hidden><div class=\"sk-item sk-dashed-wrapped\"><div class=\"sk-label-container\"><div class=\"sk-label sk-toggleable\"><input class=\"sk-toggleable__control sk-hidden--visually\" id=\"sk-estimator-id-237\" type=\"checkbox\" ><label for=\"sk-estimator-id-237\" class=\"sk-toggleable__label sk-toggleable__label-arrow\">GridSearchCV</label><div class=\"sk-toggleable__content\"><pre>GridSearchCV(cv=ShuffleSplit(n_splits=10, random_state=42, test_size=0.2, train_size=None),\n",
       "             estimator=BaggingClassifier(base_estimator=DecisionTreeClassifier(criterion=&#x27;entropy&#x27;,\n",
       "                                                                               max_depth=2,\n",
       "                                                                               random_state=42),\n",
       "                                         n_estimators=35, random_state=42),\n",
       "             param_grid={&#x27;max_features&#x27;: [0.5, 0.7, 0.9],\n",
       "                         &#x27;max_samples&#x27;: [0.5, 0.6, 0.7]})</pre></div></div></div><div class=\"sk-parallel\"><div class=\"sk-parallel-item\"><div class=\"sk-item\"><div class=\"sk-label-container\"><div class=\"sk-label sk-toggleable\"><input class=\"sk-toggleable__control sk-hidden--visually\" id=\"sk-estimator-id-238\" type=\"checkbox\" ><label for=\"sk-estimator-id-238\" class=\"sk-toggleable__label sk-toggleable__label-arrow\">estimator: BaggingClassifier</label><div class=\"sk-toggleable__content\"><pre>BaggingClassifier(base_estimator=DecisionTreeClassifier(criterion=&#x27;entropy&#x27;,\n",
       "                                                        max_depth=2,\n",
       "                                                        random_state=42),\n",
       "                  n_estimators=35, random_state=42)</pre></div></div></div><div class=\"sk-serial\"><div class=\"sk-item sk-dashed-wrapped\"><div class=\"sk-parallel\"><div class=\"sk-parallel-item\"><div class=\"sk-item\"><div class=\"sk-label-container\"><div class=\"sk-label sk-toggleable\"><input class=\"sk-toggleable__control sk-hidden--visually\" id=\"sk-estimator-id-239\" type=\"checkbox\" ><label for=\"sk-estimator-id-239\" class=\"sk-toggleable__label sk-toggleable__label-arrow\">base_estimator: DecisionTreeClassifier</label><div class=\"sk-toggleable__content\"><pre>DecisionTreeClassifier(criterion=&#x27;entropy&#x27;, max_depth=2, random_state=42)</pre></div></div></div><div class=\"sk-serial\"><div class=\"sk-item\"><div class=\"sk-estimator sk-toggleable\"><input class=\"sk-toggleable__control sk-hidden--visually\" id=\"sk-estimator-id-240\" type=\"checkbox\" ><label for=\"sk-estimator-id-240\" class=\"sk-toggleable__label sk-toggleable__label-arrow\">DecisionTreeClassifier</label><div class=\"sk-toggleable__content\"><pre>DecisionTreeClassifier(criterion=&#x27;entropy&#x27;, max_depth=2, random_state=42)</pre></div></div></div></div></div></div></div></div></div></div></div></div></div></div></div>"
      ],
      "text/plain": [
       "GridSearchCV(cv=ShuffleSplit(n_splits=10, random_state=42, test_size=0.2, train_size=None),\n",
       "             estimator=BaggingClassifier(base_estimator=DecisionTreeClassifier(criterion='entropy',\n",
       "                                                                               max_depth=2,\n",
       "                                                                               random_state=42),\n",
       "                                         n_estimators=35, random_state=42),\n",
       "             param_grid={'max_features': [0.5, 0.7, 0.9],\n",
       "                         'max_samples': [0.5, 0.6, 0.7]})"
      ]
     },
     "execution_count": 836,
     "metadata": {},
     "output_type": "execute_result"
    }
   ],
   "source": [
    "param_grid = {'max_samples': [0.5, 0.6, 0.7],\n",
    "              'max_features': [0.5, 0.7, 0.9]}\n",
    "\n",
    "grid_cart_bagger = GridSearchCV(bag_cart,\n",
    "                              param_grid=param_grid,\n",
    "                              cv=cv)\n",
    "\n",
    "grid_cart_bagger.fit(X_train, y_train)\n"
   ]
  },
  {
   "cell_type": "code",
   "execution_count": 837,
   "metadata": {},
   "outputs": [
    {
     "data": {
      "text/html": [
       "<style>#sk-container-id-125 {color: black;background-color: white;}#sk-container-id-125 pre{padding: 0;}#sk-container-id-125 div.sk-toggleable {background-color: white;}#sk-container-id-125 label.sk-toggleable__label {cursor: pointer;display: block;width: 100%;margin-bottom: 0;padding: 0.3em;box-sizing: border-box;text-align: center;}#sk-container-id-125 label.sk-toggleable__label-arrow:before {content: \"▸\";float: left;margin-right: 0.25em;color: #696969;}#sk-container-id-125 label.sk-toggleable__label-arrow:hover:before {color: black;}#sk-container-id-125 div.sk-estimator:hover label.sk-toggleable__label-arrow:before {color: black;}#sk-container-id-125 div.sk-toggleable__content {max-height: 0;max-width: 0;overflow: hidden;text-align: left;background-color: #f0f8ff;}#sk-container-id-125 div.sk-toggleable__content pre {margin: 0.2em;color: black;border-radius: 0.25em;background-color: #f0f8ff;}#sk-container-id-125 input.sk-toggleable__control:checked~div.sk-toggleable__content {max-height: 200px;max-width: 100%;overflow: auto;}#sk-container-id-125 input.sk-toggleable__control:checked~label.sk-toggleable__label-arrow:before {content: \"▾\";}#sk-container-id-125 div.sk-estimator input.sk-toggleable__control:checked~label.sk-toggleable__label {background-color: #d4ebff;}#sk-container-id-125 div.sk-label input.sk-toggleable__control:checked~label.sk-toggleable__label {background-color: #d4ebff;}#sk-container-id-125 input.sk-hidden--visually {border: 0;clip: rect(1px 1px 1px 1px);clip: rect(1px, 1px, 1px, 1px);height: 1px;margin: -1px;overflow: hidden;padding: 0;position: absolute;width: 1px;}#sk-container-id-125 div.sk-estimator {font-family: monospace;background-color: #f0f8ff;border: 1px dotted black;border-radius: 0.25em;box-sizing: border-box;margin-bottom: 0.5em;}#sk-container-id-125 div.sk-estimator:hover {background-color: #d4ebff;}#sk-container-id-125 div.sk-parallel-item::after {content: \"\";width: 100%;border-bottom: 1px solid gray;flex-grow: 1;}#sk-container-id-125 div.sk-label:hover label.sk-toggleable__label {background-color: #d4ebff;}#sk-container-id-125 div.sk-serial::before {content: \"\";position: absolute;border-left: 1px solid gray;box-sizing: border-box;top: 0;bottom: 0;left: 50%;z-index: 0;}#sk-container-id-125 div.sk-serial {display: flex;flex-direction: column;align-items: center;background-color: white;padding-right: 0.2em;padding-left: 0.2em;position: relative;}#sk-container-id-125 div.sk-item {position: relative;z-index: 1;}#sk-container-id-125 div.sk-parallel {display: flex;align-items: stretch;justify-content: center;background-color: white;position: relative;}#sk-container-id-125 div.sk-item::before, #sk-container-id-125 div.sk-parallel-item::before {content: \"\";position: absolute;border-left: 1px solid gray;box-sizing: border-box;top: 0;bottom: 0;left: 50%;z-index: -1;}#sk-container-id-125 div.sk-parallel-item {display: flex;flex-direction: column;z-index: 1;position: relative;background-color: white;}#sk-container-id-125 div.sk-parallel-item:first-child::after {align-self: flex-end;width: 50%;}#sk-container-id-125 div.sk-parallel-item:last-child::after {align-self: flex-start;width: 50%;}#sk-container-id-125 div.sk-parallel-item:only-child::after {width: 0;}#sk-container-id-125 div.sk-dashed-wrapped {border: 1px dashed gray;margin: 0 0.4em 0.5em 0.4em;box-sizing: border-box;padding-bottom: 0.4em;background-color: white;}#sk-container-id-125 div.sk-label label {font-family: monospace;font-weight: bold;display: inline-block;line-height: 1.2em;}#sk-container-id-125 div.sk-label-container {text-align: center;}#sk-container-id-125 div.sk-container {/* jupyter's `normalize.less` sets `[hidden] { display: none; }` but bootstrap.min.css set `[hidden] { display: none !important; }` so we also need the `!important` here to be able to override the default hidden behavior on the sphinx rendered scikit-learn.org. See: https://github.com/scikit-learn/scikit-learn/issues/21755 */display: inline-block !important;position: relative;}#sk-container-id-125 div.sk-text-repr-fallback {display: none;}</style><div id=\"sk-container-id-125\" class=\"sk-top-container\"><div class=\"sk-text-repr-fallback\"><pre>BaggingClassifier(base_estimator=DecisionTreeClassifier(criterion=&#x27;entropy&#x27;,\n",
       "                                                        max_depth=2,\n",
       "                                                        random_state=42),\n",
       "                  max_features=0.7, max_samples=0.7, n_estimators=35,\n",
       "                  random_state=42)</pre><b>In a Jupyter environment, please rerun this cell to show the HTML representation or trust the notebook. <br />On GitHub, the HTML representation is unable to render, please try loading this page with nbviewer.org.</b></div><div class=\"sk-container\" hidden><div class=\"sk-item sk-dashed-wrapped\"><div class=\"sk-label-container\"><div class=\"sk-label sk-toggleable\"><input class=\"sk-toggleable__control sk-hidden--visually\" id=\"sk-estimator-id-241\" type=\"checkbox\" ><label for=\"sk-estimator-id-241\" class=\"sk-toggleable__label sk-toggleable__label-arrow\">BaggingClassifier</label><div class=\"sk-toggleable__content\"><pre>BaggingClassifier(base_estimator=DecisionTreeClassifier(criterion=&#x27;entropy&#x27;,\n",
       "                                                        max_depth=2,\n",
       "                                                        random_state=42),\n",
       "                  max_features=0.7, max_samples=0.7, n_estimators=35,\n",
       "                  random_state=42)</pre></div></div></div><div class=\"sk-parallel\"><div class=\"sk-parallel-item\"><div class=\"sk-item\"><div class=\"sk-label-container\"><div class=\"sk-label sk-toggleable\"><input class=\"sk-toggleable__control sk-hidden--visually\" id=\"sk-estimator-id-242\" type=\"checkbox\" ><label for=\"sk-estimator-id-242\" class=\"sk-toggleable__label sk-toggleable__label-arrow\">base_estimator: DecisionTreeClassifier</label><div class=\"sk-toggleable__content\"><pre>DecisionTreeClassifier(criterion=&#x27;entropy&#x27;, max_depth=2, random_state=42)</pre></div></div></div><div class=\"sk-serial\"><div class=\"sk-item\"><div class=\"sk-estimator sk-toggleable\"><input class=\"sk-toggleable__control sk-hidden--visually\" id=\"sk-estimator-id-243\" type=\"checkbox\" ><label for=\"sk-estimator-id-243\" class=\"sk-toggleable__label sk-toggleable__label-arrow\">DecisionTreeClassifier</label><div class=\"sk-toggleable__content\"><pre>DecisionTreeClassifier(criterion=&#x27;entropy&#x27;, max_depth=2, random_state=42)</pre></div></div></div></div></div></div></div></div></div></div>"
      ],
      "text/plain": [
       "BaggingClassifier(base_estimator=DecisionTreeClassifier(criterion='entropy',\n",
       "                                                        max_depth=2,\n",
       "                                                        random_state=42),\n",
       "                  max_features=0.7, max_samples=0.7, n_estimators=35,\n",
       "                  random_state=42)"
      ]
     },
     "execution_count": 837,
     "metadata": {},
     "output_type": "execute_result"
    }
   ],
   "source": [
    "tuned_cart_bagger=grid_cart_bagger.best_estimator_\n",
    "tuned_cart_bagger"
   ]
  },
  {
   "cell_type": "code",
   "execution_count": 838,
   "metadata": {},
   "outputs": [
    {
     "name": "stderr",
     "output_type": "stream",
     "text": [
      "/home/nailsonseat/Desktop/Machine-Learning/.maclearn/lib/python3.10/site-packages/sklearn/ensemble/_base.py:166: FutureWarning: `base_estimator` was renamed to `estimator` in version 1.2 and will be removed in 1.4.\n",
      "  warnings.warn(\n"
     ]
    },
    {
     "data": {
      "text/html": [
       "<style>#sk-container-id-126 {color: black;background-color: white;}#sk-container-id-126 pre{padding: 0;}#sk-container-id-126 div.sk-toggleable {background-color: white;}#sk-container-id-126 label.sk-toggleable__label {cursor: pointer;display: block;width: 100%;margin-bottom: 0;padding: 0.3em;box-sizing: border-box;text-align: center;}#sk-container-id-126 label.sk-toggleable__label-arrow:before {content: \"▸\";float: left;margin-right: 0.25em;color: #696969;}#sk-container-id-126 label.sk-toggleable__label-arrow:hover:before {color: black;}#sk-container-id-126 div.sk-estimator:hover label.sk-toggleable__label-arrow:before {color: black;}#sk-container-id-126 div.sk-toggleable__content {max-height: 0;max-width: 0;overflow: hidden;text-align: left;background-color: #f0f8ff;}#sk-container-id-126 div.sk-toggleable__content pre {margin: 0.2em;color: black;border-radius: 0.25em;background-color: #f0f8ff;}#sk-container-id-126 input.sk-toggleable__control:checked~div.sk-toggleable__content {max-height: 200px;max-width: 100%;overflow: auto;}#sk-container-id-126 input.sk-toggleable__control:checked~label.sk-toggleable__label-arrow:before {content: \"▾\";}#sk-container-id-126 div.sk-estimator input.sk-toggleable__control:checked~label.sk-toggleable__label {background-color: #d4ebff;}#sk-container-id-126 div.sk-label input.sk-toggleable__control:checked~label.sk-toggleable__label {background-color: #d4ebff;}#sk-container-id-126 input.sk-hidden--visually {border: 0;clip: rect(1px 1px 1px 1px);clip: rect(1px, 1px, 1px, 1px);height: 1px;margin: -1px;overflow: hidden;padding: 0;position: absolute;width: 1px;}#sk-container-id-126 div.sk-estimator {font-family: monospace;background-color: #f0f8ff;border: 1px dotted black;border-radius: 0.25em;box-sizing: border-box;margin-bottom: 0.5em;}#sk-container-id-126 div.sk-estimator:hover {background-color: #d4ebff;}#sk-container-id-126 div.sk-parallel-item::after {content: \"\";width: 100%;border-bottom: 1px solid gray;flex-grow: 1;}#sk-container-id-126 div.sk-label:hover label.sk-toggleable__label {background-color: #d4ebff;}#sk-container-id-126 div.sk-serial::before {content: \"\";position: absolute;border-left: 1px solid gray;box-sizing: border-box;top: 0;bottom: 0;left: 50%;z-index: 0;}#sk-container-id-126 div.sk-serial {display: flex;flex-direction: column;align-items: center;background-color: white;padding-right: 0.2em;padding-left: 0.2em;position: relative;}#sk-container-id-126 div.sk-item {position: relative;z-index: 1;}#sk-container-id-126 div.sk-parallel {display: flex;align-items: stretch;justify-content: center;background-color: white;position: relative;}#sk-container-id-126 div.sk-item::before, #sk-container-id-126 div.sk-parallel-item::before {content: \"\";position: absolute;border-left: 1px solid gray;box-sizing: border-box;top: 0;bottom: 0;left: 50%;z-index: -1;}#sk-container-id-126 div.sk-parallel-item {display: flex;flex-direction: column;z-index: 1;position: relative;background-color: white;}#sk-container-id-126 div.sk-parallel-item:first-child::after {align-self: flex-end;width: 50%;}#sk-container-id-126 div.sk-parallel-item:last-child::after {align-self: flex-start;width: 50%;}#sk-container-id-126 div.sk-parallel-item:only-child::after {width: 0;}#sk-container-id-126 div.sk-dashed-wrapped {border: 1px dashed gray;margin: 0 0.4em 0.5em 0.4em;box-sizing: border-box;padding-bottom: 0.4em;background-color: white;}#sk-container-id-126 div.sk-label label {font-family: monospace;font-weight: bold;display: inline-block;line-height: 1.2em;}#sk-container-id-126 div.sk-label-container {text-align: center;}#sk-container-id-126 div.sk-container {/* jupyter's `normalize.less` sets `[hidden] { display: none; }` but bootstrap.min.css set `[hidden] { display: none !important; }` so we also need the `!important` here to be able to override the default hidden behavior on the sphinx rendered scikit-learn.org. See: https://github.com/scikit-learn/scikit-learn/issues/21755 */display: inline-block !important;position: relative;}#sk-container-id-126 div.sk-text-repr-fallback {display: none;}</style><div id=\"sk-container-id-126\" class=\"sk-top-container\"><div class=\"sk-text-repr-fallback\"><pre>BaggingClassifier(base_estimator=DecisionTreeClassifier(criterion=&#x27;entropy&#x27;,\n",
       "                                                        max_depth=2,\n",
       "                                                        random_state=42),\n",
       "                  max_features=0.7, max_samples=0.7, n_estimators=35,\n",
       "                  random_state=42)</pre><b>In a Jupyter environment, please rerun this cell to show the HTML representation or trust the notebook. <br />On GitHub, the HTML representation is unable to render, please try loading this page with nbviewer.org.</b></div><div class=\"sk-container\" hidden><div class=\"sk-item sk-dashed-wrapped\"><div class=\"sk-label-container\"><div class=\"sk-label sk-toggleable\"><input class=\"sk-toggleable__control sk-hidden--visually\" id=\"sk-estimator-id-244\" type=\"checkbox\" ><label for=\"sk-estimator-id-244\" class=\"sk-toggleable__label sk-toggleable__label-arrow\">BaggingClassifier</label><div class=\"sk-toggleable__content\"><pre>BaggingClassifier(base_estimator=DecisionTreeClassifier(criterion=&#x27;entropy&#x27;,\n",
       "                                                        max_depth=2,\n",
       "                                                        random_state=42),\n",
       "                  max_features=0.7, max_samples=0.7, n_estimators=35,\n",
       "                  random_state=42)</pre></div></div></div><div class=\"sk-parallel\"><div class=\"sk-parallel-item\"><div class=\"sk-item\"><div class=\"sk-label-container\"><div class=\"sk-label sk-toggleable\"><input class=\"sk-toggleable__control sk-hidden--visually\" id=\"sk-estimator-id-245\" type=\"checkbox\" ><label for=\"sk-estimator-id-245\" class=\"sk-toggleable__label sk-toggleable__label-arrow\">base_estimator: DecisionTreeClassifier</label><div class=\"sk-toggleable__content\"><pre>DecisionTreeClassifier(criterion=&#x27;entropy&#x27;, max_depth=2, random_state=42)</pre></div></div></div><div class=\"sk-serial\"><div class=\"sk-item\"><div class=\"sk-estimator sk-toggleable\"><input class=\"sk-toggleable__control sk-hidden--visually\" id=\"sk-estimator-id-246\" type=\"checkbox\" ><label for=\"sk-estimator-id-246\" class=\"sk-toggleable__label sk-toggleable__label-arrow\">DecisionTreeClassifier</label><div class=\"sk-toggleable__content\"><pre>DecisionTreeClassifier(criterion=&#x27;entropy&#x27;, max_depth=2, random_state=42)</pre></div></div></div></div></div></div></div></div></div></div>"
      ],
      "text/plain": [
       "BaggingClassifier(base_estimator=DecisionTreeClassifier(criterion='entropy',\n",
       "                                                        max_depth=2,\n",
       "                                                        random_state=42),\n",
       "                  max_features=0.7, max_samples=0.7, n_estimators=35,\n",
       "                  random_state=42)"
      ]
     },
     "execution_count": 838,
     "metadata": {},
     "output_type": "execute_result"
    }
   ],
   "source": [
    "tuned_cart_bagger.fit(X_train,y_train)"
   ]
  },
  {
   "cell_type": "code",
   "execution_count": 839,
   "metadata": {},
   "outputs": [
    {
     "name": "stdout",
     "output_type": "stream",
     "text": [
      "Best parameters:  {'max_features': 0.7, 'max_samples': 0.7}\n",
      "Best score:  0.663430725730443\n"
     ]
    }
   ],
   "source": [
    "print(\"Best parameters: \", grid_cart_bagger.best_params_)\n",
    "print(\"Best score: \", grid_cart_bagger.best_score_)"
   ]
  },
  {
   "cell_type": "code",
   "execution_count": 840,
   "metadata": {},
   "outputs": [],
   "source": [
    "y_pred_cart_bagger=tuned_cart_bagger.predict(X_test)"
   ]
  },
  {
   "cell_type": "code",
   "execution_count": 841,
   "metadata": {},
   "outputs": [
    {
     "name": "stdout",
     "output_type": "stream",
     "text": [
      "              precision    recall  f1-score   support\n",
      "\n",
      "       False       0.91      0.69      0.78      2204\n",
      "        True       0.30      0.67      0.42       448\n",
      "\n",
      "    accuracy                           0.68      2652\n",
      "   macro avg       0.61      0.68      0.60      2652\n",
      "weighted avg       0.81      0.68      0.72      2652\n",
      "\n"
     ]
    }
   ],
   "source": [
    "print(classification_report(y_pred_cart_bagger,y_test))"
   ]
  },
  {
   "cell_type": "code",
   "execution_count": 842,
   "metadata": {},
   "outputs": [],
   "source": [
    "# submit(bag_cart)"
   ]
  },
  {
   "attachments": {},
   "cell_type": "markdown",
   "metadata": {},
   "source": [
    "# MLP Classifier"
   ]
  },
  {
   "cell_type": "code",
   "execution_count": 843,
   "metadata": {},
   "outputs": [],
   "source": [
    "mlp = MLPClassifier()"
   ]
  },
  {
   "cell_type": "code",
   "execution_count": 844,
   "metadata": {},
   "outputs": [],
   "source": [
    "param_grid = {\n",
    "    'hidden_layer_sizes': [(4,)],\n",
    "    'activation': ['logistic'],\n",
    "    'solver': ['lbfgs'],\n",
    "    'alpha': [0.00001],\n",
    "    'learning_rate': ['adaptive'],\n",
    "    'max_iter': [250],\n",
    "    'random_state': [42]\n",
    "}\n",
    "grid_mlp_clf = GridSearchCV(mlp, param_grid, cv=cv)"
   ]
  },
  {
   "cell_type": "code",
   "execution_count": 845,
   "metadata": {},
   "outputs": [
    {
     "name": "stderr",
     "output_type": "stream",
     "text": [
      "/home/nailsonseat/Desktop/Machine-Learning/.maclearn/lib/python3.10/site-packages/sklearn/neural_network/_multilayer_perceptron.py:541: ConvergenceWarning: lbfgs failed to converge (status=1):\n",
      "STOP: TOTAL NO. of ITERATIONS REACHED LIMIT.\n",
      "\n",
      "Increase the number of iterations (max_iter) or scale the data as shown in:\n",
      "    https://scikit-learn.org/stable/modules/preprocessing.html\n",
      "  self.n_iter_ = _check_optimize_result(\"lbfgs\", opt_res, self.max_iter)\n",
      "/home/nailsonseat/Desktop/Machine-Learning/.maclearn/lib/python3.10/site-packages/sklearn/neural_network/_multilayer_perceptron.py:541: ConvergenceWarning: lbfgs failed to converge (status=1):\n",
      "STOP: TOTAL NO. of ITERATIONS REACHED LIMIT.\n",
      "\n",
      "Increase the number of iterations (max_iter) or scale the data as shown in:\n",
      "    https://scikit-learn.org/stable/modules/preprocessing.html\n",
      "  self.n_iter_ = _check_optimize_result(\"lbfgs\", opt_res, self.max_iter)\n",
      "/home/nailsonseat/Desktop/Machine-Learning/.maclearn/lib/python3.10/site-packages/sklearn/neural_network/_multilayer_perceptron.py:541: ConvergenceWarning: lbfgs failed to converge (status=1):\n",
      "STOP: TOTAL NO. of ITERATIONS REACHED LIMIT.\n",
      "\n",
      "Increase the number of iterations (max_iter) or scale the data as shown in:\n",
      "    https://scikit-learn.org/stable/modules/preprocessing.html\n",
      "  self.n_iter_ = _check_optimize_result(\"lbfgs\", opt_res, self.max_iter)\n",
      "/home/nailsonseat/Desktop/Machine-Learning/.maclearn/lib/python3.10/site-packages/sklearn/neural_network/_multilayer_perceptron.py:541: ConvergenceWarning: lbfgs failed to converge (status=1):\n",
      "STOP: TOTAL NO. of ITERATIONS REACHED LIMIT.\n",
      "\n",
      "Increase the number of iterations (max_iter) or scale the data as shown in:\n",
      "    https://scikit-learn.org/stable/modules/preprocessing.html\n",
      "  self.n_iter_ = _check_optimize_result(\"lbfgs\", opt_res, self.max_iter)\n",
      "/home/nailsonseat/Desktop/Machine-Learning/.maclearn/lib/python3.10/site-packages/sklearn/neural_network/_multilayer_perceptron.py:541: ConvergenceWarning: lbfgs failed to converge (status=1):\n",
      "STOP: TOTAL NO. of ITERATIONS REACHED LIMIT.\n",
      "\n",
      "Increase the number of iterations (max_iter) or scale the data as shown in:\n",
      "    https://scikit-learn.org/stable/modules/preprocessing.html\n",
      "  self.n_iter_ = _check_optimize_result(\"lbfgs\", opt_res, self.max_iter)\n",
      "/home/nailsonseat/Desktop/Machine-Learning/.maclearn/lib/python3.10/site-packages/sklearn/neural_network/_multilayer_perceptron.py:541: ConvergenceWarning: lbfgs failed to converge (status=1):\n",
      "STOP: TOTAL NO. of ITERATIONS REACHED LIMIT.\n",
      "\n",
      "Increase the number of iterations (max_iter) or scale the data as shown in:\n",
      "    https://scikit-learn.org/stable/modules/preprocessing.html\n",
      "  self.n_iter_ = _check_optimize_result(\"lbfgs\", opt_res, self.max_iter)\n",
      "/home/nailsonseat/Desktop/Machine-Learning/.maclearn/lib/python3.10/site-packages/sklearn/neural_network/_multilayer_perceptron.py:541: ConvergenceWarning: lbfgs failed to converge (status=1):\n",
      "STOP: TOTAL NO. of ITERATIONS REACHED LIMIT.\n",
      "\n",
      "Increase the number of iterations (max_iter) or scale the data as shown in:\n",
      "    https://scikit-learn.org/stable/modules/preprocessing.html\n",
      "  self.n_iter_ = _check_optimize_result(\"lbfgs\", opt_res, self.max_iter)\n",
      "/home/nailsonseat/Desktop/Machine-Learning/.maclearn/lib/python3.10/site-packages/sklearn/neural_network/_multilayer_perceptron.py:541: ConvergenceWarning: lbfgs failed to converge (status=1):\n",
      "STOP: TOTAL NO. of ITERATIONS REACHED LIMIT.\n",
      "\n",
      "Increase the number of iterations (max_iter) or scale the data as shown in:\n",
      "    https://scikit-learn.org/stable/modules/preprocessing.html\n",
      "  self.n_iter_ = _check_optimize_result(\"lbfgs\", opt_res, self.max_iter)\n",
      "/home/nailsonseat/Desktop/Machine-Learning/.maclearn/lib/python3.10/site-packages/sklearn/neural_network/_multilayer_perceptron.py:541: ConvergenceWarning: lbfgs failed to converge (status=1):\n",
      "STOP: TOTAL NO. of ITERATIONS REACHED LIMIT.\n",
      "\n",
      "Increase the number of iterations (max_iter) or scale the data as shown in:\n",
      "    https://scikit-learn.org/stable/modules/preprocessing.html\n",
      "  self.n_iter_ = _check_optimize_result(\"lbfgs\", opt_res, self.max_iter)\n",
      "/home/nailsonseat/Desktop/Machine-Learning/.maclearn/lib/python3.10/site-packages/sklearn/neural_network/_multilayer_perceptron.py:541: ConvergenceWarning: lbfgs failed to converge (status=1):\n",
      "STOP: TOTAL NO. of ITERATIONS REACHED LIMIT.\n",
      "\n",
      "Increase the number of iterations (max_iter) or scale the data as shown in:\n",
      "    https://scikit-learn.org/stable/modules/preprocessing.html\n",
      "  self.n_iter_ = _check_optimize_result(\"lbfgs\", opt_res, self.max_iter)\n",
      "/home/nailsonseat/Desktop/Machine-Learning/.maclearn/lib/python3.10/site-packages/sklearn/neural_network/_multilayer_perceptron.py:541: ConvergenceWarning: lbfgs failed to converge (status=1):\n",
      "STOP: TOTAL NO. of ITERATIONS REACHED LIMIT.\n",
      "\n",
      "Increase the number of iterations (max_iter) or scale the data as shown in:\n",
      "    https://scikit-learn.org/stable/modules/preprocessing.html\n",
      "  self.n_iter_ = _check_optimize_result(\"lbfgs\", opt_res, self.max_iter)\n"
     ]
    },
    {
     "data": {
      "text/html": [
       "<style>#sk-container-id-127 {color: black;background-color: white;}#sk-container-id-127 pre{padding: 0;}#sk-container-id-127 div.sk-toggleable {background-color: white;}#sk-container-id-127 label.sk-toggleable__label {cursor: pointer;display: block;width: 100%;margin-bottom: 0;padding: 0.3em;box-sizing: border-box;text-align: center;}#sk-container-id-127 label.sk-toggleable__label-arrow:before {content: \"▸\";float: left;margin-right: 0.25em;color: #696969;}#sk-container-id-127 label.sk-toggleable__label-arrow:hover:before {color: black;}#sk-container-id-127 div.sk-estimator:hover label.sk-toggleable__label-arrow:before {color: black;}#sk-container-id-127 div.sk-toggleable__content {max-height: 0;max-width: 0;overflow: hidden;text-align: left;background-color: #f0f8ff;}#sk-container-id-127 div.sk-toggleable__content pre {margin: 0.2em;color: black;border-radius: 0.25em;background-color: #f0f8ff;}#sk-container-id-127 input.sk-toggleable__control:checked~div.sk-toggleable__content {max-height: 200px;max-width: 100%;overflow: auto;}#sk-container-id-127 input.sk-toggleable__control:checked~label.sk-toggleable__label-arrow:before {content: \"▾\";}#sk-container-id-127 div.sk-estimator input.sk-toggleable__control:checked~label.sk-toggleable__label {background-color: #d4ebff;}#sk-container-id-127 div.sk-label input.sk-toggleable__control:checked~label.sk-toggleable__label {background-color: #d4ebff;}#sk-container-id-127 input.sk-hidden--visually {border: 0;clip: rect(1px 1px 1px 1px);clip: rect(1px, 1px, 1px, 1px);height: 1px;margin: -1px;overflow: hidden;padding: 0;position: absolute;width: 1px;}#sk-container-id-127 div.sk-estimator {font-family: monospace;background-color: #f0f8ff;border: 1px dotted black;border-radius: 0.25em;box-sizing: border-box;margin-bottom: 0.5em;}#sk-container-id-127 div.sk-estimator:hover {background-color: #d4ebff;}#sk-container-id-127 div.sk-parallel-item::after {content: \"\";width: 100%;border-bottom: 1px solid gray;flex-grow: 1;}#sk-container-id-127 div.sk-label:hover label.sk-toggleable__label {background-color: #d4ebff;}#sk-container-id-127 div.sk-serial::before {content: \"\";position: absolute;border-left: 1px solid gray;box-sizing: border-box;top: 0;bottom: 0;left: 50%;z-index: 0;}#sk-container-id-127 div.sk-serial {display: flex;flex-direction: column;align-items: center;background-color: white;padding-right: 0.2em;padding-left: 0.2em;position: relative;}#sk-container-id-127 div.sk-item {position: relative;z-index: 1;}#sk-container-id-127 div.sk-parallel {display: flex;align-items: stretch;justify-content: center;background-color: white;position: relative;}#sk-container-id-127 div.sk-item::before, #sk-container-id-127 div.sk-parallel-item::before {content: \"\";position: absolute;border-left: 1px solid gray;box-sizing: border-box;top: 0;bottom: 0;left: 50%;z-index: -1;}#sk-container-id-127 div.sk-parallel-item {display: flex;flex-direction: column;z-index: 1;position: relative;background-color: white;}#sk-container-id-127 div.sk-parallel-item:first-child::after {align-self: flex-end;width: 50%;}#sk-container-id-127 div.sk-parallel-item:last-child::after {align-self: flex-start;width: 50%;}#sk-container-id-127 div.sk-parallel-item:only-child::after {width: 0;}#sk-container-id-127 div.sk-dashed-wrapped {border: 1px dashed gray;margin: 0 0.4em 0.5em 0.4em;box-sizing: border-box;padding-bottom: 0.4em;background-color: white;}#sk-container-id-127 div.sk-label label {font-family: monospace;font-weight: bold;display: inline-block;line-height: 1.2em;}#sk-container-id-127 div.sk-label-container {text-align: center;}#sk-container-id-127 div.sk-container {/* jupyter's `normalize.less` sets `[hidden] { display: none; }` but bootstrap.min.css set `[hidden] { display: none !important; }` so we also need the `!important` here to be able to override the default hidden behavior on the sphinx rendered scikit-learn.org. See: https://github.com/scikit-learn/scikit-learn/issues/21755 */display: inline-block !important;position: relative;}#sk-container-id-127 div.sk-text-repr-fallback {display: none;}</style><div id=\"sk-container-id-127\" class=\"sk-top-container\"><div class=\"sk-text-repr-fallback\"><pre>GridSearchCV(cv=ShuffleSplit(n_splits=10, random_state=42, test_size=0.2, train_size=None),\n",
       "             estimator=MLPClassifier(),\n",
       "             param_grid={&#x27;activation&#x27;: [&#x27;logistic&#x27;], &#x27;alpha&#x27;: [1e-05],\n",
       "                         &#x27;hidden_layer_sizes&#x27;: [(4,)],\n",
       "                         &#x27;learning_rate&#x27;: [&#x27;adaptive&#x27;], &#x27;max_iter&#x27;: [250],\n",
       "                         &#x27;random_state&#x27;: [42], &#x27;solver&#x27;: [&#x27;lbfgs&#x27;]})</pre><b>In a Jupyter environment, please rerun this cell to show the HTML representation or trust the notebook. <br />On GitHub, the HTML representation is unable to render, please try loading this page with nbviewer.org.</b></div><div class=\"sk-container\" hidden><div class=\"sk-item sk-dashed-wrapped\"><div class=\"sk-label-container\"><div class=\"sk-label sk-toggleable\"><input class=\"sk-toggleable__control sk-hidden--visually\" id=\"sk-estimator-id-247\" type=\"checkbox\" ><label for=\"sk-estimator-id-247\" class=\"sk-toggleable__label sk-toggleable__label-arrow\">GridSearchCV</label><div class=\"sk-toggleable__content\"><pre>GridSearchCV(cv=ShuffleSplit(n_splits=10, random_state=42, test_size=0.2, train_size=None),\n",
       "             estimator=MLPClassifier(),\n",
       "             param_grid={&#x27;activation&#x27;: [&#x27;logistic&#x27;], &#x27;alpha&#x27;: [1e-05],\n",
       "                         &#x27;hidden_layer_sizes&#x27;: [(4,)],\n",
       "                         &#x27;learning_rate&#x27;: [&#x27;adaptive&#x27;], &#x27;max_iter&#x27;: [250],\n",
       "                         &#x27;random_state&#x27;: [42], &#x27;solver&#x27;: [&#x27;lbfgs&#x27;]})</pre></div></div></div><div class=\"sk-parallel\"><div class=\"sk-parallel-item\"><div class=\"sk-item\"><div class=\"sk-label-container\"><div class=\"sk-label sk-toggleable\"><input class=\"sk-toggleable__control sk-hidden--visually\" id=\"sk-estimator-id-248\" type=\"checkbox\" ><label for=\"sk-estimator-id-248\" class=\"sk-toggleable__label sk-toggleable__label-arrow\">estimator: MLPClassifier</label><div class=\"sk-toggleable__content\"><pre>MLPClassifier()</pre></div></div></div><div class=\"sk-serial\"><div class=\"sk-item\"><div class=\"sk-estimator sk-toggleable\"><input class=\"sk-toggleable__control sk-hidden--visually\" id=\"sk-estimator-id-249\" type=\"checkbox\" ><label for=\"sk-estimator-id-249\" class=\"sk-toggleable__label sk-toggleable__label-arrow\">MLPClassifier</label><div class=\"sk-toggleable__content\"><pre>MLPClassifier()</pre></div></div></div></div></div></div></div></div></div></div>"
      ],
      "text/plain": [
       "GridSearchCV(cv=ShuffleSplit(n_splits=10, random_state=42, test_size=0.2, train_size=None),\n",
       "             estimator=MLPClassifier(),\n",
       "             param_grid={'activation': ['logistic'], 'alpha': [1e-05],\n",
       "                         'hidden_layer_sizes': [(4,)],\n",
       "                         'learning_rate': ['adaptive'], 'max_iter': [250],\n",
       "                         'random_state': [42], 'solver': ['lbfgs']})"
      ]
     },
     "execution_count": 845,
     "metadata": {},
     "output_type": "execute_result"
    }
   ],
   "source": [
    "grid_mlp_clf.fit(X_train, y_train)"
   ]
  },
  {
   "cell_type": "code",
   "execution_count": 846,
   "metadata": {},
   "outputs": [
    {
     "name": "stdout",
     "output_type": "stream",
     "text": [
      "Best parameters:  {'activation': 'logistic', 'alpha': 1e-05, 'hidden_layer_sizes': (4,), 'learning_rate': 'adaptive', 'max_iter': 250, 'random_state': 42, 'solver': 'lbfgs'}\n",
      "Best score:  0.6589066918001885\n"
     ]
    }
   ],
   "source": [
    "print(\"Best parameters: \", grid_mlp_clf.best_params_)\n",
    "print(\"Best score: \", grid_mlp_clf.best_score_)"
   ]
  },
  {
   "cell_type": "code",
   "execution_count": 847,
   "metadata": {},
   "outputs": [
    {
     "data": {
      "text/html": [
       "<style>#sk-container-id-128 {color: black;background-color: white;}#sk-container-id-128 pre{padding: 0;}#sk-container-id-128 div.sk-toggleable {background-color: white;}#sk-container-id-128 label.sk-toggleable__label {cursor: pointer;display: block;width: 100%;margin-bottom: 0;padding: 0.3em;box-sizing: border-box;text-align: center;}#sk-container-id-128 label.sk-toggleable__label-arrow:before {content: \"▸\";float: left;margin-right: 0.25em;color: #696969;}#sk-container-id-128 label.sk-toggleable__label-arrow:hover:before {color: black;}#sk-container-id-128 div.sk-estimator:hover label.sk-toggleable__label-arrow:before {color: black;}#sk-container-id-128 div.sk-toggleable__content {max-height: 0;max-width: 0;overflow: hidden;text-align: left;background-color: #f0f8ff;}#sk-container-id-128 div.sk-toggleable__content pre {margin: 0.2em;color: black;border-radius: 0.25em;background-color: #f0f8ff;}#sk-container-id-128 input.sk-toggleable__control:checked~div.sk-toggleable__content {max-height: 200px;max-width: 100%;overflow: auto;}#sk-container-id-128 input.sk-toggleable__control:checked~label.sk-toggleable__label-arrow:before {content: \"▾\";}#sk-container-id-128 div.sk-estimator input.sk-toggleable__control:checked~label.sk-toggleable__label {background-color: #d4ebff;}#sk-container-id-128 div.sk-label input.sk-toggleable__control:checked~label.sk-toggleable__label {background-color: #d4ebff;}#sk-container-id-128 input.sk-hidden--visually {border: 0;clip: rect(1px 1px 1px 1px);clip: rect(1px, 1px, 1px, 1px);height: 1px;margin: -1px;overflow: hidden;padding: 0;position: absolute;width: 1px;}#sk-container-id-128 div.sk-estimator {font-family: monospace;background-color: #f0f8ff;border: 1px dotted black;border-radius: 0.25em;box-sizing: border-box;margin-bottom: 0.5em;}#sk-container-id-128 div.sk-estimator:hover {background-color: #d4ebff;}#sk-container-id-128 div.sk-parallel-item::after {content: \"\";width: 100%;border-bottom: 1px solid gray;flex-grow: 1;}#sk-container-id-128 div.sk-label:hover label.sk-toggleable__label {background-color: #d4ebff;}#sk-container-id-128 div.sk-serial::before {content: \"\";position: absolute;border-left: 1px solid gray;box-sizing: border-box;top: 0;bottom: 0;left: 50%;z-index: 0;}#sk-container-id-128 div.sk-serial {display: flex;flex-direction: column;align-items: center;background-color: white;padding-right: 0.2em;padding-left: 0.2em;position: relative;}#sk-container-id-128 div.sk-item {position: relative;z-index: 1;}#sk-container-id-128 div.sk-parallel {display: flex;align-items: stretch;justify-content: center;background-color: white;position: relative;}#sk-container-id-128 div.sk-item::before, #sk-container-id-128 div.sk-parallel-item::before {content: \"\";position: absolute;border-left: 1px solid gray;box-sizing: border-box;top: 0;bottom: 0;left: 50%;z-index: -1;}#sk-container-id-128 div.sk-parallel-item {display: flex;flex-direction: column;z-index: 1;position: relative;background-color: white;}#sk-container-id-128 div.sk-parallel-item:first-child::after {align-self: flex-end;width: 50%;}#sk-container-id-128 div.sk-parallel-item:last-child::after {align-self: flex-start;width: 50%;}#sk-container-id-128 div.sk-parallel-item:only-child::after {width: 0;}#sk-container-id-128 div.sk-dashed-wrapped {border: 1px dashed gray;margin: 0 0.4em 0.5em 0.4em;box-sizing: border-box;padding-bottom: 0.4em;background-color: white;}#sk-container-id-128 div.sk-label label {font-family: monospace;font-weight: bold;display: inline-block;line-height: 1.2em;}#sk-container-id-128 div.sk-label-container {text-align: center;}#sk-container-id-128 div.sk-container {/* jupyter's `normalize.less` sets `[hidden] { display: none; }` but bootstrap.min.css set `[hidden] { display: none !important; }` so we also need the `!important` here to be able to override the default hidden behavior on the sphinx rendered scikit-learn.org. See: https://github.com/scikit-learn/scikit-learn/issues/21755 */display: inline-block !important;position: relative;}#sk-container-id-128 div.sk-text-repr-fallback {display: none;}</style><div id=\"sk-container-id-128\" class=\"sk-top-container\"><div class=\"sk-text-repr-fallback\"><pre>MLPClassifier(activation=&#x27;logistic&#x27;, alpha=1e-05, hidden_layer_sizes=(4,),\n",
       "              learning_rate=&#x27;adaptive&#x27;, max_iter=250, random_state=42,\n",
       "              solver=&#x27;lbfgs&#x27;)</pre><b>In a Jupyter environment, please rerun this cell to show the HTML representation or trust the notebook. <br />On GitHub, the HTML representation is unable to render, please try loading this page with nbviewer.org.</b></div><div class=\"sk-container\" hidden><div class=\"sk-item\"><div class=\"sk-estimator sk-toggleable\"><input class=\"sk-toggleable__control sk-hidden--visually\" id=\"sk-estimator-id-250\" type=\"checkbox\" checked><label for=\"sk-estimator-id-250\" class=\"sk-toggleable__label sk-toggleable__label-arrow\">MLPClassifier</label><div class=\"sk-toggleable__content\"><pre>MLPClassifier(activation=&#x27;logistic&#x27;, alpha=1e-05, hidden_layer_sizes=(4,),\n",
       "              learning_rate=&#x27;adaptive&#x27;, max_iter=250, random_state=42,\n",
       "              solver=&#x27;lbfgs&#x27;)</pre></div></div></div></div></div>"
      ],
      "text/plain": [
       "MLPClassifier(activation='logistic', alpha=1e-05, hidden_layer_sizes=(4,),\n",
       "              learning_rate='adaptive', max_iter=250, random_state=42,\n",
       "              solver='lbfgs')"
      ]
     },
     "execution_count": 847,
     "metadata": {},
     "output_type": "execute_result"
    }
   ],
   "source": [
    "tuned_mlp_clf=grid_mlp_clf.best_estimator_\n",
    "tuned_mlp_clf"
   ]
  },
  {
   "cell_type": "code",
   "execution_count": 848,
   "metadata": {},
   "outputs": [],
   "source": [
    "y_pred_tuned_mlp_clf=tuned_mlp_clf.predict(X_test)"
   ]
  },
  {
   "cell_type": "code",
   "execution_count": 849,
   "metadata": {},
   "outputs": [
    {
     "name": "stdout",
     "output_type": "stream",
     "text": [
      "              precision    recall  f1-score   support\n",
      "\n",
      "       False       0.90      0.69      0.78      2174\n",
      "        True       0.31      0.64      0.42       478\n",
      "\n",
      "    accuracy                           0.68      2652\n",
      "   macro avg       0.60      0.66      0.60      2652\n",
      "weighted avg       0.79      0.68      0.71      2652\n",
      "\n"
     ]
    }
   ],
   "source": [
    "print(classification_report(y_pred_tuned_mlp_clf,y_test))"
   ]
  },
  {
   "cell_type": "code",
   "execution_count": 850,
   "metadata": {},
   "outputs": [],
   "source": [
    "# submit(tuned_mlp_clf)"
   ]
  },
  {
   "attachments": {},
   "cell_type": "markdown",
   "metadata": {},
   "source": [
    "# Voting classifier"
   ]
  },
  {
   "cell_type": "code",
   "execution_count": 856,
   "metadata": {},
   "outputs": [],
   "source": [
    "voting_clf = VotingClassifier(estimators=[('model1', tuned_cart_bagger), ('model2', tuned_svm_clf), ('model3', tuned_mlp_clf)], voting='hard')"
   ]
  },
  {
   "cell_type": "code",
   "execution_count": 857,
   "metadata": {},
   "outputs": [
    {
     "name": "stderr",
     "output_type": "stream",
     "text": [
      "/home/nailsonseat/Desktop/Machine-Learning/.maclearn/lib/python3.10/site-packages/sklearn/ensemble/_base.py:166: FutureWarning: `base_estimator` was renamed to `estimator` in version 1.2 and will be removed in 1.4.\n",
      "  warnings.warn(\n",
      "/home/nailsonseat/Desktop/Machine-Learning/.maclearn/lib/python3.10/site-packages/sklearn/neural_network/_multilayer_perceptron.py:541: ConvergenceWarning: lbfgs failed to converge (status=1):\n",
      "STOP: TOTAL NO. of ITERATIONS REACHED LIMIT.\n",
      "\n",
      "Increase the number of iterations (max_iter) or scale the data as shown in:\n",
      "    https://scikit-learn.org/stable/modules/preprocessing.html\n",
      "  self.n_iter_ = _check_optimize_result(\"lbfgs\", opt_res, self.max_iter)\n"
     ]
    },
    {
     "data": {
      "text/html": [
       "<style>#sk-container-id-130 {color: black;background-color: white;}#sk-container-id-130 pre{padding: 0;}#sk-container-id-130 div.sk-toggleable {background-color: white;}#sk-container-id-130 label.sk-toggleable__label {cursor: pointer;display: block;width: 100%;margin-bottom: 0;padding: 0.3em;box-sizing: border-box;text-align: center;}#sk-container-id-130 label.sk-toggleable__label-arrow:before {content: \"▸\";float: left;margin-right: 0.25em;color: #696969;}#sk-container-id-130 label.sk-toggleable__label-arrow:hover:before {color: black;}#sk-container-id-130 div.sk-estimator:hover label.sk-toggleable__label-arrow:before {color: black;}#sk-container-id-130 div.sk-toggleable__content {max-height: 0;max-width: 0;overflow: hidden;text-align: left;background-color: #f0f8ff;}#sk-container-id-130 div.sk-toggleable__content pre {margin: 0.2em;color: black;border-radius: 0.25em;background-color: #f0f8ff;}#sk-container-id-130 input.sk-toggleable__control:checked~div.sk-toggleable__content {max-height: 200px;max-width: 100%;overflow: auto;}#sk-container-id-130 input.sk-toggleable__control:checked~label.sk-toggleable__label-arrow:before {content: \"▾\";}#sk-container-id-130 div.sk-estimator input.sk-toggleable__control:checked~label.sk-toggleable__label {background-color: #d4ebff;}#sk-container-id-130 div.sk-label input.sk-toggleable__control:checked~label.sk-toggleable__label {background-color: #d4ebff;}#sk-container-id-130 input.sk-hidden--visually {border: 0;clip: rect(1px 1px 1px 1px);clip: rect(1px, 1px, 1px, 1px);height: 1px;margin: -1px;overflow: hidden;padding: 0;position: absolute;width: 1px;}#sk-container-id-130 div.sk-estimator {font-family: monospace;background-color: #f0f8ff;border: 1px dotted black;border-radius: 0.25em;box-sizing: border-box;margin-bottom: 0.5em;}#sk-container-id-130 div.sk-estimator:hover {background-color: #d4ebff;}#sk-container-id-130 div.sk-parallel-item::after {content: \"\";width: 100%;border-bottom: 1px solid gray;flex-grow: 1;}#sk-container-id-130 div.sk-label:hover label.sk-toggleable__label {background-color: #d4ebff;}#sk-container-id-130 div.sk-serial::before {content: \"\";position: absolute;border-left: 1px solid gray;box-sizing: border-box;top: 0;bottom: 0;left: 50%;z-index: 0;}#sk-container-id-130 div.sk-serial {display: flex;flex-direction: column;align-items: center;background-color: white;padding-right: 0.2em;padding-left: 0.2em;position: relative;}#sk-container-id-130 div.sk-item {position: relative;z-index: 1;}#sk-container-id-130 div.sk-parallel {display: flex;align-items: stretch;justify-content: center;background-color: white;position: relative;}#sk-container-id-130 div.sk-item::before, #sk-container-id-130 div.sk-parallel-item::before {content: \"\";position: absolute;border-left: 1px solid gray;box-sizing: border-box;top: 0;bottom: 0;left: 50%;z-index: -1;}#sk-container-id-130 div.sk-parallel-item {display: flex;flex-direction: column;z-index: 1;position: relative;background-color: white;}#sk-container-id-130 div.sk-parallel-item:first-child::after {align-self: flex-end;width: 50%;}#sk-container-id-130 div.sk-parallel-item:last-child::after {align-self: flex-start;width: 50%;}#sk-container-id-130 div.sk-parallel-item:only-child::after {width: 0;}#sk-container-id-130 div.sk-dashed-wrapped {border: 1px dashed gray;margin: 0 0.4em 0.5em 0.4em;box-sizing: border-box;padding-bottom: 0.4em;background-color: white;}#sk-container-id-130 div.sk-label label {font-family: monospace;font-weight: bold;display: inline-block;line-height: 1.2em;}#sk-container-id-130 div.sk-label-container {text-align: center;}#sk-container-id-130 div.sk-container {/* jupyter's `normalize.less` sets `[hidden] { display: none; }` but bootstrap.min.css set `[hidden] { display: none !important; }` so we also need the `!important` here to be able to override the default hidden behavior on the sphinx rendered scikit-learn.org. See: https://github.com/scikit-learn/scikit-learn/issues/21755 */display: inline-block !important;position: relative;}#sk-container-id-130 div.sk-text-repr-fallback {display: none;}</style><div id=\"sk-container-id-130\" class=\"sk-top-container\"><div class=\"sk-text-repr-fallback\"><pre>VotingClassifier(estimators=[(&#x27;model1&#x27;,\n",
       "                              BaggingClassifier(base_estimator=DecisionTreeClassifier(criterion=&#x27;entropy&#x27;,\n",
       "                                                                                      max_depth=2,\n",
       "                                                                                      random_state=42),\n",
       "                                                max_features=0.7,\n",
       "                                                max_samples=0.7,\n",
       "                                                n_estimators=35,\n",
       "                                                random_state=42)),\n",
       "                             (&#x27;model2&#x27;, SVC(C=10)),\n",
       "                             (&#x27;model3&#x27;,\n",
       "                              MLPClassifier(activation=&#x27;logistic&#x27;, alpha=1e-05,\n",
       "                                            hidden_layer_sizes=(4,),\n",
       "                                            learning_rate=&#x27;adaptive&#x27;,\n",
       "                                            max_iter=250, random_state=42,\n",
       "                                            solver=&#x27;lbfgs&#x27;))])</pre><b>In a Jupyter environment, please rerun this cell to show the HTML representation or trust the notebook. <br />On GitHub, the HTML representation is unable to render, please try loading this page with nbviewer.org.</b></div><div class=\"sk-container\" hidden><div class=\"sk-item sk-dashed-wrapped\"><div class=\"sk-label-container\"><div class=\"sk-label sk-toggleable\"><input class=\"sk-toggleable__control sk-hidden--visually\" id=\"sk-estimator-id-256\" type=\"checkbox\" ><label for=\"sk-estimator-id-256\" class=\"sk-toggleable__label sk-toggleable__label-arrow\">VotingClassifier</label><div class=\"sk-toggleable__content\"><pre>VotingClassifier(estimators=[(&#x27;model1&#x27;,\n",
       "                              BaggingClassifier(base_estimator=DecisionTreeClassifier(criterion=&#x27;entropy&#x27;,\n",
       "                                                                                      max_depth=2,\n",
       "                                                                                      random_state=42),\n",
       "                                                max_features=0.7,\n",
       "                                                max_samples=0.7,\n",
       "                                                n_estimators=35,\n",
       "                                                random_state=42)),\n",
       "                             (&#x27;model2&#x27;, SVC(C=10)),\n",
       "                             (&#x27;model3&#x27;,\n",
       "                              MLPClassifier(activation=&#x27;logistic&#x27;, alpha=1e-05,\n",
       "                                            hidden_layer_sizes=(4,),\n",
       "                                            learning_rate=&#x27;adaptive&#x27;,\n",
       "                                            max_iter=250, random_state=42,\n",
       "                                            solver=&#x27;lbfgs&#x27;))])</pre></div></div></div><div class=\"sk-parallel\"><div class=\"sk-parallel-item\"><div class=\"sk-item\"><div class=\"sk-label-container\"><div class=\"sk-label sk-toggleable\"><label>model1</label></div></div><div class=\"sk-serial\"><div class=\"sk-item sk-dashed-wrapped\"><div class=\"sk-parallel\"><div class=\"sk-parallel-item\"><div class=\"sk-item\"><div class=\"sk-label-container\"><div class=\"sk-label sk-toggleable\"><input class=\"sk-toggleable__control sk-hidden--visually\" id=\"sk-estimator-id-257\" type=\"checkbox\" ><label for=\"sk-estimator-id-257\" class=\"sk-toggleable__label sk-toggleable__label-arrow\">base_estimator: DecisionTreeClassifier</label><div class=\"sk-toggleable__content\"><pre>DecisionTreeClassifier(criterion=&#x27;entropy&#x27;, max_depth=2, random_state=42)</pre></div></div></div><div class=\"sk-serial\"><div class=\"sk-item\"><div class=\"sk-estimator sk-toggleable\"><input class=\"sk-toggleable__control sk-hidden--visually\" id=\"sk-estimator-id-258\" type=\"checkbox\" ><label for=\"sk-estimator-id-258\" class=\"sk-toggleable__label sk-toggleable__label-arrow\">DecisionTreeClassifier</label><div class=\"sk-toggleable__content\"><pre>DecisionTreeClassifier(criterion=&#x27;entropy&#x27;, max_depth=2, random_state=42)</pre></div></div></div></div></div></div></div></div></div></div></div><div class=\"sk-parallel-item\"><div class=\"sk-item\"><div class=\"sk-label-container\"><div class=\"sk-label sk-toggleable\"><label>model2</label></div></div><div class=\"sk-serial\"><div class=\"sk-item\"><div class=\"sk-estimator sk-toggleable\"><input class=\"sk-toggleable__control sk-hidden--visually\" id=\"sk-estimator-id-259\" type=\"checkbox\" ><label for=\"sk-estimator-id-259\" class=\"sk-toggleable__label sk-toggleable__label-arrow\">SVC</label><div class=\"sk-toggleable__content\"><pre>SVC(C=10)</pre></div></div></div></div></div></div><div class=\"sk-parallel-item\"><div class=\"sk-item\"><div class=\"sk-label-container\"><div class=\"sk-label sk-toggleable\"><label>model3</label></div></div><div class=\"sk-serial\"><div class=\"sk-item\"><div class=\"sk-estimator sk-toggleable\"><input class=\"sk-toggleable__control sk-hidden--visually\" id=\"sk-estimator-id-260\" type=\"checkbox\" ><label for=\"sk-estimator-id-260\" class=\"sk-toggleable__label sk-toggleable__label-arrow\">MLPClassifier</label><div class=\"sk-toggleable__content\"><pre>MLPClassifier(activation=&#x27;logistic&#x27;, alpha=1e-05, hidden_layer_sizes=(4,),\n",
       "              learning_rate=&#x27;adaptive&#x27;, max_iter=250, random_state=42,\n",
       "              solver=&#x27;lbfgs&#x27;)</pre></div></div></div></div></div></div></div></div></div></div>"
      ],
      "text/plain": [
       "VotingClassifier(estimators=[('model1',\n",
       "                              BaggingClassifier(base_estimator=DecisionTreeClassifier(criterion='entropy',\n",
       "                                                                                      max_depth=2,\n",
       "                                                                                      random_state=42),\n",
       "                                                max_features=0.7,\n",
       "                                                max_samples=0.7,\n",
       "                                                n_estimators=35,\n",
       "                                                random_state=42)),\n",
       "                             ('model2', SVC(C=10)),\n",
       "                             ('model3',\n",
       "                              MLPClassifier(activation='logistic', alpha=1e-05,\n",
       "                                            hidden_layer_sizes=(4,),\n",
       "                                            learning_rate='adaptive',\n",
       "                                            max_iter=250, random_state=42,\n",
       "                                            solver='lbfgs'))])"
      ]
     },
     "execution_count": 857,
     "metadata": {},
     "output_type": "execute_result"
    }
   ],
   "source": [
    "voting_clf.fit(X_train,y_train)"
   ]
  },
  {
   "cell_type": "code",
   "execution_count": 858,
   "metadata": {},
   "outputs": [],
   "source": [
    "y_pred_voted=voting_clf.predict(X_test)"
   ]
  },
  {
   "cell_type": "code",
   "execution_count": 859,
   "metadata": {},
   "outputs": [
    {
     "name": "stdout",
     "output_type": "stream",
     "text": [
      "              precision    recall  f1-score   support\n",
      "\n",
      "       False       0.91      0.68      0.78      2222\n",
      "        True       0.29      0.67      0.41       430\n",
      "\n",
      "    accuracy                           0.68      2652\n",
      "   macro avg       0.60      0.68      0.59      2652\n",
      "weighted avg       0.81      0.68      0.72      2652\n",
      "\n"
     ]
    }
   ],
   "source": [
    "print(classification_report(y_pred_voted,y_test))"
   ]
  },
  {
   "cell_type": "code",
   "execution_count": 860,
   "metadata": {},
   "outputs": [],
   "source": [
    "submit(voting_clf)"
   ]
  }
 ],
 "metadata": {
  "kernelspec": {
   "display_name": ".shoppersBehaviour",
   "language": "python",
   "name": "python3"
  },
  "language_info": {
   "codemirror_mode": {
    "name": "ipython",
    "version": 3
   },
   "file_extension": ".py",
   "mimetype": "text/x-python",
   "name": "python",
   "nbconvert_exporter": "python",
   "pygments_lexer": "ipython3",
   "version": "3.10.0"
  },
  "orig_nbformat": 4,
  "vscode": {
   "interpreter": {
    "hash": "c80100b858390f06239472c24fcad13a1dfd19ffd5450d0ab06bf544232cb417"
   }
  }
 },
 "nbformat": 4,
 "nbformat_minor": 2
}
