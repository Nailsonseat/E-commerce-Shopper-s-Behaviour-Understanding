{
 "cells": [
  {
   "attachments": {},
   "cell_type": "markdown",
   "metadata": {},
   "source": [
    "# Data Loading"
   ]
  },
  {
   "attachments": {},
   "cell_type": "markdown",
   "metadata": {},
   "source": [
    "### Loading Libraries"
   ]
  },
  {
   "cell_type": "code",
   "execution_count": 137,
   "metadata": {},
   "outputs": [],
   "source": [
    "import xgboost\n",
    "import pandas as pd\n",
    "import matplotlib.pyplot as plt\n",
    "import seaborn as sns\n",
    "from sklearn.model_selection import train_test_split\n",
    "from sklearn.impute import KNNImputer,SimpleImputer\n",
    "import numpy as np"
   ]
  },
  {
   "attachments": {},
   "cell_type": "markdown",
   "metadata": {},
   "source": [
    "### Loading dataset"
   ]
  },
  {
   "cell_type": "code",
   "execution_count": 79,
   "metadata": {},
   "outputs": [],
   "source": [
    "sub_data = pd.read_csv(\n",
    "    \"/home/nailsonseat/Desktop/Datasets/MLP_project_datasets/test_data_v2.csv\")\n",
    "train_data = pd.read_csv(\n",
    "    \"/home/nailsonseat/Desktop/Datasets/MLP_project_datasets/train_data_v2.csv\")"
   ]
  },
  {
   "attachments": {},
   "cell_type": "markdown",
   "metadata": {},
   "source": [
    "### Extracting features and target variable"
   ]
  },
  {
   "cell_type": "code",
   "execution_count": 80,
   "metadata": {},
   "outputs": [],
   "source": [
    "X=train_data.drop('Made_Purchase',axis=1)\n",
    "y=pd.DataFrame(train_data['Made_Purchase'])"
   ]
  },
  {
   "attachments": {},
   "cell_type": "markdown",
   "metadata": {},
   "source": [
    "# Data Exploration"
   ]
  },
  {
   "attachments": {},
   "cell_type": "markdown",
   "metadata": {},
   "source": [
    "### Description"
   ]
  },
  {
   "attachments": {},
   "cell_type": "markdown",
   "metadata": {},
   "source": [
    "The first six columns represent the different pages in the e-commerce website visited by a user from other sites.\n",
    "\n",
    "* HomePage: Number of times visited this page\n",
    "\n",
    "*   HomePage_Duration: Total number of duration spent on this page.\n",
    "\n",
    "*   LandingPage: Number of times visited this page\n",
    "\n",
    "*   LandingPage_Duration: Total number of duration spent on this page.\n",
    "\n",
    "*   ProductDesriptionPage Number of times visited this page\n",
    "\n",
    "*   ProductDescriptionPage_Duration: Total number of duration spent on this page.\n",
    "\n",
    "*   GoogleMetric-Bounce Rate: Whenever a user comes to any one web-page of the website and he/she does not go to any other page and exits from the website from the same page, then this activity done by the user is called Bounce. And the percentage of the total number of times the user visiting our website and bounce it, is called Bounce Rate\n",
    "\n",
    "*   GoogleMetric-Exit Rate: The bounce rate is calculated based on the user exiting a website after visiting one page. But some users exit from the second, third, fourth, or any other page of our website, then those visitors’ data help determine the exit rate. The percentage of the total number of times the user to our website who do not exit from the first page (Landing Page) but exit after exploring other website pages is called the Exit Rate.\n",
    "\n",
    "*   GoogleMetric-Page Value: Page Value is the average value for a page that a user visited before landing on the goal page or completing an Ecommerce transaction.\n",
    "\n",
    "*   SeasonalPurchase: It is a weight indicator to track the seasonal purchase. If a user makes a purchase during any seasonal time (Mother’s Day, Diwali, Valentine's Day), we will assign based on internal heuristic.\n",
    "\n",
    "*   Month_ SeasonalPurchase: Month of the special day considered for seasonal purchase.\n",
    "\n",
    "The other attributes like, OS, Search Engine, Zone, Type of Traffic, Customer Type, Gender, Cookies Setting, Education, Marital Status and Weekend Purchase are self-explanatory variables"
   ]
  },
  {
   "cell_type": "code",
   "execution_count": 144,
   "metadata": {},
   "outputs": [
    {
     "data": {
      "text/html": [
       "<div>\n",
       "<style scoped>\n",
       "    .dataframe tbody tr th:only-of-type {\n",
       "        vertical-align: middle;\n",
       "    }\n",
       "\n",
       "    .dataframe tbody tr th {\n",
       "        vertical-align: top;\n",
       "    }\n",
       "\n",
       "    .dataframe thead th {\n",
       "        text-align: right;\n",
       "    }\n",
       "</style>\n",
       "<table border=\"1\" class=\"dataframe\">\n",
       "  <thead>\n",
       "    <tr style=\"text-align: right;\">\n",
       "      <th></th>\n",
       "      <th>HomePage</th>\n",
       "      <th>HomePage_Duration</th>\n",
       "      <th>LandingPage</th>\n",
       "      <th>LandingPage_Duration</th>\n",
       "      <th>ProductDescriptionPage</th>\n",
       "      <th>ProductDescriptionPage_Duration</th>\n",
       "      <th>GoogleMetric:Bounce Rates</th>\n",
       "      <th>GoogleMetric:Exit Rates</th>\n",
       "      <th>GoogleMetric:Page Values</th>\n",
       "      <th>SeasonalPurchase</th>\n",
       "      <th>...</th>\n",
       "      <th>OS</th>\n",
       "      <th>SearchEngine</th>\n",
       "      <th>Zone</th>\n",
       "      <th>Type of Traffic</th>\n",
       "      <th>CustomerType</th>\n",
       "      <th>Gender</th>\n",
       "      <th>Cookies Setting</th>\n",
       "      <th>Education</th>\n",
       "      <th>Marital Status</th>\n",
       "      <th>WeekendPurchase</th>\n",
       "    </tr>\n",
       "  </thead>\n",
       "  <tbody>\n",
       "    <tr>\n",
       "      <th>12347</th>\n",
       "      <td>3.0</td>\n",
       "      <td>138.000000</td>\n",
       "      <td>2.0</td>\n",
       "      <td>1005.000000</td>\n",
       "      <td>62.0</td>\n",
       "      <td>2450.435809</td>\n",
       "      <td>0.003125</td>\n",
       "      <td>0.012783</td>\n",
       "      <td>0.000000</td>\n",
       "      <td>0.0</td>\n",
       "      <td>...</td>\n",
       "      <td>2.0</td>\n",
       "      <td>2.0</td>\n",
       "      <td>4.0</td>\n",
       "      <td>4.0</td>\n",
       "      <td>Returning_Visitor</td>\n",
       "      <td>Not Specified</td>\n",
       "      <td>Deny</td>\n",
       "      <td>Others</td>\n",
       "      <td>Married</td>\n",
       "      <td>1.0</td>\n",
       "    </tr>\n",
       "    <tr>\n",
       "      <th>10701</th>\n",
       "      <td>3.0</td>\n",
       "      <td>126.500000</td>\n",
       "      <td>0.0</td>\n",
       "      <td>0.000000</td>\n",
       "      <td>36.0</td>\n",
       "      <td>576.857143</td>\n",
       "      <td>0.005556</td>\n",
       "      <td>0.010880</td>\n",
       "      <td>NaN</td>\n",
       "      <td>0.0</td>\n",
       "      <td>...</td>\n",
       "      <td>1.0</td>\n",
       "      <td>1.0</td>\n",
       "      <td>4.0</td>\n",
       "      <td>3.0</td>\n",
       "      <td>Returning_Visitor</td>\n",
       "      <td>Female</td>\n",
       "      <td>ALL</td>\n",
       "      <td>Others</td>\n",
       "      <td>Other</td>\n",
       "      <td>0.0</td>\n",
       "    </tr>\n",
       "    <tr>\n",
       "      <th>12854</th>\n",
       "      <td>3.0</td>\n",
       "      <td>120.250000</td>\n",
       "      <td>NaN</td>\n",
       "      <td>869.000000</td>\n",
       "      <td>42.0</td>\n",
       "      <td>2066.927778</td>\n",
       "      <td>0.017391</td>\n",
       "      <td>0.048188</td>\n",
       "      <td>17.706848</td>\n",
       "      <td>0.0</td>\n",
       "      <td>...</td>\n",
       "      <td>2.0</td>\n",
       "      <td>2.0</td>\n",
       "      <td>4.0</td>\n",
       "      <td>4.0</td>\n",
       "      <td>Returning_Visitor</td>\n",
       "      <td>Not Specified</td>\n",
       "      <td>Deny</td>\n",
       "      <td>Others</td>\n",
       "      <td>Other</td>\n",
       "      <td>0.0</td>\n",
       "    </tr>\n",
       "    <tr>\n",
       "      <th>10612</th>\n",
       "      <td>3.0</td>\n",
       "      <td>35.000000</td>\n",
       "      <td>0.0</td>\n",
       "      <td>0.000000</td>\n",
       "      <td>16.0</td>\n",
       "      <td>352.000000</td>\n",
       "      <td>0.000000</td>\n",
       "      <td>NaN</td>\n",
       "      <td>0.000000</td>\n",
       "      <td>0.0</td>\n",
       "      <td>...</td>\n",
       "      <td>2.0</td>\n",
       "      <td>2.0</td>\n",
       "      <td>2.0</td>\n",
       "      <td>1.0</td>\n",
       "      <td>Returning_Visitor</td>\n",
       "      <td>Not Specified</td>\n",
       "      <td>Deny</td>\n",
       "      <td>Diploma</td>\n",
       "      <td>Single</td>\n",
       "      <td>0.0</td>\n",
       "    </tr>\n",
       "    <tr>\n",
       "      <th>8938</th>\n",
       "      <td>NaN</td>\n",
       "      <td>0.000000</td>\n",
       "      <td>0.0</td>\n",
       "      <td>0.000000</td>\n",
       "      <td>1.0</td>\n",
       "      <td>0.000000</td>\n",
       "      <td>0.200000</td>\n",
       "      <td>0.200000</td>\n",
       "      <td>0.000000</td>\n",
       "      <td>0.0</td>\n",
       "      <td>...</td>\n",
       "      <td>2.0</td>\n",
       "      <td>2.0</td>\n",
       "      <td>1.0</td>\n",
       "      <td>3.0</td>\n",
       "      <td>Returning_Visitor</td>\n",
       "      <td>Female</td>\n",
       "      <td>Deny</td>\n",
       "      <td>Diploma</td>\n",
       "      <td>Other</td>\n",
       "      <td>0.0</td>\n",
       "    </tr>\n",
       "    <tr>\n",
       "      <th>14045</th>\n",
       "      <td>15.0</td>\n",
       "      <td>2657.318056</td>\n",
       "      <td>13.0</td>\n",
       "      <td>1949.166667</td>\n",
       "      <td>343.0</td>\n",
       "      <td>29970.465970</td>\n",
       "      <td>0.005316</td>\n",
       "      <td>0.028971</td>\n",
       "      <td>0.000000</td>\n",
       "      <td>0.0</td>\n",
       "      <td>...</td>\n",
       "      <td>2.0</td>\n",
       "      <td>2.0</td>\n",
       "      <td>1.0</td>\n",
       "      <td>2.0</td>\n",
       "      <td>Returning_Visitor</td>\n",
       "      <td>Female</td>\n",
       "      <td>Deny</td>\n",
       "      <td>Not Specified</td>\n",
       "      <td>Married</td>\n",
       "      <td>0.0</td>\n",
       "    </tr>\n",
       "    <tr>\n",
       "      <th>11001</th>\n",
       "      <td>8.0</td>\n",
       "      <td>123.000000</td>\n",
       "      <td>0.0</td>\n",
       "      <td>0.000000</td>\n",
       "      <td>8.0</td>\n",
       "      <td>95.000000</td>\n",
       "      <td>0.009091</td>\n",
       "      <td>0.027273</td>\n",
       "      <td>0.000000</td>\n",
       "      <td>0.4</td>\n",
       "      <td>...</td>\n",
       "      <td>1.0</td>\n",
       "      <td>1.0</td>\n",
       "      <td>5.0</td>\n",
       "      <td>2.0</td>\n",
       "      <td>New_Visitor</td>\n",
       "      <td>Male</td>\n",
       "      <td>Required</td>\n",
       "      <td>Diploma</td>\n",
       "      <td>Other</td>\n",
       "      <td>0.0</td>\n",
       "    </tr>\n",
       "    <tr>\n",
       "      <th>12072</th>\n",
       "      <td>4.0</td>\n",
       "      <td>158.200000</td>\n",
       "      <td>0.0</td>\n",
       "      <td>0.000000</td>\n",
       "      <td>62.0</td>\n",
       "      <td>4402.250000</td>\n",
       "      <td>NaN</td>\n",
       "      <td>0.001042</td>\n",
       "      <td>246.758590</td>\n",
       "      <td>0.0</td>\n",
       "      <td>...</td>\n",
       "      <td>4.0</td>\n",
       "      <td>1.0</td>\n",
       "      <td>8.0</td>\n",
       "      <td>2.0</td>\n",
       "      <td>New_Visitor</td>\n",
       "      <td>Male</td>\n",
       "      <td>Deny</td>\n",
       "      <td>Diploma</td>\n",
       "      <td>Married</td>\n",
       "      <td>0.0</td>\n",
       "    </tr>\n",
       "    <tr>\n",
       "      <th>1375</th>\n",
       "      <td>0.0</td>\n",
       "      <td>0.000000</td>\n",
       "      <td>1.0</td>\n",
       "      <td>0.000000</td>\n",
       "      <td>37.0</td>\n",
       "      <td>1358.750000</td>\n",
       "      <td>0.001754</td>\n",
       "      <td>0.032456</td>\n",
       "      <td>0.000000</td>\n",
       "      <td>0.0</td>\n",
       "      <td>...</td>\n",
       "      <td>2.0</td>\n",
       "      <td>5.0</td>\n",
       "      <td>3.0</td>\n",
       "      <td>1.0</td>\n",
       "      <td>Returning_Visitor</td>\n",
       "      <td>Male</td>\n",
       "      <td>ALL</td>\n",
       "      <td>Others</td>\n",
       "      <td>Single</td>\n",
       "      <td>0.0</td>\n",
       "    </tr>\n",
       "    <tr>\n",
       "      <th>10272</th>\n",
       "      <td>4.0</td>\n",
       "      <td>167.500000</td>\n",
       "      <td>0.0</td>\n",
       "      <td>0.000000</td>\n",
       "      <td>22.0</td>\n",
       "      <td>869.900000</td>\n",
       "      <td>0.000000</td>\n",
       "      <td>0.026389</td>\n",
       "      <td>33.533276</td>\n",
       "      <td>0.0</td>\n",
       "      <td>...</td>\n",
       "      <td>2.0</td>\n",
       "      <td>6.0</td>\n",
       "      <td>4.0</td>\n",
       "      <td>10.0</td>\n",
       "      <td>Returning_Visitor</td>\n",
       "      <td>Not Specified</td>\n",
       "      <td>Required</td>\n",
       "      <td>Graduate</td>\n",
       "      <td>NaN</td>\n",
       "      <td>0.0</td>\n",
       "    </tr>\n",
       "  </tbody>\n",
       "</table>\n",
       "<p>10 rows × 21 columns</p>\n",
       "</div>"
      ],
      "text/plain": [
       "       HomePage  HomePage_Duration  LandingPage  LandingPage_Duration  \\\n",
       "12347       3.0         138.000000          2.0           1005.000000   \n",
       "10701       3.0         126.500000          0.0              0.000000   \n",
       "12854       3.0         120.250000          NaN            869.000000   \n",
       "10612       3.0          35.000000          0.0              0.000000   \n",
       "8938        NaN           0.000000          0.0              0.000000   \n",
       "14045      15.0        2657.318056         13.0           1949.166667   \n",
       "11001       8.0         123.000000          0.0              0.000000   \n",
       "12072       4.0         158.200000          0.0              0.000000   \n",
       "1375        0.0           0.000000          1.0              0.000000   \n",
       "10272       4.0         167.500000          0.0              0.000000   \n",
       "\n",
       "       ProductDescriptionPage  ProductDescriptionPage_Duration  \\\n",
       "12347                    62.0                      2450.435809   \n",
       "10701                    36.0                       576.857143   \n",
       "12854                    42.0                      2066.927778   \n",
       "10612                    16.0                       352.000000   \n",
       "8938                      1.0                         0.000000   \n",
       "14045                   343.0                     29970.465970   \n",
       "11001                     8.0                        95.000000   \n",
       "12072                    62.0                      4402.250000   \n",
       "1375                     37.0                      1358.750000   \n",
       "10272                    22.0                       869.900000   \n",
       "\n",
       "       GoogleMetric:Bounce Rates  GoogleMetric:Exit Rates  \\\n",
       "12347                   0.003125                 0.012783   \n",
       "10701                   0.005556                 0.010880   \n",
       "12854                   0.017391                 0.048188   \n",
       "10612                   0.000000                      NaN   \n",
       "8938                    0.200000                 0.200000   \n",
       "14045                   0.005316                 0.028971   \n",
       "11001                   0.009091                 0.027273   \n",
       "12072                        NaN                 0.001042   \n",
       "1375                    0.001754                 0.032456   \n",
       "10272                   0.000000                 0.026389   \n",
       "\n",
       "       GoogleMetric:Page Values  SeasonalPurchase  ...   OS  SearchEngine  \\\n",
       "12347                  0.000000               0.0  ...  2.0           2.0   \n",
       "10701                       NaN               0.0  ...  1.0           1.0   \n",
       "12854                 17.706848               0.0  ...  2.0           2.0   \n",
       "10612                  0.000000               0.0  ...  2.0           2.0   \n",
       "8938                   0.000000               0.0  ...  2.0           2.0   \n",
       "14045                  0.000000               0.0  ...  2.0           2.0   \n",
       "11001                  0.000000               0.4  ...  1.0           1.0   \n",
       "12072                246.758590               0.0  ...  4.0           1.0   \n",
       "1375                   0.000000               0.0  ...  2.0           5.0   \n",
       "10272                 33.533276               0.0  ...  2.0           6.0   \n",
       "\n",
       "       Zone  Type of Traffic       CustomerType         Gender  \\\n",
       "12347   4.0              4.0  Returning_Visitor  Not Specified   \n",
       "10701   4.0              3.0  Returning_Visitor         Female   \n",
       "12854   4.0              4.0  Returning_Visitor  Not Specified   \n",
       "10612   2.0              1.0  Returning_Visitor  Not Specified   \n",
       "8938    1.0              3.0  Returning_Visitor         Female   \n",
       "14045   1.0              2.0  Returning_Visitor         Female   \n",
       "11001   5.0              2.0        New_Visitor           Male   \n",
       "12072   8.0              2.0        New_Visitor           Male   \n",
       "1375    3.0              1.0  Returning_Visitor           Male   \n",
       "10272   4.0             10.0  Returning_Visitor  Not Specified   \n",
       "\n",
       "      Cookies Setting      Education Marital Status WeekendPurchase  \n",
       "12347            Deny         Others        Married             1.0  \n",
       "10701             ALL         Others          Other             0.0  \n",
       "12854            Deny         Others          Other             0.0  \n",
       "10612            Deny        Diploma         Single             0.0  \n",
       "8938             Deny        Diploma          Other             0.0  \n",
       "14045            Deny  Not Specified        Married             0.0  \n",
       "11001        Required        Diploma          Other             0.0  \n",
       "12072            Deny        Diploma        Married             0.0  \n",
       "1375              ALL         Others         Single             0.0  \n",
       "10272        Required       Graduate            NaN             0.0  \n",
       "\n",
       "[10 rows x 21 columns]"
      ]
     },
     "execution_count": 144,
     "metadata": {},
     "output_type": "execute_result"
    }
   ],
   "source": [
    "X.sample(10)"
   ]
  },
  {
   "cell_type": "code",
   "execution_count": 103,
   "metadata": {},
   "outputs": [
    {
     "data": {
      "text/html": [
       "<div>\n",
       "<style scoped>\n",
       "    .dataframe tbody tr th:only-of-type {\n",
       "        vertical-align: middle;\n",
       "    }\n",
       "\n",
       "    .dataframe tbody tr th {\n",
       "        vertical-align: top;\n",
       "    }\n",
       "\n",
       "    .dataframe thead th {\n",
       "        text-align: right;\n",
       "    }\n",
       "</style>\n",
       "<table border=\"1\" class=\"dataframe\">\n",
       "  <thead>\n",
       "    <tr style=\"text-align: right;\">\n",
       "      <th></th>\n",
       "      <th>HomePage</th>\n",
       "      <th>HomePage_Duration</th>\n",
       "      <th>LandingPage</th>\n",
       "      <th>LandingPage_Duration</th>\n",
       "      <th>ProductDescriptionPage</th>\n",
       "      <th>ProductDescriptionPage_Duration</th>\n",
       "      <th>GoogleMetric:Bounce Rates</th>\n",
       "      <th>GoogleMetric:Exit Rates</th>\n",
       "      <th>GoogleMetric:Page Values</th>\n",
       "      <th>SeasonalPurchase</th>\n",
       "      <th>OS</th>\n",
       "      <th>SearchEngine</th>\n",
       "      <th>Zone</th>\n",
       "      <th>Type of Traffic</th>\n",
       "      <th>WeekendPurchase</th>\n",
       "    </tr>\n",
       "  </thead>\n",
       "  <tbody>\n",
       "    <tr>\n",
       "      <th>count</th>\n",
       "      <td>14578.000000</td>\n",
       "      <td>14581.000000</td>\n",
       "      <td>14578.000000</td>\n",
       "      <td>14596.000000</td>\n",
       "      <td>14608.000000</td>\n",
       "      <td>14564.000000</td>\n",
       "      <td>14580.000000</td>\n",
       "      <td>14602.000000</td>\n",
       "      <td>14599.000000</td>\n",
       "      <td>14581.000000</td>\n",
       "      <td>14597.000000</td>\n",
       "      <td>14609.000000</td>\n",
       "      <td>14614.000000</td>\n",
       "      <td>14588.000000</td>\n",
       "      <td>14610.000000</td>\n",
       "    </tr>\n",
       "    <tr>\n",
       "      <th>mean</th>\n",
       "      <td>2.250240</td>\n",
       "      <td>79.300762</td>\n",
       "      <td>0.490739</td>\n",
       "      <td>33.455943</td>\n",
       "      <td>31.559488</td>\n",
       "      <td>1184.346084</td>\n",
       "      <td>0.023366</td>\n",
       "      <td>0.044664</td>\n",
       "      <td>4.812620</td>\n",
       "      <td>0.064083</td>\n",
       "      <td>2.122422</td>\n",
       "      <td>2.356629</td>\n",
       "      <td>3.155673</td>\n",
       "      <td>4.090143</td>\n",
       "      <td>0.234155</td>\n",
       "    </tr>\n",
       "    <tr>\n",
       "      <th>std</th>\n",
       "      <td>3.288042</td>\n",
       "      <td>179.374699</td>\n",
       "      <td>1.252376</td>\n",
       "      <td>140.146256</td>\n",
       "      <td>44.897089</td>\n",
       "      <td>2009.496307</td>\n",
       "      <td>0.050011</td>\n",
       "      <td>0.049912</td>\n",
       "      <td>16.887366</td>\n",
       "      <td>0.202583</td>\n",
       "      <td>0.914404</td>\n",
       "      <td>1.721823</td>\n",
       "      <td>2.405155</td>\n",
       "      <td>4.040147</td>\n",
       "      <td>0.423484</td>\n",
       "    </tr>\n",
       "    <tr>\n",
       "      <th>min</th>\n",
       "      <td>0.000000</td>\n",
       "      <td>0.000000</td>\n",
       "      <td>0.000000</td>\n",
       "      <td>0.000000</td>\n",
       "      <td>0.000000</td>\n",
       "      <td>0.000000</td>\n",
       "      <td>0.000000</td>\n",
       "      <td>0.000000</td>\n",
       "      <td>0.000000</td>\n",
       "      <td>0.000000</td>\n",
       "      <td>1.000000</td>\n",
       "      <td>1.000000</td>\n",
       "      <td>1.000000</td>\n",
       "      <td>1.000000</td>\n",
       "      <td>0.000000</td>\n",
       "    </tr>\n",
       "    <tr>\n",
       "      <th>25%</th>\n",
       "      <td>0.000000</td>\n",
       "      <td>0.000000</td>\n",
       "      <td>0.000000</td>\n",
       "      <td>0.000000</td>\n",
       "      <td>7.000000</td>\n",
       "      <td>173.187500</td>\n",
       "      <td>0.000000</td>\n",
       "      <td>0.014502</td>\n",
       "      <td>0.000000</td>\n",
       "      <td>0.000000</td>\n",
       "      <td>2.000000</td>\n",
       "      <td>2.000000</td>\n",
       "      <td>1.000000</td>\n",
       "      <td>2.000000</td>\n",
       "      <td>0.000000</td>\n",
       "    </tr>\n",
       "    <tr>\n",
       "      <th>50%</th>\n",
       "      <td>1.000000</td>\n",
       "      <td>5.000000</td>\n",
       "      <td>0.000000</td>\n",
       "      <td>0.000000</td>\n",
       "      <td>17.500000</td>\n",
       "      <td>584.333333</td>\n",
       "      <td>0.003478</td>\n",
       "      <td>0.026406</td>\n",
       "      <td>0.000000</td>\n",
       "      <td>0.000000</td>\n",
       "      <td>2.000000</td>\n",
       "      <td>2.000000</td>\n",
       "      <td>3.000000</td>\n",
       "      <td>2.000000</td>\n",
       "      <td>0.000000</td>\n",
       "    </tr>\n",
       "    <tr>\n",
       "      <th>75%</th>\n",
       "      <td>3.000000</td>\n",
       "      <td>91.000000</td>\n",
       "      <td>0.000000</td>\n",
       "      <td>0.000000</td>\n",
       "      <td>38.000000</td>\n",
       "      <td>1434.255128</td>\n",
       "      <td>0.018182</td>\n",
       "      <td>0.050000</td>\n",
       "      <td>0.000000</td>\n",
       "      <td>0.000000</td>\n",
       "      <td>3.000000</td>\n",
       "      <td>2.000000</td>\n",
       "      <td>4.000000</td>\n",
       "      <td>4.000000</td>\n",
       "      <td>0.000000</td>\n",
       "    </tr>\n",
       "    <tr>\n",
       "      <th>max</th>\n",
       "      <td>27.000000</td>\n",
       "      <td>3398.750000</td>\n",
       "      <td>24.000000</td>\n",
       "      <td>2549.375000</td>\n",
       "      <td>705.000000</td>\n",
       "      <td>63973.522230</td>\n",
       "      <td>0.200000</td>\n",
       "      <td>0.200000</td>\n",
       "      <td>361.763742</td>\n",
       "      <td>1.000000</td>\n",
       "      <td>8.000000</td>\n",
       "      <td>13.000000</td>\n",
       "      <td>9.000000</td>\n",
       "      <td>20.000000</td>\n",
       "      <td>1.000000</td>\n",
       "    </tr>\n",
       "  </tbody>\n",
       "</table>\n",
       "</div>"
      ],
      "text/plain": [
       "           HomePage  HomePage_Duration   LandingPage  LandingPage_Duration  \\\n",
       "count  14578.000000       14581.000000  14578.000000          14596.000000   \n",
       "mean       2.250240          79.300762      0.490739             33.455943   \n",
       "std        3.288042         179.374699      1.252376            140.146256   \n",
       "min        0.000000           0.000000      0.000000              0.000000   \n",
       "25%        0.000000           0.000000      0.000000              0.000000   \n",
       "50%        1.000000           5.000000      0.000000              0.000000   \n",
       "75%        3.000000          91.000000      0.000000              0.000000   \n",
       "max       27.000000        3398.750000     24.000000           2549.375000   \n",
       "\n",
       "       ProductDescriptionPage  ProductDescriptionPage_Duration  \\\n",
       "count            14608.000000                     14564.000000   \n",
       "mean                31.559488                      1184.346084   \n",
       "std                 44.897089                      2009.496307   \n",
       "min                  0.000000                         0.000000   \n",
       "25%                  7.000000                       173.187500   \n",
       "50%                 17.500000                       584.333333   \n",
       "75%                 38.000000                      1434.255128   \n",
       "max                705.000000                     63973.522230   \n",
       "\n",
       "       GoogleMetric:Bounce Rates  GoogleMetric:Exit Rates  \\\n",
       "count               14580.000000             14602.000000   \n",
       "mean                    0.023366                 0.044664   \n",
       "std                     0.050011                 0.049912   \n",
       "min                     0.000000                 0.000000   \n",
       "25%                     0.000000                 0.014502   \n",
       "50%                     0.003478                 0.026406   \n",
       "75%                     0.018182                 0.050000   \n",
       "max                     0.200000                 0.200000   \n",
       "\n",
       "       GoogleMetric:Page Values  SeasonalPurchase            OS  SearchEngine  \\\n",
       "count              14599.000000      14581.000000  14597.000000  14609.000000   \n",
       "mean                   4.812620          0.064083      2.122422      2.356629   \n",
       "std                   16.887366          0.202583      0.914404      1.721823   \n",
       "min                    0.000000          0.000000      1.000000      1.000000   \n",
       "25%                    0.000000          0.000000      2.000000      2.000000   \n",
       "50%                    0.000000          0.000000      2.000000      2.000000   \n",
       "75%                    0.000000          0.000000      3.000000      2.000000   \n",
       "max                  361.763742          1.000000      8.000000     13.000000   \n",
       "\n",
       "               Zone  Type of Traffic  WeekendPurchase  \n",
       "count  14614.000000     14588.000000     14610.000000  \n",
       "mean       3.155673         4.090143         0.234155  \n",
       "std        2.405155         4.040147         0.423484  \n",
       "min        1.000000         1.000000         0.000000  \n",
       "25%        1.000000         2.000000         0.000000  \n",
       "50%        3.000000         2.000000         0.000000  \n",
       "75%        4.000000         4.000000         0.000000  \n",
       "max        9.000000        20.000000         1.000000  "
      ]
     },
     "execution_count": 103,
     "metadata": {},
     "output_type": "execute_result"
    }
   ],
   "source": [
    "X.describe()"
   ]
  },
  {
   "attachments": {},
   "cell_type": "markdown",
   "metadata": {},
   "source": [
    "### Shapes"
   ]
  },
  {
   "cell_type": "code",
   "execution_count": 83,
   "metadata": {},
   "outputs": [
    {
     "name": "stdout",
     "output_type": "stream",
     "text": [
      "(11784, 21)\n",
      "(11784, 1)\n"
     ]
    }
   ],
   "source": [
    "print(X.shape)\n",
    "print(y.shape)"
   ]
  },
  {
   "cell_type": "markdown",
   "metadata": {},
   "source": [
    "### Unique values in features"
   ]
  },
  {
   "cell_type": "code",
   "execution_count": null,
   "metadata": {},
   "outputs": [
    {
     "data": {
      "text/plain": [
       "HomePage                             27\n",
       "HomePage_Duration                  2844\n",
       "LandingPage                          17\n",
       "LandingPage_Duration               1084\n",
       "ProductDescriptionPage              294\n",
       "ProductDescriptionPage_Duration    7933\n",
       "GoogleMetric:Bounce Rates          1628\n",
       "GoogleMetric:Exit Rates            4051\n",
       "GoogleMetric:Page Values           2120\n",
       "SeasonalPurchase                      6\n",
       "Month_SeasonalPurchase               10\n",
       "OS                                    8\n",
       "SearchEngine                         13\n",
       "Zone                                  9\n",
       "Type of Traffic                      20\n",
       "CustomerType                          3\n",
       "Gender                                3\n",
       "Cookies Setting                       3\n",
       "Education                             4\n",
       "Marital Status                        3\n",
       "WeekendPurchase                       2\n",
       "dtype: int64"
      ]
     },
     "metadata": {},
     "output_type": "display_data"
    }
   ],
   "source": [
    "X.nunique()"
   ]
  },
  {
   "attachments": {},
   "cell_type": "markdown",
   "metadata": {},
   "source": [
    "### Range of data"
   ]
  },
  {
   "cell_type": "code",
   "execution_count": 116,
   "metadata": {},
   "outputs": [
    {
     "data": {
      "text/html": [
       "<div>\n",
       "<style scoped>\n",
       "    .dataframe tbody tr th:only-of-type {\n",
       "        vertical-align: middle;\n",
       "    }\n",
       "\n",
       "    .dataframe tbody tr th {\n",
       "        vertical-align: top;\n",
       "    }\n",
       "\n",
       "    .dataframe thead th {\n",
       "        text-align: right;\n",
       "    }\n",
       "</style>\n",
       "<table border=\"1\" class=\"dataframe\">\n",
       "  <thead>\n",
       "    <tr style=\"text-align: right;\">\n",
       "      <th></th>\n",
       "      <th>min</th>\n",
       "      <th>max</th>\n",
       "    </tr>\n",
       "  </thead>\n",
       "  <tbody>\n",
       "    <tr>\n",
       "      <th>HomePage</th>\n",
       "      <td>0.0</td>\n",
       "      <td>27.000000</td>\n",
       "    </tr>\n",
       "    <tr>\n",
       "      <th>HomePage_Duration</th>\n",
       "      <td>0.0</td>\n",
       "      <td>3398.750000</td>\n",
       "    </tr>\n",
       "    <tr>\n",
       "      <th>LandingPage</th>\n",
       "      <td>0.0</td>\n",
       "      <td>24.000000</td>\n",
       "    </tr>\n",
       "    <tr>\n",
       "      <th>LandingPage_Duration</th>\n",
       "      <td>0.0</td>\n",
       "      <td>2549.375000</td>\n",
       "    </tr>\n",
       "    <tr>\n",
       "      <th>ProductDescriptionPage</th>\n",
       "      <td>0.0</td>\n",
       "      <td>705.000000</td>\n",
       "    </tr>\n",
       "    <tr>\n",
       "      <th>ProductDescriptionPage_Duration</th>\n",
       "      <td>0.0</td>\n",
       "      <td>63973.522230</td>\n",
       "    </tr>\n",
       "    <tr>\n",
       "      <th>GoogleMetric:Bounce Rates</th>\n",
       "      <td>0.0</td>\n",
       "      <td>0.200000</td>\n",
       "    </tr>\n",
       "    <tr>\n",
       "      <th>GoogleMetric:Exit Rates</th>\n",
       "      <td>0.0</td>\n",
       "      <td>0.200000</td>\n",
       "    </tr>\n",
       "    <tr>\n",
       "      <th>GoogleMetric:Page Values</th>\n",
       "      <td>0.0</td>\n",
       "      <td>361.763742</td>\n",
       "    </tr>\n",
       "    <tr>\n",
       "      <th>SeasonalPurchase</th>\n",
       "      <td>0.0</td>\n",
       "      <td>1.000000</td>\n",
       "    </tr>\n",
       "    <tr>\n",
       "      <th>OS</th>\n",
       "      <td>1.0</td>\n",
       "      <td>8.000000</td>\n",
       "    </tr>\n",
       "    <tr>\n",
       "      <th>SearchEngine</th>\n",
       "      <td>1.0</td>\n",
       "      <td>13.000000</td>\n",
       "    </tr>\n",
       "    <tr>\n",
       "      <th>Zone</th>\n",
       "      <td>1.0</td>\n",
       "      <td>9.000000</td>\n",
       "    </tr>\n",
       "    <tr>\n",
       "      <th>Type of Traffic</th>\n",
       "      <td>1.0</td>\n",
       "      <td>20.000000</td>\n",
       "    </tr>\n",
       "    <tr>\n",
       "      <th>WeekendPurchase</th>\n",
       "      <td>0.0</td>\n",
       "      <td>1.000000</td>\n",
       "    </tr>\n",
       "  </tbody>\n",
       "</table>\n",
       "</div>"
      ],
      "text/plain": [
       "                                 min           max\n",
       "HomePage                         0.0     27.000000\n",
       "HomePage_Duration                0.0   3398.750000\n",
       "LandingPage                      0.0     24.000000\n",
       "LandingPage_Duration             0.0   2549.375000\n",
       "ProductDescriptionPage           0.0    705.000000\n",
       "ProductDescriptionPage_Duration  0.0  63973.522230\n",
       "GoogleMetric:Bounce Rates        0.0      0.200000\n",
       "GoogleMetric:Exit Rates          0.0      0.200000\n",
       "GoogleMetric:Page Values         0.0    361.763742\n",
       "SeasonalPurchase                 0.0      1.000000\n",
       "OS                               1.0      8.000000\n",
       "SearchEngine                     1.0     13.000000\n",
       "Zone                             1.0      9.000000\n",
       "Type of Traffic                  1.0     20.000000\n",
       "WeekendPurchase                  0.0      1.000000"
      ]
     },
     "execution_count": 116,
     "metadata": {},
     "output_type": "execute_result"
    }
   ],
   "source": [
    "X.describe().loc[['min','max']].transpose()"
   ]
  },
  {
   "attachments": {},
   "cell_type": "markdown",
   "metadata": {},
   "source": [
    "### Data types of features"
   ]
  },
  {
   "cell_type": "code",
   "execution_count": 85,
   "metadata": {},
   "outputs": [
    {
     "data": {
      "text/plain": [
       "HomePage                           float64\n",
       "HomePage_Duration                  float64\n",
       "LandingPage                        float64\n",
       "LandingPage_Duration               float64\n",
       "ProductDescriptionPage             float64\n",
       "ProductDescriptionPage_Duration    float64\n",
       "GoogleMetric:Bounce Rates          float64\n",
       "GoogleMetric:Exit Rates            float64\n",
       "GoogleMetric:Page Values           float64\n",
       "SeasonalPurchase                   float64\n",
       "Month_SeasonalPurchase              object\n",
       "OS                                 float64\n",
       "SearchEngine                       float64\n",
       "Zone                               float64\n",
       "Type of Traffic                    float64\n",
       "CustomerType                        object\n",
       "Gender                              object\n",
       "Cookies Setting                     object\n",
       "Education                           object\n",
       "Marital Status                      object\n",
       "WeekendPurchase                    float64\n",
       "dtype: object"
      ]
     },
     "execution_count": 85,
     "metadata": {},
     "output_type": "execute_result"
    }
   ],
   "source": [
    "X.dtypes"
   ]
  },
  {
   "cell_type": "code",
   "execution_count": 86,
   "metadata": {},
   "outputs": [
    {
     "data": {
      "text/html": [
       "<div>\n",
       "<style scoped>\n",
       "    .dataframe tbody tr th:only-of-type {\n",
       "        vertical-align: middle;\n",
       "    }\n",
       "\n",
       "    .dataframe tbody tr th {\n",
       "        vertical-align: top;\n",
       "    }\n",
       "\n",
       "    .dataframe thead th {\n",
       "        text-align: right;\n",
       "    }\n",
       "</style>\n",
       "<table border=\"1\" class=\"dataframe\">\n",
       "  <thead>\n",
       "    <tr style=\"text-align: right;\">\n",
       "      <th></th>\n",
       "      <th>Month_SeasonalPurchase</th>\n",
       "      <th>CustomerType</th>\n",
       "      <th>Gender</th>\n",
       "      <th>Cookies Setting</th>\n",
       "      <th>Education</th>\n",
       "      <th>Marital Status</th>\n",
       "    </tr>\n",
       "  </thead>\n",
       "  <tbody>\n",
       "    <tr>\n",
       "      <th>12555</th>\n",
       "      <td>Mar</td>\n",
       "      <td>Returning_Visitor</td>\n",
       "      <td>Not Specified</td>\n",
       "      <td>ALL</td>\n",
       "      <td>Others</td>\n",
       "      <td>Single</td>\n",
       "    </tr>\n",
       "    <tr>\n",
       "      <th>1710</th>\n",
       "      <td>May</td>\n",
       "      <td>Returning_Visitor</td>\n",
       "      <td>Female</td>\n",
       "      <td>Required</td>\n",
       "      <td>Diploma</td>\n",
       "      <td>Single</td>\n",
       "    </tr>\n",
       "    <tr>\n",
       "      <th>9017</th>\n",
       "      <td>Nov</td>\n",
       "      <td>Returning_Visitor</td>\n",
       "      <td>Not Specified</td>\n",
       "      <td>Required</td>\n",
       "      <td>Not Specified</td>\n",
       "      <td>Other</td>\n",
       "    </tr>\n",
       "    <tr>\n",
       "      <th>5103</th>\n",
       "      <td>Jul</td>\n",
       "      <td>Returning_Visitor</td>\n",
       "      <td>Male</td>\n",
       "      <td>ALL</td>\n",
       "      <td>Graduate</td>\n",
       "      <td>Single</td>\n",
       "    </tr>\n",
       "    <tr>\n",
       "      <th>7540</th>\n",
       "      <td>Dec</td>\n",
       "      <td>Returning_Visitor</td>\n",
       "      <td>Male</td>\n",
       "      <td>Required</td>\n",
       "      <td>Diploma</td>\n",
       "      <td>Single</td>\n",
       "    </tr>\n",
       "    <tr>\n",
       "      <th>11104</th>\n",
       "      <td>Dec</td>\n",
       "      <td>Returning_Visitor</td>\n",
       "      <td>Not Specified</td>\n",
       "      <td>ALL</td>\n",
       "      <td>Graduate</td>\n",
       "      <td>Other</td>\n",
       "    </tr>\n",
       "    <tr>\n",
       "      <th>4917</th>\n",
       "      <td>Jul</td>\n",
       "      <td>Returning_Visitor</td>\n",
       "      <td>Female</td>\n",
       "      <td>Required</td>\n",
       "      <td>Not Specified</td>\n",
       "      <td>Other</td>\n",
       "    </tr>\n",
       "    <tr>\n",
       "      <th>7576</th>\n",
       "      <td>Nov</td>\n",
       "      <td>Returning_Visitor</td>\n",
       "      <td>Not Specified</td>\n",
       "      <td>Deny</td>\n",
       "      <td>Graduate</td>\n",
       "      <td>Other</td>\n",
       "    </tr>\n",
       "    <tr>\n",
       "      <th>8160</th>\n",
       "      <td>Nov</td>\n",
       "      <td>Returning_Visitor</td>\n",
       "      <td>Female</td>\n",
       "      <td>Deny</td>\n",
       "      <td>Diploma</td>\n",
       "      <td>Other</td>\n",
       "    </tr>\n",
       "    <tr>\n",
       "      <th>246</th>\n",
       "      <td>Mar</td>\n",
       "      <td>Returning_Visitor</td>\n",
       "      <td>Male</td>\n",
       "      <td>Required</td>\n",
       "      <td>Others</td>\n",
       "      <td>Other</td>\n",
       "    </tr>\n",
       "  </tbody>\n",
       "</table>\n",
       "</div>"
      ],
      "text/plain": [
       "      Month_SeasonalPurchase       CustomerType         Gender  \\\n",
       "12555                    Mar  Returning_Visitor  Not Specified   \n",
       "1710                     May  Returning_Visitor         Female   \n",
       "9017                     Nov  Returning_Visitor  Not Specified   \n",
       "5103                     Jul  Returning_Visitor           Male   \n",
       "7540                     Dec  Returning_Visitor           Male   \n",
       "11104                    Dec  Returning_Visitor  Not Specified   \n",
       "4917                     Jul  Returning_Visitor         Female   \n",
       "7576                     Nov  Returning_Visitor  Not Specified   \n",
       "8160                     Nov  Returning_Visitor         Female   \n",
       "246                      Mar  Returning_Visitor           Male   \n",
       "\n",
       "      Cookies Setting      Education Marital Status  \n",
       "12555             ALL         Others         Single  \n",
       "1710         Required        Diploma         Single  \n",
       "9017         Required  Not Specified          Other  \n",
       "5103              ALL       Graduate         Single  \n",
       "7540         Required        Diploma         Single  \n",
       "11104             ALL       Graduate          Other  \n",
       "4917         Required  Not Specified          Other  \n",
       "7576             Deny       Graduate          Other  \n",
       "8160             Deny        Diploma          Other  \n",
       "246          Required         Others          Other  "
      ]
     },
     "execution_count": 86,
     "metadata": {},
     "output_type": "execute_result"
    }
   ],
   "source": [
    "X[['Month_SeasonalPurchase','CustomerType','Gender','Cookies Setting','Education','Marital Status']].sample(10)"
   ]
  },
  {
   "attachments": {},
   "cell_type": "markdown",
   "metadata": {},
   "source": [
    "### Missing values"
   ]
  },
  {
   "cell_type": "code",
   "execution_count": 87,
   "metadata": {},
   "outputs": [
    {
     "data": {
      "text/plain": [
       "HomePage                           114\n",
       "HomePage_Duration                  114\n",
       "LandingPage                        118\n",
       "LandingPage_Duration               112\n",
       "ProductDescriptionPage              98\n",
       "ProductDescriptionPage_Duration    135\n",
       "GoogleMetric:Bounce Rates          133\n",
       "GoogleMetric:Exit Rates            108\n",
       "GoogleMetric:Page Values            97\n",
       "SeasonalPurchase                   119\n",
       "Month_SeasonalPurchase             115\n",
       "OS                                 101\n",
       "SearchEngine                        98\n",
       "Zone                                94\n",
       "Type of Traffic                    118\n",
       "CustomerType                       114\n",
       "Gender                             120\n",
       "Cookies Setting                    114\n",
       "Education                          110\n",
       "Marital Status                     102\n",
       "WeekendPurchase                     98\n",
       "dtype: int64"
      ]
     },
     "execution_count": 87,
     "metadata": {},
     "output_type": "execute_result"
    }
   ],
   "source": [
    "X.isna().sum()"
   ]
  },
  {
   "cell_type": "code",
   "execution_count": 97,
   "metadata": {},
   "outputs": [
    {
     "name": "stdout",
     "output_type": "stream",
     "text": [
      "['May' 'Dec' nan 'Nov' 'Oct' 'Mar' 'June' 'Jul' 'Sep' 'Aug' 'Feb']\n",
      "['Returning_Visitor' 'New_Visitor' nan 'Other']\n",
      "['Male' 'Not Specified' 'Female' nan]\n",
      "['ALL' 'Deny' 'Required' nan]\n",
      "['Graduate' 'Diploma' 'Not Specified' 'Others' nan]\n",
      "['Single' 'Other' 'Married' nan]\n"
     ]
    }
   ],
   "source": [
    "for i in X[['Month_SeasonalPurchase','CustomerType','Gender','Cookies Setting','Education','Marital Status']].columns:\n",
    "    print(X[i].unique())"
   ]
  },
  {
   "cell_type": "code",
   "execution_count": 88,
   "metadata": {},
   "outputs": [
    {
     "data": {
      "text/plain": [
       "Made_Purchase    0\n",
       "dtype: int64"
      ]
     },
     "execution_count": 88,
     "metadata": {},
     "output_type": "execute_result"
    }
   ],
   "source": [
    "y.isna().sum()"
   ]
  },
  {
   "attachments": {},
   "cell_type": "markdown",
   "metadata": {},
   "source": [
    "### Outliers"
   ]
  },
  {
   "cell_type": "code",
   "execution_count": 91,
   "metadata": {},
   "outputs": [
    {
     "data": {
      "text/plain": [
       "array([[<AxesSubplot: title={'center': 'HomePage'}>,\n",
       "        <AxesSubplot: title={'center': 'HomePage_Duration'}>,\n",
       "        <AxesSubplot: title={'center': 'LandingPage'}>,\n",
       "        <AxesSubplot: title={'center': 'LandingPage_Duration'}>],\n",
       "       [<AxesSubplot: title={'center': 'ProductDescriptionPage'}>,\n",
       "        <AxesSubplot: title={'center': 'ProductDescriptionPage_Duration'}>,\n",
       "        <AxesSubplot: title={'center': 'GoogleMetric:Bounce Rates'}>,\n",
       "        <AxesSubplot: title={'center': 'GoogleMetric:Exit Rates'}>],\n",
       "       [<AxesSubplot: title={'center': 'GoogleMetric:Page Values'}>,\n",
       "        <AxesSubplot: title={'center': 'SeasonalPurchase'}>,\n",
       "        <AxesSubplot: title={'center': 'OS'}>,\n",
       "        <AxesSubplot: title={'center': 'SearchEngine'}>],\n",
       "       [<AxesSubplot: title={'center': 'Zone'}>,\n",
       "        <AxesSubplot: title={'center': 'Type of Traffic'}>,\n",
       "        <AxesSubplot: title={'center': 'WeekendPurchase'}>,\n",
       "        <AxesSubplot: >]], dtype=object)"
      ]
     },
     "execution_count": 91,
     "metadata": {},
     "output_type": "execute_result"
    },
    {
     "data": {
      "image/png": "[encoded data removed]",
      "text/plain": [
       "<Figure size 1500x1500 with 16 Axes>"
      ]
     },
     "metadata": {},
     "output_type": "display_data"
    }
   ],
   "source": [
    "X.hist(figsize=(15,15))"
   ]
  },
  {
   "attachments": {},
   "cell_type": "markdown",
   "metadata": {},
   "source": [
    "### Correlations"
   ]
  },
  {
   "cell_type": "code",
   "execution_count": 94,
   "metadata": {},
   "outputs": [
    {
     "data": {
      "text/plain": [
       "<AxesSubplot: >"
      ]
     },
     "execution_count": 94,
     "metadata": {},
     "output_type": "execute_result"
    },
    {
     "data": {
      "image/png": "[encoded data removed]",
      "text/plain": [
       "<Figure size 640x480 with 2 Axes>"
      ]
     },
     "metadata": {},
     "output_type": "display_data"
    }
   ],
   "source": [
    "sns.heatmap(X.drop(['Month_SeasonalPurchase','CustomerType','Gender','Cookies Setting','Education','Marital Status'],axis=1).corr())"
   ]
  },
  {
   "attachments": {},
   "cell_type": "markdown",
   "metadata": {},
   "source": [
    "### Target variable(s)"
   ]
  },
  {
   "cell_type": "code",
   "execution_count": 119,
   "metadata": {},
   "outputs": [
    {
     "data": {
      "text/plain": [
       "Made_Purchase    2\n",
       "dtype: int64"
      ]
     },
     "execution_count": 119,
     "metadata": {},
     "output_type": "execute_result"
    }
   ],
   "source": [
    "y.nunique()"
   ]
  },
  {
   "cell_type": "code",
   "execution_count": 120,
   "metadata": {},
   "outputs": [
    {
     "data": {
      "text/plain": [
       "array([False,  True])"
      ]
     },
     "execution_count": 120,
     "metadata": {},
     "output_type": "execute_result"
    }
   ],
   "source": [
    "y['Made_Purchase'].unique()"
   ]
  },
  {
   "cell_type": "code",
   "execution_count": 122,
   "metadata": {},
   "outputs": [
    {
     "data": {
      "text/html": [
       "<div>\n",
       "<style scoped>\n",
       "    .dataframe tbody tr th:only-of-type {\n",
       "        vertical-align: middle;\n",
       "    }\n",
       "\n",
       "    .dataframe tbody tr th {\n",
       "        vertical-align: top;\n",
       "    }\n",
       "\n",
       "    .dataframe thead th {\n",
       "        text-align: right;\n",
       "    }\n",
       "</style>\n",
       "<table border=\"1\" class=\"dataframe\">\n",
       "  <thead>\n",
       "    <tr style=\"text-align: right;\">\n",
       "      <th></th>\n",
       "      <th>Made_Purchase</th>\n",
       "    </tr>\n",
       "  </thead>\n",
       "  <tbody>\n",
       "    <tr>\n",
       "      <th>count</th>\n",
       "      <td>14731</td>\n",
       "    </tr>\n",
       "    <tr>\n",
       "      <th>unique</th>\n",
       "      <td>2</td>\n",
       "    </tr>\n",
       "    <tr>\n",
       "      <th>top</th>\n",
       "      <td>False</td>\n",
       "    </tr>\n",
       "    <tr>\n",
       "      <th>freq</th>\n",
       "      <td>9065</td>\n",
       "    </tr>\n",
       "  </tbody>\n",
       "</table>\n",
       "</div>"
      ],
      "text/plain": [
       "       Made_Purchase\n",
       "count          14731\n",
       "unique             2\n",
       "top            False\n",
       "freq            9065"
      ]
     },
     "execution_count": 122,
     "metadata": {},
     "output_type": "execute_result"
    }
   ],
   "source": [
    "y.describe()"
   ]
  },
  {
   "attachments": {},
   "cell_type": "markdown",
   "metadata": {},
   "source": [
    "### Insights"
   ]
  },
  {
   "cell_type": "code",
   "execution_count": 148,
   "metadata": {},
   "outputs": [],
   "source": [
    "categorical_features=[\n",
    "    'Month_SeasonalPurchase',\n",
    "    'CustomerType','Gender',\n",
    "    'Cookies Setting','Education',\n",
    "    'Marital Status','WeekendPurchase',\n",
    "    'Zone',\n",
    "    'Type of Traffic',\n",
    "    'SearchEngine',\n",
    "    'OS']\n",
    "numerical_features=[\n",
    "    'HomePage',\n",
    "    'HomePage_Duration',\n",
    "    'LandingPage',\n",
    "    'LandingPage_Duration',\n",
    "    'ProductDescriptionPage',\n",
    "    'ProductDescriptionPage_Duration',\n",
    "    'GoogleMetric:Bounce Rates',\n",
    "    'GoogleMetric:Exit Rates',\n",
    "    'GoogleMetric:Page Values',\n",
    "    'SeasonalPurchase']"
   ]
  },
  {
   "attachments": {},
   "cell_type": "markdown",
   "metadata": {},
   "source": [
    "# Data pre-processing"
   ]
  },
  {
   "attachments": {},
   "cell_type": "markdown",
   "metadata": {},
   "source": [
    "### Data Cleaning"
   ]
  },
  {
   "cell_type": "code",
   "execution_count": 90,
   "metadata": {},
   "outputs": [],
   "source": [
    "combined_imputer=ColumnTransformer(transformers=[\n",
    "    ('numerical_imputer',KNNImputer(n_neighbors=10),numerical_features),\n",
    "    ('catagorical_imputer',SimpleImputer(strategy='most_frequent'),categorical_features)\n",
    "])"
   ]
  },
  {
   "cell_type": "code",
   "execution_count": 91,
   "metadata": {},
   "outputs": [],
   "source": [
    "X_imputed=combined_imputer.fit_transform(X)"
   ]
  },
  {
   "cell_type": "code",
   "execution_count": 98,
   "metadata": {},
   "outputs": [],
   "source": [
    "X_imputed=pd.DataFrame(data=X_imputed,columns=numerical_features+categorical_features)"
   ]
  },
  {
   "cell_type": "code",
   "execution_count": 99,
   "metadata": {},
   "outputs": [
    {
     "data": {
      "text/plain": [
       "HomePage                           0\n",
       "HomePage_Duration                  0\n",
       "LandingPage                        0\n",
       "LandingPage_Duration               0\n",
       "ProductDescriptionPage             0\n",
       "ProductDescriptionPage_Duration    0\n",
       "GoogleMetric:Bounce Rates          0\n",
       "GoogleMetric:Exit Rates            0\n",
       "GoogleMetric:Page Values           0\n",
       "SeasonalPurchase                   0\n",
       "Month_SeasonalPurchase             0\n",
       "CustomerType                       0\n",
       "Gender                             0\n",
       "Cookies Setting                    0\n",
       "Education                          0\n",
       "Marital Status                     0\n",
       "WeekendPurchase                    0\n",
       "Zone                               0\n",
       "Type of Traffic                    0\n",
       "SearchEngine                       0\n",
       "OS                                 0\n",
       "dtype: int64"
      ]
     },
     "execution_count": 99,
     "metadata": {},
     "output_type": "execute_result"
    }
   ],
   "source": [
    "X_imputed.isna().sum()"
   ]
  },
  {
   "attachments": {},
   "cell_type": "markdown",
   "metadata": {},
   "source": [
    "### Data Scaling"
   ]
  }
 ],
 "metadata": {
  "kernelspec": {
   "display_name": ".shoppersBehaviour",
   "language": "python",
   "name": "python3"
  },
  "language_info": {
   "codemirror_mode": {
    "name": "ipython",
    "version": 3
   },
   "file_extension": ".py",
   "mimetype": "text/x-python",
   "name": "python",
   "nbconvert_exporter": "python",
   "pygments_lexer": "ipython3",
   "version": "3.10.0"
  },
  "orig_nbformat": 4,
  "vscode": {
   "interpreter": {
    "hash": "c80100b858390f06239472c24fcad13a1dfd19ffd5450d0ab06bf544232cb417"
   }
  }
 },
 "nbformat": 4,
 "nbformat_minor": 2
}
