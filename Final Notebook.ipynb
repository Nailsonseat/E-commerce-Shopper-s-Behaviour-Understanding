{
 "cells": [
  {
   "cell_type": "code",
   "execution_count": 1,
   "metadata": {},
   "outputs": [],
   "source": [
    "from sklearn.dummy import DummyClassifier\n",
    "from sklearn.preprocessing import LabelEncoder\n",
    "import pandas as pd\n",
    "\n",
    "test_data = pd.read_csv(\n",
    "    \"/kaggle/input/e-commerce-shoppers-behaviour-understanding/test_data_v2.csv\")\n",
    "train_data = pd.read_csv(\n",
    "    \"/kaggle/input/e-commerce-shoppers-behaviour-understanding/train_data_v2.csv\")\n"
   ]
  },
  {
   "attachments": {},
   "cell_type": "markdown",
   "metadata": {},
   "source": [
    "<h2 style=\"text-align: center;\">Data Pre-processing</h2>"
   ]
  },
  {
   "attachments": {},
   "cell_type": "markdown",
   "metadata": {},
   "source": [
    "### Getting the data"
   ]
  },
  {
   "cell_type": "code",
   "execution_count": 2,
   "metadata": {},
   "outputs": [],
   "source": [
    "\n",
    "X = train_data.loc[:,:\"WeekendPurchase\"]\n",
    "y = train_data[\"Made_Purchase\"]"
   ]
  },
  {
   "cell_type": "code",
   "execution_count": 3,
   "metadata": {},
   "outputs": [
    {
     "name": "stdout",
     "output_type": "stream",
     "text": [
      "(14731, 21)\n",
      "(14731,)\n"
     ]
    }
   ],
   "source": [
    "print(X.shape)\n",
    "print(y.shape)"
   ]
  },
  {
   "attachments": {},
   "cell_type": "markdown",
   "metadata": {},
   "source": [
    "### Encoding the categorical data"
   ]
  },
  {
   "cell_type": "code",
   "execution_count": null,
   "metadata": {},
   "outputs": [],
   "source": [
    "encoder=LabelEncoder()"
   ]
  },
  {
   "attachments": {},
   "cell_type": "markdown",
   "metadata": {},
   "source": [
    "##### 1- Encoding labels in potential independent variables"
   ]
  },
  {
   "cell_type": "code",
   "execution_count": 9,
   "metadata": {},
   "outputs": [
    {
     "name": "stderr",
     "output_type": "stream",
     "text": [
      "/tmp/ipykernel_10497/2597572559.py:6: FutureWarning: In a future version, `df.iloc[:, i] = newvals` will attempt to set the values inplace instead of always setting a new array. To retain the old behavior, use either `df[df.columns[i]] = newvals` or, if columns are non-unique, `df.isetitem(i, newvals)`\n",
      "  X.loc[:,'CustomerType']=encoder.fit_transform(X.loc[:,'CustomerType'])\n"
     ]
    }
   ],
   "source": [
    "X.loc[:,'Marital Status']=encoder.fit_transform(X.loc[:,'Marital Status'])\n",
    "X.loc[:,'Education']=encoder.fit_transform(X.loc[:,'Education'])\n",
    "X.loc[:,'Cookies Setting']=encoder.fit_transform(X.loc[:,'Cookies Setting'])\n",
    "X.loc[:,'Gender']=encoder.fit_transform(X.loc[:,'Gender'])\n",
    "X.loc[:,'Month_SeasonalPurchase']=encoder.fit_transform(X.loc[:,'Month_SeasonalPurchase'])\n",
    "X.loc[:,'CustomerType']=encoder.fit_transform(X.loc[:,'CustomerType'])"
   ]
  },
  {
   "attachments": {},
   "cell_type": "markdown",
   "metadata": {},
   "source": [
    "##### 2- Encoding labels in dependent variables"
   ]
  },
  {
   "cell_type": "code",
   "execution_count": null,
   "metadata": {},
   "outputs": [],
   "source": [
    "y=encoder.fit_transform(y)"
   ]
  }
 ],
 "metadata": {
  "kernelspec": {
   "display_name": ".shoppersBehaviour",
   "language": "python",
   "name": "python3"
  },
  "language_info": {
   "codemirror_mode": {
    "name": "ipython",
    "version": 3
   },
   "file_extension": ".py",
   "mimetype": "text/x-python",
   "name": "python",
   "nbconvert_exporter": "python",
   "pygments_lexer": "ipython3",
   "version": "3.10.0 (default, Dec 25 2022, 13:50:48) [GCC 11.3.0]"
  },
  "orig_nbformat": 4,
  "vscode": {
   "interpreter": {
    "hash": "c80100b858390f06239472c24fcad13a1dfd19ffd5450d0ab06bf544232cb417"
   }
  }
 },
 "nbformat": 4,
 "nbformat_minor": 2
}
