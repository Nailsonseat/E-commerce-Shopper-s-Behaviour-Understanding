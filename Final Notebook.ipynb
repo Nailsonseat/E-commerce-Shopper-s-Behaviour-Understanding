{
 "cells": [
  {
   "cell_type": "code",
   "execution_count": 5,
   "metadata": {},
   "outputs": [
    {
     "data": {
      "text/plain": [
       "' dummy_clf = DummyClassifier(strategy=\"most_frequent\")\\ndummy_clf.fit(X, y)\\nDummyClassifier(strategy=\\'most_frequent\\')\\ndummy_clf.predict(X)\\n\\n\\nsub = pd.DataFrame(dummy_clf.predict(\\n    test_data[\"ProductDescriptionPage\"]), columns=[\\'Made_Purchase\\'])\\nsub.index.name = \\'id\\'\\nsub.to_csv(\"submission.csv\", encoding=\\'utf-8\\') '"
      ]
     },
     "execution_count": 5,
     "metadata": {},
     "output_type": "execute_result"
    }
   ],
   "source": [
    "from sklearn.dummy import DummyClassifier\n",
    "from sklearn.preprocessing import LabelEncoder\n",
    "import pandas as pd\n",
    "\n",
    "test_data = pd.read_csv(\n",
    "    \"/kaggle/input/e-commerce-shoppers-behaviour-understanding/test_data_v2.csv\")\n",
    "train_data = pd.read_csv(\n",
    "    \"/kaggle/input/e-commerce-shoppers-behaviour-understanding/train_data_v2.csv\")\n",
    "\n",
    "X = train_data.loc[:,:\"WeekendPurchase\"]\n",
    "y = train_data[\"Made_Purchase\"]\n",
    "\n",
    "\"\"\" dummy_clf = DummyClassifier(strategy=\"most_frequent\")\n",
    "dummy_clf.fit(X, y)\n",
    "DummyClassifier(strategy='most_frequent')\n",
    "dummy_clf.predict(X)\n",
    "\n",
    "\n",
    "sub = pd.DataFrame(dummy_clf.predict(\n",
    "    test_data[\"ProductDescriptionPage\"]), columns=['Made_Purchase'])\n",
    "sub.index.name = 'id'\n",
    "sub.to_csv(\"submission.csv\", encoding='utf-8') \"\"\"\n"
   ]
  },
  {
   "attachments": {},
   "cell_type": "markdown",
   "metadata": {},
   "source": [
    "<h2 style=\"text-align: center;\">Data Pre-processing</h2>"
   ]
  },
  {
   "cell_type": "code",
   "execution_count": 7,
   "metadata": {},
   "outputs": [
    {
     "data": {
      "text/plain": [
       "(14731, 21)"
      ]
     },
     "execution_count": 7,
     "metadata": {},
     "output_type": "execute_result"
    }
   ],
   "source": [
    "X.shape"
   ]
  }
 ],
 "metadata": {
  "kernelspec": {
   "display_name": ".shoppersBehaviour",
   "language": "python",
   "name": "python3"
  },
  "language_info": {
   "codemirror_mode": {
    "name": "ipython",
    "version": 3
   },
   "file_extension": ".py",
   "mimetype": "text/x-python",
   "name": "python",
   "nbconvert_exporter": "python",
   "pygments_lexer": "ipython3",
   "version": "3.10.0"
  },
  "orig_nbformat": 4,
  "vscode": {
   "interpreter": {
    "hash": "c80100b858390f06239472c24fcad13a1dfd19ffd5450d0ab06bf544232cb417"
   }
  }
 },
 "nbformat": 4,
 "nbformat_minor": 2
}
