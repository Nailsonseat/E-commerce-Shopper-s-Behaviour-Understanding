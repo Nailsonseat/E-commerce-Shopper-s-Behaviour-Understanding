{
 "cells": [
  {
   "attachments": {},
   "cell_type": "markdown",
   "metadata": {},
   "source": [
    "# Data Loading"
   ]
  },
  {
   "attachments": {},
   "cell_type": "markdown",
   "metadata": {},
   "source": [
    "### Libraries"
   ]
  },
  {
   "cell_type": "code",
   "execution_count": 2,
   "metadata": {},
   "outputs": [],
   "source": [
    "import xgboost\n",
    "import pandas as pd\n",
    "import matplotlib.pyplot as plt\n",
    "import seaborn as sns"
   ]
  },
  {
   "cell_type": "code",
   "execution_count": 3,
   "metadata": {},
   "outputs": [],
   "source": [
    "test_data = pd.read_csv(\n",
    "    \"/home/nailsonseat/Desktop/Datasets/MLP_project_datasets/test_data_v2.csv\")\n",
    "train_data = pd.read_csv(\n",
    "    \"/home/nailsonseat/Desktop/Datasets/MLP_project_datasets/train_data_v2.csv\")"
   ]
  },
  {
   "cell_type": "code",
   "execution_count": 4,
   "metadata": {},
   "outputs": [
    {
     "data": {
      "text/html": [
       "<div>\n",
       "<style scoped>\n",
       "    .dataframe tbody tr th:only-of-type {\n",
       "        vertical-align: middle;\n",
       "    }\n",
       "\n",
       "    .dataframe tbody tr th {\n",
       "        vertical-align: top;\n",
       "    }\n",
       "\n",
       "    .dataframe thead th {\n",
       "        text-align: right;\n",
       "    }\n",
       "</style>\n",
       "<table border=\"1\" class=\"dataframe\">\n",
       "  <thead>\n",
       "    <tr style=\"text-align: right;\">\n",
       "      <th></th>\n",
       "      <th>HomePage</th>\n",
       "      <th>HomePage_Duration</th>\n",
       "      <th>LandingPage</th>\n",
       "      <th>LandingPage_Duration</th>\n",
       "      <th>ProductDescriptionPage</th>\n",
       "      <th>ProductDescriptionPage_Duration</th>\n",
       "      <th>GoogleMetric:Bounce Rates</th>\n",
       "      <th>GoogleMetric:Exit Rates</th>\n",
       "      <th>GoogleMetric:Page Values</th>\n",
       "      <th>SeasonalPurchase</th>\n",
       "      <th>...</th>\n",
       "      <th>SearchEngine</th>\n",
       "      <th>Zone</th>\n",
       "      <th>Type of Traffic</th>\n",
       "      <th>CustomerType</th>\n",
       "      <th>Gender</th>\n",
       "      <th>Cookies Setting</th>\n",
       "      <th>Education</th>\n",
       "      <th>Marital Status</th>\n",
       "      <th>WeekendPurchase</th>\n",
       "      <th>Made_Purchase</th>\n",
       "    </tr>\n",
       "  </thead>\n",
       "  <tbody>\n",
       "    <tr>\n",
       "      <th>0</th>\n",
       "      <td>0.0</td>\n",
       "      <td>0.0</td>\n",
       "      <td>0.0</td>\n",
       "      <td>0.0</td>\n",
       "      <td>1.0</td>\n",
       "      <td>0.000000</td>\n",
       "      <td>0.20</td>\n",
       "      <td>0.20</td>\n",
       "      <td>0.0</td>\n",
       "      <td>0.0</td>\n",
       "      <td>...</td>\n",
       "      <td>1.0</td>\n",
       "      <td>9.0</td>\n",
       "      <td>3.0</td>\n",
       "      <td>Returning_Visitor</td>\n",
       "      <td>Not Specified</td>\n",
       "      <td>Deny</td>\n",
       "      <td>Not Specified</td>\n",
       "      <td>Other</td>\n",
       "      <td>0.0</td>\n",
       "      <td>False</td>\n",
       "    </tr>\n",
       "    <tr>\n",
       "      <th>1</th>\n",
       "      <td>0.0</td>\n",
       "      <td>0.0</td>\n",
       "      <td>0.0</td>\n",
       "      <td>0.0</td>\n",
       "      <td>2.0</td>\n",
       "      <td>2.666667</td>\n",
       "      <td>0.05</td>\n",
       "      <td>0.14</td>\n",
       "      <td>0.0</td>\n",
       "      <td>0.0</td>\n",
       "      <td>...</td>\n",
       "      <td>2.0</td>\n",
       "      <td>2.0</td>\n",
       "      <td>4.0</td>\n",
       "      <td>Returning_Visitor</td>\n",
       "      <td>Female</td>\n",
       "      <td>Deny</td>\n",
       "      <td>Others</td>\n",
       "      <td>Married</td>\n",
       "      <td>0.0</td>\n",
       "      <td>False</td>\n",
       "    </tr>\n",
       "    <tr>\n",
       "      <th>2</th>\n",
       "      <td>0.0</td>\n",
       "      <td>0.0</td>\n",
       "      <td>0.0</td>\n",
       "      <td>0.0</td>\n",
       "      <td>10.0</td>\n",
       "      <td>627.500000</td>\n",
       "      <td>0.02</td>\n",
       "      <td>0.05</td>\n",
       "      <td>0.0</td>\n",
       "      <td>0.0</td>\n",
       "      <td>...</td>\n",
       "      <td>3.0</td>\n",
       "      <td>1.0</td>\n",
       "      <td>4.0</td>\n",
       "      <td>Returning_Visitor</td>\n",
       "      <td>Female</td>\n",
       "      <td>ALL</td>\n",
       "      <td>Others</td>\n",
       "      <td>Married</td>\n",
       "      <td>1.0</td>\n",
       "      <td>False</td>\n",
       "    </tr>\n",
       "    <tr>\n",
       "      <th>3</th>\n",
       "      <td>0.0</td>\n",
       "      <td>0.0</td>\n",
       "      <td>0.0</td>\n",
       "      <td>0.0</td>\n",
       "      <td>1.0</td>\n",
       "      <td>0.000000</td>\n",
       "      <td>0.20</td>\n",
       "      <td>0.20</td>\n",
       "      <td>0.0</td>\n",
       "      <td>0.4</td>\n",
       "      <td>...</td>\n",
       "      <td>4.0</td>\n",
       "      <td>3.0</td>\n",
       "      <td>3.0</td>\n",
       "      <td>Returning_Visitor</td>\n",
       "      <td>Male</td>\n",
       "      <td>ALL</td>\n",
       "      <td>Diploma</td>\n",
       "      <td>Single</td>\n",
       "      <td>0.0</td>\n",
       "      <td>False</td>\n",
       "    </tr>\n",
       "    <tr>\n",
       "      <th>4</th>\n",
       "      <td>1.0</td>\n",
       "      <td>0.0</td>\n",
       "      <td>0.0</td>\n",
       "      <td>0.0</td>\n",
       "      <td>0.0</td>\n",
       "      <td>0.000000</td>\n",
       "      <td>0.20</td>\n",
       "      <td>0.20</td>\n",
       "      <td>0.0</td>\n",
       "      <td>0.0</td>\n",
       "      <td>...</td>\n",
       "      <td>2.0</td>\n",
       "      <td>1.0</td>\n",
       "      <td>5.0</td>\n",
       "      <td>Returning_Visitor</td>\n",
       "      <td>Male</td>\n",
       "      <td>Deny</td>\n",
       "      <td>Diploma</td>\n",
       "      <td>Other</td>\n",
       "      <td>1.0</td>\n",
       "      <td>False</td>\n",
       "    </tr>\n",
       "  </tbody>\n",
       "</table>\n",
       "<p>5 rows × 22 columns</p>\n",
       "</div>"
      ],
      "text/plain": [
       "   HomePage  HomePage_Duration  LandingPage  LandingPage_Duration  \\\n",
       "0       0.0                0.0          0.0                   0.0   \n",
       "1       0.0                0.0          0.0                   0.0   \n",
       "2       0.0                0.0          0.0                   0.0   \n",
       "3       0.0                0.0          0.0                   0.0   \n",
       "4       1.0                0.0          0.0                   0.0   \n",
       "\n",
       "   ProductDescriptionPage  ProductDescriptionPage_Duration  \\\n",
       "0                     1.0                         0.000000   \n",
       "1                     2.0                         2.666667   \n",
       "2                    10.0                       627.500000   \n",
       "3                     1.0                         0.000000   \n",
       "4                     0.0                         0.000000   \n",
       "\n",
       "   GoogleMetric:Bounce Rates  GoogleMetric:Exit Rates  \\\n",
       "0                       0.20                     0.20   \n",
       "1                       0.05                     0.14   \n",
       "2                       0.02                     0.05   \n",
       "3                       0.20                     0.20   \n",
       "4                       0.20                     0.20   \n",
       "\n",
       "   GoogleMetric:Page Values  SeasonalPurchase  ... SearchEngine  Zone  \\\n",
       "0                       0.0               0.0  ...          1.0   9.0   \n",
       "1                       0.0               0.0  ...          2.0   2.0   \n",
       "2                       0.0               0.0  ...          3.0   1.0   \n",
       "3                       0.0               0.4  ...          4.0   3.0   \n",
       "4                       0.0               0.0  ...          2.0   1.0   \n",
       "\n",
       "   Type of Traffic       CustomerType         Gender Cookies Setting  \\\n",
       "0              3.0  Returning_Visitor  Not Specified            Deny   \n",
       "1              4.0  Returning_Visitor         Female            Deny   \n",
       "2              4.0  Returning_Visitor         Female             ALL   \n",
       "3              3.0  Returning_Visitor           Male             ALL   \n",
       "4              5.0  Returning_Visitor           Male            Deny   \n",
       "\n",
       "       Education Marital Status WeekendPurchase Made_Purchase  \n",
       "0  Not Specified          Other             0.0         False  \n",
       "1         Others        Married             0.0         False  \n",
       "2         Others        Married             1.0         False  \n",
       "3        Diploma         Single             0.0         False  \n",
       "4        Diploma          Other             1.0         False  \n",
       "\n",
       "[5 rows x 22 columns]"
      ]
     },
     "execution_count": 4,
     "metadata": {},
     "output_type": "execute_result"
    }
   ],
   "source": [
    "train_data.head()"
   ]
  },
  {
   "attachments": {},
   "cell_type": "markdown",
   "metadata": {},
   "source": [
    "# Data Pre-processing"
   ]
  },
  {
   "cell_type": "code",
   "execution_count": 8,
   "metadata": {},
   "outputs": [
    {
     "data": {
      "text/plain": [
       "(14731, 22)"
      ]
     },
     "execution_count": 8,
     "metadata": {},
     "output_type": "execute_result"
    }
   ],
   "source": [
    "train_data.shape"
   ]
  },
  {
   "cell_type": "code",
   "execution_count": 7,
   "metadata": {},
   "outputs": [
    {
     "data": {
      "text/plain": [
       "HomePage                           153\n",
       "HomePage_Duration                  150\n",
       "LandingPage                        153\n",
       "LandingPage_Duration               135\n",
       "ProductDescriptionPage             123\n",
       "ProductDescriptionPage_Duration    167\n",
       "GoogleMetric:Bounce Rates          151\n",
       "GoogleMetric:Exit Rates            129\n",
       "GoogleMetric:Page Values           132\n",
       "SeasonalPurchase                   150\n",
       "Month_SeasonalPurchase             144\n",
       "OS                                 134\n",
       "SearchEngine                       122\n",
       "Zone                               117\n",
       "Type of Traffic                    143\n",
       "CustomerType                       144\n",
       "Gender                             145\n",
       "Cookies Setting                    144\n",
       "Education                          136\n",
       "Marital Status                     130\n",
       "WeekendPurchase                    121\n",
       "Made_Purchase                        0\n",
       "dtype: int64"
      ]
     },
     "execution_count": 7,
     "metadata": {},
     "output_type": "execute_result"
    }
   ],
   "source": [
    "train_data.isna().sum()"
   ]
  }
 ],
 "metadata": {
  "kernelspec": {
   "display_name": ".shoppersBehaviour",
   "language": "python",
   "name": "python3"
  },
  "language_info": {
   "codemirror_mode": {
    "name": "ipython",
    "version": 3
   },
   "file_extension": ".py",
   "mimetype": "text/x-python",
   "name": "python",
   "nbconvert_exporter": "python",
   "pygments_lexer": "ipython3",
   "version": "3.10.0"
  },
  "orig_nbformat": 4,
  "vscode": {
   "interpreter": {
    "hash": "c80100b858390f06239472c24fcad13a1dfd19ffd5450d0ab06bf544232cb417"
   }
  }
 },
 "nbformat": 4,
 "nbformat_minor": 2
}
